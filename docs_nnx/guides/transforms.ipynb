{
 "cells": [
  {
   "cell_type": "markdown",
   "id": "962be290",
   "metadata": {},
   "source": [
    "# Transformations\n",
    "\n",
    "In general, JAX transformations (transforms) operate on [pytrees](https://jax.readthedocs.io/en/latest/pytrees.html) of `jax.Array`s\n",
    "and abide by value semantics. This presents a challenge for Flax NNX, which represents `nnx.Module`s as regular Python objects\n",
    "that follow reference semantics. To address this, Flax NNX introduced its own set of transforms that extend JAX\n",
    "transforms to allow `nnx.Module`s and other Flax NNX objects to be passed in and out of transforms while preserving\n",
    "reference semantics.\n",
    "\n",
    "Flax NNX transforms should feel quite familiar if you have used JAX transforms before. They use the\n",
    "same APIs and behave like the JAX transforms when only working with pytrees of `jax.Array`s. However, when working with\n",
    "Flax NNX objects, they allow Python's reference semantics to be preserved for these objects, this includes:\n",
    "\n",
    "* Preserving shared references across multiple objects in the inputs and outputs of the transformation.\n",
    "* Propagating any state changes made to the objects inside the transformation to the objects outside the transformation.\n",
    "* Enforcing consistency of how objects are transformed when aliases are present across multiple inputs and outputs."
   ]
  },
  {
   "cell_type": "code",
   "execution_count": 1,
   "id": "8d645146",
   "metadata": {},
   "outputs": [],
   "source": [
    "import jax\n",
    "from jax import numpy as jnp, random\n",
    "from flax import nnx"
   ]
  },
  {
   "cell_type": "markdown",
   "id": "b44fb248",
   "metadata": {},
   "source": [
    "Throughout this guide, `nnx.vmap` is used as a case study to demonstrate how Flax NNX transforms work. However, the principles\n",
    "outlined in this document extends to all transforms.\n",
    "\n",
    "## Basic example\n",
    "\n",
    "To begin, let's look at a simple example of using `nnx.vmap` to extend an element wise `vector_dot` function to work on\n",
    "batched inputs. We will define a `Weights` Module with no methods to hold some parameters, these weights will be passed\n",
    "as an input to the `vector_dot` function along with some data. Both the weights and data will be batched on axis `0` and we will use\n",
    "`nnx.vmap` to apply `vector_dot` to each batch element, and the result will be a batched on axis `1`:"
   ]
  },
  {
   "cell_type": "code",
   "execution_count": 2,
   "id": "4eab27a4",
   "metadata": {},
   "outputs": [
    {
     "name": "stdout",
     "output_type": "stream",
     "text": [
      "y.shape = (3, 10)\n"
     ]
    },
    {
     "data": {
      "text/html": [
       "<script> (()=>{ if (customElements.get('treescope-container') === undefined) { class TreescopeContainer extends HTMLElement { constructor() { super(); this.attachShadow({mode: \"open\"}); this.defns = {}; this.state = {}; } } customElements.define(\"treescope-container\", TreescopeContainer); } if (customElements.get('treescope-run-here') === undefined) { class RunHere extends HTMLElement { constructor() { super() } connectedCallback() { const run = child => { const fn = new Function(child.textContent); child.textContent = \"\"; fn.call(this); this.remove(); }; const child = this.querySelector(\"script\"); if (child) { run(child); } else { new MutationObserver(()=>{ run(this.querySelector(\"script\")); }).observe(this, {childList: true}); } } } customElements.define(\"treescope-run-here\", RunHere); } })(); </script> <treescope-container class=\"treescope_out_076b2065c3c24bb6945eda6936c0cec9\" ></treescope-container> <treescope-run-here><script type=\"application/octet-stream\"> const root = ( Array.from(document.getElementsByClassName( \"treescope_out_076b2065c3c24bb6945eda6936c0cec9\")) .filter((elt) => !elt.dataset.setup) )[0]; root.dataset.setup = 1; const msg = document.createElement(\"span\"); msg.style = \"color: #cccccc; font-family: monospace;\"; msg.textContent = \"(Loading...)\"; root.state.loadingMsg = msg; root.shadowRoot.appendChild(msg); root.state.chain = new Promise((resolve, reject) => { const observer = new IntersectionObserver((entries) => { for (const entry of entries) { if (entry.isIntersecting) { resolve(); observer.disconnect(); return; } } }, {rootMargin: \"1000px\"}); window.setTimeout(() => { observer.observe(root); }, 0); }); root.state.deferring = false; const _insertNode = (node) => { for (let oldScript of node.querySelectorAll(\"script\")) { let newScript = document.createElement(\"script\"); newScript.type = oldScript.type; newScript.textContent = oldScript.textContent; oldScript.parentNode.replaceChild(newScript, oldScript); } if (root.state.loadingMsg) { root.state.loadingMsg.remove(); root.state.loadingMsg = null; } root.shadowRoot.appendChild(node); }; root.defns.insertContent = ((contentNode, compressed) => { if (compressed) { root.state.deferring = true; } if (root.state.deferring) { root.state.chain = (async () => { await root.state.chain; if (compressed) { const encoded = contentNode.textContent; const blob = new Blob([ Uint8Array.from(atob(encoded), (m) => m.codePointAt(0)) ]); const reader = blob.stream().pipeThrough( new DecompressionStream(\"deflate\") ).pipeThrough( new TextDecoderStream(\"utf-8\") ).getReader(); const parts = []; while (true) { const step = await reader.read(); if (step.done) { break; } parts.push(step.value); } const tpl = document.createElement('template'); tpl.innerHTML = parts.join(\"\"); _insertNode(tpl.content); } else { _insertNode(contentNode.content); } })(); } else { _insertNode(contentNode.content); } }); </script></treescope-run-here><div style=\"display:none\"> <script type=\"application/octet-stream\" >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</script> <treescope-run-here><script type=\"application/octet-stream\"> const root = ( Array.from(document.getElementsByClassName( \"treescope_out_076b2065c3c24bb6945eda6936c0cec9\")) .filter((elt) => !elt.dataset['step0']) )[0]; root.dataset['step0'] = 1; root.defns.insertContent( this.parentNode.querySelector('script[type=\"application/octet-stream\"]'), true ); this.parentNode.remove(); </script></treescope-run-here> </div>"
      ],
      "text/plain": [
       "<IPython.core.display.HTML object>"
      ]
     },
     "metadata": {},
     "output_type": "display_data"
    },
    {
     "data": {
      "text/html": [
       "<div style=\"display:none\"> <script type=\"application/octet-stream\" >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</script> <treescope-run-here><script type=\"application/octet-stream\"> const root = ( Array.from(document.getElementsByClassName( \"treescope_out_076b2065c3c24bb6945eda6936c0cec9\")) .filter((elt) => !elt.dataset['step1']) )[0]; root.dataset['step1'] = 1; root.defns.insertContent( this.parentNode.querySelector('script[type=\"application/octet-stream\"]'), true ); this.parentNode.remove(); </script></treescope-run-here> </div>"
      ],
      "text/plain": [
       "<IPython.core.display.HTML object>"
      ]
     },
     "metadata": {},
     "output_type": "display_data"
    }
   ],
   "source": [
    "class Weights(nnx.Module):\n",
    "  def __init__(self, kernel: jax.Array, bias: jax.Array):\n",
    "    self.kernel, self.bias = nnx.Param(kernel), nnx.Param(bias)\n",
    "\n",
    "weights = Weights(\n",
    "  kernel=random.uniform(random.key(0), (10, 2, 3)),\n",
    "  bias=jnp.zeros((10, 3)),\n",
    ")\n",
    "x = jax.random.normal(random.key(1), (10, 2))\n",
    "\n",
    "def vector_dot(weights: Weights, x: jax.Array):\n",
    "  assert weights.kernel.ndim == 2, 'Batch dimensions not allowed'\n",
    "  assert x.ndim == 1, 'Batch dimensions not allowed'\n",
    "  return x @ weights.kernel + weights.bias\n",
    "\n",
    "y = nnx.vmap(vector_dot, in_axes=0, out_axes=1)(weights, x)\n",
    "\n",
    "print(f'{y.shape = }')\n",
    "nnx.display(weights)"
   ]
  },
  {
   "cell_type": "markdown",
   "id": "d2b222eb",
   "metadata": {},
   "source": [
    "Notice that `in_axes` interacts naturally with the `Weights` Module, treating it as if it were a pytree of `jax.Array`s. Prefix patterns are also allowed, so `in_axes=(0, 0)` would have also worked in this case.\n",
    "\n",
    "Objects are also allowed as outputs of Flax NNX transforms, which can be useful to transform initializers. For example,\n",
    "you can define a `create_weights` function to create an single `Weights` `nnx.Module`, and use `nnx.vmap` to create a stack of\n",
    "`Weights` with the same shapes as before:"
   ]
  },
  {
   "cell_type": "code",
   "execution_count": 3,
   "id": "0b076a0f",
   "metadata": {},
   "outputs": [
    {
     "data": {
      "text/html": [
       "<script> (()=>{ if (customElements.get('treescope-container') === undefined) { class TreescopeContainer extends HTMLElement { constructor() { super(); this.attachShadow({mode: \"open\"}); this.defns = {}; this.state = {}; } } customElements.define(\"treescope-container\", TreescopeContainer); } if (customElements.get('treescope-run-here') === undefined) { class RunHere extends HTMLElement { constructor() { super() } connectedCallback() { const run = child => { const fn = new Function(child.textContent); child.textContent = \"\"; fn.call(this); this.remove(); }; const child = this.querySelector(\"script\"); if (child) { run(child); } else { new MutationObserver(()=>{ run(this.querySelector(\"script\")); }).observe(this, {childList: true}); } } } customElements.define(\"treescope-run-here\", RunHere); } })(); </script> <treescope-container class=\"treescope_out_1ba1e96591f64a6db22bf6e285ddf04f\" ></treescope-container> <treescope-run-here><script type=\"application/octet-stream\"> const root = ( Array.from(document.getElementsByClassName( \"treescope_out_1ba1e96591f64a6db22bf6e285ddf04f\")) .filter((elt) => !elt.dataset.setup) )[0]; root.dataset.setup = 1; const msg = document.createElement(\"span\"); msg.style = \"color: #cccccc; font-family: monospace;\"; msg.textContent = \"(Loading...)\"; root.state.loadingMsg = msg; root.shadowRoot.appendChild(msg); root.state.chain = new Promise((resolve, reject) => { const observer = new IntersectionObserver((entries) => { for (const entry of entries) { if (entry.isIntersecting) { resolve(); observer.disconnect(); return; } } }, {rootMargin: \"1000px\"}); window.setTimeout(() => { observer.observe(root); }, 0); }); root.state.deferring = false; const _insertNode = (node) => { for (let oldScript of node.querySelectorAll(\"script\")) { let newScript = document.createElement(\"script\"); newScript.type = oldScript.type; newScript.textContent = oldScript.textContent; oldScript.parentNode.replaceChild(newScript, oldScript); } if (root.state.loadingMsg) { root.state.loadingMsg.remove(); root.state.loadingMsg = null; } root.shadowRoot.appendChild(node); }; root.defns.insertContent = ((contentNode, compressed) => { if (compressed) { root.state.deferring = true; } if (root.state.deferring) { root.state.chain = (async () => { await root.state.chain; if (compressed) { const encoded = contentNode.textContent; const blob = new Blob([ Uint8Array.from(atob(encoded), (m) => m.codePointAt(0)) ]); const reader = blob.stream().pipeThrough( new DecompressionStream(\"deflate\") ).pipeThrough( new TextDecoderStream(\"utf-8\") ).getReader(); const parts = []; while (true) { const step = await reader.read(); if (step.done) { break; } parts.push(step.value); } const tpl = document.createElement('template'); tpl.innerHTML = parts.join(\"\"); _insertNode(tpl.content); } else { _insertNode(contentNode.content); } })(); } else { _insertNode(contentNode.content); } }); </script></treescope-run-here><div style=\"display:none\"> <script type=\"application/octet-stream\" >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</script> <treescope-run-here><script type=\"application/octet-stream\"> const root = ( Array.from(document.getElementsByClassName( \"treescope_out_1ba1e96591f64a6db22bf6e285ddf04f\")) .filter((elt) => !elt.dataset['step0']) )[0]; root.dataset['step0'] = 1; root.defns.insertContent( this.parentNode.querySelector('script[type=\"application/octet-stream\"]'), true ); this.parentNode.remove(); </script></treescope-run-here> </div>"
      ],
      "text/plain": [
       "<IPython.core.display.HTML object>"
      ]
     },
     "metadata": {},
     "output_type": "display_data"
    },
    {
     "data": {
      "text/html": [
       "<div style=\"display:none\"> <script type=\"application/octet-stream\" >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</script> <treescope-run-here><script type=\"application/octet-stream\"> const root = ( Array.from(document.getElementsByClassName( \"treescope_out_1ba1e96591f64a6db22bf6e285ddf04f\")) .filter((elt) => !elt.dataset['step1']) )[0]; root.dataset['step1'] = 1; root.defns.insertContent( this.parentNode.querySelector('script[type=\"application/octet-stream\"]'), true ); this.parentNode.remove(); </script></treescope-run-here> </div>"
      ],
      "text/plain": [
       "<IPython.core.display.HTML object>"
      ]
     },
     "metadata": {},
     "output_type": "display_data"
    }
   ],
   "source": [
    "def create_weights(seed: jax.Array):\n",
    "  return Weights(\n",
    "    kernel=random.uniform(random.key(seed), (2, 3)),\n",
    "    bias=jnp.zeros((3,)),\n",
    "  )\n",
    "\n",
    "seeds = jnp.arange(10)\n",
    "weights = nnx.vmap(create_weights)(seeds)\n",
    "nnx.display(weights)"
   ]
  },
  {
   "cell_type": "markdown",
   "id": "fac3dca9",
   "metadata": {},
   "source": [
    "## Transforming methods\n",
    "\n",
    "Methods in Python are just functions that take the instance as the first argument, this means that you can decorate methods from `Module` and other Flax NNX subtypes. For example, we can refactor `Weights` from the previous example and decorate `__init__` with `vmap` to do the work of `create_weights`, and add a `__call__` method and decorate it with `@nnx.vmap` to do the work of `vector_dot`:"
   ]
  },
  {
   "cell_type": "code",
   "execution_count": 4,
   "id": "5d9a55fd",
   "metadata": {},
   "outputs": [
    {
     "name": "stdout",
     "output_type": "stream",
     "text": [
      "y.shape = (3, 10)\n"
     ]
    },
    {
     "data": {
      "text/html": [
       "<script> (()=>{ if (customElements.get('treescope-container') === undefined) { class TreescopeContainer extends HTMLElement { constructor() { super(); this.attachShadow({mode: \"open\"}); this.defns = {}; this.state = {}; } } customElements.define(\"treescope-container\", TreescopeContainer); } if (customElements.get('treescope-run-here') === undefined) { class RunHere extends HTMLElement { constructor() { super() } connectedCallback() { const run = child => { const fn = new Function(child.textContent); child.textContent = \"\"; fn.call(this); this.remove(); }; const child = this.querySelector(\"script\"); if (child) { run(child); } else { new MutationObserver(()=>{ run(this.querySelector(\"script\")); }).observe(this, {childList: true}); } } } customElements.define(\"treescope-run-here\", RunHere); } })(); </script> <treescope-container class=\"treescope_out_6eef7d466d254d54822e1efcf009f31b\" ></treescope-container> <treescope-run-here><script type=\"application/octet-stream\"> const root = ( Array.from(document.getElementsByClassName( \"treescope_out_6eef7d466d254d54822e1efcf009f31b\")) .filter((elt) => !elt.dataset.setup) )[0]; root.dataset.setup = 1; const msg = document.createElement(\"span\"); msg.style = \"color: #cccccc; font-family: monospace;\"; msg.textContent = \"(Loading...)\"; root.state.loadingMsg = msg; root.shadowRoot.appendChild(msg); root.state.chain = new Promise((resolve, reject) => { const observer = new IntersectionObserver((entries) => { for (const entry of entries) { if (entry.isIntersecting) { resolve(); observer.disconnect(); return; } } }, {rootMargin: \"1000px\"}); window.setTimeout(() => { observer.observe(root); }, 0); }); root.state.deferring = false; const _insertNode = (node) => { for (let oldScript of node.querySelectorAll(\"script\")) { let newScript = document.createElement(\"script\"); newScript.type = oldScript.type; newScript.textContent = oldScript.textContent; oldScript.parentNode.replaceChild(newScript, oldScript); } if (root.state.loadingMsg) { root.state.loadingMsg.remove(); root.state.loadingMsg = null; } root.shadowRoot.appendChild(node); }; root.defns.insertContent = ((contentNode, compressed) => { if (compressed) { root.state.deferring = true; } if (root.state.deferring) { root.state.chain = (async () => { await root.state.chain; if (compressed) { const encoded = contentNode.textContent; const blob = new Blob([ Uint8Array.from(atob(encoded), (m) => m.codePointAt(0)) ]); const reader = blob.stream().pipeThrough( new DecompressionStream(\"deflate\") ).pipeThrough( new TextDecoderStream(\"utf-8\") ).getReader(); const parts = []; while (true) { const step = await reader.read(); if (step.done) { break; } parts.push(step.value); } const tpl = document.createElement('template'); tpl.innerHTML = parts.join(\"\"); _insertNode(tpl.content); } else { _insertNode(contentNode.content); } })(); } else { _insertNode(contentNode.content); } }); </script></treescope-run-here><div style=\"display:none\"> <script type=\"application/octet-stream\" >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</script> <treescope-run-here><script type=\"application/octet-stream\"> const root = ( Array.from(document.getElementsByClassName( \"treescope_out_6eef7d466d254d54822e1efcf009f31b\")) .filter((elt) => !elt.dataset['step0']) )[0]; root.dataset['step0'] = 1; root.defns.insertContent( this.parentNode.querySelector('script[type=\"application/octet-stream\"]'), true ); this.parentNode.remove(); </script></treescope-run-here> </div>"
      ],
      "text/plain": [
       "<IPython.core.display.HTML object>"
      ]
     },
     "metadata": {},
     "output_type": "display_data"
    },
    {
     "data": {
      "text/html": [
       "<div style=\"display:none\"> <script type=\"application/octet-stream\" >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</script> <treescope-run-here><script type=\"application/octet-stream\"> const root = ( Array.from(document.getElementsByClassName( \"treescope_out_6eef7d466d254d54822e1efcf009f31b\")) .filter((elt) => !elt.dataset['step1']) )[0]; root.dataset['step1'] = 1; root.defns.insertContent( this.parentNode.querySelector('script[type=\"application/octet-stream\"]'), true ); this.parentNode.remove(); </script></treescope-run-here> </div>"
      ],
      "text/plain": [
       "<IPython.core.display.HTML object>"
      ]
     },
     "metadata": {},
     "output_type": "display_data"
    }
   ],
   "source": [
    "class WeightStack(nnx.Module):\n",
    "  @nnx.vmap\n",
    "  def __init__(self, seed: jax.Array):\n",
    "    self.kernel = nnx.Param(random.uniform(random.key(seed), (2, 3)))\n",
    "    self.bias = nnx.Param(jnp.zeros((3,)))\n",
    "\n",
    "  @nnx.vmap(in_axes=0, out_axes=1)\n",
    "  def __call__(self, x: jax.Array):\n",
    "    assert self.kernel.ndim == 2, 'Batch dimensions not allowed'\n",
    "    assert x.ndim == 1, 'Batch dimensions not allowed'\n",
    "    return x @ self.kernel + self.bias\n",
    "\n",
    "weights = WeightStack(jnp.arange(10))\n",
    "\n",
    "x = jax.random.normal(random.key(1), (10, 2))\n",
    "y = weights(x)\n",
    "\n",
    "print(f'{y.shape = }')\n",
    "nnx.display(weights)"
   ]
  },
  {
   "cell_type": "markdown",
   "id": "13b52d61",
   "metadata": {},
   "source": [
    "The rest of the guide will focus on transforming individual functions. But do note that all examples can be written in this method style."
   ]
  },
  {
   "cell_type": "markdown",
   "id": "0251e7db",
   "metadata": {},
   "source": [
    "## State propagation\n",
    "\n",
    "So far our functions have been stateless. However, the real power of Flax NNX transforms comes when you have stateful functions, because one of their main features is to propagate state changes to preserve reference semantics. Let's update the previous example by adding\n",
    "a `count` attribute to `Weights` and incrementing it in the new `stateful_vector_dot` function:"
   ]
  },
  {
   "cell_type": "code",
   "execution_count": 5,
   "id": "a4fbadb3",
   "metadata": {},
   "outputs": [
    {
     "data": {
      "text/plain": [
       "Count(\n",
       "  value=Array([ 1,  2,  3,  4,  5,  6,  7,  8,  9, 10], dtype=int32)\n",
       ")"
      ]
     },
     "execution_count": 5,
     "metadata": {},
     "output_type": "execute_result"
    }
   ],
   "source": [
    "class Count(nnx.Variable): pass\n",
    "\n",
    "class Weights(nnx.Module):\n",
    "  def __init__(self, kernel: jax.Array, bias: jax.Array, count: jax.Array):\n",
    "    self.kernel, self.bias = nnx.Param(kernel), nnx.Param(bias)\n",
    "    self.count = Count(count)\n",
    "\n",
    "weights = Weights(\n",
    "  kernel=random.uniform(random.key(0), (10, 2, 3)),\n",
    "  bias=jnp.zeros((10, 3)),\n",
    "  count=jnp.arange(10),\n",
    ")\n",
    "x = jax.random.normal(random.key(1), (10, 2))\n",
    "\n",
    "def stateful_vector_dot(weights: Weights, x: jax.Array):\n",
    "  assert weights.kernel.ndim == 2, 'Batch dimensions not allowed'\n",
    "  assert x.ndim == 1, 'Batch dimensions not allowed'\n",
    "  weights.count += 1\n",
    "  return x @ weights.kernel + weights.bias\n",
    "\n",
    "\n",
    "y = nnx.vmap(stateful_vector_dot, in_axes=0, out_axes=1)(weights, x)\n",
    "\n",
    "weights.count"
   ]
  },
  {
   "cell_type": "markdown",
   "id": "322312ee",
   "metadata": {},
   "source": [
    "After running `stateful_vector_dot` once, you verified that the `count` attribute was correctly updated. Because `Weights` was vectorized, `count` was initialized as an `arange(10)`, and all of its elements were incremented by `1` inside the transformation. The most important part is that updates were propagated to the original `Weights` object outside the transformation. Nice!"
   ]
  },
  {
   "cell_type": "markdown",
   "id": "7294661f",
   "metadata": {},
   "source": [
    "### Graph updates propagation\n",
    "\n",
    "JAX transforms see inputs as pytrees of `jax.Array`s, and Flax NNX sees inputs as  pytrees of `jax.Array`s and Python references, where references form a graph. Flax NNX's state propagation machinery can track arbitrary updates to the objects as long as they're local to the inputs (updates to globals inside transforms are not supported).\n",
    "\n",
    "This means that you can modify graph structure as needed, including updating existing attributes, adding/deleting attributes, swapping attributes, sharing (new) references between objects, sharing `nnx.Variable`s between objects, etc. Sky is the limit!\n",
    "\n",
    "The following example demonstrates performing some arbitrary updates to the `Weights` object inside `nnx.vmap`, and verifying that the updates are correctly propagated to the original `Weights` object outside the transformation:"
   ]
  },
  {
   "cell_type": "code",
   "execution_count": 6,
   "id": "76c58a29",
   "metadata": {},
   "outputs": [
    {
     "data": {
      "text/html": [
       "<script> (()=>{ if (customElements.get('treescope-container') === undefined) { class TreescopeContainer extends HTMLElement { constructor() { super(); this.attachShadow({mode: \"open\"}); this.defns = {}; this.state = {}; } } customElements.define(\"treescope-container\", TreescopeContainer); } if (customElements.get('treescope-run-here') === undefined) { class RunHere extends HTMLElement { constructor() { super() } connectedCallback() { const run = child => { const fn = new Function(child.textContent); child.textContent = \"\"; fn.call(this); this.remove(); }; const child = this.querySelector(\"script\"); if (child) { run(child); } else { new MutationObserver(()=>{ run(this.querySelector(\"script\")); }).observe(this, {childList: true}); } } } customElements.define(\"treescope-run-here\", RunHere); } })(); </script> <treescope-container class=\"treescope_out_315ebb05c2664f69a7c1fe7629121fd3\" ></treescope-container> <treescope-run-here><script type=\"application/octet-stream\"> const root = ( Array.from(document.getElementsByClassName( \"treescope_out_315ebb05c2664f69a7c1fe7629121fd3\")) .filter((elt) => !elt.dataset.setup) )[0]; root.dataset.setup = 1; const msg = document.createElement(\"span\"); msg.style = \"color: #cccccc; font-family: monospace;\"; msg.textContent = \"(Loading...)\"; root.state.loadingMsg = msg; root.shadowRoot.appendChild(msg); root.state.chain = new Promise((resolve, reject) => { const observer = new IntersectionObserver((entries) => { for (const entry of entries) { if (entry.isIntersecting) { resolve(); observer.disconnect(); return; } } }, {rootMargin: \"1000px\"}); window.setTimeout(() => { observer.observe(root); }, 0); }); root.state.deferring = false; const _insertNode = (node) => { for (let oldScript of node.querySelectorAll(\"script\")) { let newScript = document.createElement(\"script\"); newScript.type = oldScript.type; newScript.textContent = oldScript.textContent; oldScript.parentNode.replaceChild(newScript, oldScript); } if (root.state.loadingMsg) { root.state.loadingMsg.remove(); root.state.loadingMsg = null; } root.shadowRoot.appendChild(node); }; root.defns.insertContent = ((contentNode, compressed) => { if (compressed) { root.state.deferring = true; } if (root.state.deferring) { root.state.chain = (async () => { await root.state.chain; if (compressed) { const encoded = contentNode.textContent; const blob = new Blob([ Uint8Array.from(atob(encoded), (m) => m.codePointAt(0)) ]); const reader = blob.stream().pipeThrough( new DecompressionStream(\"deflate\") ).pipeThrough( new TextDecoderStream(\"utf-8\") ).getReader(); const parts = []; while (true) { const step = await reader.read(); if (step.done) { break; } parts.push(step.value); } const tpl = document.createElement('template'); tpl.innerHTML = parts.join(\"\"); _insertNode(tpl.content); } else { _insertNode(contentNode.content); } })(); } else { _insertNode(contentNode.content); } }); </script></treescope-run-here><div style=\"display:none\"> <script type=\"application/octet-stream\" >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</script> <treescope-run-here><script type=\"application/octet-stream\"> const root = ( Array.from(document.getElementsByClassName( \"treescope_out_315ebb05c2664f69a7c1fe7629121fd3\")) .filter((elt) => !elt.dataset['step0']) )[0]; root.dataset['step0'] = 1; root.defns.insertContent( this.parentNode.querySelector('script[type=\"application/octet-stream\"]'), true ); this.parentNode.remove(); </script></treescope-run-here> </div>"
      ],
      "text/plain": [
       "<IPython.core.display.HTML object>"
      ]
     },
     "metadata": {},
     "output_type": "display_data"
    },
    {
     "data": {
      "text/html": [
       "<div style=\"display:none\"> <script type=\"application/octet-stream\" >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</script> <treescope-run-here><script type=\"application/octet-stream\"> const root = ( Array.from(document.getElementsByClassName( \"treescope_out_315ebb05c2664f69a7c1fe7629121fd3\")) .filter((elt) => !elt.dataset['step1']) )[0]; root.dataset['step1'] = 1; root.defns.insertContent( this.parentNode.querySelector('script[type=\"application/octet-stream\"]'), true ); this.parentNode.remove(); </script></treescope-run-here> </div>"
      ],
      "text/plain": [
       "<IPython.core.display.HTML object>"
      ]
     },
     "metadata": {},
     "output_type": "display_data"
    }
   ],
   "source": [
    "class Count(nnx.Variable): pass\n",
    "\n",
    "class Weights(nnx.Module):\n",
    "  def __init__(self, kernel: jax.Array, bias: jax.Array, count: jax.Array):\n",
    "    self.kernel, self.bias = nnx.Param(kernel), nnx.Param(bias)\n",
    "    self.count = Count(count)\n",
    "\n",
    "weights = Weights(\n",
    "  kernel=random.uniform(random.key(0), (10, 2, 3)),\n",
    "  bias=jnp.zeros((10, 3)),\n",
    "  count=jnp.arange(10),\n",
    ")\n",
    "x = jax.random.normal(random.key(1), (10, 2))\n",
    "\n",
    "def crazy_vector_dot(weights: Weights, x: jax.Array):\n",
    "  assert weights.kernel.ndim == 2, 'Batch dimensions not allowed'\n",
    "  assert x.ndim == 1, 'Batch dimensions not allowed'\n",
    "  weights.count += 1\n",
    "  y = x @ weights.kernel + weights.bias\n",
    "  weights.some_property = ['a', 2, False] # add attribute\n",
    "  del weights.bias # delete attribute\n",
    "  weights.new_param = weights.kernel # share reference\n",
    "  return y\n",
    "\n",
    "y = nnx.vmap(crazy_vector_dot, in_axes=0, out_axes=1)(weights, x)\n",
    "\n",
    "nnx.display(weights)"
   ]
  },
  {
   "cell_type": "markdown",
   "id": "743bcc34",
   "metadata": {},
   "source": [
    "> With great power comes great responsibility.\n",
    "> <br> \\- Uncle Ben\n",
    "\n",
    "While this feature is very powerful, it must be used with care because it can clash with JAX's underlying assumptions for certain transforms. For example, `jit` expects the structure of the inputs to be stable in order to cache the compiled function, so changing the graph structure inside an `nnx.jit`-ed function causes continuous recompilations and performance degradation. On the other hand, `scan` only allows a fixed `carry` structure, so adding/removing sub-states declared as carry will cause an error."
   ]
  },
  {
   "cell_type": "markdown",
   "id": "0d11d191",
   "metadata": {},
   "source": [
    "## Transforming sub-states (lift types)\n",
    "\n",
    "Certain JAX transforms allow the use of pytree prefixes to specify how different parts of the inputs/outputs should be transformed. Flax NNX supports pytree prefixes for pytree structures but currently it doesn't have the notion of a prefix for graph objects. Instead, Flax NNX introduces the concept of “lift types” which allow specifying how different sub-states of an object should be transformed. Different transforms support different lift types, here is the list of currently supported FLax NNX lift types for each JAX transformation:\n",
    "\n",
    "| Lift type        | JAX transforms                          |\n",
    "|------------------|-----------------------------------------|\n",
    "| `StateAxes`      | `vmap`, `pmap`, `scan`                  |\n",
    "| `StateSharding`  | `jit`, `shard_map`*                     |\n",
    "| `DiffState`      | `grad`, `value_and_grad`, `custom_vjp`  |\n",
    "\n",
    "> **Note:** * Flax NNX `shard_map` has not been implemented yet at the time of writing this version of the document.\n",
    "\n",
    "To specify how to vectorize different sub-states of an object in `nnx.vmap`, the Flax team created a `nnx.StateAxes`. `StateAxes` maps a set of sub-states via Flax NNX [Filters](https://flax.readthedocs.io/en/latest/guides/filters_guide.html) to their corresponding axes, and you can pass the `nnx.StateAxes` to `in_axes` and `out_axes` as if it/they were a pytree prefix.\n",
    "\n",
    "Let's use the previous `stateful_vector_dot` example and vectorize only the `nnx.Param` variables and broadcast the `count` variable so we only keep a single count for all the batch elements.\n",
    "To do this we will define a `nnx.StateAxes` with a filter that matches the `nnx.Param` variables and maps them to axis `0`, and all the `Count` variables to `None`, and pass this `nnx.StateAxes` to `in_axes` for the `Weights` object."
   ]
  },
  {
   "cell_type": "code",
   "execution_count": 7,
   "id": "d10aee8a",
   "metadata": {},
   "outputs": [
    {
     "data": {
      "text/plain": [
       "Count(\n",
       "  value=Array(1, dtype=int32, weak_type=True)\n",
       ")"
      ]
     },
     "execution_count": 7,
     "metadata": {},
     "output_type": "execute_result"
    }
   ],
   "source": [
    "class Weights(nnx.Module):\n",
    "  def __init__(self, kernel: jax.Array, bias: jax.Array, count: jax.Array):\n",
    "    self.kernel, self.bias = nnx.Param(kernel), nnx.Param(bias)\n",
    "    self.count = Count(count)\n",
    "\n",
    "weights = Weights(\n",
    "  kernel=random.uniform(random.key(0), (10, 2, 3)),\n",
    "  bias=jnp.zeros((10, 3)),\n",
    "  count=jnp.array(0),\n",
    ")\n",
    "x = jax.random.normal(random.key(1), (10, 2))\n",
    "\n",
    "\n",
    "def stateful_vector_dot(weights: Weights, x: jax.Array):\n",
    "  assert weights.kernel.ndim == 2, 'Batch dimensions not allowed'\n",
    "  assert x.ndim == 1, 'Batch dimensions not allowed'\n",
    "  weights.count += 1\n",
    "  return x @ weights.kernel + weights.bias\n",
    "\n",
    "state_axes = nnx.StateAxes({nnx.Param: 0, Count: None}) # broadcast Count\n",
    "y = nnx.vmap(stateful_vector_dot, in_axes=(state_axes, 0), out_axes=1)(weights, x)\n",
    "\n",
    "weights.count"
   ]
  },
  {
   "cell_type": "markdown",
   "id": "1cfd87e1",
   "metadata": {},
   "source": [
    "Here, `count` is now a scalar since it's not being vectorized. Also, note that `nnx.StateAxes` can only be used directly on Flax NNX objects, and it cannot be used as a prefix for a pytree of objects."
   ]
  },
  {
   "cell_type": "markdown",
   "id": "1c8bb104",
   "metadata": {},
   "source": [
    "### Random state\n",
    "\n",
    "In Flax NNX, a random state is just a regular state. This means that it is stored inside `nnx.Module`s that need it, and it is treated as any other type of state. This is a simplification over Flax Linen, where a random state was handled by a separate mechanism. In practice `nnx.Module`s simply need to keep a reference to a `Rngs` object that is passed to them during initialization, and use it to generate a unique key for each random operation. For the purposes of this guide, this means that random state can be transformed like any other type of state but we also need be aware of how the state is laid out so we can transform it correctly.\n",
    "\n",
    "Suppose you want to change things up a bit and apply the same weights to all elements in the batch. But you also want to add different random noise to each element.\n",
    "\n",
    "To do this, you will add an `Rngs` attribute to `Weights`, created from a `seed` key argument passed during construction. This seed key must be `split` beforehand, so that you can vectorize it successfully. For pedagogical reasons, you will assign the seed key to a `noise` “stream” and sample from it. To vectorize the PRNG state, you must configure `nnx.StateAxes` to map all `RngState`s (a base class for all variables in `Rngs`) to axis `0`, and `nnx.Param` and `Count` to `None`."
   ]
  },
  {
   "cell_type": "code",
   "execution_count": 8,
   "id": "33c284b6",
   "metadata": {},
   "outputs": [
    {
     "name": "stdout",
     "output_type": "stream",
     "text": [
      "False\n"
     ]
    },
    {
     "data": {
      "text/html": [
       "<script> (()=>{ if (customElements.get('treescope-container') === undefined) { class TreescopeContainer extends HTMLElement { constructor() { super(); this.attachShadow({mode: \"open\"}); this.defns = {}; this.state = {}; } } customElements.define(\"treescope-container\", TreescopeContainer); } if (customElements.get('treescope-run-here') === undefined) { class RunHere extends HTMLElement { constructor() { super() } connectedCallback() { const run = child => { const fn = new Function(child.textContent); child.textContent = \"\"; fn.call(this); this.remove(); }; const child = this.querySelector(\"script\"); if (child) { run(child); } else { new MutationObserver(()=>{ run(this.querySelector(\"script\")); }).observe(this, {childList: true}); } } } customElements.define(\"treescope-run-here\", RunHere); } })(); </script> <treescope-container class=\"treescope_out_d931d6f1a2a6456a9a7f8e46f9a86a17\" ></treescope-container> <treescope-run-here><script type=\"application/octet-stream\"> const root = ( Array.from(document.getElementsByClassName( \"treescope_out_d931d6f1a2a6456a9a7f8e46f9a86a17\")) .filter((elt) => !elt.dataset.setup) )[0]; root.dataset.setup = 1; const msg = document.createElement(\"span\"); msg.style = \"color: #cccccc; font-family: monospace;\"; msg.textContent = \"(Loading...)\"; root.state.loadingMsg = msg; root.shadowRoot.appendChild(msg); root.state.chain = new Promise((resolve, reject) => { const observer = new IntersectionObserver((entries) => { for (const entry of entries) { if (entry.isIntersecting) { resolve(); observer.disconnect(); return; } } }, {rootMargin: \"1000px\"}); window.setTimeout(() => { observer.observe(root); }, 0); }); root.state.deferring = false; const _insertNode = (node) => { for (let oldScript of node.querySelectorAll(\"script\")) { let newScript = document.createElement(\"script\"); newScript.type = oldScript.type; newScript.textContent = oldScript.textContent; oldScript.parentNode.replaceChild(newScript, oldScript); } if (root.state.loadingMsg) { root.state.loadingMsg.remove(); root.state.loadingMsg = null; } root.shadowRoot.appendChild(node); }; root.defns.insertContent = ((contentNode, compressed) => { if (compressed) { root.state.deferring = true; } if (root.state.deferring) { root.state.chain = (async () => { await root.state.chain; if (compressed) { const encoded = contentNode.textContent; const blob = new Blob([ Uint8Array.from(atob(encoded), (m) => m.codePointAt(0)) ]); const reader = blob.stream().pipeThrough( new DecompressionStream(\"deflate\") ).pipeThrough( new TextDecoderStream(\"utf-8\") ).getReader(); const parts = []; while (true) { const step = await reader.read(); if (step.done) { break; } parts.push(step.value); } const tpl = document.createElement('template'); tpl.innerHTML = parts.join(\"\"); _insertNode(tpl.content); } else { _insertNode(contentNode.content); } })(); } else { _insertNode(contentNode.content); } }); </script></treescope-run-here><div style=\"display:none\"> <script type=\"application/octet-stream\" >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</script> <treescope-run-here><script type=\"application/octet-stream\"> const root = ( Array.from(document.getElementsByClassName( \"treescope_out_d931d6f1a2a6456a9a7f8e46f9a86a17\")) .filter((elt) => !elt.dataset['step0']) )[0]; root.dataset['step0'] = 1; root.defns.insertContent( this.parentNode.querySelector('script[type=\"application/octet-stream\"]'), true ); this.parentNode.remove(); </script></treescope-run-here> </div>"
      ],
      "text/plain": [
       "<IPython.core.display.HTML object>"
      ]
     },
     "metadata": {},
     "output_type": "display_data"
    },
    {
     "data": {
      "text/html": [
       "<div style=\"display:none\"> <script type=\"application/octet-stream\" >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</script> <treescope-run-here><script type=\"application/octet-stream\"> const root = ( Array.from(document.getElementsByClassName( \"treescope_out_d931d6f1a2a6456a9a7f8e46f9a86a17\")) .filter((elt) => !elt.dataset['step1']) )[0]; root.dataset['step1'] = 1; root.defns.insertContent( this.parentNode.querySelector('script[type=\"application/octet-stream\"]'), true ); this.parentNode.remove(); </script></treescope-run-here> </div>"
      ],
      "text/plain": [
       "<IPython.core.display.HTML object>"
      ]
     },
     "metadata": {},
     "output_type": "display_data"
    }
   ],
   "source": [
    "class Weights(nnx.Module):\n",
    "  def __init__(self, kernel, bias, count, seed):\n",
    "    self.kernel, self.bias = nnx.Param(kernel), nnx.Param(bias)\n",
    "    self.count = Count(count)\n",
    "    self.rngs = nnx.Rngs(noise=seed)\n",
    "\n",
    "weights = Weights(\n",
    "  kernel=random.uniform(random.key(0), (2, 3)),\n",
    "  bias=jnp.zeros((3,)),\n",
    "  count=jnp.array(0),\n",
    "  seed=random.split(random.key(0), num=10),\n",
    ")\n",
    "x = random.normal(random.key(1), (10, 2))\n",
    "\n",
    "def noisy_vector_dot(weights: Weights, x: jax.Array):\n",
    "  assert weights.kernel.ndim == 2, 'Batch dimensions not allowed'\n",
    "  assert x.ndim == 1, 'Batch dimensions not allowed'\n",
    "  weights.count += 1\n",
    "  y = x @ weights.kernel + weights.bias\n",
    "  return y + random.normal(weights.rngs.noise(), y.shape)\n",
    "\n",
    "state_axes = nnx.StateAxes({nnx.RngState: 0, (nnx.Param, Count): None})\n",
    "y1 = nnx.vmap(noisy_vector_dot, in_axes=(state_axes, 0))(weights, x)\n",
    "y2 = nnx.vmap(noisy_vector_dot, in_axes=(state_axes, 0))(weights, x)\n",
    "\n",
    "print(jnp.allclose(y1, y2))\n",
    "nnx.display(weights)"
   ]
  },
  {
   "cell_type": "markdown",
   "id": "6f26b99f",
   "metadata": {},
   "source": [
    "Because `Rngs`'s state is updated in place and automatically propagated by `nnx.vmap`, we will get a different result every time that `noisy_vector_dot` is called.\n",
    "\n",
    "In the example above, you manually split the random state during construction. This is fine, as it makes the intention clear, but it also doesn't let you use `Rngs` outside of `nnx.vmap` because its state is always split. To solve this, you can pass an unsplit seed and use the `nnx.split_rngs` decorator before `nnx.vmap` to split the `RngState` right before each call to the function, and then \"lower\" it back so that it becomes usable."
   ]
  },
  {
   "cell_type": "code",
   "execution_count": 9,
   "id": "8c9e5858",
   "metadata": {},
   "outputs": [
    {
     "name": "stdout",
     "output_type": "stream",
     "text": [
      "False\n"
     ]
    },
    {
     "data": {
      "text/html": [
       "<script> (()=>{ if (customElements.get('treescope-container') === undefined) { class TreescopeContainer extends HTMLElement { constructor() { super(); this.attachShadow({mode: \"open\"}); this.defns = {}; this.state = {}; } } customElements.define(\"treescope-container\", TreescopeContainer); } if (customElements.get('treescope-run-here') === undefined) { class RunHere extends HTMLElement { constructor() { super() } connectedCallback() { const run = child => { const fn = new Function(child.textContent); child.textContent = \"\"; fn.call(this); this.remove(); }; const child = this.querySelector(\"script\"); if (child) { run(child); } else { new MutationObserver(()=>{ run(this.querySelector(\"script\")); }).observe(this, {childList: true}); } } } customElements.define(\"treescope-run-here\", RunHere); } })(); </script> <treescope-container class=\"treescope_out_a9e126a58ffd476abfc0b711db786399\" ></treescope-container> <treescope-run-here><script type=\"application/octet-stream\"> const root = ( Array.from(document.getElementsByClassName( \"treescope_out_a9e126a58ffd476abfc0b711db786399\")) .filter((elt) => !elt.dataset.setup) )[0]; root.dataset.setup = 1; const msg = document.createElement(\"span\"); msg.style = \"color: #cccccc; font-family: monospace;\"; msg.textContent = \"(Loading...)\"; root.state.loadingMsg = msg; root.shadowRoot.appendChild(msg); root.state.chain = new Promise((resolve, reject) => { const observer = new IntersectionObserver((entries) => { for (const entry of entries) { if (entry.isIntersecting) { resolve(); observer.disconnect(); return; } } }, {rootMargin: \"1000px\"}); window.setTimeout(() => { observer.observe(root); }, 0); }); root.state.deferring = false; const _insertNode = (node) => { for (let oldScript of node.querySelectorAll(\"script\")) { let newScript = document.createElement(\"script\"); newScript.type = oldScript.type; newScript.textContent = oldScript.textContent; oldScript.parentNode.replaceChild(newScript, oldScript); } if (root.state.loadingMsg) { root.state.loadingMsg.remove(); root.state.loadingMsg = null; } root.shadowRoot.appendChild(node); }; root.defns.insertContent = ((contentNode, compressed) => { if (compressed) { root.state.deferring = true; } if (root.state.deferring) { root.state.chain = (async () => { await root.state.chain; if (compressed) { const encoded = contentNode.textContent; const blob = new Blob([ Uint8Array.from(atob(encoded), (m) => m.codePointAt(0)) ]); const reader = blob.stream().pipeThrough( new DecompressionStream(\"deflate\") ).pipeThrough( new TextDecoderStream(\"utf-8\") ).getReader(); const parts = []; while (true) { const step = await reader.read(); if (step.done) { break; } parts.push(step.value); } const tpl = document.createElement('template'); tpl.innerHTML = parts.join(\"\"); _insertNode(tpl.content); } else { _insertNode(contentNode.content); } })(); } else { _insertNode(contentNode.content); } }); </script></treescope-run-here><div style=\"display:none\"> <script type=\"application/octet-stream\" >eNrtHAtX08j6r4z1nKVdaGj6bhHOTWtfKigURb27hztJJsnYNAnJtKXs4b/fbybpI22oxQVZdeEcKTPfzPd+jvoiYFObHEnMJyTQXI9c+q7L0F/IcwPKqOvUkU9szOiYHCDDdVjWwENqT+to6Dpu4GEN1icWZSQrfqkjz4cVmwYsK67OsqkHq47rwLKKtYHpuyNHz2qu7fr18OgBin5TbQCA+6jOrDoyKAMwhxGHHSAP6zp1zKxNDFZHec3iSByStQg1LViRpRK/xmGYAs3zY9GH7JgGVKU2ZUA5HjF3DpulDvOpE1AtG9AbEu5G5N6+2A/F82Iunqw/cgCnD2uB5lOPIc7f4Q72PJtqmEts39UY4dz7BA93jtLpzOERCBTwBQzpxHACdIiYRQPJJOwMpH3i6iSdkSw3YJLYB9YIQ5cecTjLisZv5Yf++2fSThc7uk1g2xnZ9kGIQQIy+67rwGp64vqDDFqmwb2AJb4VW2ZU44se8Q3XH2JHI5LjTtIZoV9AkF7bQdnw0AtUyGfgHmqg9ArVkk0ck1no8BDlOMhG0n3CRr4DckfEDsiCMGvkcMpWrw4sajBOnwDgH27h+w4MabAqR3cnkk+uRiRgikOHQl1tHw9JOpRJht9xsIbIGwVWKMaDBB5nKA5DNjZwuT0NnIpQkcw1TTv0ykvhOWCtHr+LrxCb7SEyBgOPNMmpE79LAzLlQk/5KU5QBCxpNg6CN+Cc0b3p1PzOyyGYYWqG/DYD8gTzFzZ+9GI/yQF0OkbiwsNUPHykEMMqcEquD1O5FHIdIAbYdgBuk9kn85rmZ2ZcpsDtwoCluoy5Qx4C6o7L0pLh2jpW4bQD19YtHKSPbKwS+yi+cxniEGfqmkW0AdEzGfQ7F9IsxDDXq6OcJJfIcD3I8LWbrGAOfj9IjJO3kohnl5o7HALVwpBFfHuOxReX8QoIDimy3DHxMwnwEXjAY5W5fGFBLsmlOQDRLznBC4Aooq4H3jH209msarvaIFwCzauurxM/5F/2rlHg2lTfBBkq4WvAt1y9xOfEeUAOsUAhxF9mosK/o/wi9FtHlGEIqPxwTH93ZCaQZ5KaAVqnASCdzjLQKiA6QsJM6nWVQHBbktxzTXwlazjMQlmZp6EoW+UOFrioI8xGiGEDTqHtdcw69gcBwSb4lLN++oHMfU4DP5p8aAYfo1Ck0zra+SNfUrWdpyQvfuhOIsvfgUiuR4545AdcgZ4LRQXxE/DS4OHQClcQiLIiOAZ32fjDYF2wx8g1W8ci0eDSoH7ALl0nDELrrrXJlaR8iXtToqrQ3yY/1PgqiZyrIfZNKANDMoRD3/5NbBCKvak6gtDoJAagxXaS0aZQagUKBAm1dTLwH0Qu6qmV0nznGINVUGyj/nSounaA3o4Y51dHzfAk/PSm4BjZCVEHUGaHkXcIideC/AJFsMPgOMUB0efF+XOS498H62YenhbVc06q8QwZ5zL0jwQuksPd4qQ0wcGlBnkABDs/jw0Wyx6zOL0J58qZOMpl0UcJTMcMZ7EDihX1WWZ5mSPhRaePnZk1i2uRHCACEoPiIOuO2P1YmVMAiqFEfxanRKBEz+jQc32GnbW7Vd8dEOeSryyC0delu3RsSZ4zNd9KlmZdiq7uknvHUoUUOktOCj12Cc7nddISoB/WTXNIXjcBq/qlBi2F7hMnYj7etAGVccAHK/Hmzhil5pjza9jW0tBZQlsDBY2ohKWAYX5+Tu+jURJVVCElOtRVYCa8rFpSx9UI2w40CpfQYhv0Gi6JOV5VOB50RZhXWhPsO6CBy1mqmGnXMLAmFxIAPWgr1hQn4mEkpGgpGylzUVLWRZGM/azpY52C2tJyoaQTcw+54CMmQTmgrqxZe6HPeIAWIpBYQpGU10hZC9UPJviYyrNzy1xV9F2GuQo3r7tDBYJrx0G+u+nmpKJmZbah9fvYctgXCKoSu4NY1yX4AJ3YFvodpWVgZ/lIdG8AUCTD++RIBouj2e3PzvDOehhxcn7lbDUbLX9HaS66MCHBLHeqURAxKJMhcHc3YwkF1L3Ll6+Z+F+xRjHULw9VWzSKm4FvJbjxUVr6hZL/Tlc/sUS2tG3sQWH09eby/qK/G0PYUgocAohcQwWh3wnzEHQkoYgYDQEW86gkUcRnQlJ80IQ23LDKqhMbfSUDboPsznsecNrLB3DomeL7eCoZvjtM66424hMeiefqQBpje0SCdCYjBe6QpEUG56M7/lMK63c+ttuygk/toAzKzAelgUUI49NUMkHNfr/PuenzNT4bFZuST8QIpj91tPT//hN1DRqZ1RL37yCWZzYOnw7b0dok8q5iDoqXwNfqaOTbaV7O1vn+/sQ1jPyBCgVzubin52qdY1NpKOKrd6oorvjUOJvAn922orSUTV+NoaKYA/e13ms1mpNPinL+qflKOe41mkrbvO5131gsaBxTYhbaLz/m3/TKn8Z9b0TfHZfO5Vcfe2cfjscXxzfs3bTdbu5emINz2niZs+jL09Grlt75kuuq+8a4p3tXr8vW1QWlp6Njp2N1jfdMeV9unPhFpd1zBq2y9n40cnbPSldaMJiMjba9f3Vtttyqqb6adKpyV9l3lLPSG99/JZ/tmje5Mz2nvDJk86TSnHS+5M2cOx2dVSrDllyedD/W3pqmR84H0yLpqTclTfXfdhhWzNPeyeQlDqbB6ajX+3jRak+Ud6de75P+fn9/16ycVz4WWM54/e5KGZfgzjfKSUU5nihD8+asvzv63Cetj9d5o6zdnBTPutPSqKG8vml88dpegXZPm63c59G7Yr/iGI03rW77eKjQ3eq4lbcc2arsqh8mH79Muv74Zed90/litFom232rfbbtSqnWfDVpVK1a8fi40y90PivmsFf60jitsfMO6dZajUavU3hpFs/2P2lTVemATj+83ldOO1ghx01b6d603pqfmVluvDPfvu29bAzoaYm0Gx+bjbZGc57lu54DtuF9br2Ub+RB32gazJq+dro6bgddI3cy7LROyg1dufrwwcMs6H8e6jqmtbxxUyu+p1+uyt7QL791PzX71O8Mx686hf5Fv9Bu5bXGqXG+27Vdr1NsB5MSNq/KVfqZ9E9s78JpdHtEP/bJ6OKq0xzKF21/0O9fl/Lli4tgogBFGSReRlh6R5j1Dk9m/4M/5t6PddeDkn7hkuI9R5KkDRB7oc/+CXdtnptb4oFB9HFhiwl3g3k4GkqHnV78+Qdc8Nzl7gtgUSfI1wIID/wK3tryfhBPMGXIwWNqYub6EtzsqS72dWniU0bOyTVLL+7iuT68a/HGAMk3nVrqe/nrAmA5p0MCDXJ69vy0ds4nQ2hi147e7qF8LpcTNQ4EX6gn02KCk4x3qblNLYjjs6tZBOMPMin0HLUxtSGwMRdx4GciskEd6EC7BdGYgswI1nlvvrssu+il5CtvJLzPRyI8HqZi5U4duQNbs6DYrVRLvC7JFZBcqUj5WqVQLuSrcr6E9qE0AXaTKj0+b05F10dvMPEZ82r/BMBhAfCCOt4oSmQpkfJV9zqVeElUHcBmWBkAj+JwHG/s4SEq4FB8dLBCaTz1p45+sxmXI0BshottrnTDsBvdEP64EOknSM9XI+6Xr1jr+eKFbmoD9BqoSnFweLc+/o74k8X+OEI0bHwtOc41FCqQ/oESm6pSXLLvsI+H6SSB7ixmSzvIdZrcdQ937hm7xHtfZgfNB1+HKYkLN7Vwo/kWFCpij08yV2d2sCf8FPKABZ8jxlesJCaMteFUatN+6kjUcodbCJvqh6n5E5gm6zKG5FtVtWLRqNaq5Zqu5Qs4X1BxHueNFaRJT2epoy+gJVFkIsN2MSvk04W9zAprd9lCrAxOJLGmFiqVfEkvamW5COUhVlX4pNe0AtZgvbIp8DyMoSd5a7IkuNknSuM3c+EP2wlm1u+kjva2gNnayR7VK8KGYpNvhBAP4yGxN+vUEYLk+YEGEEPojbgRWVQHH4GciRaNFu/AvskmfwrxbfiR2RzP1+x3bx1+PioAZdzTZn/AYH23EW3OzRpIlf0EyTkugCbn6vvmYSHIu3QrNp8+E8czWU0tVuVaRdZUtVjK5XDVINUqKUNGqxo1I3fPZEsdnlwyj5dIHldzm6PdEsjDhrufNM49pjN8a6QbEN8h9r99yCOpPBTvXToPd3+kXiRf0mp5bBRJ2SgWqzUVF8qkUisUACBXqOmFb+xF8nuo8HDdSJVUS6W8LBdqhBRluaLW8lWMZVKtVNR8viz/87sRIY+fvx8J7X9zklmG+bcneUIR/nr5+nGD97dmbN8xH2tuuHls+8h5G/haT9lnwOz3zdhcvHepnO89TbZ2XBqQX0nrffE8/v1VLwlJbzKAEOJpzOBnmUt8Vf1PMKpY6HZzo7YK9zSWwLB5mFDVhP/cB9T0/DpfORBUhh9/rMy7KmMJ2N1WHxz2MbLy1iOkolyqaDKRdblcLpZVoubgk17UK1VD1yqkcs8eafTjzpDWVLOxTE2G/ney9I+MXdv7yYBMf4WM9ZpMnyxfgYi30DhA/ZurHlsPW2aqCPJJ8xQu1LSChquVckEvFsqGWqrmcgW1Khe1klwqle6Zp4Al7mqGP+Vh9EfPV1xB22arOezT5qofUMSPHbV+QbE+Zuv6S4nzcYZA+1tNp2d/OXLxf1aglX8ymbq/4LdWwxxSp+Oj/wOK6FML</script> <treescope-run-here><script type=\"application/octet-stream\"> const root = ( Array.from(document.getElementsByClassName( \"treescope_out_a9e126a58ffd476abfc0b711db786399\")) .filter((elt) => !elt.dataset['step0']) )[0]; root.dataset['step0'] = 1; root.defns.insertContent( this.parentNode.querySelector('script[type=\"application/octet-stream\"]'), true ); this.parentNode.remove(); </script></treescope-run-here> </div>"
      ],
      "text/plain": [
       "<IPython.core.display.HTML object>"
      ]
     },
     "metadata": {},
     "output_type": "display_data"
    },
    {
     "data": {
      "text/html": [
       "<div style=\"display:none\"> <script type=\"application/octet-stream\" >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</script> <treescope-run-here><script type=\"application/octet-stream\"> const root = ( Array.from(document.getElementsByClassName( \"treescope_out_a9e126a58ffd476abfc0b711db786399\")) .filter((elt) => !elt.dataset['step1']) )[0]; root.dataset['step1'] = 1; root.defns.insertContent( this.parentNode.querySelector('script[type=\"application/octet-stream\"]'), true ); this.parentNode.remove(); </script></treescope-run-here> </div>"
      ],
      "text/plain": [
       "<IPython.core.display.HTML object>"
      ]
     },
     "metadata": {},
     "output_type": "display_data"
    }
   ],
   "source": [
    "weights = Weights(\n",
    "  kernel=random.uniform(random.key(0), (2, 3)),\n",
    "  bias=jnp.zeros((3,)),\n",
    "  count=jnp.array(0),\n",
    "  seed=0,\n",
    ")\n",
    "x = random.normal(random.key(1), (10, 2))\n",
    "\n",
    "state_axes = nnx.StateAxes({nnx.RngState: 0, (nnx.Param, Count): None})\n",
    "\n",
    "@nnx.split_rngs(splits=10)\n",
    "@nnx.vmap(in_axes=(state_axes, 0))\n",
    "def noisy_vector_dot(weights: Weights, x: jax.Array):\n",
    "  assert weights.kernel.ndim == 2, 'Batch dimensions not allowed'\n",
    "  assert x.ndim == 1, 'Batch dimensions not allowed'\n",
    "  weights.count += 1\n",
    "  y = x @ weights.kernel + weights.bias\n",
    "  return y + random.normal(weights.rngs.noise(), y.shape)\n",
    "\n",
    "y1 = noisy_vector_dot(weights, x)\n",
    "y2 = noisy_vector_dot(weights, x)\n",
    "\n",
    "print(jnp.allclose(y1, y2))\n",
    "nnx.display(weights)"
   ]
  },
  {
   "cell_type": "markdown",
   "id": "60eee7f9",
   "metadata": {},
   "source": [
    "## Rules and limitations\n",
    "In this section we will cover some rules and limitations apply when using Modules inside transformations.\n",
    "\n",
    "### Mutable Module cannot be passed by closure\n",
    "\n",
    "While Python allows for passing objects as closures to functions, this is generally not supported by Flax NNX transforms. The reason is that because Modules are mutable it is very easy to capture tracer into a Module created outside of the transform, this is silent error in JAX. To avoid this, Flax NNX checks that the Modules and Variables being mutated are passed as arguments to the transformed function.\n",
    "\n",
    "For example, if we a have stateful Module such as `Counter` that increments a counter every time it is called, and we try to pass it as a closure to a function decorated with `nnx.jit`, we would be leaking the tracer. However Flax NNX will raise an error instead to prevent this:"
   ]
  },
  {
   "cell_type": "code",
   "execution_count": 18,
   "id": "f8b95c03",
   "metadata": {},
   "outputs": [],
   "source": [
    "class Counter(nnx.Module):\n",
    "  def __init__(self):\n",
    "    self.count = nnx.Param(jnp.array(0))\n",
    "\n",
    "  def increment(self):\n",
    "    self.count += jnp.array(1)\n",
    "\n",
    "counter = Counter()\n",
    "\n",
    "@nnx.jit\n",
    "def f(x):\n",
    "  counter.increment()\n",
    "  return 2 * x\n",
    "\n",
    "try:\n",
    "  y = f(3)\n",
    "except Exception as e:\n",
    "  print(e)"
   ]
  },
  {
   "cell_type": "markdown",
   "id": "6f37e23b",
   "metadata": {},
   "source": [
    "To solve this issue pass all Module as arguments to the functions being transformed. In this case `f` should accept `counter` as an argument."
   ]
  },
  {
   "cell_type": "markdown",
   "id": "75edf7a8",
   "metadata": {},
   "source": [
    "### Consistent aliasing\n",
    "\n",
    "The main issue with allowing for reference semantics in transforms is that references can be shared across inputs and outputs. This can be problematic if it is not taken care of because it would lead to ill-defined or inconsistent behavior. In the example below you have a single `Weights` `nnx.Module` - `m` ` whose reference appears in multiple places in `arg1` and `arg2`. The problem here is that you also specify that you want to vectorize `arg1` in axis `0` and `arg2` in axis `1`. This would be fine in JAX because of referential transparency of pytrees. But this would be problematic in Flax NNX because you are trying to vectorize `m` in two different ways. Flax NNX will enforce consistency by raising an error."
   ]
  },
  {
   "cell_type": "code",
   "execution_count": 11,
   "id": "46b1cc25",
   "metadata": {},
   "outputs": [
    {
     "name": "stdout",
     "output_type": "stream",
     "text": [
      "Inconsistent aliasing detected. The following nodes have different prefixes:\n",
      "Node: <class 'flax.nnx.variablelib.Param'>\n",
      "  param: 0\n",
      "  param: 0\n",
      "  param: 1\n"
     ]
    }
   ],
   "source": [
    "class Weights(nnx.Module):\n",
    "  def __init__(self, array: jax.Array):\n",
    "    self.param = nnx.Param(array)\n",
    "\n",
    "m = Weights(jnp.arange(10))\n",
    "arg1 = {'a': {'b': m}, 'c': m}\n",
    "arg2 = [(m, m), m]\n",
    "\n",
    "@nnx.vmap(in_axes=(0, 1))\n",
    "def f(arg1, arg2):\n",
    "  ...\n",
    "\n",
    "try:\n",
    "  f(arg1, arg2)\n",
    "except ValueError as e:\n",
    "  print(e)"
   ]
  },
  {
   "cell_type": "markdown",
   "id": "46aa978c",
   "metadata": {},
   "source": [
    "Inconsistent aliasing can also happen between inputs and outputs. In the next example you have a trivial function that accepts and immediately returns `arg1`. However, `arg1` is vectorized on axis `0` on the input, and axis `1` on the output. As expected, this is problematic and Flax NNX will raise an error."
   ]
  },
  {
   "cell_type": "code",
   "execution_count": 12,
   "id": "cca9cf31",
   "metadata": {},
   "outputs": [
    {
     "name": "stdout",
     "output_type": "stream",
     "text": [
      "Inconsistent aliasing detected. The following nodes have different prefixes:\n",
      "Node: <class 'flax.nnx.variablelib.Param'>\n",
      "  param: 0\n",
      "  param: 0\n",
      "  param: 1\n"
     ]
    }
   ],
   "source": [
    "@nnx.vmap(in_axes=0, out_axes=1)\n",
    "def f(arg1):\n",
    "  return arg1\n",
    "\n",
    "try:\n",
    "  f(arg1)\n",
    "except ValueError as e:\n",
    "  print(e)"
   ]
  },
  {
   "cell_type": "markdown",
   "id": "13f9aeea",
   "metadata": {},
   "source": [
    "## Axis metadata\n",
    "\n",
    "Flax NNX `Variable`s can hold arbitrary metadata, which can be added by simply passing it as keyword arguments to its constructor. This is often used to store `sharding` information, as used by the `nnx.spmd` APIs (like `nnx.get_partition_spec` and `nnx.get_named_sharding`).\n",
    "\n",
    "However, it is often important to keep this axes-related information in sync to what the actual state of the axes is when transforms are involved. For example, if you vectorize a variable on axis `1`, you should remove the `sharding` information at position `1` when inside a `vmap` or `scan` to reflect the fact that the axes are temporarily removed.\n",
    "\n",
    "To achieve this, Flax NNX transforms provide a non-standard `transform_metadata` dictionary argument. And when the `nnx.PARTITION_NAME` key is present, the `sharding` metadata will be updated as specified by `in_axes` and `out_axes`.\n",
    "\n",
    "Let's see an example of this in action:"
   ]
  },
  {
   "cell_type": "code",
   "execution_count": 13,
   "id": "d85c772c",
   "metadata": {},
   "outputs": [
    {
     "name": "stdout",
     "output_type": "stream",
     "text": [
      "Inner m.param.shape = (3, 5)\n",
      "Inner m.param.sharding = ('a', None)\n",
      "Outter m.param.shape = (3, 4, 5)\n",
      "Outter m.param.sharding = ('a', 'b', None)\n"
     ]
    }
   ],
   "source": [
    "class Weights(nnx.Module):\n",
    "  def __init__(self, array: jax.Array, sharding: tuple[str | None, ...]):\n",
    "    self.param = nnx.Param(array, sharding=sharding)\n",
    "\n",
    "m = Weights(jnp.ones((3, 4, 5)), sharding=('a', 'b', None))\n",
    "\n",
    "@nnx.vmap(in_axes=1, transform_metadata={nnx.PARTITION_NAME: 'b'})\n",
    "def f(m: Weights):\n",
    "  print(f'Inner {m.param.shape = }')\n",
    "  print(f'Inner {m.param.sharding = }')\n",
    "\n",
    "f(m)\n",
    "print(f'Outter {m.param.shape = }')\n",
    "print(f'Outter {m.param.sharding = }')"
   ]
  },
  {
   "cell_type": "markdown",
   "id": "a23bda09",
   "metadata": {},
   "source": [
    "Here, you added a `sharding` metadata to the `nnx.Param` variables, and used `transform_metadata` to update the `sharding` metadata to reflect the axis changes. Specifically, you can see that the first axis `b` was removed from the `sharding` metadata when inside of `nnx.vmap`, and then added back when outside of `nnx.vmap`.\n",
    "\n",
    "You can verify that this also works when `nnx.Module`s are created inside the transformation - the new `sharding` axes will be added to the `nnx.Module` `nnx.Variable`s outside the transformation, matching the axes of the transformed `nnx.Variable`s."
   ]
  },
  {
   "cell_type": "code",
   "execution_count": 14,
   "id": "358e51f7",
   "metadata": {},
   "outputs": [
    {
     "name": "stdout",
     "output_type": "stream",
     "text": [
      "Outter m.param.shape = (3, 4, 5)\n",
      "Outter m.param.sharding = ('a', 'b', None)\n"
     ]
    }
   ],
   "source": [
    "@nnx.vmap(out_axes=1, axis_size=4, transform_metadata={nnx.PARTITION_NAME: 'b'})\n",
    "def init_vmap():\n",
    "  return Weights(jnp.ones((3, 5)), sharding=('a', None))\n",
    "\n",
    "m = init_vmap()\n",
    "print(f'Outter {m.param.shape = }')\n",
    "print(f'Outter {m.param.sharding = }')"
   ]
  }
 ],
 "metadata": {
  "jupytext": {
   "cell_metadata_filter": "-all",
   "formats": "ipynb,md:myst",
   "main_language": "python"
  },
  "language_info": {
   "codemirror_mode": {
    "name": "ipython",
    "version": 3
   },
   "file_extension": ".py",
   "mimetype": "text/x-python",
   "name": "python",
   "nbconvert_exporter": "python",
   "pygments_lexer": "ipython3",
   "version": "3.10.13"
  }
 },
 "nbformat": 4,
 "nbformat_minor": 5
}
