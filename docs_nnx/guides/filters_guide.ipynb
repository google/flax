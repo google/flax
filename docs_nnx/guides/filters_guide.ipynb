{
 "cells": [
  {
   "cell_type": "markdown",
   "id": "95b08e64",
   "metadata": {},
   "source": [
    "# Using Filters\n",
    "\n",
    "> **Attention**: This page relates to the new Flax NNX API.\n",
    "\n",
    "Filters are used extensively in Flax NNX as a way to create `State` groups in APIs\n",
    "such as `nnx.split`, `nnx.state`, and many of the Flax NNX transforms. For example:"
   ]
  },
  {
   "cell_type": "code",
   "execution_count": 1,
   "id": "45485345",
   "metadata": {},
   "outputs": [
    {
     "name": "stdout",
     "output_type": "stream",
     "text": [
      "params = State({\n",
      "  'a': VariableState(\n",
      "    type=Param,\n",
      "    value=0\n",
      "  )\n",
      "})\n",
      "batch_stats = State({\n",
      "  'b': VariableState(\n",
      "    type=BatchStat,\n",
      "    value=True\n",
      "  )\n",
      "})\n"
     ]
    }
   ],
   "source": [
    "from flax import nnx\n",
    "\n",
    "class Foo(nnx.Module):\n",
    "  def __init__(self):\n",
    "    self.a = nnx.Param(0)\n",
    "    self.b = nnx.BatchStat(True)\n",
    "\n",
    "foo = Foo()\n",
    "\n",
    "graphdef, params, batch_stats = nnx.split(foo, nnx.Param, nnx.BatchStat)\n",
    "\n",
    "print(f'{params = }')\n",
    "print(f'{batch_stats = }')"
   ]
  },
  {
   "cell_type": "markdown",
   "id": "8f77e99a",
   "metadata": {},
   "source": [
    "Here `nnx.Param` and `nnx.BatchStat` are used as Filters to split the model into two groups: one with the parameters and the other with the batch statistics. However, this begs the following questions:\n",
    "\n",
    "* What is a Filter?\n",
    "* Why are types, such as `Param` or `BatchStat`, Filters?\n",
    "* How is `State` grouped / filtered?"
   ]
  },
  {
   "cell_type": "markdown",
   "id": "a0413d64",
   "metadata": {},
   "source": [
    "## The Filter Protocol\n",
    "\n",
    "In general Filter are predicate functions of the form:\n",
    "\n",
    "```python\n",
    "\n",
    "(path: tuple[Key, ...], value: Any) -> bool\n",
    "\n",
    "```\n",
    "where `Key` is a hashable and comparable type, `path` is a tuple of `Key`s representing the path to the value in a nested structure, and `value` is the value at the path. The function returns `True` if the value should be included in the group and `False` otherwise.\n",
    "\n",
    "Types are obviously not functions of this form, so the reason why they are treated as Filters\n",
    "is because, as we will see next, types and some other literals are converted to predicates. For example,\n",
    "`Param` is roughly converted to a predicate like this:"
   ]
  },
  {
   "cell_type": "code",
   "execution_count": 2,
   "id": "30f4c868",
   "metadata": {},
   "outputs": [
    {
     "name": "stdout",
     "output_type": "stream",
     "text": [
      "is_param((), nnx.Param(0)) = True\n",
      "is_param((), nnx.VariableState(type=nnx.Param, value=0)) = True\n"
     ]
    }
   ],
   "source": [
    "def is_param(path, value) -> bool:\n",
    "  return isinstance(value, nnx.Param) or (\n",
    "    hasattr(value, 'type') and issubclass(value.type, nnx.Param)\n",
    "  )\n",
    "\n",
    "print(f'{is_param((), nnx.Param(0)) = }')\n",
    "print(f'{is_param((), nnx.VariableState(type=nnx.Param, value=0)) = }')"
   ]
  },
  {
   "cell_type": "markdown",
   "id": "a8a2641e",
   "metadata": {},
   "source": [
    "Such function matches any value that is an instance of `Param` or any value that has a\n",
    "`type` attribute that is a subclass of `Param`. Internally Flax NNX uses `OfType` which\n",
    "defines a callable of this form for a given type:"
   ]
  },
  {
   "cell_type": "code",
   "execution_count": 3,
   "id": "b3095221",
   "metadata": {},
   "outputs": [
    {
     "name": "stdout",
     "output_type": "stream",
     "text": [
      "is_param((), nnx.Param(0)) = True\n",
      "is_param((), nnx.VariableState(type=nnx.Param, value=0)) = True\n"
     ]
    }
   ],
   "source": [
    "is_param = nnx.OfType(nnx.Param)\n",
    "\n",
    "print(f'{is_param((), nnx.Param(0)) = }')\n",
    "print(f'{is_param((), nnx.VariableState(type=nnx.Param, value=0)) = }')"
   ]
  },
  {
   "cell_type": "markdown",
   "id": "87c06e39",
   "metadata": {},
   "source": [
    "## The Filter DSL\n",
    "\n",
    "To avoid users having to create these functions, Flax NNX exposes a small DSL, formalized\n",
    "as the `nnx.filterlib.Filter` type, which lets users pass types, booleans, ellipsis,\n",
    "tuples/lists, etc, and converts them to the appropriate predicate internally.\n",
    "\n",
    "Here is a list of all the callable Filters included in Flax NNX and their DSL literals\n",
    "(when available):\n",
    "\n",
    "\n",
    "| Literal | Callable | Description |\n",
    "|--------|----------------------|-------------|\n",
    "| `...` or `True` | `Everything()` | Matches all values |\n",
    "| `None` or `False` | `Nothing()` | Matches no values |\n",
    "| `type` | `OfType(type)` | Matches values that are instances of `type` or have a `type` attribute that is an instance of `type` |\n",
    "| | `PathContains(key)` | Matches values that have an associated `path` that contains the given `key` |\n",
    "| `'{filter}'` <span style=\"color:gray\">str</span> | `WithTag('{filter}')` | Matches values that have string `tag` attribute equal to `'{filter}'`. Used by `RngKey` and `RngCount`. |\n",
    "| `(*filters)` <span style=\"color:gray\">tuple</span> or `[*filters]` <span style=\"color:gray\">list</span> | `Any(*filters)` | Matches values that match any of the inner `filters` |\n",
    "| | `All(*filters)` | Matches values that match all of the inner `filters` |\n",
    "| | `Not(filter)` | Matches values that do not match the inner `filter` |\n",
    "\n",
    "Let see the DSL in action with a `nnx.vmap` example. Lets say we want vectorized all parameters\n",
    "and `dropout` Rng(Keys|Counts) on the 0th axis, and broadcasted the rest. To do so we can\n",
    "use the following filters to define a `nnx.StateAxes` object that we can pass to `nnx.vmap`'s `in_axes`\n",
    "to specify how `model`'s various substates should be vectorized:"
   ]
  },
  {
   "cell_type": "code",
   "execution_count": 4,
   "id": "d38b7694",
   "metadata": {},
   "outputs": [],
   "source": [
    "state_axes = nnx.StateAxes({(nnx.Param, 'dropout'): 0, ...: None})\n",
    "\n",
    "@nnx.vmap(in_axes=(state_axes, 0))\n",
    "def forward(model, x):\n",
    "  ..."
   ]
  },
  {
   "cell_type": "markdown",
   "id": "bd60f0e1",
   "metadata": {},
   "source": [
    "Here `(nnx.Param, 'dropout')` expands to `Any(OfType(nnx.Param), WithTag('dropout'))` and `...`\n",
    "expands to `Everything()`.\n",
    "\n",
    "If you wish to manually convert literal into a predicate to can use `nnx.filterlib.to_predicate`:"
   ]
  },
  {
   "cell_type": "code",
   "execution_count": 9,
   "id": "7e065fa9",
   "metadata": {},
   "outputs": [
    {
     "name": "stdout",
     "output_type": "stream",
     "text": [
      "is_param = OfType(<class 'flax.nnx.nnx.variables.Param'>)\n",
      "everything = Everything()\n",
      "nothing = Nothing()\n",
      "params_or_dropout = Any(OfType(<class 'flax.nnx.nnx.variables.Param'>), WithTag('dropout'))\n"
     ]
    }
   ],
   "source": [
    "is_param = nnx.filterlib.to_predicate(nnx.Param)\n",
    "everything = nnx.filterlib.to_predicate(...)\n",
    "nothing = nnx.filterlib.to_predicate(False)\n",
    "params_or_dropout = nnx.filterlib.to_predicate((nnx.Param, 'dropout'))\n",
    "\n",
    "print(f'{is_param = }')\n",
    "print(f'{everything = }')\n",
    "print(f'{nothing = }')\n",
    "print(f'{params_or_dropout = }')"
   ]
  },
  {
   "cell_type": "markdown",
   "id": "db9b4cf3",
   "metadata": {},
   "source": [
    "## Grouping States\n",
    "\n",
    "With the knowledge of Filters at hand, let's see how `nnx.split` is roughly implemented. Key ideas:\n",
    "\n",
    "* Use `nnx.graph.flatten` to get the `GraphDef` and `State` representation of the node.\n",
    "* Convert all the filters to predicates.\n",
    "* Use `State.flat_state` to get the flat representation of the state.\n",
    "* Traverse all the `(path, value)` pairs in the flat state and group them according to the predicates.\n",
    "* Use `State.from_flat_state` to convert the flat states to nested `State`s."
   ]
  },
  {
   "cell_type": "code",
   "execution_count": null,
   "id": "068208fc",
   "metadata": {},
   "outputs": [
    {
     "name": "stdout",
     "output_type": "stream",
     "text": [
      "params = State({\n",
      "  'a': VariableState(\n",
      "    type=Param,\n",
      "    value=0\n",
      "  )\n",
      "})\n",
      "batch_stats = State({\n",
      "  'b': VariableState(\n",
      "    type=BatchStat,\n",
      "    value=True\n",
      "  )\n",
      "})\n"
     ]
    }
   ],
   "source": [
    "from typing import Any\n",
    "KeyPath = tuple[nnx.graph.Key, ...]\n",
    "\n",
    "def split(node, *filters):\n",
    "  graphdef, state = nnx.graph.flatten(node)\n",
    "  predicates = [nnx.filterlib.to_predicate(f) for f in filters]\n",
    "  flat_states: list[dict[KeyPath, Any]] = [{} for p in predicates]\n",
    "\n",
    "  for path, value in state.flat_state():\n",
    "    for i, predicate in enumerate(predicates):\n",
    "      if predicate(path, value):\n",
    "        flat_states[i][path] = value\n",
    "        break\n",
    "    else:\n",
    "      raise ValueError(f'No filter matched {path = } {value = }')\n",
    "\n",
    "  states: tuple[nnx.GraphState, ...] = tuple(\n",
    "    nnx.State.from_flat_path(flat_state) for flat_state in flat_states\n",
    "  )\n",
    "  return graphdef, *states\n",
    "\n",
    "# lets test it...\n",
    "foo = Foo()\n",
    "\n",
    "graphdef, params, batch_stats = split(foo, nnx.Param, nnx.BatchStat)\n",
    "\n",
    "print(f'{params = }')\n",
    "print(f'{batch_stats = }')"
   ]
  },
  {
   "cell_type": "markdown",
   "id": "7b3aeac8",
   "metadata": {},
   "source": [
    "One very important thing to note is that **filtering is order-dependent**. The first filter that\n",
    "matches a value will keep it, therefore you should place more specific filters before more general\n",
    "filters. For example if we create a `SpecialParam` type that is a subclass of `Param`, and a `Bar`\n",
    "object that contains both types of parameters, if we try to split the `Param`s before the\n",
    "`SpecialParam`s then all the values will be placed in the `Param` group and the `SpecialParam` group\n",
    "will be empty because all `SpecialParam`s are also `Param`s:"
   ]
  },
  {
   "cell_type": "code",
   "execution_count": 10,
   "id": "014da4d4",
   "metadata": {},
   "outputs": [
    {
     "name": "stdout",
     "output_type": "stream",
     "text": [
      "params = State({\n",
      "  'a': VariableState(\n",
      "    type=Param,\n",
      "    value=0\n",
      "  ),\n",
      "  'b': VariableState(\n",
      "    type=SpecialParam,\n",
      "    value=0\n",
      "  )\n",
      "})\n",
      "special_params = State({})\n"
     ]
    }
   ],
   "source": [
    "class SpecialParam(nnx.Param):\n",
    "  pass\n",
    "\n",
    "class Bar(nnx.Module):\n",
    "  def __init__(self):\n",
    "    self.a = nnx.Param(0)\n",
    "    self.b = SpecialParam(0)\n",
    "\n",
    "bar = Bar()\n",
    "\n",
    "graphdef, params, special_params = split(bar, nnx.Param, SpecialParam) # wrong!\n",
    "print(f'{params = }')\n",
    "print(f'{special_params = }')"
   ]
  },
  {
   "cell_type": "markdown",
   "id": "a9f0b7b8",
   "metadata": {},
   "source": [
    "Reversing the order will make sure that the `SpecialParam` are captured first"
   ]
  },
  {
   "cell_type": "code",
   "execution_count": 11,
   "id": "a2ebf5b2",
   "metadata": {},
   "outputs": [
    {
     "name": "stdout",
     "output_type": "stream",
     "text": [
      "params = State({\n",
      "  'a': VariableState(\n",
      "    type=Param,\n",
      "    value=0\n",
      "  )\n",
      "})\n",
      "special_params = State({\n",
      "  'b': VariableState(\n",
      "    type=SpecialParam,\n",
      "    value=0\n",
      "  )\n",
      "})\n"
     ]
    }
   ],
   "source": [
    "graphdef, special_params, params = split(bar, SpecialParam, nnx.Param) # correct!\n",
    "print(f'{params = }')\n",
    "print(f'{special_params = }')"
   ]
  }
 ],
 "metadata": {
  "jupytext": {
   "formats": "ipynb,md:myst"
  },
  "language_info": {
   "codemirror_mode": {
    "name": "ipython",
    "version": 3
   },
   "file_extension": ".py",
   "mimetype": "text/x-python",
   "name": "python",
   "nbconvert_exporter": "python",
   "pygments_lexer": "ipython3",
   "version": "3.10.13"
  }
 },
 "nbformat": 4,
 "nbformat_minor": 5
}
