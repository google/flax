{
 "cells": [
  {
   "cell_type": "markdown",
   "id": "15c2d208",
   "metadata": {},
   "source": [
    "# Array Refs (experimental)"
   ]
  },
  {
   "cell_type": "code",
   "execution_count": 1,
   "id": "99809892",
   "metadata": {},
   "outputs": [],
   "source": [
    "from flax import nnx\n",
    "import jax\n",
    "import jax.numpy as jnp\n",
    "import optax"
   ]
  },
  {
   "cell_type": "markdown",
   "id": "787cf22a",
   "metadata": {},
   "source": [
    "## Basics"
   ]
  },
  {
   "cell_type": "markdown",
   "id": "26969861",
   "metadata": {},
   "source": [
    "### Variables Refs"
   ]
  },
  {
   "cell_type": "code",
   "execution_count": 2,
   "id": "8c3da93c",
   "metadata": {},
   "outputs": [
    {
     "name": "stdout",
     "output_type": "stream",
     "text": [
      "variable.is_hijax = True\n",
      "\n",
      "Before = \u001b[38;2;79;201;177mVariable\u001b[0m\u001b[38;2;255;213;3m(\u001b[0m\u001b[38;2;105;105;105m # 3 (12 B)\u001b[0m\n",
      "  \u001b[38;2;156;220;254mvalue\u001b[0m\u001b[38;2;212;212;212m=\u001b[0mArray([1, 2, 3], dtype=int32),\n",
      "  \u001b[38;2;156;220;254mis_hijax\u001b[0m\u001b[38;2;212;212;212m=\u001b[0m\u001b[38;2;86;156;214mTrue\u001b[0m\n",
      "\u001b[38;2;255;213;3m)\u001b[0m\n",
      "After = \u001b[38;2;79;201;177mVariable\u001b[0m\u001b[38;2;255;213;3m(\u001b[0m\u001b[38;2;105;105;105m # 3 (12 B)\u001b[0m\n",
      "  \u001b[38;2;156;220;254mvalue\u001b[0m\u001b[38;2;212;212;212m=\u001b[0mArray([2, 3, 4], dtype=int32),\n",
      "  \u001b[38;2;156;220;254mis_hijax\u001b[0m\u001b[38;2;212;212;212m=\u001b[0m\u001b[38;2;86;156;214mTrue\u001b[0m\n",
      "\u001b[38;2;255;213;3m)\u001b[0m\n"
     ]
    }
   ],
   "source": [
    "variable = nnx.Variable(jnp.array([1, 2, 3]), is_hijax=True)\n",
    "print(f\"{variable.is_hijax = }\\n\")\n",
    "\n",
    "@jax.jit\n",
    "def increment(variable: nnx.Variable[jax.Array]):  # no return!\n",
    "  new_value = variable + 1  # Array-like operations\n",
    "  variable[...] = new_value        # in-place updates\n",
    "\n",
    "print(\"Before =\", variable); increment(variable); print(\"After =\", variable)"
   ]
  },
  {
   "cell_type": "code",
   "execution_count": 3,
   "id": "703265df",
   "metadata": {},
   "outputs": [],
   "source": [
    "# TODO: enable once as_text is fixed\n",
    "# print(increment.lower(variable).as_text())"
   ]
  },
  {
   "cell_type": "code",
   "execution_count": 4,
   "id": "0a55df94",
   "metadata": {},
   "outputs": [
    {
     "name": "stdout",
     "output_type": "stream",
     "text": [
      "variable.is_hijax = True\n"
     ]
    }
   ],
   "source": [
    "nnx.use_hijax(True)\n",
    "\n",
    "variable = nnx.Variable(jnp.array([1, 2, 3]))\n",
    "\n",
    "print(f\"{variable.is_hijax = }\")"
   ]
  },
  {
   "cell_type": "markdown",
   "id": "839332be",
   "metadata": {},
   "source": [
    "Mention `nnx.use_refs` can be used as global flag"
   ]
  },
  {
   "cell_type": "markdown",
   "id": "1b2632f1",
   "metadata": {},
   "source": [
    "### Changing Status"
   ]
  },
  {
   "cell_type": "code",
   "execution_count": 8,
   "id": "b7b1f421",
   "metadata": {},
   "outputs": [
    {
     "name": "stdout",
     "output_type": "stream",
     "text": [
      "nnx.to_hijax(model) = \u001b[38;2;79;201;177mLinear\u001b[0m\u001b[38;2;255;213;3m(\u001b[0m\u001b[38;2;105;105;105m # HijaxVariable: 6 (24 B)\u001b[0m\n",
      "  \u001b[38;2;156;220;254mbias\u001b[0m\u001b[38;2;212;212;212m=\u001b[0m\u001b[38;2;79;201;177mParam\u001b[0m\u001b[38;2;255;213;3m(\u001b[0m\u001b[38;2;105;105;105m\u001b[0m\n",
      "    \u001b[38;2;156;220;254mvalue\u001b[0m\u001b[38;2;212;212;212m=\u001b[0m\u001b[38;2;79;201;177mArray\u001b[0m\u001b[38;2;255;213;3m(\u001b[0m\u001b[38;2;156;220;254mshape\u001b[0m\u001b[38;2;212;212;212m=\u001b[0m\u001b[38;2;255;213;3m(\u001b[0m\u001b[38;2;182;207;169m3\u001b[0m,\u001b[38;2;255;213;3m)\u001b[0m, \u001b[38;2;156;220;254mdtype\u001b[0m\u001b[38;2;212;212;212m=\u001b[0mdtype('float32')\u001b[38;2;255;213;3m)\u001b[0m,\n",
      "    \u001b[38;2;156;220;254mis_hijax\u001b[0m\u001b[38;2;212;212;212m=\u001b[0m\u001b[38;2;86;156;214mTrue\u001b[0m\n",
      "  \u001b[38;2;255;213;3m)\u001b[0m,\n",
      "  \u001b[38;2;156;220;254mkernel\u001b[0m\u001b[38;2;212;212;212m=\u001b[0m\u001b[38;2;79;201;177mParam\u001b[0m\u001b[38;2;255;213;3m(\u001b[0m\u001b[38;2;105;105;105m\u001b[0m\n",
      "    \u001b[38;2;156;220;254mvalue\u001b[0m\u001b[38;2;212;212;212m=\u001b[0m\u001b[38;2;79;201;177mArray\u001b[0m\u001b[38;2;255;213;3m(\u001b[0m\u001b[38;2;156;220;254mshape\u001b[0m\u001b[38;2;212;212;212m=\u001b[0m\u001b[38;2;255;213;3m(\u001b[0m\u001b[38;2;182;207;169m1\u001b[0m, \u001b[38;2;182;207;169m3\u001b[0m\u001b[38;2;255;213;3m)\u001b[0m, \u001b[38;2;156;220;254mdtype\u001b[0m\u001b[38;2;212;212;212m=\u001b[0mdtype('float32')\u001b[38;2;255;213;3m)\u001b[0m,\n",
      "    \u001b[38;2;156;220;254mis_hijax\u001b[0m\u001b[38;2;212;212;212m=\u001b[0m\u001b[38;2;86;156;214mTrue\u001b[0m\n",
      "  \u001b[38;2;255;213;3m)\u001b[0m\n",
      "\u001b[38;2;255;213;3m)\u001b[0m\n",
      "nnx.to_lojax(refs_model) = \u001b[38;2;79;201;177mLinear\u001b[0m\u001b[38;2;255;213;3m(\u001b[0m\u001b[38;2;105;105;105m # Param: 6 (24 B)\u001b[0m\n",
      "  \u001b[38;2;156;220;254mbias\u001b[0m\u001b[38;2;212;212;212m=\u001b[0m\u001b[38;2;79;201;177mParam\u001b[0m\u001b[38;2;255;213;3m(\u001b[0m\u001b[38;2;105;105;105m\u001b[0m\n",
      "    \u001b[38;2;156;220;254mvalue\u001b[0m\u001b[38;2;212;212;212m=\u001b[0m\u001b[38;2;79;201;177mArray\u001b[0m\u001b[38;2;255;213;3m(\u001b[0m\u001b[38;2;156;220;254mshape\u001b[0m\u001b[38;2;212;212;212m=\u001b[0m\u001b[38;2;255;213;3m(\u001b[0m\u001b[38;2;182;207;169m3\u001b[0m,\u001b[38;2;255;213;3m)\u001b[0m, \u001b[38;2;156;220;254mdtype\u001b[0m\u001b[38;2;212;212;212m=\u001b[0mdtype('float32')\u001b[38;2;255;213;3m)\u001b[0m\n",
      "  \u001b[38;2;255;213;3m)\u001b[0m,\n",
      "  \u001b[38;2;156;220;254mkernel\u001b[0m\u001b[38;2;212;212;212m=\u001b[0m\u001b[38;2;79;201;177mParam\u001b[0m\u001b[38;2;255;213;3m(\u001b[0m\u001b[38;2;105;105;105m\u001b[0m\n",
      "    \u001b[38;2;156;220;254mvalue\u001b[0m\u001b[38;2;212;212;212m=\u001b[0m\u001b[38;2;79;201;177mArray\u001b[0m\u001b[38;2;255;213;3m(\u001b[0m\u001b[38;2;156;220;254mshape\u001b[0m\u001b[38;2;212;212;212m=\u001b[0m\u001b[38;2;255;213;3m(\u001b[0m\u001b[38;2;182;207;169m1\u001b[0m, \u001b[38;2;182;207;169m3\u001b[0m\u001b[38;2;255;213;3m)\u001b[0m, \u001b[38;2;156;220;254mdtype\u001b[0m\u001b[38;2;212;212;212m=\u001b[0mdtype('float32')\u001b[38;2;255;213;3m)\u001b[0m\n",
      "  \u001b[38;2;255;213;3m)\u001b[0m\n",
      "\u001b[38;2;255;213;3m)\u001b[0m\n"
     ]
    }
   ],
   "source": [
    "class Linear(nnx.Module):\n",
    "  def __init__(self, in_features, out_features, rngs: nnx.Rngs):\n",
    "    self.kernel = nnx.Param(jax.random.normal(rngs(), (in_features, out_features)))\n",
    "    self.bias = nnx.Param(jnp.zeros(out_features))\n",
    "\n",
    "  def __call__(self, x):\n",
    "    return x @ self.kernel + self.bias[None]\n",
    "\n",
    "with nnx.use_hijax(False): # use lojax Variables\n",
    "  model = Linear(1, 3, rngs=nnx.Rngs(0))\n",
    "\n",
    "hijax_model = nnx.to_hijax(model) # convert hijax Variables\n",
    "arrays_model = nnx.to_lojax(hijax_model) # convert to lojax Variables\n",
    "\n",
    "print(\"nnx.to_hijax(model) =\", hijax_model)\n",
    "print(\"nnx.to_lojax(refs_model) =\", arrays_model)"
   ]
  },
  {
   "cell_type": "markdown",
   "id": "f4e35e75",
   "metadata": {},
   "source": [
    "## Examples"
   ]
  },
  {
   "cell_type": "code",
   "execution_count": 9,
   "id": "5400fe58",
   "metadata": {},
   "outputs": [],
   "source": [
    "class Block(nnx.Module):\n",
    "  def __init__(self, din, dmid, dout, rngs: nnx.Rngs):\n",
    "    self.linear = Linear(din, dmid, rngs=rngs)\n",
    "    self.bn = nnx.BatchNorm(dmid, rngs=rngs)\n",
    "    self.dropout = nnx.Dropout(0.1, rngs=rngs)\n",
    "    self.linear_out = Linear(dmid, dout, rngs=rngs)\n",
    "\n",
    "  def __call__(self, x):\n",
    "    x = nnx.gelu(self.dropout(self.bn(self.linear(x))))\n",
    "    return self.linear_out(x)"
   ]
  },
  {
   "cell_type": "markdown",
   "id": "ba980b6b",
   "metadata": {},
   "source": [
    "### Training Loop"
   ]
  },
  {
   "cell_type": "code",
   "execution_count": 12,
   "id": "566c4249",
   "metadata": {},
   "outputs": [
    {
     "data": {
      "text/plain": [
       "Array(1.000178, dtype=float32)"
      ]
     },
     "execution_count": 12,
     "metadata": {},
     "output_type": "execute_result"
    }
   ],
   "source": [
    "# hijax Variables by default\n",
    "model = Block(2, 64, 3, rngs=nnx.Rngs(0))\n",
    "optimizer = nnx.Optimizer(model, optax.adam(1e-3), wrt=nnx.Param)\n",
    "\n",
    "@jax.jit\n",
    "def train_step(model, optimizer, x, y):\n",
    "  graphdef, params, nondiff = nnx.split(model, nnx.Param, ...)\n",
    "  def loss_fn(params):\n",
    "    model =  nnx.merge(graphdef, params, nondiff)\n",
    "    return ((model(x) - y) ** 2).mean()\n",
    "\n",
    "  loss, grads = jax.value_and_grad(loss_fn)(nnx.to_lojax(params))  # lojax Variables for jax.grad\n",
    "  optimizer.update(model, grads)\n",
    "\n",
    "  return loss\n",
    "\n",
    "train_step(model, optimizer, x=jnp.ones((10, 2)), y=jnp.ones((10, 3)))"
   ]
  },
  {
   "cell_type": "markdown",
   "id": "1dea99c1",
   "metadata": {},
   "source": [
    "### Scan Over Layers"
   ]
  },
  {
   "cell_type": "code",
   "execution_count": 14,
   "id": "d8136be4",
   "metadata": {},
   "outputs": [
    {
     "ename": "AttributeError",
     "evalue": "'aval_property' object has no attribute 'spec'",
     "output_type": "error",
     "traceback": [
      "\u001b[31m---------------------------------------------------------------------------\u001b[39m",
      "\u001b[31mAttributeError\u001b[39m                            Traceback (most recent call last)",
      "\u001b[36mCell\u001b[39m\u001b[36m \u001b[39m\u001b[32mIn[14]\u001b[39m\u001b[32m, line 5\u001b[39m\n\u001b[32m      1\u001b[39m \u001b[38;5;129m@jax\u001b[39m.vmap\n\u001b[32m      2\u001b[39m \u001b[38;5;28;01mdef\u001b[39;00m\u001b[38;5;250m \u001b[39m\u001b[34mcreate_stack\u001b[39m(rngs):\n\u001b[32m      3\u001b[39m   \u001b[38;5;28;01mreturn\u001b[39;00m nnx.to_lojax(Block(\u001b[32m2\u001b[39m, \u001b[32m64\u001b[39m, \u001b[32m2\u001b[39m, rngs=rngs))\n\u001b[32m----> \u001b[39m\u001b[32m5\u001b[39m block_stack = nnx.to_hijax(\u001b[43mcreate_stack\u001b[49m\u001b[43m(\u001b[49m\u001b[43mnnx\u001b[49m\u001b[43m.\u001b[49m\u001b[43mRngs\u001b[49m\u001b[43m(\u001b[49m\u001b[32;43m0\u001b[39;49m\u001b[43m)\u001b[49m\u001b[43m.\u001b[49m\u001b[43mfork\u001b[49m\u001b[43m(\u001b[49m\u001b[43msplit\u001b[49m\u001b[43m=\u001b[49m\u001b[32;43m8\u001b[39;49m\u001b[43m)\u001b[49m\u001b[43m)\u001b[49m)\n\u001b[32m      7\u001b[39m \u001b[38;5;28;01mdef\u001b[39;00m\u001b[38;5;250m \u001b[39m\u001b[34mscan_fn\u001b[39m(x, block):\n\u001b[32m      8\u001b[39m   x = block(x)\n",
      "    \u001b[31m[... skipping hidden 1 frame]\u001b[39m\n",
      "\u001b[36mFile \u001b[39m\u001b[32m~/repos/flax/.venv/lib/python3.11/site-packages/jax/_src/api.py:1105\u001b[39m, in \u001b[36mvmap.<locals>.vmap_f\u001b[39m\u001b[34m(*args, **kwargs)\u001b[39m\n\u001b[32m   1101\u001b[39m   api_util._check_no_aliased_ref_args(dbg, avals, args_flat)\n\u001b[32m   1103\u001b[39m axis_size_ = (axis_size \u001b[38;5;28;01mif\u001b[39;00m axis_size \u001b[38;5;129;01mis\u001b[39;00m \u001b[38;5;129;01mnot\u001b[39;00m \u001b[38;5;28;01mNone\u001b[39;00m \u001b[38;5;28;01melse\u001b[39;00m\n\u001b[32m   1104\u001b[39m               _mapped_axis_size(fun, in_tree, args_flat, in_axes_flat, \u001b[33m\"\u001b[39m\u001b[33mvmap\u001b[39m\u001b[33m\"\u001b[39m))\n\u001b[32m-> \u001b[39m\u001b[32m1105\u001b[39m explicit_mesh_axis = \u001b[43m_mapped_axis_spec\u001b[49m\u001b[43m(\u001b[49m\u001b[43margs_flat\u001b[49m\u001b[43m,\u001b[49m\u001b[43m \u001b[49m\u001b[43min_axes_flat\u001b[49m\u001b[43m)\u001b[49m\n\u001b[32m   1106\u001b[39m \u001b[38;5;28;01mif\u001b[39;00m spmd_axis_name \u001b[38;5;129;01mis\u001b[39;00m \u001b[38;5;129;01mnot\u001b[39;00m \u001b[38;5;28;01mNone\u001b[39;00m \u001b[38;5;129;01mand\u001b[39;00m explicit_mesh_axis \u001b[38;5;129;01mis\u001b[39;00m \u001b[38;5;129;01mnot\u001b[39;00m \u001b[38;5;28;01mNone\u001b[39;00m:\n\u001b[32m   1107\u001b[39m   \u001b[38;5;28;01mraise\u001b[39;00m \u001b[38;5;167;01mValueError\u001b[39;00m(\n\u001b[32m   1108\u001b[39m       \u001b[33m\"\u001b[39m\u001b[33mOnly one of spmd_axis_name or arrays sharded on `Explicit` mesh\u001b[39m\u001b[33m\"\u001b[39m\n\u001b[32m   1109\u001b[39m       \u001b[33mf\u001b[39m\u001b[33m\"\u001b[39m\u001b[33m axis type is allowed. Got \u001b[39m\u001b[38;5;132;01m{\u001b[39;00mspmd_axis_name\u001b[38;5;132;01m=}\u001b[39;00m\u001b[33m and\u001b[39m\u001b[33m\"\u001b[39m\n\u001b[32m   1110\u001b[39m       \u001b[33mf\u001b[39m\u001b[33m\"\u001b[39m\u001b[33m arrays sharded on \u001b[39m\u001b[38;5;132;01m{\u001b[39;00mexplicit_mesh_axis\u001b[38;5;132;01m=}\u001b[39;00m\u001b[33m\"\u001b[39m)\n",
      "\u001b[36mFile \u001b[39m\u001b[32m~/repos/flax/.venv/lib/python3.11/site-packages/jax/_src/api.py:1141\u001b[39m, in \u001b[36m_mapped_axis_spec\u001b[39m\u001b[34m(args_flat, in_axes_flat)\u001b[39m\n\u001b[32m   1139\u001b[39m \u001b[38;5;28;01mfor\u001b[39;00m arg, i \u001b[38;5;129;01min\u001b[39;00m \u001b[38;5;28mzip\u001b[39m(args_flat, in_axes_flat):\n\u001b[32m   1140\u001b[39m   \u001b[38;5;28;01mif\u001b[39;00m i \u001b[38;5;129;01mis\u001b[39;00m \u001b[38;5;129;01mnot\u001b[39;00m \u001b[38;5;28;01mNone\u001b[39;00m:\n\u001b[32m-> \u001b[39m\u001b[32m1141\u001b[39m     spec = \u001b[43m_get_spec\u001b[49m\u001b[43m(\u001b[49m\u001b[43marg\u001b[49m\u001b[43m,\u001b[49m\u001b[43m \u001b[49m\u001b[43mi\u001b[49m\u001b[43m)\u001b[49m\n\u001b[32m   1142\u001b[39m     \u001b[38;5;28;01mif\u001b[39;00m out_spec \u001b[38;5;129;01mis\u001b[39;00m \u001b[38;5;129;01mnot\u001b[39;00m \u001b[38;5;28;01mNone\u001b[39;00m \u001b[38;5;129;01mand\u001b[39;00m out_spec != spec:\n\u001b[32m   1143\u001b[39m       \u001b[38;5;28;01mraise\u001b[39;00m \u001b[38;5;167;01mValueError\u001b[39;00m(\n\u001b[32m   1144\u001b[39m           \u001b[33m\"\u001b[39m\u001b[33mMapped away dimension of inputs passed to vmap should be sharded\u001b[39m\u001b[33m\"\u001b[39m\n\u001b[32m   1145\u001b[39m           \u001b[33mf\u001b[39m\u001b[33m\"\u001b[39m\u001b[33m the same. Got inconsistent axis specs: \u001b[39m\u001b[38;5;132;01m{\u001b[39;00mout_spec\u001b[38;5;132;01m}\u001b[39;00m\u001b[33m vs \u001b[39m\u001b[38;5;132;01m{\u001b[39;00mspec\u001b[38;5;132;01m}\u001b[39;00m\u001b[33m\"\u001b[39m)\n",
      "\u001b[36mFile \u001b[39m\u001b[32m~/repos/flax/.venv/lib/python3.11/site-packages/jax/_src/api.py:1134\u001b[39m, in \u001b[36m_mapped_axis_spec.<locals>._get_spec\u001b[39m\u001b[34m(arg, i)\u001b[39m\n\u001b[32m   1131\u001b[39m \u001b[38;5;28;01mdef\u001b[39;00m\u001b[38;5;250m \u001b[39m\u001b[34m_get_spec\u001b[39m(arg, i):\n\u001b[32m   1132\u001b[39m   \u001b[38;5;28;01mtry\u001b[39;00m:\n\u001b[32m   1133\u001b[39m     \u001b[38;5;66;03m# Duck type arrays like BCOO arrays can be passed to vmap.\u001b[39;00m\n\u001b[32m-> \u001b[39m\u001b[32m1134\u001b[39m     \u001b[38;5;28;01mreturn\u001b[39;00m \u001b[43mshaped_abstractify\u001b[49m\u001b[43m(\u001b[49m\u001b[43marg\u001b[49m\u001b[43m)\u001b[49m\u001b[43m.\u001b[49m\u001b[43msharding\u001b[49m\u001b[43m.\u001b[49m\u001b[43mspec\u001b[49m[i]\n\u001b[32m   1135\u001b[39m   \u001b[38;5;28;01mexcept\u001b[39;00m (\u001b[38;5;167;01mIndexError\u001b[39;00m, \u001b[38;5;167;01mTypeError\u001b[39;00m):\n\u001b[32m   1136\u001b[39m     \u001b[38;5;28;01mreturn\u001b[39;00m \u001b[38;5;28;01mNone\u001b[39;00m\n",
      "\u001b[31mAttributeError\u001b[39m: 'aval_property' object has no attribute 'spec'"
     ]
    }
   ],
   "source": [
    "@jax.vmap\n",
    "def create_stack(rngs):\n",
    "  return nnx.to_lojax(Block(2, 64, 2, rngs=rngs))\n",
    "\n",
    "block_stack = nnx.to_hijax(create_stack(nnx.Rngs(0).fork(split=8)))\n",
    "\n",
    "def scan_fn(x, block):\n",
    "  x = block(x)\n",
    "  return x, None\n",
    "\n",
    "x = jax.random.uniform(jax.random.key(0), (3, 2))\n",
    "y, _ = jax.lax.scan(scan_fn, x, block_stack)\n",
    "\n",
    "print(\"y = \", y)"
   ]
  },
  {
   "cell_type": "markdown",
   "id": "7ca18a0d",
   "metadata": {},
   "source": [
    "## Limitations"
   ]
  },
  {
   "cell_type": "markdown",
   "id": "1dd39c79",
   "metadata": {},
   "source": [
    "### MutableArray Outputs"
   ]
  },
  {
   "cell_type": "code",
   "execution_count": 19,
   "id": "c6062d19",
   "metadata": {},
   "outputs": [
    {
     "name": "stdout",
     "output_type": "stream",
     "text": [
      "Error: mutable hitypes should use lo_ty_qdd instead\n"
     ]
    }
   ],
   "source": [
    "@jax.jit\n",
    "def create_model(rngs):\n",
    "  return Block(2, 64, 3, rngs=rngs)\n",
    "\n",
    "try:\n",
    "  model = create_model(nnx.Rngs(0))\n",
    "except Exception as e:\n",
    "  print(f\"Error:\", e)"
   ]
  },
  {
   "cell_type": "code",
   "execution_count": 20,
   "id": "8bb1e9e7",
   "metadata": {},
   "outputs": [
    {
     "name": "stdout",
     "output_type": "stream",
     "text": [
      "model.linear = \u001b[38;2;79;201;177mLinear\u001b[0m\u001b[38;2;255;213;3m(\u001b[0m\u001b[38;2;105;105;105m # HijaxVariable: 192 (768 B)\u001b[0m\n",
      "  \u001b[38;2;156;220;254mbias\u001b[0m\u001b[38;2;212;212;212m=\u001b[0m\u001b[38;2;79;201;177mParam\u001b[0m\u001b[38;2;255;213;3m(\u001b[0m\u001b[38;2;105;105;105m\u001b[0m\n",
      "    \u001b[38;2;156;220;254mvalue\u001b[0m\u001b[38;2;212;212;212m=\u001b[0m\u001b[38;2;79;201;177mArray\u001b[0m\u001b[38;2;255;213;3m(\u001b[0m\u001b[38;2;156;220;254mshape\u001b[0m\u001b[38;2;212;212;212m=\u001b[0m\u001b[38;2;255;213;3m(\u001b[0m\u001b[38;2;182;207;169m64\u001b[0m,\u001b[38;2;255;213;3m)\u001b[0m, \u001b[38;2;156;220;254mdtype\u001b[0m\u001b[38;2;212;212;212m=\u001b[0mdtype('float32')\u001b[38;2;255;213;3m)\u001b[0m,\n",
      "    \u001b[38;2;156;220;254mis_hijax\u001b[0m\u001b[38;2;212;212;212m=\u001b[0m\u001b[38;2;86;156;214mTrue\u001b[0m\n",
      "  \u001b[38;2;255;213;3m)\u001b[0m,\n",
      "  \u001b[38;2;156;220;254mkernel\u001b[0m\u001b[38;2;212;212;212m=\u001b[0m\u001b[38;2;79;201;177mParam\u001b[0m\u001b[38;2;255;213;3m(\u001b[0m\u001b[38;2;105;105;105m\u001b[0m\n",
      "    \u001b[38;2;156;220;254mvalue\u001b[0m\u001b[38;2;212;212;212m=\u001b[0m\u001b[38;2;79;201;177mArray\u001b[0m\u001b[38;2;255;213;3m(\u001b[0m\u001b[38;2;156;220;254mshape\u001b[0m\u001b[38;2;212;212;212m=\u001b[0m\u001b[38;2;255;213;3m(\u001b[0m\u001b[38;2;182;207;169m2\u001b[0m, \u001b[38;2;182;207;169m64\u001b[0m\u001b[38;2;255;213;3m)\u001b[0m, \u001b[38;2;156;220;254mdtype\u001b[0m\u001b[38;2;212;212;212m=\u001b[0mdtype('float32')\u001b[38;2;255;213;3m)\u001b[0m,\n",
      "    \u001b[38;2;156;220;254mis_hijax\u001b[0m\u001b[38;2;212;212;212m=\u001b[0m\u001b[38;2;86;156;214mTrue\u001b[0m\n",
      "  \u001b[38;2;255;213;3m)\u001b[0m\n",
      "\u001b[38;2;255;213;3m)\u001b[0m\n"
     ]
    }
   ],
   "source": [
    "with nnx.use_hijax(False): # <-- disable hijax Variables\n",
    "  model = create_model(nnx.Rngs(0))\n",
    "\n",
    "model = nnx.to_hijax(model) # convert to mutable after creation\n",
    "\n",
    "print(\"model.linear =\", model.linear)"
   ]
  },
  {
   "cell_type": "code",
   "execution_count": null,
   "id": "3a078025",
   "metadata": {},
   "outputs": [
    {
     "name": "stdout",
     "output_type": "stream",
     "text": [
      "model.linear = \u001b[38;2;79;201;177mLinear\u001b[0m\u001b[38;2;255;213;3m(\u001b[0m\u001b[38;2;105;105;105m # HijaxVariable: 192 (768 B)\u001b[0m\n",
      "  \u001b[38;2;156;220;254mbias\u001b[0m\u001b[38;2;212;212;212m=\u001b[0m\u001b[38;2;79;201;177mParam\u001b[0m\u001b[38;2;255;213;3m(\u001b[0m\u001b[38;2;105;105;105m\u001b[0m\n",
      "    \u001b[38;2;156;220;254mvalue\u001b[0m\u001b[38;2;212;212;212m=\u001b[0m\u001b[38;2;79;201;177mArray\u001b[0m\u001b[38;2;255;213;3m(\u001b[0m\u001b[38;2;156;220;254mshape\u001b[0m\u001b[38;2;212;212;212m=\u001b[0m\u001b[38;2;255;213;3m(\u001b[0m\u001b[38;2;182;207;169m64\u001b[0m,\u001b[38;2;255;213;3m)\u001b[0m, \u001b[38;2;156;220;254mdtype\u001b[0m\u001b[38;2;212;212;212m=\u001b[0mdtype('float32')\u001b[38;2;255;213;3m)\u001b[0m,\n",
      "    \u001b[38;2;156;220;254mis_hijax\u001b[0m\u001b[38;2;212;212;212m=\u001b[0m\u001b[38;2;86;156;214mTrue\u001b[0m\n",
      "  \u001b[38;2;255;213;3m)\u001b[0m,\n",
      "  \u001b[38;2;156;220;254mkernel\u001b[0m\u001b[38;2;212;212;212m=\u001b[0m\u001b[38;2;79;201;177mParam\u001b[0m\u001b[38;2;255;213;3m(\u001b[0m\u001b[38;2;105;105;105m\u001b[0m\n",
      "    \u001b[38;2;156;220;254mvalue\u001b[0m\u001b[38;2;212;212;212m=\u001b[0m\u001b[38;2;79;201;177mArray\u001b[0m\u001b[38;2;255;213;3m(\u001b[0m\u001b[38;2;156;220;254mshape\u001b[0m\u001b[38;2;212;212;212m=\u001b[0m\u001b[38;2;255;213;3m(\u001b[0m\u001b[38;2;182;207;169m2\u001b[0m, \u001b[38;2;182;207;169m64\u001b[0m\u001b[38;2;255;213;3m)\u001b[0m, \u001b[38;2;156;220;254mdtype\u001b[0m\u001b[38;2;212;212;212m=\u001b[0mdtype('float32')\u001b[38;2;255;213;3m)\u001b[0m,\n",
      "    \u001b[38;2;156;220;254mis_hijax\u001b[0m\u001b[38;2;212;212;212m=\u001b[0m\u001b[38;2;86;156;214mTrue\u001b[0m\n",
      "  \u001b[38;2;255;213;3m)\u001b[0m\n",
      "\u001b[38;2;255;213;3m)\u001b[0m\n"
     ]
    }
   ],
   "source": [
    "# TODO: why does this work?\n",
    "@nnx.jit\n",
    "def create_model(rngs):\n",
    "  return Block(2, 64, 3, rngs=rngs)\n",
    "\n",
    "model = create_model(nnx.Rngs(0))\n",
    "\n",
    "print(\"model.linear =\", model.linear)"
   ]
  },
  {
   "cell_type": "markdown",
   "id": "609bed7c",
   "metadata": {},
   "source": [
    "### Reference Sharing (aliasing)"
   ]
  },
  {
   "cell_type": "code",
   "execution_count": 24,
   "id": "045d03c1",
   "metadata": {},
   "outputs": [
    {
     "name": "stdout",
     "output_type": "stream",
     "text": [
      "None\n"
     ]
    }
   ],
   "source": [
    "# TODO: why does this not fail?\n",
    "def get_error(f, *args):\n",
    "  try:\n",
    "    return f(*args)\n",
    "  except Exception as e:\n",
    "    return f\"{type(e).__name__}: {e}\"\n",
    "\n",
    "x = nnx.Variable(jnp.array(0))\n",
    "\n",
    "@jax.jit\n",
    "def f(a, b):\n",
    "  ...\n",
    "\n",
    "print(get_error(f, x, x))"
   ]
  },
  {
   "cell_type": "code",
   "execution_count": 26,
   "id": "bc2e87e5",
   "metadata": {},
   "outputs": [
    {
     "name": "stdout",
     "output_type": "stream",
     "text": [
      "SharedVariables None\n",
      "SharedModules None\n"
     ]
    }
   ],
   "source": [
    "class SharedVariables(nnx.Pytree):\n",
    "  def __init__(self):\n",
    "    self.a = nnx.Variable(jnp.array(0))\n",
    "    self.b = nnx.Variable(jnp.array(1))\n",
    "    self.c = self.a\n",
    "\n",
    "class SharedModules(nnx.Pytree):\n",
    "  def __init__(self):\n",
    "    self.d = Linear(1, 1, rngs=nnx.Rngs(0))\n",
    "    self.e = Linear(1, 1, rngs=nnx.Rngs(0))\n",
    "    self.f = self.d\n",
    "\n",
    "@jax.jit\n",
    "def g(pytree):\n",
    "  ...\n",
    "\n",
    "shared_variables = SharedVariables()\n",
    "shared_modules = SharedModules()\n",
    "\n",
    "print(\"SharedVariables\", get_error(g, shared_variables))\n",
    "print(\"SharedModules\", get_error(g, shared_modules))"
   ]
  },
  {
   "cell_type": "code",
   "execution_count": null,
   "id": "6298f3d9",
   "metadata": {},
   "outputs": [
    {
     "name": "stdout",
     "output_type": "stream",
     "text": [
      "shared variables duplicates: [[('a',), ('c',)]]\n",
      "shared modules duplicates:   [[('d',), ('f',)]]\n"
     ]
    }
   ],
   "source": [
    "if (duplicates := nnx.find_duplicates(shared_variables)):\n",
    "  print(\"shared variables duplicates:\", duplicates)\n",
    "\n",
    "if (duplicates := nnx.find_duplicates(shared_modules)):\n",
    "  print(\"shared modules duplicates:  \", duplicates)"
   ]
  },
  {
   "cell_type": "code",
   "execution_count": 27,
   "id": "00854d38",
   "metadata": {},
   "outputs": [
    {
     "name": "stdout",
     "output_type": "stream",
     "text": [
      "\u001b[38;2;79;201;177mState\u001b[0m\u001b[38;2;255;213;3m({\u001b[0m\u001b[38;2;105;105;105m\u001b[0m\n",
      "  \u001b[38;2;156;220;254m'a'\u001b[0m\u001b[38;2;212;212;212m: \u001b[0m\u001b[38;2;79;201;177mVariable\u001b[0m\u001b[38;2;255;213;3m(\u001b[0m\u001b[38;2;105;105;105m # 1 (4 B)\u001b[0m\n",
      "    \u001b[38;2;156;220;254mvalue\u001b[0m\u001b[38;2;212;212;212m=\u001b[0mArray(0, dtype=int32, weak_type=True),\n",
      "    \u001b[38;2;156;220;254mis_hijax\u001b[0m\u001b[38;2;212;212;212m=\u001b[0m\u001b[38;2;86;156;214mTrue\u001b[0m\n",
      "  \u001b[38;2;255;213;3m)\u001b[0m,\n",
      "  \u001b[38;2;156;220;254m'b'\u001b[0m\u001b[38;2;212;212;212m: \u001b[0m\u001b[38;2;79;201;177mVariable\u001b[0m\u001b[38;2;255;213;3m(\u001b[0m\u001b[38;2;105;105;105m # 1 (4 B)\u001b[0m\n",
      "    \u001b[38;2;156;220;254mvalue\u001b[0m\u001b[38;2;212;212;212m=\u001b[0mArray(1, dtype=int32, weak_type=True),\n",
      "    \u001b[38;2;156;220;254mis_hijax\u001b[0m\u001b[38;2;212;212;212m=\u001b[0m\u001b[38;2;86;156;214mTrue\u001b[0m\n",
      "  \u001b[38;2;255;213;3m)\u001b[0m\n",
      "\u001b[38;2;255;213;3m})\u001b[0m\n",
      "updated \u001b[38;2;79;201;177mSharedVariables\u001b[0m\u001b[38;2;255;213;3m(\u001b[0m\u001b[38;2;105;105;105m # HijaxVariable: 2 (8 B)\u001b[0m\n",
      "  \u001b[38;2;156;220;254ma\u001b[0m\u001b[38;2;212;212;212m=\u001b[0m\u001b[38;2;79;201;177mVariable\u001b[0m\u001b[38;2;255;213;3m(\u001b[0m\u001b[38;2;105;105;105m # 1 (4 B)\u001b[0m\n",
      "    \u001b[38;2;156;220;254mvalue\u001b[0m\u001b[38;2;212;212;212m=\u001b[0mArray(10, dtype=int32, weak_type=True),\n",
      "    \u001b[38;2;156;220;254mis_hijax\u001b[0m\u001b[38;2;212;212;212m=\u001b[0m\u001b[38;2;86;156;214mTrue\u001b[0m\n",
      "  \u001b[38;2;255;213;3m)\u001b[0m,\n",
      "  \u001b[38;2;156;220;254mb\u001b[0m\u001b[38;2;212;212;212m=\u001b[0m\u001b[38;2;79;201;177mVariable\u001b[0m\u001b[38;2;255;213;3m(\u001b[0m\u001b[38;2;105;105;105m # 1 (4 B)\u001b[0m\n",
      "    \u001b[38;2;156;220;254mvalue\u001b[0m\u001b[38;2;212;212;212m=\u001b[0mArray(1, dtype=int32, weak_type=True),\n",
      "    \u001b[38;2;156;220;254mis_hijax\u001b[0m\u001b[38;2;212;212;212m=\u001b[0m\u001b[38;2;86;156;214mTrue\u001b[0m\n",
      "  \u001b[38;2;255;213;3m)\u001b[0m,\n",
      "  \u001b[38;2;156;220;254mc\u001b[0m\u001b[38;2;212;212;212m=\u001b[0m\u001b[38;2;79;201;177mVariable\u001b[0m\u001b[38;2;255;213;3m(\u001b[0m\u001b[38;2;105;105;105m # 1 (4 B)\u001b[0m\n",
      "    \u001b[38;2;156;220;254mvalue\u001b[0m\u001b[38;2;212;212;212m=\u001b[0mArray(10, dtype=int32, weak_type=True),\n",
      "    \u001b[38;2;156;220;254mis_hijax\u001b[0m\u001b[38;2;212;212;212m=\u001b[0m\u001b[38;2;86;156;214mTrue\u001b[0m\n",
      "  \u001b[38;2;255;213;3m)\u001b[0m\n",
      "\u001b[38;2;255;213;3m)\u001b[0m\n"
     ]
    }
   ],
   "source": [
    "@jax.jit\n",
    "def h(graphdef, state):\n",
    "  obj = nnx.merge(graphdef, state)\n",
    "  obj.a[...] += 10\n",
    "\n",
    "graphdef, state = nnx.split(shared_variables)\n",
    "print(state) # split deduplicates the state\n",
    "\n",
    "h(graphdef, state)\n",
    "\n",
    "print(\"updated\", shared_variables)"
   ]
  }
 ],
 "metadata": {
  "jupytext": {
   "formats": "ipynb,md:myst"
  },
  "language_info": {
   "codemirror_mode": {
    "name": "ipython",
    "version": 3
   },
   "file_extension": ".py",
   "mimetype": "text/x-python",
   "name": "python",
   "nbconvert_exporter": "python",
   "pygments_lexer": "ipython3",
   "version": "3.11.9"
  }
 },
 "nbformat": 4,
 "nbformat_minor": 5
}
