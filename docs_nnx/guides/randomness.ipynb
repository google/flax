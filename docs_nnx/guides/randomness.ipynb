{
 "cells": [
  {
   "cell_type": "markdown",
   "metadata": {},
   "source": [
    "# Randomness\n",
    "\n",
    "Random state handling in Flax NNX was radically simplified compared to systems like Haiku and Flax Linen because Flax NNX _defines the random state as an object state_. In essence, this means that in Flax NNX, the random state is: 1) just another type of state; 2) stored in `nnx.Variable`s; and 3) held by the models themselves.\n",
    "\n",
    "The Flax NNX [pseudorandom number generator (PRNG)](https://flax.readthedocs.io/en/latest/glossary.html#term-RNG-sequences) system has the following main characteristics:\n",
    "\n",
    "- It is **explicit**.\n",
    "- It is **order-based**.\n",
    "- It uses **dynamic counters**.\n",
    "\n",
    "This is a bit different from [Flax Linen's PRNG system](https://flax.readthedocs.io/en/latest/guides/flax_fundamentals/rng_guide.html), which is `(path + order)`-based, and uses static counters.\n",
    "\n",
    "> **Note:** To learn more about random number generation in JAX, the `jax.random` API, and PRNG-generated sequences, check out this [JAX PRNG tutorial](https://jax.readthedocs.io/en/latest/random-numbers.html).\n",
    "\n",
    "Let’ start with some necessary imports:"
   ]
  },
  {
   "cell_type": "code",
   "execution_count": 1,
   "metadata": {},
   "outputs": [],
   "source": [
    "from flax import nnx\n",
    "import jax\n",
    "from jax import random, numpy as jnp"
   ]
  },
  {
   "cell_type": "markdown",
   "metadata": {},
   "source": [
    "## `Rngs`, `RngStream`, and `RngState`\n",
    "\n",
    "In Flax NNX, the `nnx.Rngs` type is the primary convenience API for managing the random state(s). Following Flax Linen's footsteps, `nnx.Rngs` have the ability to create multiple named PRNG key [streams](https://jax.readthedocs.io/en/latest/jep/263-prng.html), each with its own state, for the purpose of having tight control over randomness in the context of [JAX transformations (transforms)](https://jax.readthedocs.io/en/latest/key-concepts.html#transformations).\n",
    "\n",
    "Here are the main PRNG-related types in Flax NNX:\n",
    "\n",
    "* **`nnx.Rngs`**: The main user interface. It defines a set of named `nnx.RngStream` objects.\n",
    "* **`nnx.RngStream`**: An object that can generate a stream of PRNG keys. It holds a root `key` and a `count` inside an `nnx.RngKey` and `nnx.RngCount` `nnx.Variable`s, respectively. When a new key is generated, the count is incremented.\n",
    "* **`nnx.RngState`**: The base type for all RNG-related states.\n",
    "  * **`nnx.RngKey`**: NNX Variable type for holding PRNG keys. It includes a `tag` attribute containing the name of the PRNG key stream.\n",
    "  * **`nnx.RngCount`**: NNX Variable type for holding PRNG counts. It includes a `tag` attribute containing the PRNG key stream name.\n",
    "\n",
    "To create an `nnx.Rngs` object you can simply pass an integer seed or `jax.random.key` instance to any keyword argument of your choice in the constructor.\n",
    "\n",
    "Here's an example:"
   ]
  },
  {
   "cell_type": "code",
   "execution_count": 2,
   "metadata": {},
   "outputs": [
    {
     "data": {
      "text/html": [
       "<script> (()=>{ if (customElements.get('treescope-container') === undefined) { class TreescopeContainer extends HTMLElement { constructor() { super(); this.attachShadow({mode: \"open\"}); this.defns = {}; this.state = {}; } } customElements.define(\"treescope-container\", TreescopeContainer); } if (customElements.get('treescope-run-here') === undefined) { class RunHere extends HTMLElement { constructor() { super() } connectedCallback() { const run = child => { const fn = new Function(child.textContent); child.textContent = \"\"; fn.call(this); this.remove(); }; const child = this.querySelector(\"script\"); if (child) { run(child); } else { new MutationObserver(()=>{ run(this.querySelector(\"script\")); }).observe(this, {childList: true}); } } } customElements.define(\"treescope-run-here\", RunHere); } })(); </script> <treescope-container class=\"treescope_out_25e97e3361c04deb80d282d37cd07e3e\" ></treescope-container> <treescope-run-here><script type=\"application/octet-stream\"> const root = ( Array.from(document.getElementsByClassName( \"treescope_out_25e97e3361c04deb80d282d37cd07e3e\")) .filter((elt) => !elt.dataset.setup) )[0]; root.dataset.setup = 1; const msg = document.createElement(\"span\"); msg.style = \"color: #cccccc; font-family: monospace;\"; msg.textContent = \"(Loading...)\"; root.state.loadingMsg = msg; root.shadowRoot.appendChild(msg); root.state.chain = new Promise((resolve, reject) => { const observer = new IntersectionObserver((entries) => { for (const entry of entries) { if (entry.isIntersecting) { resolve(); observer.disconnect(); return; } } }, {rootMargin: \"1000px\"}); window.setTimeout(() => { observer.observe(root); }, 0); }); root.state.deferring = false; const _insertNode = (node) => { for (let oldScript of node.querySelectorAll(\"script\")) { let newScript = document.createElement(\"script\"); newScript.type = oldScript.type; newScript.textContent = oldScript.textContent; oldScript.parentNode.replaceChild(newScript, oldScript); } if (root.state.loadingMsg) { root.state.loadingMsg.remove(); root.state.loadingMsg = null; } root.shadowRoot.appendChild(node); }; root.defns.insertContent = ((contentNode, compressed) => { if (compressed) { root.state.deferring = true; } if (root.state.deferring) { root.state.chain = (async () => { await root.state.chain; if (compressed) { const encoded = contentNode.textContent; const blob = new Blob([ Uint8Array.from(atob(encoded), (m) => m.codePointAt(0)) ]); const reader = blob.stream().pipeThrough( new DecompressionStream(\"deflate\") ).pipeThrough( new TextDecoderStream(\"utf-8\") ).getReader(); const parts = []; while (true) { const step = await reader.read(); if (step.done) { break; } parts.push(step.value); } const tpl = document.createElement('template'); tpl.innerHTML = parts.join(\"\"); _insertNode(tpl.content); } else { _insertNode(contentNode.content); } })(); } else { _insertNode(contentNode.content); } }); </script></treescope-run-here><div style=\"display:none\"> <script type=\"application/octet-stream\" >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</script> <treescope-run-here><script type=\"application/octet-stream\"> const root = ( Array.from(document.getElementsByClassName( \"treescope_out_25e97e3361c04deb80d282d37cd07e3e\")) .filter((elt) => !elt.dataset['step0']) )[0]; root.dataset['step0'] = 1; root.defns.insertContent( this.parentNode.querySelector('script[type=\"application/octet-stream\"]'), true ); this.parentNode.remove(); </script></treescope-run-here> </div>"
      ],
      "text/plain": [
       "<IPython.core.display.HTML object>"
      ]
     },
     "metadata": {},
     "output_type": "display_data"
    },
    {
     "data": {
      "text/html": [
       "<div style=\"display:none\"> <script type=\"application/octet-stream\" >eNrtVslu2zAUvPcrCAUIpCZRZNmW5CUG2qQFcumhPfQQBAZFPtlsGFKl6DRGkX/voyyvdbZDLkV9sES9mbcMh5aHXNyRys4lnHlcVKWk8z5RWoFHBD/zCm3GHAowBvi4x2kvT1jRTZOok7ZxlQBPWbfIk14ri7k3GlYlVfjt8o1CpiXSaZ4buCO/Sb3sk4Mki2kUDchDA2D69haUHf+aghrDPWbgwPtKWz8stOQ0lzBWmkN/Sit/JGkOcrQdGVs9mUioOX02BXYDPAjI+2CjKq0/WHV4umiv7pUwSavKzbmRDudYVBkKVc4ssfMS1anz5vre28tpWsDgovxoeFqTt8tsKuLtC+3VYgdZxxAuaVm54KG0Axxqofwubp3jgDSgH/Q+/GAMnZMbmDtyYeaHEzvwg6fLTNZldi6NWk8U34oJfKYsGopNheQG1JNxb1Q36/vBMeH1Vmy3HRB9BwZ9K9Sk/+4qItH1I21uX9D4o+Er3N9KujSL0zhinHfSJM6yIuNRXLRpnPXiTnft/kc33HW9Ut+PlvPMhLLtONgn8GubLLI0T1s8KSDinbyALGJZG7tOWJrwJIa9Tf43/79j/tYbmR9aLO3EPO0VSQeyDi2StMtymiS8yFot/nbmtwagYrqEEzNTJ1Mw7pebGVEurUnLUgpGrdDqVDML9qRCDr31RkyrClHUTMBe8oqckSvv5S+zY+K9/Oxvgp89g1uZnxP2erAYg2tmtLY4hJ2KKsSRvuLyC54+PxiQZlTUqgE18PDnDMz8G0hgVhvfC1dyjl3YW1ELQyfu8C2oM3cbMpTRwkWz/Nwg/i53LtE0SFzmCHFLQPFzZ2B/CQqZQ9X9WjODALOgw4gvwRKBZPxDIMhwvVuhBDWxU3x6dOTe4w63CG5WwuUnCe724/wSiy3ZV+IaCzhOpWeGwQVa/VFRDpzVPXJEduiLZWgAjwaD78JO/VW2sBCmWtauJ0XCOmrgFg+mk+phJdNWoi3tAmf92tPo+j2G/wNjR1ox</script> <treescope-run-here><script type=\"application/octet-stream\"> const root = ( Array.from(document.getElementsByClassName( \"treescope_out_25e97e3361c04deb80d282d37cd07e3e\")) .filter((elt) => !elt.dataset['step1']) )[0]; root.dataset['step1'] = 1; root.defns.insertContent( this.parentNode.querySelector('script[type=\"application/octet-stream\"]'), true ); this.parentNode.remove(); </script></treescope-run-here> </div>"
      ],
      "text/plain": [
       "<IPython.core.display.HTML object>"
      ]
     },
     "metadata": {},
     "output_type": "display_data"
    }
   ],
   "source": [
    "rngs = nnx.Rngs(params=0, dropout=random.key(1))\n",
    "nnx.display(rngs)"
   ]
  },
  {
   "cell_type": "markdown",
   "id": "b2c2ac86",
   "metadata": {},
   "source": [
    "Notice that the `key` and `count` `nnx.Variable`s contain the PRNG key stream name in a `tag` attribute. This is primarily used for filtering as we'll see later.\n",
    "\n",
    "To generate new keys, you can access one of the streams and use its `__call__` method with no arguments. This will return a new key by using `random.fold_in` with the current `key` and `count`. The `count` is then incremented so that subsequent calls will return new keys."
   ]
  },
  {
   "cell_type": "code",
   "execution_count": 3,
   "metadata": {},
   "outputs": [
    {
     "data": {
      "text/html": [
       "<script> (()=>{ if (customElements.get('treescope-container') === undefined) { class TreescopeContainer extends HTMLElement { constructor() { super(); this.attachShadow({mode: \"open\"}); this.defns = {}; this.state = {}; } } customElements.define(\"treescope-container\", TreescopeContainer); } if (customElements.get('treescope-run-here') === undefined) { class RunHere extends HTMLElement { constructor() { super() } connectedCallback() { const run = child => { const fn = new Function(child.textContent); child.textContent = \"\"; fn.call(this); this.remove(); }; const child = this.querySelector(\"script\"); if (child) { run(child); } else { new MutationObserver(()=>{ run(this.querySelector(\"script\")); }).observe(this, {childList: true}); } } } customElements.define(\"treescope-run-here\", RunHere); } })(); </script> <treescope-container class=\"treescope_out_67042c3f6f5349d086945034d08b4567\" ></treescope-container> <treescope-run-here><script type=\"application/octet-stream\"> const root = ( Array.from(document.getElementsByClassName( \"treescope_out_67042c3f6f5349d086945034d08b4567\")) .filter((elt) => !elt.dataset.setup) )[0]; root.dataset.setup = 1; const msg = document.createElement(\"span\"); msg.style = \"color: #cccccc; font-family: monospace;\"; msg.textContent = \"(Loading...)\"; root.state.loadingMsg = msg; root.shadowRoot.appendChild(msg); root.state.chain = new Promise((resolve, reject) => { const observer = new IntersectionObserver((entries) => { for (const entry of entries) { if (entry.isIntersecting) { resolve(); observer.disconnect(); return; } } }, {rootMargin: \"1000px\"}); window.setTimeout(() => { observer.observe(root); }, 0); }); root.state.deferring = false; const _insertNode = (node) => { for (let oldScript of node.querySelectorAll(\"script\")) { let newScript = document.createElement(\"script\"); newScript.type = oldScript.type; newScript.textContent = oldScript.textContent; oldScript.parentNode.replaceChild(newScript, oldScript); } if (root.state.loadingMsg) { root.state.loadingMsg.remove(); root.state.loadingMsg = null; } root.shadowRoot.appendChild(node); }; root.defns.insertContent = ((contentNode, compressed) => { if (compressed) { root.state.deferring = true; } if (root.state.deferring) { root.state.chain = (async () => { await root.state.chain; if (compressed) { const encoded = contentNode.textContent; const blob = new Blob([ Uint8Array.from(atob(encoded), (m) => m.codePointAt(0)) ]); const reader = blob.stream().pipeThrough( new DecompressionStream(\"deflate\") ).pipeThrough( new TextDecoderStream(\"utf-8\") ).getReader(); const parts = []; while (true) { const step = await reader.read(); if (step.done) { break; } parts.push(step.value); } const tpl = document.createElement('template'); tpl.innerHTML = parts.join(\"\"); _insertNode(tpl.content); } else { _insertNode(contentNode.content); } })(); } else { _insertNode(contentNode.content); } }); </script></treescope-run-here><div style=\"display:none\"> <script type=\"application/octet-stream\" >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</script> <treescope-run-here><script type=\"application/octet-stream\"> const root = ( Array.from(document.getElementsByClassName( \"treescope_out_67042c3f6f5349d086945034d08b4567\")) .filter((elt) => !elt.dataset['step0']) )[0]; root.dataset['step0'] = 1; root.defns.insertContent( this.parentNode.querySelector('script[type=\"application/octet-stream\"]'), true ); this.parentNode.remove(); </script></treescope-run-here> </div>"
      ],
      "text/plain": [
       "<IPython.core.display.HTML object>"
      ]
     },
     "metadata": {},
     "output_type": "display_data"
    },
    {
     "data": {
      "text/html": [
       "<div style=\"display:none\"> <script type=\"application/octet-stream\" >eNrtVslu2zAUvPcrCAUIpCZRqFiOvMVAm7RALj20hx6CwKDIJ5sNQ6oUncYo8u99lOW1znbIpagPlqg385bh0PJAyDtSuZmCs0DIqlRs1iPaaAiIFGdBYexIQAHWghjxnHeSTodnWdFO89OEZUxAl7aTHO/SVhYMB1XJNH77fMOYG4V0lucW7shvUi97ZO+0c8Io7ZOHBsDN7S1oN/o1AT2Ce8wgQPS0cWFcGCVYrmCkjYDehFXhULEc1HAzMnJmPFZQc3p8AvwGRBSR99FaVVZ/sOrgeN5e3SvhilWVn3MtHc4xrzKQupw64mYlqlPnzc19sJPTtIDBefnh4Lgmb5ZZVyTYFdqpxRayjiFcsbLywX3l+jjUXPlt3CrHHmlAP9h9/MFaNiM3MPPkws72x64fRk+XGa/KbF0atZ4ovhGT+Ew7b6iJVMKCfjIeDOtmwzA6JKLeis22I2LuwKJvpR733l1RQq8faXPzgsYfDl7h/nbWojlPOO0WeUo7jBXiNONZnjNx0i66rZX7H91w3/VS/TBZzDOV2rVOol0Cv7ZJTjtphxZJNy1E2uG8K/C0pi3IeZum3Tbd2eR/8/875k/exvws45yfZjSnLZqm7ZQlSZfl7VZKoSso5W9nfmcBKm5KOLJTfTQB63+5uZXlwpqsLJXkzEmjjw134I4q5LDbYMiNrhDF7BjcpajIGbkKXv4yOyTBy8/+OvjZM7gOflbY6/58DGG4NcbhEG4iqxhH+orLL3j6wqhPmlFRqwbUwOOfU7Czb6CAO2PDIF7KOfLhYEktLBv7wzenTv1tzFFGBxfN8nOD+LvcuULTIHGRI8YtAS3OvYHDBSjmHlX36+wUIsyCDiOhAkckkvEPgSSD1W7FCvTYTfDpwYF/j3vcPLheCZefFPjbj7NLLLZgX8lrLOA5lZlaDhdo9UdF2fNWD8gB2aLPl7EFPBocvks3CZfZ4kLaalG7nhQJq6iFWzyYXqqHpUwbiTa0i7z1a0+j63cY/g8jiVqd</script> <treescope-run-here><script type=\"application/octet-stream\"> const root = ( Array.from(document.getElementsByClassName( \"treescope_out_67042c3f6f5349d086945034d08b4567\")) .filter((elt) => !elt.dataset['step1']) )[0]; root.dataset['step1'] = 1; root.defns.insertContent( this.parentNode.querySelector('script[type=\"application/octet-stream\"]'), true ); this.parentNode.remove(); </script></treescope-run-here> </div>"
      ],
      "text/plain": [
       "<IPython.core.display.HTML object>"
      ]
     },
     "metadata": {},
     "output_type": "display_data"
    }
   ],
   "source": [
    "params_key = rngs.params()\n",
    "dropout_key = rngs.dropout()\n",
    "\n",
    "nnx.display(rngs)"
   ]
  },
  {
   "cell_type": "markdown",
   "metadata": {},
   "source": [
    "Note that the `key` attribute does not change when new PRNG keys are generated.\n",
    "\n",
    "### Standard PRNG key stream names\n",
    "\n",
    "There are only two standard PRNG key stream names used by Flax NNX's built-in layers, shown in the table below:\n",
    "\n",
    "| PRNG key stream name | Description                                   |\n",
    "|----------------------|-----------------------------------------------|\n",
    "| `params`             | Used for parameter initialization             |\n",
    "| `dropout`            | Used by `nnx.Dropout` to create dropout masks |\n",
    "\n",
    "- `params` is used by most of the standard layers (such as `nnx.Linear`, `nnx.Conv`, `nnx.MultiHeadAttention`, and so on) during the construction to initialize their parameters.\n",
    "- `dropout` is used by `nnx.Dropout` and `nnx.MultiHeadAttention` to generate dropout masks.\n",
    "\n",
    "Below is a simple example of a model that uses `params` and `dropout` PRNG key streams:"
   ]
  },
  {
   "cell_type": "code",
   "execution_count": 4,
   "metadata": {},
   "outputs": [
    {
     "name": "stdout",
     "output_type": "stream",
     "text": [
      "y.shape = (1, 10)\n"
     ]
    }
   ],
   "source": [
    "class Model(nnx.Module):\n",
    "  def __init__(self, rngs: nnx.Rngs):\n",
    "    self.linear = nnx.Linear(20, 10, rngs=rngs)\n",
    "    self.drop = nnx.Dropout(0.1, rngs=rngs)\n",
    "\n",
    "  def __call__(self, x):\n",
    "    return nnx.relu(self.drop(self.linear(x)))\n",
    "\n",
    "model = Model(nnx.Rngs(params=0, dropout=1))\n",
    "\n",
    "y = model(x=jnp.ones((1, 20)))\n",
    "print(f'{y.shape = }')"
   ]
  },
  {
   "cell_type": "markdown",
   "metadata": {},
   "source": [
    "### Default PRNG key stream\n",
    "\n",
    "One of the downsides of having named streams is that the user needs to know all the possible names that a model will use when creating the `nnx.Rngs` object. While this could be solved with some documentation, Flax NNX provides a `default` stream that can be\n",
    "be used as a fallback when a stream is not found. To use the default PRNG key stream, you can simply pass an integer seed or `jax.random.key` as the first positional argument."
   ]
  },
  {
   "cell_type": "code",
   "execution_count": 5,
   "metadata": {},
   "outputs": [
    {
     "data": {
      "text/html": [
       "<script> (()=>{ if (customElements.get('treescope-container') === undefined) { class TreescopeContainer extends HTMLElement { constructor() { super(); this.attachShadow({mode: \"open\"}); this.defns = {}; this.state = {}; } } customElements.define(\"treescope-container\", TreescopeContainer); } if (customElements.get('treescope-run-here') === undefined) { class RunHere extends HTMLElement { constructor() { super() } connectedCallback() { const run = child => { const fn = new Function(child.textContent); child.textContent = \"\"; fn.call(this); this.remove(); }; const child = this.querySelector(\"script\"); if (child) { run(child); } else { new MutationObserver(()=>{ run(this.querySelector(\"script\")); }).observe(this, {childList: true}); } } } customElements.define(\"treescope-run-here\", RunHere); } })(); </script> <treescope-container class=\"treescope_out_6aa75eeeb1994cef9ddfbe50d83f92b2\" ></treescope-container> <treescope-run-here><script type=\"application/octet-stream\"> const root = ( Array.from(document.getElementsByClassName( \"treescope_out_6aa75eeeb1994cef9ddfbe50d83f92b2\")) .filter((elt) => !elt.dataset.setup) )[0]; root.dataset.setup = 1; const msg = document.createElement(\"span\"); msg.style = \"color: #cccccc; font-family: monospace;\"; msg.textContent = \"(Loading...)\"; root.state.loadingMsg = msg; root.shadowRoot.appendChild(msg); root.state.chain = new Promise((resolve, reject) => { const observer = new IntersectionObserver((entries) => { for (const entry of entries) { if (entry.isIntersecting) { resolve(); observer.disconnect(); return; } } }, {rootMargin: \"1000px\"}); window.setTimeout(() => { observer.observe(root); }, 0); }); root.state.deferring = false; const _insertNode = (node) => { for (let oldScript of node.querySelectorAll(\"script\")) { let newScript = document.createElement(\"script\"); newScript.type = oldScript.type; newScript.textContent = oldScript.textContent; oldScript.parentNode.replaceChild(newScript, oldScript); } if (root.state.loadingMsg) { root.state.loadingMsg.remove(); root.state.loadingMsg = null; } root.shadowRoot.appendChild(node); }; root.defns.insertContent = ((contentNode, compressed) => { if (compressed) { root.state.deferring = true; } if (root.state.deferring) { root.state.chain = (async () => { await root.state.chain; if (compressed) { const encoded = contentNode.textContent; const blob = new Blob([ Uint8Array.from(atob(encoded), (m) => m.codePointAt(0)) ]); const reader = blob.stream().pipeThrough( new DecompressionStream(\"deflate\") ).pipeThrough( new TextDecoderStream(\"utf-8\") ).getReader(); const parts = []; while (true) { const step = await reader.read(); if (step.done) { break; } parts.push(step.value); } const tpl = document.createElement('template'); tpl.innerHTML = parts.join(\"\"); _insertNode(tpl.content); } else { _insertNode(contentNode.content); } })(); } else { _insertNode(contentNode.content); } }); </script></treescope-run-here><div style=\"display:none\"> <script type=\"application/octet-stream\" >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</script> <treescope-run-here><script type=\"application/octet-stream\"> const root = ( Array.from(document.getElementsByClassName( \"treescope_out_6aa75eeeb1994cef9ddfbe50d83f92b2\")) .filter((elt) => !elt.dataset['step0']) )[0]; root.dataset['step0'] = 1; root.defns.insertContent( this.parentNode.querySelector('script[type=\"application/octet-stream\"]'), true ); this.parentNode.remove(); </script></treescope-run-here> </div>"
      ],
      "text/plain": [
       "<IPython.core.display.HTML object>"
      ]
     },
     "metadata": {},
     "output_type": "display_data"
    },
    {
     "data": {
      "text/html": [
       "<div style=\"display:none\"> <script type=\"application/octet-stream\" >eNrtVslu2zAUvPcrCAUIpCZR5EWWYjsG2qQFcumhPfQQBAZFPtpsGFKl6DRGkX/voyxvqbMdcinqgyXqzbxlOLQ85PKWVG6u4DTgsioVnfeJNhoCIvlpIIwdcxBgLfBxyhLOig7NRZ53uUiLhIpW3i5Yt5NA2suC0bAqqcZvn28UM6OQTovCwi35Tepln+z18jZNkgG5bwDM3NyAduNfU9BjuMMMHHhfGxfGwihOCwVjbTj0p7QKR4oWoEbbkbEzk4mCmtNnU2DXwKOIvI82qtL6g1WHx4v26l4JU7Sq/Jwb6XCORZWh1OXMETcvUZ06b2Hugp2cpgUMLsqPhsc1ebvMpiLBrtBOLR4g6xjCFS0rH9xXboBDLZR/iFvn2CMN6Ae9iz9YS+fkGuaeLOx8f+IGYfR0mcm6zINLo9YTxbdiEp9ph4ZiU6m4Bf1kPBjVzYZhdEh4vRXbbUfE3IJF30o96b+7TEjr6pE2ty9o/NHwFe5PuqKVJb0sK3jazVnnpJ2mSeskL7qtVtpOYe3+Rzfcd71SP+ws55lJ7TrtaJfAr22St4HlBeuIpNfq0jTNOXbay0AkrIf2z3Y2+d/8/475k7cxv2DdhCedtMUZ7faypMhYJjJ2wkQ7FyCKtzO/swAVMyUc2Zk+moL1v9zMynJpTVqWSjLqpNHHhjlwRxVy6E0wYkZXiKJ2Au6CV+SUXAYvf5kdkuDlZ38T/OwZ3AQ/K+zVYDEGN8wa43AIN5VVjCN9xeUXPH1hNCDNqKhVA2rg8c8Z2Pk3UMCcsWEQr+Qc+3CwogpLJ/7wLagzfxszlNHBebP83CD+Lnem0DRIXOaIcUtA8zNv4HAJiplH1f06O4MIs6DDSKjAEYlk/EMgyXC9W7ECPXFTfHpw4N/jHrcIblbC5ScF/vbj/AKLLdmX8goLeE5lZpbBOVr9UVH2vNUDckAe0BfL2AIeDQbfpZuGq2yxkLZa1q4nRcI6auEGD6aX6n4l01aiLe0ib/3a0+j6HYb/A/UoWys=</script> <treescope-run-here><script type=\"application/octet-stream\"> const root = ( Array.from(document.getElementsByClassName( \"treescope_out_6aa75eeeb1994cef9ddfbe50d83f92b2\")) .filter((elt) => !elt.dataset['step1']) )[0]; root.dataset['step1'] = 1; root.defns.insertContent( this.parentNode.querySelector('script[type=\"application/octet-stream\"]'), true ); this.parentNode.remove(); </script></treescope-run-here> </div>"
      ],
      "text/plain": [
       "<IPython.core.display.HTML object>"
      ]
     },
     "metadata": {},
     "output_type": "display_data"
    }
   ],
   "source": [
    "rngs = nnx.Rngs(0, params=1)\n",
    "\n",
    "key1 = rngs.params() # Call params.\n",
    "key2 = rngs.dropout() # Fallback to the default stream.\n",
    "key3 = rngs() # Call the default stream directly.\n",
    "\n",
    "# Test with the `Model` that uses `params` and `dropout`.\n",
    "model = Model(rngs)\n",
    "y = model(jnp.ones((1, 20)))\n",
    "\n",
    "nnx.display(rngs)"
   ]
  },
  {
   "cell_type": "markdown",
   "id": "e81510e3",
   "metadata": {},
   "source": [
    "As shown above, a PRNG key from the `default` stream can also be generated by calling the `nnx.Rngs` object itself.\n",
    "\n",
    "> **Note**\n",
    "> <br> For large projects it is recommended to use named streams to avoid potential conflicts. For small projects or quick prototyping just using the `default` stream is a good choice."
   ]
  },
  {
   "cell_type": "markdown",
   "id": "57c6c93b",
   "metadata": {},
   "source": [
    "## Filtering random state\n",
    "\n",
    "Random state can be manipulated using [Filters](https://flax.readthedocs.io/en/latest/guides/filters_guide.html) just like any other type of state. It can be filtered using types (`nnx.RngState`, `nnx.RngKey`, `nnx.RngCount`) or using strings corresponding to the stream names (refer to [the Flax NNX `Filter` DSL](https://flax.readthedocs.io/en/latest/guides/filters_guide.html#the-filter-dsl)). Here's an example using `nnx.state` with various filters to select different substates of the `Rngs` inside a `Model`:"
   ]
  },
  {
   "cell_type": "code",
   "execution_count": 6,
   "id": "094f8267",
   "metadata": {},
   "outputs": [
    {
     "data": {
      "text/html": [
       "<script> (()=>{ if (customElements.get('treescope-container') === undefined) { class TreescopeContainer extends HTMLElement { constructor() { super(); this.attachShadow({mode: \"open\"}); this.defns = {}; this.state = {}; } } customElements.define(\"treescope-container\", TreescopeContainer); } if (customElements.get('treescope-run-here') === undefined) { class RunHere extends HTMLElement { constructor() { super() } connectedCallback() { const run = child => { const fn = new Function(child.textContent); child.textContent = \"\"; fn.call(this); this.remove(); }; const child = this.querySelector(\"script\"); if (child) { run(child); } else { new MutationObserver(()=>{ run(this.querySelector(\"script\")); }).observe(this, {childList: true}); } } } customElements.define(\"treescope-run-here\", RunHere); } })(); </script> <treescope-container class=\"treescope_out_5754eecbc9054aaf81b39afce2d0a17f\" ></treescope-container> <treescope-run-here><script type=\"application/octet-stream\"> const root = ( Array.from(document.getElementsByClassName( \"treescope_out_5754eecbc9054aaf81b39afce2d0a17f\")) .filter((elt) => !elt.dataset.setup) )[0]; root.dataset.setup = 1; const msg = document.createElement(\"span\"); msg.style = \"color: #cccccc; font-family: monospace;\"; msg.textContent = \"(Loading...)\"; root.state.loadingMsg = msg; root.shadowRoot.appendChild(msg); root.state.chain = new Promise((resolve, reject) => { const observer = new IntersectionObserver((entries) => { for (const entry of entries) { if (entry.isIntersecting) { resolve(); observer.disconnect(); return; } } }, {rootMargin: \"1000px\"}); window.setTimeout(() => { observer.observe(root); }, 0); }); root.state.deferring = false; const _insertNode = (node) => { for (let oldScript of node.querySelectorAll(\"script\")) { let newScript = document.createElement(\"script\"); newScript.type = oldScript.type; newScript.textContent = oldScript.textContent; oldScript.parentNode.replaceChild(newScript, oldScript); } if (root.state.loadingMsg) { root.state.loadingMsg.remove(); root.state.loadingMsg = null; } root.shadowRoot.appendChild(node); }; root.defns.insertContent = ((contentNode, compressed) => { if (compressed) { root.state.deferring = true; } if (root.state.deferring) { root.state.chain = (async () => { await root.state.chain; if (compressed) { const encoded = contentNode.textContent; const blob = new Blob([ Uint8Array.from(atob(encoded), (m) => m.codePointAt(0)) ]); const reader = blob.stream().pipeThrough( new DecompressionStream(\"deflate\") ).pipeThrough( new TextDecoderStream(\"utf-8\") ).getReader(); const parts = []; while (true) { const step = await reader.read(); if (step.done) { break; } parts.push(step.value); } const tpl = document.createElement('template'); tpl.innerHTML = parts.join(\"\"); _insertNode(tpl.content); } else { _insertNode(contentNode.content); } })(); } else { _insertNode(contentNode.content); } }); </script></treescope-run-here><div style=\"display:none\"> <script type=\"application/octet-stream\" >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</script> <treescope-run-here><script type=\"application/octet-stream\"> const root = ( Array.from(document.getElementsByClassName( \"treescope_out_5754eecbc9054aaf81b39afce2d0a17f\")) .filter((elt) => !elt.dataset['step0']) )[0]; root.dataset['step0'] = 1; root.defns.insertContent( this.parentNode.querySelector('script[type=\"application/octet-stream\"]'), true ); this.parentNode.remove(); </script></treescope-run-here> </div>"
      ],
      "text/plain": [
       "<IPython.core.display.HTML object>"
      ]
     },
     "metadata": {},
     "output_type": "display_data"
    },
    {
     "data": {
      "text/html": [
       "<div style=\"display:none\"> <script type=\"application/octet-stream\" >eNqNVNFu2jAUfd9XWKlUJWIEJrUFSkDa2k3qyx62hz0gFDn2JfFq7Mx2GFG1f991CLBQivYSx77n3HN9feyEiw2xrpYwC7iwpaT1PVFaQUAEnwUrbVIOKzAGeMrGDOjdaDi+/TC8yfjNZALD0YjCbZax0WR8F8wTW1K1+xImqbU+g+Q0k5AqzQERkmYg54lQZeWIq0vUZQWw50xvg7Oc1Ok8l1hPAwM+TwYNuSvDtMRSaZYZ2ATnQkyv16Bc+rsAlcIW4xz4CbKJIVzS0vrgtXTTZPB6Tyc5rkgL+km38UdjaE2eofbklamvczcNo8sy+VHmZGi7dUG8ExO4ppw/qkJIbkBdjAfzptgwjN4T3hxFt+yI6A0YdIRQ+f27xZAMl2+U2R3QUvPEGQDLdAl9U6l+AQawFGZEuT91WpZSMOqEVgPNHLi+RQ5dB3OmlUUUNTm4J27JjCyC/zfhcrrjc82M1g7ZrhA2xlzfcPoVHRVGU9JqYJEtqIXHvyow9XeQwJw2YRAf9pH6cHCgrgzNvaF21Mr/xgzrd/DYTr+0iNdyDxIvGBL3OWLsBSj+4A8l3INi5lFNvc5UEGEWvI0klOCIQPJwikNybFMsQeWuwNVeLyIvxON2wX+VcPpZgv/9VD+h2J69EEsU8ByrK8PgEZ+FN5ty5Z+FgPTICX03jQ3gM8Lgh3BFeMgWr4Sxe+1mp0g4Rg2s0Wy+VX8Obeok6vQu8velMRPa7YzT/gKU0rd+</script> <treescope-run-here><script type=\"application/octet-stream\"> const root = ( Array.from(document.getElementsByClassName( \"treescope_out_5754eecbc9054aaf81b39afce2d0a17f\")) .filter((elt) => !elt.dataset['step1']) )[0]; root.dataset['step1'] = 1; root.defns.insertContent( this.parentNode.querySelector('script[type=\"application/octet-stream\"]'), true ); this.parentNode.remove(); </script></treescope-run-here> </div>"
      ],
      "text/plain": [
       "<IPython.core.display.HTML object>"
      ]
     },
     "metadata": {},
     "output_type": "display_data"
    }
   ],
   "source": [
    "model = Model(nnx.Rngs(params=0, dropout=1))\n",
    "\n",
    "rng_state = nnx.state(model, nnx.RngState) # All random states.\n",
    "key_state = nnx.state(model, nnx.RngKey) # Only PRNG keys.\n",
    "count_state = nnx.state(model, nnx.RngCount) # Only counts.\n",
    "rng_params_state = nnx.state(model, 'params') # Only `params`.\n",
    "rng_dropout_state = nnx.state(model, 'dropout') # Only `dropout`.\n",
    "params_key_state = nnx.state(model, nnx.All('params', nnx.RngKey)) # `Params` PRNG keys.\n",
    "\n",
    "nnx.display(params_key_state)"
   ]
  },
  {
   "cell_type": "markdown",
   "metadata": {},
   "source": [
    "## Reseeding\n",
    "\n",
    "In Haiku and Flax Linen, random states are explicitly passed to `Module.apply` each time before you call the model. This makes it easy to control the randomness of the model when needed (for example, for reproducibility).\n",
    "\n",
    "In Flax NNX, there are two ways to approach this:\n",
    "\n",
    "1. By passing an `nnx.Rngs` object through the `__call__` stack manually. Standard layers like `nnx.Dropout` and `nnx.MultiHeadAttention` accept the `rngs` argument if you want to have tight control over the random state.\n",
    "2. By using `nnx.reseed` to set the random state of the model to a specific configuration. This option is less intrusive and can be used even if the model is not designed to enable manual control over the random state.\n",
    "\n",
    "`nnx.reseed` is a function that accepts an arbitrary graph node (this includes [pytrees](https://jax.readthedocs.io/en/latest/working-with-pytrees.html#working-with-pytrees) of `nnx.Module`s) and some keyword arguments containing the new seed or key value for the `nnx.RngStream`s specified by the argument names. `nnx.reseed` will then traverse the graph and update the random state of the matching `nnx.RngStream`s, this includes both setting the `key` to a possibly new value and resetting the `count` to zero.\n",
    "\n",
    "Here's an example of how to use `nnx.reseed` to reset the random state of the `nnx.Dropout` layer and verify that the computation is identical to the first time the model was called:"
   ]
  },
  {
   "cell_type": "code",
   "execution_count": 7,
   "metadata": {},
   "outputs": [],
   "source": [
    "model = Model(nnx.Rngs(params=0, dropout=1))\n",
    "x = jnp.ones((1, 20))\n",
    "\n",
    "y1 = model(x)\n",
    "y2 = model(x)\n",
    "\n",
    "nnx.reseed(model, dropout=1) # reset dropout RngState\n",
    "y3 = model(x)\n",
    "\n",
    "assert not jnp.allclose(y1, y2) # different\n",
    "assert jnp.allclose(y1, y3)     # same"
   ]
  },
  {
   "cell_type": "markdown",
   "metadata": {},
   "source": [
    "## Splitting PRNG keys\n",
    "\n",
    "When interacting with [Flax NNX transforms](https://flax.readthedocs.io/en/latest/guides/transforms.html) like `nnx.vmap` or `nnx.pmap`, it is often necessary to split the random state such that each replica has its own unique state. This can be done in two ways:\n",
    "\n",
    "- By manually splitting a key before passing it to one of the `nnx.Rngs` streams; or\n",
    "- By using the `nnx.split_rngs` decorator which will automatically split the random state of any `nnx.RngStream`s found in the inputs of the function, and automatically \"lower\" them once the function call ends.\n",
    "\n",
    "It is more convenient to use `nnx.split_rngs`, since it works nicely with Flax NNX transforms, so here’s one example:"
   ]
  },
  {
   "cell_type": "code",
   "execution_count": 8,
   "metadata": {},
   "outputs": [
    {
     "name": "stdout",
     "output_type": "stream",
     "text": [
      "Inside:\n"
     ]
    },
    {
     "data": {
      "text/html": [
       "<script> (()=>{ if (customElements.get('treescope-container') === undefined) { class TreescopeContainer extends HTMLElement { constructor() { super(); this.attachShadow({mode: \"open\"}); this.defns = {}; this.state = {}; } } customElements.define(\"treescope-container\", TreescopeContainer); } if (customElements.get('treescope-run-here') === undefined) { class RunHere extends HTMLElement { constructor() { super() } connectedCallback() { const run = child => { const fn = new Function(child.textContent); child.textContent = \"\"; fn.call(this); this.remove(); }; const child = this.querySelector(\"script\"); if (child) { run(child); } else { new MutationObserver(()=>{ run(this.querySelector(\"script\")); }).observe(this, {childList: true}); } } } customElements.define(\"treescope-run-here\", RunHere); } })(); </script> <treescope-container class=\"treescope_out_7d3d2dea7c734634ac6b56df2866284e\" ></treescope-container> <treescope-run-here><script type=\"application/octet-stream\"> const root = ( Array.from(document.getElementsByClassName( \"treescope_out_7d3d2dea7c734634ac6b56df2866284e\")) .filter((elt) => !elt.dataset.setup) )[0]; root.dataset.setup = 1; const msg = document.createElement(\"span\"); msg.style = \"color: #cccccc; font-family: monospace;\"; msg.textContent = \"(Loading...)\"; root.state.loadingMsg = msg; root.shadowRoot.appendChild(msg); root.state.chain = new Promise((resolve, reject) => { const observer = new IntersectionObserver((entries) => { for (const entry of entries) { if (entry.isIntersecting) { resolve(); observer.disconnect(); return; } } }, {rootMargin: \"1000px\"}); window.setTimeout(() => { observer.observe(root); }, 0); }); root.state.deferring = false; const _insertNode = (node) => { for (let oldScript of node.querySelectorAll(\"script\")) { let newScript = document.createElement(\"script\"); newScript.type = oldScript.type; newScript.textContent = oldScript.textContent; oldScript.parentNode.replaceChild(newScript, oldScript); } if (root.state.loadingMsg) { root.state.loadingMsg.remove(); root.state.loadingMsg = null; } root.shadowRoot.appendChild(node); }; root.defns.insertContent = ((contentNode, compressed) => { if (compressed) { root.state.deferring = true; } if (root.state.deferring) { root.state.chain = (async () => { await root.state.chain; if (compressed) { const encoded = contentNode.textContent; const blob = new Blob([ Uint8Array.from(atob(encoded), (m) => m.codePointAt(0)) ]); const reader = blob.stream().pipeThrough( new DecompressionStream(\"deflate\") ).pipeThrough( new TextDecoderStream(\"utf-8\") ).getReader(); const parts = []; while (true) { const step = await reader.read(); if (step.done) { break; } parts.push(step.value); } const tpl = document.createElement('template'); tpl.innerHTML = parts.join(\"\"); _insertNode(tpl.content); } else { _insertNode(contentNode.content); } })(); } else { _insertNode(contentNode.content); } }); </script></treescope-run-here><div style=\"display:none\"> <script type=\"application/octet-stream\" >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</script> <treescope-run-here><script type=\"application/octet-stream\"> const root = ( Array.from(document.getElementsByClassName( \"treescope_out_7d3d2dea7c734634ac6b56df2866284e\")) .filter((elt) => !elt.dataset['step0']) )[0]; root.dataset['step0'] = 1; root.defns.insertContent( this.parentNode.querySelector('script[type=\"application/octet-stream\"]'), true ); this.parentNode.remove(); </script></treescope-run-here> </div>"
      ],
      "text/plain": [
       "<IPython.core.display.HTML object>"
      ]
     },
     "metadata": {},
     "output_type": "display_data"
    },
    {
     "data": {
      "text/html": [
       "<div style=\"display:none\"> <script type=\"application/octet-stream\" >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</script> <treescope-run-here><script type=\"application/octet-stream\"> const root = ( Array.from(document.getElementsByClassName( \"treescope_out_7d3d2dea7c734634ac6b56df2866284e\")) .filter((elt) => !elt.dataset['step1']) )[0]; root.dataset['step1'] = 1; root.defns.insertContent( this.parentNode.querySelector('script[type=\"application/octet-stream\"]'), true ); this.parentNode.remove(); </script></treescope-run-here> </div>"
      ],
      "text/plain": [
       "<IPython.core.display.HTML object>"
      ]
     },
     "metadata": {},
     "output_type": "display_data"
    },
    {
     "name": "stdout",
     "output_type": "stream",
     "text": [
      "Outside:\n"
     ]
    },
    {
     "data": {
      "text/html": [
       "<script> (()=>{ if (customElements.get('treescope-container') === undefined) { class TreescopeContainer extends HTMLElement { constructor() { super(); this.attachShadow({mode: \"open\"}); this.defns = {}; this.state = {}; } } customElements.define(\"treescope-container\", TreescopeContainer); } if (customElements.get('treescope-run-here') === undefined) { class RunHere extends HTMLElement { constructor() { super() } connectedCallback() { const run = child => { const fn = new Function(child.textContent); child.textContent = \"\"; fn.call(this); this.remove(); }; const child = this.querySelector(\"script\"); if (child) { run(child); } else { new MutationObserver(()=>{ run(this.querySelector(\"script\")); }).observe(this, {childList: true}); } } } customElements.define(\"treescope-run-here\", RunHere); } })(); </script> <treescope-container class=\"treescope_out_fae417af9b7e40d5baaf356506dd7e3d\" ></treescope-container> <treescope-run-here><script type=\"application/octet-stream\"> const root = ( Array.from(document.getElementsByClassName( \"treescope_out_fae417af9b7e40d5baaf356506dd7e3d\")) .filter((elt) => !elt.dataset.setup) )[0]; root.dataset.setup = 1; const msg = document.createElement(\"span\"); msg.style = \"color: #cccccc; font-family: monospace;\"; msg.textContent = \"(Loading...)\"; root.state.loadingMsg = msg; root.shadowRoot.appendChild(msg); root.state.chain = new Promise((resolve, reject) => { const observer = new IntersectionObserver((entries) => { for (const entry of entries) { if (entry.isIntersecting) { resolve(); observer.disconnect(); return; } } }, {rootMargin: \"1000px\"}); window.setTimeout(() => { observer.observe(root); }, 0); }); root.state.deferring = false; const _insertNode = (node) => { for (let oldScript of node.querySelectorAll(\"script\")) { let newScript = document.createElement(\"script\"); newScript.type = oldScript.type; newScript.textContent = oldScript.textContent; oldScript.parentNode.replaceChild(newScript, oldScript); } if (root.state.loadingMsg) { root.state.loadingMsg.remove(); root.state.loadingMsg = null; } root.shadowRoot.appendChild(node); }; root.defns.insertContent = ((contentNode, compressed) => { if (compressed) { root.state.deferring = true; } if (root.state.deferring) { root.state.chain = (async () => { await root.state.chain; if (compressed) { const encoded = contentNode.textContent; const blob = new Blob([ Uint8Array.from(atob(encoded), (m) => m.codePointAt(0)) ]); const reader = blob.stream().pipeThrough( new DecompressionStream(\"deflate\") ).pipeThrough( new TextDecoderStream(\"utf-8\") ).getReader(); const parts = []; while (true) { const step = await reader.read(); if (step.done) { break; } parts.push(step.value); } const tpl = document.createElement('template'); tpl.innerHTML = parts.join(\"\"); _insertNode(tpl.content); } else { _insertNode(contentNode.content); } })(); } else { _insertNode(contentNode.content); } }); </script></treescope-run-here><div style=\"display:none\"> <script type=\"application/octet-stream\" >eNrtWQtT20gS/isTpWqxDyz8BhtwnWz8ggABk0C43fKNpJE8WB6J0djGbPHfr0eS38Yht7Ahm0AVmJmefk53fz3s+2LkkJIqOCG+4XqkzV1XoD+R5/pUUJcVEScOFnRA9pDlMpGwcI86oyLqucz1PWzA+rBDBUkEfxSRx2HFob5IBKwTYuTBKnMZLOvY6Nrc7TMzYbiOy4vh0T0U/aU7QAD8qCk6RWRRAWRMECb2kIdNkzI74RBLFFHa6EghjCQ6hNodWEmpOcmGCUxB58mx6ENiQH2qU4cK0Bz3hTuhTVAmOGU+NRI+fSDhbqTu4/526J79iXsSvM9AJoc13+DUE0jad7CBPc+hBpYe23YNQaT1nODeRikWix+UwKEgzxfIJBbz0QESHeqrNhEX4O1T1ySxuNpxfaEG+2AaEajtESZN1gzJVR76zx+rdhqYmQ6BbdZ3nL1QggpqtlyXwWps6PJuHM3q4F7BktyaWxbUkIse4ZbLe5gZRGXuMBYP4gsCYks7KBEe2keZdBz4UAvFFrRWHcJs0UEHBygpSdaqzonocwZ+R8TxyVSxTp9JzRZZ+x1qCalfQCA/PML3ExJicKuY6Q5VTu76xBcao70gXDWOeyQW+iQueewtCfL6fid0494KG8ciDkIz1lj5fB2kFmEghWvbTpiV7SBz4LZ6kpdcIY7YQmQAFzyKpNQu+FvtkpF0usIVqVBErBoO9v0PkJwR35gy4dnuwTVUxsIf4+BPuP7BHS/tb69KAJMOUMDwQJkvHwoSWAdLyf2BklSQy0AZMJsB3bprv9rWmDwztlKBtAsLVlAx2r7MXTu4KUEBeY8zqVwKKsGjZEk4J2bbg6JCOq5jEj5LuCO/o5oW8CwiKjAksTxsATnWQRcGSj5RDR/RPFk7VB+oTeqD0NG46i0SohJysE6cYlEnkFBkRisj+NpbKS+sfImULH1RhUzuTWVRFtRD3XFlCX1SZscdEL4s2cS86xNsQxzZ8ukic0VsYamD/Vgp4Fla6YfgTNHoEKNLzHgc/Ss+1UEeXX1oTD+nYVDCi2jj93RONza+p3rzh55UMv83KCnjKAX3uS8D6LnQyAhfIZf6Lyc2SIVAUCJISP+pO/4yUqfmCXIvlqWo1G9blPui7bK2vP4rUmtdKqnpnMymlaFCf1n9MOKLKkqrepjbAD1CNYKEfvyL0qAeeiO9LwT0/FUFaLq96tIqSFmgAkcCnltN/DtJZU1lAQ5unGC4FRQ7qDXq6a7jo7O+kPaaqBKehN/eCBIjMSR6F6BdWHl7UOw7UMMBeDEBxyn2iTkBhO9JUn7vLV/z8HSA2JJqgfQWrQzzY4UVq8vd9KQ6xH7bgD4Ajp2cx5aY6x7jOr1O5sKZeZGzrkcDzGOJhIkFTmAGgQ0wQXx2WQqRQIdjNr7NAVuU8hEBjwGKTbh98W2mTDSAwFBivpvXJBCJ3tGe53KB2RJvnbtdwtpyZVqMvu7dmWMz/hyH+VGVsAEUM9sGgE6TExapOg/rgec84QtV15nUiRrpXKoa2DFiMHsA8E159wFWUn2B5fmJvq+mie5ygDCRJqYrwHapxazz7vrYYQAl2zCEWfQemMylyW6QJoCbscRFQ8wZJF57XNjHsbAsbKQyKwg9AJ5/TgYxHs1dsnpFToqWEkk1KKvTaa8YzGqYJ2yOTQphi6UyOZPYW8iFG20TlATt8kZnK7zhHoiFehEsocjLS6osFdYXc/xcyMfGPKrDTnBvHQd7UKK+DvO+vYY/LSEEd4GMgIjcQy6bT9K8hB6rRESGhgTTaWSVK+YnAnV+zEBrOCyayuYGn9WEzxH2JJ8XnPXl+IXeaZzjkWpxtwcjndHvyXFM5qGvDrADc18sHld9Fwa+IDvl4CZ/q2EnlUPbM3upsoHiKD4Zk/0OIULO0mSIKq1WS1rTkmtyMg42Ye4MhqHWiBmx//476t8GGdeJb+/ls9MTk28DTrQ2jJ5lskkoTD43iqjPnZhsLEW5vz10LSu9p0Pryme3zGShfmJrZS34ap5rmht8Kl8M4WejpmlVbd1Xuadpdtc9NpvVcmX4RdMuv1SOtJNmuaLV7Ptm40NH+OUTSuxM7fA6/aGZ/zJoeX368SR3mTq6bl58PhlcnTyIj6NarbJ5ZXcvafkw2aGH5/2jqlm/TTb0bWvQNL2743zn7orS8/4Jq3ca1iehfcqXT3lWqzVZt5o3PvX7bPMid2f43eHAqjnbd/d21d219aNhfTfV0LaZdpH7wPlR6mLTfkhemEntyErZpzuVYf02bSfdUf9iZ6dXTeWHjevCmW175LI7ypKm/pAzdH5WF1izz5unw0Psj/zzfrN5fVWtDbWP517zi/lpe3vT3rncuc6IpHX88U4b5IDnB+10RzsZaj374aK12b9pker1fdrKGw+n2YvGKNcva8cP5Vuv5mVo47xSTd70P2ZbO8wqf6g2aic9jW7uDqrpDkt1djb1z8Pr22GDDw7rnyrs1qpWbbF5Ztw4zk6uUDkalnc7hezJSb2Vqd9odq+Zuy2fF8RlnTQK1XK5Wc8c2tmL7S/GSNfqENPPx9vaeR1r5KTiaI2H6pl9I+x8+aN9dtY8LHfpeY7UyteVcs2gSa/DXY/B3fBuqoeph1S3ZVUs0Rkds4aJa37DSp726tXTfNnU7j5/9rDwWzc908S0kLYeCtlP9PYu7/V4/sz9UmlRXu8NjuqZ1lUrU6umjfK5dbnZcFyvnq35wxy27/K79Ia0Th3vipUbTWKecNK/uqtXeqmrGu+2Wve5dP7qyh9qoFEcBe9iIrYRXOsN2bL+Cz8m2Y9N14N2PU3J4DVPVdU1FFthzv4BvNa/mnSC56UAUYVgD3jD9WAGioWYa/7xD1Lw0pXpC2QRJpNrPpQHyUKCTInM8BBTgRgeUBsLl6vA2dNdzE11yKkglzCPxaa8wNiI1/SFCXBCTJlBoPJtCaRc0h4BqBobPz4uneOkB3By6ejjFkonk8kADkDxBWQQC2ap1XJnYKYyVU5OkeMKJp/jFPQe1TB1oLAJF0nid0FlAwjAAEpBNabgM4JNiZI3Z30XvZN95YVMIu7xE9n8c8wieFFK+2GH3qfM60edRgl6su7eKyuZRO0bNsPWDUoEh+flzndapfSbI6TaQLGebm5zAVgqJcvB9ypj9ypntkN1dcwx/HXBbD+2vx1ZNMtoCd4r6/aVEkBB3PMPnvbkP85xrQBLrPTexnSO2kAuq8jkONj4xuoQvKfGN9BkyDtQ1NDLCgo6+YEyMwECGIh25eS+OKPCbpANUG078DmyvTRv01+Kf5eMXin4byrox2T0PSIu/0uwPuqS4vtEPsDKUeypeaBM3vOtfNZMJXeS6dROOpvL5go4Y+QzmWQuaWV2Mji1wHfV/wGU0i0EJMDpCAyUQbb46Ddb7MXi8yZsLUd9MqApJfTk1RhPT8rfHc5wxvh6UEO6/z+0zw20UhLYnk/h2X/dQIa9v0/v7IWKhZ+f4dStN+h4sPMZbgeql3J6+Cu+vn7Z0/r1g97o1yxQz7/FBvhU/AytqCIN/S7NKHDxV6Id0LyxhmRmsZHNp4mR1Y1sChd2c4VM1sC7RlLX06lC5hsbUp8ykUn/2I0oCNOzWtEM5a9m9JLO/3o7mtB934b0w7n2dUvUT9fjX2vsfH5RMLnruX3x65XhdcMdufmpeEfbv94Z/knvDFFQ1+H4GZI3BuwMnC6Y+m7WzONCFhfMgmnl0zm9kLOIXsjmrZ/xpWEmWuvx3RLhm4F3kWY/Hr6bdekaeLdA9guKvKE69evB4S08OIxDuRbOzxG9sc5UwNldoqfzWYuksrpBcCGnk10jv5snVj6fKvxMTw5zcXpeT3qLjw4/fFf66rPDEuGvd4c3Val+Nqe+2iD62o6cUJp0UPofWORgmA==</script> <treescope-run-here><script type=\"application/octet-stream\"> const root = ( Array.from(document.getElementsByClassName( \"treescope_out_fae417af9b7e40d5baaf356506dd7e3d\")) .filter((elt) => !elt.dataset['step0']) )[0]; root.dataset['step0'] = 1; root.defns.insertContent( this.parentNode.querySelector('script[type=\"application/octet-stream\"]'), true ); this.parentNode.remove(); </script></treescope-run-here> </div>"
      ],
      "text/plain": [
       "<IPython.core.display.HTML object>"
      ]
     },
     "metadata": {},
     "output_type": "display_data"
    },
    {
     "data": {
      "text/html": [
       "<div style=\"display:none\"> <script type=\"application/octet-stream\" >eNrtVstu2zAQvPcrCAUIpCZRZElWLNsx0DYtkEsP7aGHIDAocmWzYUiVotMYRf69S1l+1nkdeinqgyVqZ/YxHFoecnFHajuXcO5xUVeSzvtEaQUeEfzcK7UZcyjBGODjMkt5JzqL4s5ZnHbTbk4TliVJ1I3K5CyhHW80rCuq8NvlG4VMS6TTojBwR36RZtknB1kvplE0IA8tgOnbW1B2/HMKagz3mIED7ytt/bDUktNCwlhpDv0prf2RpAXI0XZkbPVkIqHh9NkU2A3wICBvg42qtPlg1eHpor2mV8IkrWs350Y6nGNRZShUNbPEzitUp8lb6HtvL6dtAYOL8qPhaUPeLrOpiLcvtFeLHWQTQ7ikVe2Ch9IOcKiF8ru4dY4D0oK+0/vwnTF0Tm5g7silmR9O7MAPni4zWZfZubRqPVF8KybwmbJoKDYVkhtQT8a9UdOs7wfHhDdbsd12QPQdGPStUJP+m6uIRNePtLl9QeOPhq9wP08pS7MYWFqwtEPzXjdPUkZ7LCqKuJMna/c/uuGu65X6frScZyaUTeJgn8CvbZLROOdFL+UZzVOa85yXWdwt8m4JRZ5m5d4m/5v/3zF/5++YP6dpD4o4S0vooP+B5t0CeizrZVBmWSd/tfnjl5rfGoCa6QpOzEydTMG4X25mRLW0Jq0qKRi1QqtTzSzYkxo59NYbMa1qRFEzAXvJa3JOrryXv8yOiffys78JfvYMboKfFfZ6sBiDa2a0tjiEnYo6xJG+4PIznj4/GJB2VNSqBbXw8McMzPwrSGBWG98LV3KOXdhbUUtDJ+7wLagzdxsylNHCRbv81CL+LPdBommQuMwR4paA4h+cgf0lKGQO1fRrzQwCzIIOI74ESwSS8Q+BIMP1boUS1MRO8enRkXuPO9wiuFkJlx8luNv380sstmRfiWss4Di1nhkGF2j1R0U5cFb3yBHZoS+WoQE8Ggy+CTv1V9nCUph6WbuZFAnrqIFbPJhOqoeVTFuJtrQLnPUbT6Pr9xj+N8tPWjk=</script> <treescope-run-here><script type=\"application/octet-stream\"> const root = ( Array.from(document.getElementsByClassName( \"treescope_out_fae417af9b7e40d5baaf356506dd7e3d\")) .filter((elt) => !elt.dataset['step1']) )[0]; root.dataset['step1'] = 1; root.defns.insertContent( this.parentNode.querySelector('script[type=\"application/octet-stream\"]'), true ); this.parentNode.remove(); </script></treescope-run-here> </div>"
      ],
      "text/plain": [
       "<IPython.core.display.HTML object>"
      ]
     },
     "metadata": {},
     "output_type": "display_data"
    }
   ],
   "source": [
    "rngs = nnx.Rngs(params=0, dropout=1)\n",
    "\n",
    "@nnx.split_rngs(splits=5, only='dropout')\n",
    "def f(rngs: nnx.Rngs):\n",
    "  print('Inside:')\n",
    "  # rngs.dropout() # ValueError: fold_in accepts a single key...\n",
    "  nnx.display(rngs)\n",
    "\n",
    "f(rngs)\n",
    "\n",
    "print('Outside:')\n",
    "rngs.dropout() # works!\n",
    "nnx.display(rngs)"
   ]
  },
  {
   "cell_type": "markdown",
   "metadata": {},
   "source": [
    "> **Note:** `nnx.split_rngs` allows passing an NNX [`Filter`](https://flax.readthedocs.io/en/latest/guides/filters_guide.html) to the `only` keyword argument in order to select the `nnx.RngStream`s that should be split when inside the function. In such a case, you only need to split the `dropout` PRNG key stream."
   ]
  },
  {
   "cell_type": "markdown",
   "id": "e05927ca",
   "metadata": {},
   "source": [
    "## Transforms\n",
    "\n",
    "As stated before, in Flax NNX the random state is just another type of state. This means that there is nothing special about it when it comes to Flax NNX transforms, which means that you should be able to use the Flax NNX state handling APIs of each transform to get the results you want.\n",
    "\n",
    "In this section, you will go through two examples of using the random state in Flax NNX transforms - one with `nnx.pmap`, where you will learn how to split the PRNG state, and another one with `nnx.scan`, where you will freeze the PRNG state.\n",
    "\n",
    "### Data parallel dropout\n",
    "\n",
    "In the first example, you’ll explore how to use `nnx.pmap` to call the `nnx.Model` in a data parallel context.\n",
    "- Since the `nnx.Model` uses `nnx.Dropout`, you’ll need to split the random state of the `dropout` to ensure that each replica gets different dropout masks.\n",
    "- `nnx.StateAxes` is passed to `in_axes` to specify that the `model`'s `dropout` PRNG key stream will be parallelized across axis `0`, and the rest of its state will be replicated.\n",
    "- `nnx.split_rngs` is used to split the keys of the `dropout` PRNG key streams into N unique keys, one for each replica."
   ]
  },
  {
   "cell_type": "code",
   "execution_count": 9,
   "metadata": {},
   "outputs": [
    {
     "name": "stdout",
     "output_type": "stream",
     "text": [
      "(1, 16, 10)\n"
     ]
    }
   ],
   "source": [
    "model = Model(nnx.Rngs(params=0, dropout=1))\n",
    "\n",
    "num_devices = jax.local_device_count()\n",
    "x = jnp.ones((num_devices, 16, 20))\n",
    "state_axes = nnx.StateAxes({'dropout': 0, ...: None})\n",
    "\n",
    "@nnx.split_rngs(splits=num_devices, only='dropout')\n",
    "@nnx.pmap(in_axes=(state_axes, 0), out_axes=0)\n",
    "def forward(model: Model, x: jnp.ndarray):\n",
    "  return model(x)\n",
    "\n",
    "y = forward(model, x)\n",
    "print(y.shape)"
   ]
  },
  {
   "cell_type": "markdown",
   "metadata": {},
   "source": [
    "### Recurrent dropout\n",
    "\n",
    "Next, let’s explore how to implement an `RNNCell` that uses a recurrent dropout. To do this:\n",
    "\n",
    "- First, you will create an `nnx.Dropout` layer that will sample PRNG keys from a custom `recurrent_dropout` stream.\n",
    "- You will apply dropout (`drop`) to the hidden state `h` of the `RNNCell`.\n",
    "- Then, define an `initial_state` function to create the initial state of the `RNNCell`.\n",
    "- Finally, instantiate `RNNCell`."
   ]
  },
  {
   "cell_type": "code",
   "execution_count": 10,
   "metadata": {},
   "outputs": [],
   "source": [
    "class Count(nnx.Variable): pass\n",
    "\n",
    "class RNNCell(nnx.Module):\n",
    "  def __init__(self, din, dout, rngs):\n",
    "    self.linear = nnx.Linear(dout + din, dout, rngs=rngs)\n",
    "    self.drop = nnx.Dropout(0.1, rngs=rngs, rng_collection='recurrent_dropout')\n",
    "    self.dout = dout\n",
    "    self.count = Count(jnp.array(0, jnp.uint32))\n",
    "\n",
    "  def __call__(self, h, x) -> tuple[jax.Array, jax.Array]:\n",
    "    h = self.drop(h) # Recurrent dropout.\n",
    "    y = nnx.relu(self.linear(jnp.concatenate([h, x], axis=-1)))\n",
    "    self.count += 1\n",
    "    return y, y\n",
    "\n",
    "  def initial_state(self, batch_size: int):\n",
    "    return jnp.zeros((batch_size, self.dout))\n",
    "\n",
    "cell = RNNCell(8, 16, nnx.Rngs(params=0, recurrent_dropout=1))"
   ]
  },
  {
   "cell_type": "markdown",
   "metadata": {},
   "source": [
    "Next, you will use `nnx.scan` over an `unroll` function to implement the `rnn_forward` operation:\n",
    "- The key ingredient of recurrent dropout is to apply the same dropout mask across all time steps. Therefore, to achieve this you will pass `nnx.StateAxes` to `nnx.scan`'s `in_axes`, specifying that the `cell`'s `recurrent_dropout` PRNG stream will be broadcast, and the rest of the `RNNCell`'s state will be carried over.\n",
    "- Also, the hidden state `h` will be the `nnx.scan`'s `Carry` variable, and the sequence `x` will be `scan`ned over its axis `1`."
   ]
  },
  {
   "cell_type": "code",
   "execution_count": 11,
   "metadata": {},
   "outputs": [
    {
     "name": "stdout",
     "output_type": "stream",
     "text": [
      "y.shape = (4, 20, 16)\n",
      "cell.count.value = Array(20, dtype=uint32)\n"
     ]
    }
   ],
   "source": [
    "@nnx.jit\n",
    "def rnn_forward(cell: RNNCell, x: jax.Array):\n",
    "  h = cell.initial_state(batch_size=x.shape[0])\n",
    "\n",
    "  # Broadcast the 'recurrent_dropout' PRNG state to have the same mask on every step.\n",
    "  state_axes = nnx.StateAxes({'recurrent_dropout': None, ...: nnx.Carry})\n",
    "  @nnx.scan(in_axes=(state_axes, nnx.Carry, 1), out_axes=(nnx.Carry, 1))\n",
    "  def unroll(cell: RNNCell, h, x) -> tuple[jax.Array, jax.Array]:\n",
    "    h, y = cell(h, x)\n",
    "    return h, y\n",
    "\n",
    "  h, y = unroll(cell, h, x)\n",
    "  return y\n",
    "\n",
    "x = jnp.ones((4, 20, 8))\n",
    "y = rnn_forward(cell, x)\n",
    "\n",
    "print(f'{y.shape = }')\n",
    "print(f'{cell.count.value = }')"
   ]
  }
 ],
 "metadata": {
  "jupytext": {
   "formats": "ipynb,md:myst"
  },
  "language_info": {
   "codemirror_mode": {
    "name": "ipython",
    "version": 3
   },
   "file_extension": ".py",
   "mimetype": "text/x-python",
   "name": "python",
   "nbconvert_exporter": "python",
   "pygments_lexer": "ipython3",
   "version": "3.10.13"
  }
 },
 "nbformat": 4,
 "nbformat_minor": 2
}
