{
 "cells": [
  {
   "cell_type": "markdown",
   "metadata": {},
   "source": [
    "# Randomness\n",
    "\n",
    "Flax NNX uses the stateful `nnx.Rngs` class to simplify Jax's handling of random states. For example, the code below uses a `nnx.Rngs` object to define a simple linear model with dropout:"
   ]
  },
  {
   "cell_type": "code",
   "execution_count": 2,
   "metadata": {},
   "outputs": [],
   "source": [
    "from flax import nnx\n",
    "\n",
    "class Model(nnx.Module):\n",
    "  def __init__(self, *, rngs: nnx.Rngs):\n",
    "    self.linear = nnx.Linear(20, 10, rngs=rngs)\n",
    "    self.drop = nnx.Dropout(0.1)\n",
    "\n",
    "  def __call__(self, x, *, rngs):\n",
    "    return nnx.relu(self.drop(self.linear(x), rngs=rngs))\n",
    "\n",
    "rngs = nnx.Rngs(0)\n",
    "model = Model(rngs=rngs)  # pass rngs to initialize parameters\n",
    "x = rngs.normal((32, 20))  # convenient jax.random methods\n",
    "y = model(x, rngs=rngs)  # pass rngs for dropout masks"
   ]
  },
  {
   "cell_type": "markdown",
   "metadata": {},
   "source": [
    "We always pass `nnx.Rngs` objects to models at initialization (to initialize parameters). For models with nondeterministic outputs like the one above, we also pass `nnx.Rngs` objects to the model's `__call__` method.\n",
    "\n",
    "The Flax NNX [pseudorandom number generator (PRNG)](https://flax.readthedocs.io/en/latest/glossary.html#term-RNG-sequences) system has the following main characteristics:\n",
    "\n",
    "- It is **explicit**.\n",
    "- It is **order-based**.\n",
    "- It uses **dynamic counters**.\n",
    "\n",
    "> **Note:** To learn more about random number generation in JAX, the `jax.random` API, and PRNG-generated sequences, check out this [JAX PRNG tutorial](https://jax.readthedocs.io/en/latest/random-numbers.html).\n",
    "\n",
    "## `Rngs`, `RngStream`, and `RngState`\n",
    "\n",
    "In Flax NNX, the `nnx.Rngs` type is the primary convenience API for managing the random state(s). Following Flax Linen's footsteps, `nnx.Rngs` have the ability to create multiple named PRNG key [streams](https://jax.readthedocs.io/en/latest/jep/263-prng.html), each with its own state, for the purpose of having tight control over randomness in the context of [JAX transformations (transforms)](https://jax.readthedocs.io/en/latest/key-concepts.html#transformations).\n",
    "\n",
    "Here are the main PRNG-related types in Flax NNX:\n",
    "\n",
    "* **`nnx.Rngs`**: The main user interface. It defines a set of named `nnx.RngStream` objects.\n",
    "* **`nnx.RngStream`**: An object that can generate a stream of PRNG keys. It holds a root `key` and a `count` inside an `nnx.RngKey` and `nnx.RngCount` `nnx.Variable`s, respectively. When a new key is generated, the count is incremented.\n",
    "* **`nnx.RngState`**: The base type for all RNG-related states.\n",
    "  * **`nnx.RngKey`**: NNX Variable type for holding PRNG keys. It includes a `tag` attribute containing the name of the PRNG key stream.\n",
    "  * **`nnx.RngCount`**: NNX Variable type for holding PRNG counts. It includes a `tag` attribute containing the PRNG key stream name.\n",
    "\n",
    "To create an `nnx.Rngs` object you can simply pass an integer seed or `jax.random.key` instance to any keyword argument of your choice in the constructor.\n",
    "\n",
    "Here's an example:"
   ]
  },
  {
   "cell_type": "code",
   "execution_count": 3,
   "metadata": {},
   "outputs": [
    {
     "data": {
      "text/html": [
       "<script> (()=>{ if (customElements.get('treescope-container') === undefined) { class TreescopeContainer extends HTMLElement { constructor() { super(); this.attachShadow({mode: \"open\"}); this.defns = {}; this.state = {}; } } customElements.define(\"treescope-container\", TreescopeContainer); } if (customElements.get('treescope-run-here') === undefined) { class RunHere extends HTMLElement { constructor() { super() } connectedCallback() { const run = child => { const fn = new Function(child.textContent); child.textContent = \"\"; fn.call(this); this.remove(); }; const child = this.querySelector(\"script\"); if (child) { run(child); } else { new MutationObserver(()=>{ run(this.querySelector(\"script\")); }).observe(this, {childList: true}); } } } customElements.define(\"treescope-run-here\", RunHere); } })(); </script> <treescope-container class=\"treescope_out_7724a6e7f26b4b71a5626ec2b9a9a689\" style=\"display:block\"></treescope-container> <treescope-run-here><script type=\"application/octet-stream\"> const root = ( Array.from(document.getElementsByClassName( \"treescope_out_7724a6e7f26b4b71a5626ec2b9a9a689\")) .filter((elt) => !elt.dataset.setup) )[0]; root.dataset.setup = 1; const msg = document.createElement(\"span\"); msg.style = \"color: #cccccc; font-family: monospace;\"; msg.textContent = \"(Loading...)\"; root.state.loadingMsg = msg; root.shadowRoot.appendChild(msg); root.state.chain = new Promise((resolve, reject) => { const observer = new IntersectionObserver((entries) => { for (const entry of entries) { if (entry.isIntersecting) { resolve(); observer.disconnect(); return; } } }, {rootMargin: \"1000px\"}); window.setTimeout(() => { observer.observe(root); }, 0); }); root.state.deferring = false; const _insertNode = (node) => { for (let oldScript of node.querySelectorAll(\"script\")) { let newScript = document.createElement(\"script\"); newScript.type = oldScript.type; newScript.textContent = oldScript.textContent; oldScript.parentNode.replaceChild(newScript, oldScript); } if (root.state.loadingMsg) { root.state.loadingMsg.remove(); root.state.loadingMsg = null; } root.shadowRoot.appendChild(node); }; root.defns.insertContent = ((contentNode, compressed) => { if (compressed) { root.state.deferring = true; } if (root.state.deferring) { root.state.chain = (async () => { await root.state.chain; if (compressed) { const encoded = contentNode.textContent; const blob = new Blob([ Uint8Array.from(atob(encoded), (m) => m.codePointAt(0)) ]); const reader = blob.stream().pipeThrough( new DecompressionStream(\"deflate\") ).pipeThrough( new TextDecoderStream(\"utf-8\") ).getReader(); const parts = []; while (true) { const step = await reader.read(); if (step.done) { break; } parts.push(step.value); } const tpl = document.createElement('template'); tpl.innerHTML = parts.join(\"\"); _insertNode(tpl.content); } else { _insertNode(contentNode.content); } })(); } else { _insertNode(contentNode.content); } }); </script></treescope-run-here><div style=\"display:none\"> <script type=\"application/octet-stream\" >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</script> <treescope-run-here><script type=\"application/octet-stream\"> const root = ( Array.from(document.getElementsByClassName( \"treescope_out_7724a6e7f26b4b71a5626ec2b9a9a689\")) .filter((elt) => !elt.dataset['step0']) )[0]; root.dataset['step0'] = 1; root.defns.insertContent( this.parentNode.querySelector('script[type=\"application/octet-stream\"]'), true ); this.parentNode.remove(); </script></treescope-run-here> </div>"
      ],
      "text/plain": [
       "<IPython.core.display.HTML object>"
      ]
     },
     "metadata": {},
     "output_type": "display_data"
    },
    {
     "data": {
      "text/html": [
       "<div style=\"display:none\"> <script type=\"application/octet-stream\" >eNrtVk1P20AQvfdXrIxE7QLG+IPYSbDUQitx6aE99IBQtN4dJy7LrrveUKKK/95ZOx+EOqWV2hs5xFnPmzfzZvfZGfPqjjRmIeDM4VVTC7oYEqkkOKTiZ06p9IRDCVoDn1AWJcEp53ASJXFUQlpkNGVJmPGiPGGn1MnHTU0lflu+3GdKYDpTt7cgzeT7DOQE7hHAgQ+lMq5fKsFpIWAiFYfhjDZuLmgBIt+OTIyaTgW0OUM2A3YD3PPIG4/8IG2NIdmj7WdEHsbHXfW2FcIEbRor4xEdttlVGVeynhtiFjWKb3kLde/05ixbwGBXPh8ft8nbZTrBtCg03Dl9od5ZPEG2MYQLWjc2uC/MCEV1g32K23DskR7QaxxZ28/r/Cu9999qTRe9uJZsDVxBbmBhq5d6sT81I9fbQf0M4c7mH4ucbkQ+uSz36jfSt2IV3pMGTyubVYJrkL+NO3k7E9f1DglvD8K2Zo+oO9BoikpOh6+uAhJc72hz+4Kuysd/Y63TKMvirGSsDOIoCGgQ8YDHQVyi01iUbqy187jZrteb7AYrPfNKmij0+gb8t02mCQ8HJ8EgTJMoTikrBpAlUDJaJoMk4LS3yRfrvVjv31jv5P9Yj4dFURbp6SBL0jhJwywe0DiMB2GSFXFahP/PekYDNEzVcKTn8mgG2r61mK7qlTFoXYuKUVMpeayYAXPUYA69dXKmZIMoqqdgLnlDzsiV8+fv6UPi/PmT5zH42SfAY/Czg70edTK4YlopgyLMrGp8lPQJlx/R+643IkupOKslaAn3v81BLz6DAGaUdh1/Pc6JDTu/pJ4LPAC2yHLtM3ujLWP0HBC/jmjAI8PgS2Vm7lb6mrTUdGqfJ10/c/vTZ7g3Bi6Wyw9LhNWwQvu4oyD5uT3/a2IbV5q4AgypkC8Y4WW82VxfgJyaGd49OLB/eSyuCyJ4zYzL9wLsz3eLSyRfZV9V11jA5jRqrhlcoDN2znDPOsMhB+RJerfcGsuazS8r3axqt8owYRPVcIs+tkN42N6J3iF71imtBdAkPf74CfEZuR0=</script> <treescope-run-here><script type=\"application/octet-stream\"> const root = ( Array.from(document.getElementsByClassName( \"treescope_out_7724a6e7f26b4b71a5626ec2b9a9a689\")) .filter((elt) => !elt.dataset['step1']) )[0]; root.dataset['step1'] = 1; root.defns.insertContent( this.parentNode.querySelector('script[type=\"application/octet-stream\"]'), true ); this.parentNode.remove(); </script></treescope-run-here> </div>"
      ],
      "text/plain": [
       "<IPython.core.display.HTML object>"
      ]
     },
     "metadata": {},
     "output_type": "display_data"
    }
   ],
   "source": [
    "rngs = nnx.Rngs(params=0, dropout=random.key(1))\n",
    "nnx.display(rngs)"
   ]
  },
  {
   "cell_type": "markdown",
   "metadata": {},
   "source": [
    "Notice that the `key` and `count` `nnx.Variable`s contain the PRNG key stream name in a `tag` attribute. This is primarily used for filtering as we'll see later.\n",
    "\n",
    "To generate new keys, you can access one of the streams and use its `__call__` method with no arguments. This will return a new key by using `random.fold_in` with the current `key` and `count`. The `count` is then incremented so that subsequent calls will return new keys."
   ]
  },
  {
   "cell_type": "code",
   "execution_count": 4,
   "metadata": {},
   "outputs": [
    {
     "data": {
      "text/html": [
       "<script> (()=>{ if (customElements.get('treescope-container') === undefined) { class TreescopeContainer extends HTMLElement { constructor() { super(); this.attachShadow({mode: \"open\"}); this.defns = {}; this.state = {}; } } customElements.define(\"treescope-container\", TreescopeContainer); } if (customElements.get('treescope-run-here') === undefined) { class RunHere extends HTMLElement { constructor() { super() } connectedCallback() { const run = child => { const fn = new Function(child.textContent); child.textContent = \"\"; fn.call(this); this.remove(); }; const child = this.querySelector(\"script\"); if (child) { run(child); } else { new MutationObserver(()=>{ run(this.querySelector(\"script\")); }).observe(this, {childList: true}); } } } customElements.define(\"treescope-run-here\", RunHere); } })(); </script> <treescope-container class=\"treescope_out_3e29bf34baa14c71bab5dc5adaaef4ee\" style=\"display:block\"></treescope-container> <treescope-run-here><script type=\"application/octet-stream\"> const root = ( Array.from(document.getElementsByClassName( \"treescope_out_3e29bf34baa14c71bab5dc5adaaef4ee\")) .filter((elt) => !elt.dataset.setup) )[0]; root.dataset.setup = 1; const msg = document.createElement(\"span\"); msg.style = \"color: #cccccc; font-family: monospace;\"; msg.textContent = \"(Loading...)\"; root.state.loadingMsg = msg; root.shadowRoot.appendChild(msg); root.state.chain = new Promise((resolve, reject) => { const observer = new IntersectionObserver((entries) => { for (const entry of entries) { if (entry.isIntersecting) { resolve(); observer.disconnect(); return; } } }, {rootMargin: \"1000px\"}); window.setTimeout(() => { observer.observe(root); }, 0); }); root.state.deferring = false; const _insertNode = (node) => { for (let oldScript of node.querySelectorAll(\"script\")) { let newScript = document.createElement(\"script\"); newScript.type = oldScript.type; newScript.textContent = oldScript.textContent; oldScript.parentNode.replaceChild(newScript, oldScript); } if (root.state.loadingMsg) { root.state.loadingMsg.remove(); root.state.loadingMsg = null; } root.shadowRoot.appendChild(node); }; root.defns.insertContent = ((contentNode, compressed) => { if (compressed) { root.state.deferring = true; } if (root.state.deferring) { root.state.chain = (async () => { await root.state.chain; if (compressed) { const encoded = contentNode.textContent; const blob = new Blob([ Uint8Array.from(atob(encoded), (m) => m.codePointAt(0)) ]); const reader = blob.stream().pipeThrough( new DecompressionStream(\"deflate\") ).pipeThrough( new TextDecoderStream(\"utf-8\") ).getReader(); const parts = []; while (true) { const step = await reader.read(); if (step.done) { break; } parts.push(step.value); } const tpl = document.createElement('template'); tpl.innerHTML = parts.join(\"\"); _insertNode(tpl.content); } else { _insertNode(contentNode.content); } })(); } else { _insertNode(contentNode.content); } }); </script></treescope-run-here><div style=\"display:none\"> <script type=\"application/octet-stream\" >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</script> <treescope-run-here><script type=\"application/octet-stream\"> const root = ( Array.from(document.getElementsByClassName( \"treescope_out_3e29bf34baa14c71bab5dc5adaaef4ee\")) .filter((elt) => !elt.dataset['step0']) )[0]; root.dataset['step0'] = 1; root.defns.insertContent( this.parentNode.querySelector('script[type=\"application/octet-stream\"]'), true ); this.parentNode.remove(); </script></treescope-run-here> </div>"
      ],
      "text/plain": [
       "<IPython.core.display.HTML object>"
      ]
     },
     "metadata": {},
     "output_type": "display_data"
    },
    {
     "data": {
      "text/html": [
       "<div style=\"display:none\"> <script type=\"application/octet-stream\" >eNrtVslu2zAQvfcrCAVopaZRbJm2JdsR0BXIpYf20EMQGBQ5stXSpErRaYwi/96h5CVK7SxAc6sPlqh5s7zhPEoTUVyRyq4knHmiqErJViOitAKPFOLMy7WZCsjBGBDTbh5FlCddyvo57Q+zOOtT6A/jJIt6Oc0HXjqpSqbw38VLQ64lunO9WICy019zUFO4RoAAMVLa+mGupWCZhKnSAkZzVvmpZBnItG2ZWj2bSah9RnwO/AeIICCvA/Kb1DlG5IjVvzG5mZw22etSCJesqhyNW+GwzCbLpFDl0hK7KpF8HTfT195en3UJaGzSp5PT2rmdpiHMsszAlbfPtLcXd5C1DeGSlZUzvpR2jKSaxt7F7WIckT2gV9iyup5X6Xd2Hb41hq324upgW+AG8gNWLntuVi9nduwHB0I/EPBg8bdJznYk71zWe3UP9ZatwGfK4rTyeSGFAXWv3Uvrnvh+8IaIehDanAOir8CgKAo1G7246JDO5YEy2xdUVTp5grTiKIlzGkFP5AmNkk6MSos7HS54ZxglADtpHRw3V/V2k/3uhs+yULYXBfsa/NQihwntRjRLhgxi2qVxMsyA9fuDXAg6OFTkf+n9l96/kV73eaQ3jAaik+MEUwpU9GjcR+nFgvZokvRjzp9PetYAVFyXcGKW6mQOxr21uCnKjTBYWcqCM1todaq5BXtSoQ9beCnXqkIUMzOw56IiZ+TCe/x7+g3xHn/y3AY/eAK0wA819nLc0BCaG60tkrDzogqR0hdcfkbt+8GYrKlir9agNTz8uQSz+goSuNXG98JtO6fO7P3l+l7iALgk63XI3YM6jTVLQPzWYgBHhsO3ws79lvs2aG7YzJ0nTT1Ldxty3BsLH9bLT2uE47BBh7ijoMR7N//bwM6uDfElWFJgvM4YL5Pd5oYS1MzO8enxsfvkcbjGiOBtZFx+lOBu363OMfjG+6K4xATOp9JLw+EDKuNgD4+cMjxyTO64N8tWW7bRwrww1SZ3zQwddlYDC9Sxa8JNeyf2NjlwSqklgCLZo48/gOe2/Q==</script> <treescope-run-here><script type=\"application/octet-stream\"> const root = ( Array.from(document.getElementsByClassName( \"treescope_out_3e29bf34baa14c71bab5dc5adaaef4ee\")) .filter((elt) => !elt.dataset['step1']) )[0]; root.dataset['step1'] = 1; root.defns.insertContent( this.parentNode.querySelector('script[type=\"application/octet-stream\"]'), true ); this.parentNode.remove(); </script></treescope-run-here> </div>"
      ],
      "text/plain": [
       "<IPython.core.display.HTML object>"
      ]
     },
     "metadata": {},
     "output_type": "display_data"
    }
   ],
   "source": [
    "params_key = rngs.params()\n",
    "dropout_key = rngs.dropout()\n",
    "\n",
    "nnx.display(rngs)"
   ]
  },
  {
   "cell_type": "markdown",
   "metadata": {},
   "source": [
    "Note that the `key` attribute does not change when new PRNG keys are generated."
   ]
  },
  {
   "cell_type": "markdown",
   "metadata": {},
   "source": [
    "### Using random state with flax Modules.\n",
    "\n",
    "Almost all flax Modules require a random state for initialization. In a `Linear` layer, for example, we need to sample the weights and biases from the appropriate Normal distribution. Random state is provided using the `rngs` keyword argument at initialization."
   ]
  },
  {
   "cell_type": "code",
   "execution_count": 5,
   "metadata": {},
   "outputs": [],
   "source": [
    "linear = nnx.Linear(20, 10, rngs=rngs)"
   ]
  },
  {
   "cell_type": "markdown",
   "metadata": {},
   "source": [
    "Specifically, this will use the RngSteam `rngs.params` for weight initialization. The `params` stream is also used for initialization of `nnx.Conv`, `nnx.ConvTranspose`, and `nnx.Embed`."
   ]
  },
  {
   "cell_type": "markdown",
   "metadata": {},
   "source": [
    "The `nnx.Dropout` module also requires a random state, but it requires this state at *call* time rather than initialization. Once again, we can pass it random state using the `rngs` keyword argument."
   ]
  },
  {
   "cell_type": "code",
   "execution_count": 6,
   "metadata": {},
   "outputs": [],
   "source": [
    "dropout = nnx.Dropout(0.5)"
   ]
  },
  {
   "cell_type": "code",
   "execution_count": 7,
   "metadata": {},
   "outputs": [
    {
     "data": {
      "text/plain": [
       "Array([2., 0., 2., 2.], dtype=float32)"
      ]
     },
     "execution_count": 7,
     "metadata": {},
     "output_type": "execute_result"
    }
   ],
   "source": [
    "import jax.numpy as jnp\n",
    "dropout(jnp.ones(4), rngs=rngs)"
   ]
  },
  {
   "cell_type": "markdown",
   "metadata": {},
   "source": [
    "The `nnx.Dropout` layer will use the rng's `dropout` stream. This also applies to Modules that use `Dropout` as a sub-Module, like `nnx.MultiHeadAttention`."
   ]
  },
  {
   "cell_type": "markdown",
   "metadata": {},
   "source": [
    "To summarize, there are only two standard PRNG key stream names used by Flax NNX's built-in layers, shown in the table below:\n",
    "\n",
    "| PRNG key stream name | Description                                   |\n",
    "|----------------------|-----------------------------------------------|\n",
    "| `params`             | Used for parameter initialization             |\n",
    "| `dropout`            | Used by `nnx.Dropout` to create dropout masks |"
   ]
  },
  {
   "cell_type": "markdown",
   "metadata": {},
   "source": [
    "### Default PRNG key stream\n",
    "\n",
    "One of the downsides of having named streams is that the user needs to know all the possible names that a model will use when creating the `nnx.Rngs` object. While this could be solved with some documentation, Flax NNX provides a `default` stream that can be\n",
    "be used as a fallback when a stream is not found. To use the default PRNG key stream, you can simply pass an integer seed or `jax.random.key` as the first positional argument."
   ]
  },
  {
   "cell_type": "code",
   "execution_count": 8,
   "metadata": {},
   "outputs": [
    {
     "data": {
      "text/html": [
       "<script> (()=>{ if (customElements.get('treescope-container') === undefined) { class TreescopeContainer extends HTMLElement { constructor() { super(); this.attachShadow({mode: \"open\"}); this.defns = {}; this.state = {}; } } customElements.define(\"treescope-container\", TreescopeContainer); } if (customElements.get('treescope-run-here') === undefined) { class RunHere extends HTMLElement { constructor() { super() } connectedCallback() { const run = child => { const fn = new Function(child.textContent); child.textContent = \"\"; fn.call(this); this.remove(); }; const child = this.querySelector(\"script\"); if (child) { run(child); } else { new MutationObserver(()=>{ run(this.querySelector(\"script\")); }).observe(this, {childList: true}); } } } customElements.define(\"treescope-run-here\", RunHere); } })(); </script> <treescope-container class=\"treescope_out_0ecc6278c22b4db19a08abab42e8069a\" style=\"display:block\"></treescope-container> <treescope-run-here><script type=\"application/octet-stream\"> const root = ( Array.from(document.getElementsByClassName( \"treescope_out_0ecc6278c22b4db19a08abab42e8069a\")) .filter((elt) => !elt.dataset.setup) )[0]; root.dataset.setup = 1; const msg = document.createElement(\"span\"); msg.style = \"color: #cccccc; font-family: monospace;\"; msg.textContent = \"(Loading...)\"; root.state.loadingMsg = msg; root.shadowRoot.appendChild(msg); root.state.chain = new Promise((resolve, reject) => { const observer = new IntersectionObserver((entries) => { for (const entry of entries) { if (entry.isIntersecting) { resolve(); observer.disconnect(); return; } } }, {rootMargin: \"1000px\"}); window.setTimeout(() => { observer.observe(root); }, 0); }); root.state.deferring = false; const _insertNode = (node) => { for (let oldScript of node.querySelectorAll(\"script\")) { let newScript = document.createElement(\"script\"); newScript.type = oldScript.type; newScript.textContent = oldScript.textContent; oldScript.parentNode.replaceChild(newScript, oldScript); } if (root.state.loadingMsg) { root.state.loadingMsg.remove(); root.state.loadingMsg = null; } root.shadowRoot.appendChild(node); }; root.defns.insertContent = ((contentNode, compressed) => { if (compressed) { root.state.deferring = true; } if (root.state.deferring) { root.state.chain = (async () => { await root.state.chain; if (compressed) { const encoded = contentNode.textContent; const blob = new Blob([ Uint8Array.from(atob(encoded), (m) => m.codePointAt(0)) ]); const reader = blob.stream().pipeThrough( new DecompressionStream(\"deflate\") ).pipeThrough( new TextDecoderStream(\"utf-8\") ).getReader(); const parts = []; while (true) { const step = await reader.read(); if (step.done) { break; } parts.push(step.value); } const tpl = document.createElement('template'); tpl.innerHTML = parts.join(\"\"); _insertNode(tpl.content); } else { _insertNode(contentNode.content); } })(); } else { _insertNode(contentNode.content); } }); </script></treescope-run-here><div style=\"display:none\"> <script type=\"application/octet-stream\" >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</script> <treescope-run-here><script type=\"application/octet-stream\"> const root = ( Array.from(document.getElementsByClassName( \"treescope_out_0ecc6278c22b4db19a08abab42e8069a\")) .filter((elt) => !elt.dataset['step0']) )[0]; root.dataset['step0'] = 1; root.defns.insertContent( this.parentNode.querySelector('script[type=\"application/octet-stream\"]'), true ); this.parentNode.remove(); </script></treescope-run-here> </div>"
      ],
      "text/plain": [
       "<IPython.core.display.HTML object>"
      ]
     },
     "metadata": {},
     "output_type": "display_data"
    },
    {
     "data": {
      "text/html": [
       "<div style=\"display:none\"> <script type=\"application/octet-stream\" >eNrtVk1vm0AQvfdXrIjUQpMQMDjGH0Hqp5RLD+2hhyiylt3Bpt3s0mWdxqry3zsL2A4pzofU3uqD8TJv3syb3Qee8eKaVGYt4MzhRVUKup4QqSQ4pOBnTq70nEMOWgOfx8GQZ4MgiPnoNAYaUYii8TAIYx4mYZhTJ51VJZX4bflSnymB6UxdXYE0859LkHO4QQAHPpHKuH6uBKeZgLlUHCZLWrmpoBmItBuZG7VYCKhzJmwJ7DtwzyOvPfKL1DUm5IDWnym5nZ001etWCBO0qqyMO3TYZlNlVshyZYhZlyi+5s3UjdOb07aAwaZ8Ojupk7tlGsE0yzRcO32h3lncQ9YxhAtaVjb4UpgpimoGex+34zggPaBXOLK6n1fpN3rjv9GarntxNdkWuIF8h7Wtnuv1y4WZut4e6kcI9zZ/V+RiJ/Lepd2rB6R3YgXekwZPK1sWgmuQD8adtJ6J63pHhNcHoavZI+oaNJqikIvJi4uAhJd72uxe0FXp7BnWCvMkjhnkpxEL43DIkzCm4+FgAMMxHVEW7ay197jZrreb7IYbPatCmmjg9Q34uU3ycTKiSTyOxgziPOEJj/IBizkbD0ejLE96m/xvvf/W+zvWC/6R9YI4yoajPAggiFkYZKdxAIxmbDxiNEyyZ1tv8FTrGQ1QMVXCsV7J4yVo+9Ziuig3xqBlKQpGTaHkiWIGzHGFOfTKSZmSFaKoXoA55xU5IxfO09/TR8R5+pPnLvjRJ0CH+bHBXk4bGVwxrZRBEWZZVD5K+ozLT+h915uSVirOqgW1cP/HCvT6CwhgRmnX8bfjnNuw80fqO4EHwBZp1z6zN+oyRq8A8duIBjwyDL4WZul20rekuaYL+zxp+lnZnz7DvTHwvl1+bBFWwwbt446C5O/s+d8S27jSxBVgSIF8wRQvs93m+gLkwizx7uGh/ctjcU0QwVtmXH4QYH++XZ8j+Sb7orjEAjanUivN4D06Y+8MD6wzHHJI7qU3y85Ytmx+XuhqU7tWhgm7qIYr9LEdwm13J3qH7Fmn1BZAk/T44zetCbmg</script> <treescope-run-here><script type=\"application/octet-stream\"> const root = ( Array.from(document.getElementsByClassName( \"treescope_out_0ecc6278c22b4db19a08abab42e8069a\")) .filter((elt) => !elt.dataset['step1']) )[0]; root.dataset['step1'] = 1; root.defns.insertContent( this.parentNode.querySelector('script[type=\"application/octet-stream\"]'), true ); this.parentNode.remove(); </script></treescope-run-here> </div>"
      ],
      "text/plain": [
       "<IPython.core.display.HTML object>"
      ]
     },
     "metadata": {},
     "output_type": "display_data"
    }
   ],
   "source": [
    "rngs = nnx.Rngs(0, params=1)\n",
    "\n",
    "key1 = rngs.params() # Call params.\n",
    "key2 = rngs.dropout() # Fallback to the default stream.\n",
    "key3 = rngs() # Call the default stream directly.\n",
    "\n",
    "nnx.display(rngs)"
   ]
  },
  {
   "cell_type": "markdown",
   "metadata": {},
   "source": [
    "As shown above, a PRNG key from the `default` stream can also be generated by calling the `nnx.Rngs` object itself.\n",
    "\n",
    "> **Note**\n",
    "> <br> For large projects it is recommended to use named streams to avoid potential conflicts. For small projects or quick prototyping just using the `default` stream is a good choice."
   ]
  },
  {
   "cell_type": "markdown",
   "metadata": {},
   "source": [
    "### jax.random shorthand methods\n",
    "Since a very common pattern is to sample a key and immediately pass it to a function from `jax.random`, both `Rngs` and `RngStream` expose the same functions as methods with the same signature except they don't require a key:"
   ]
  },
  {
   "cell_type": "code",
   "execution_count": 9,
   "metadata": {},
   "outputs": [],
   "source": [
    "import jax\n",
    "rngs = nnx.Rngs(0, params=1)\n",
    "\n",
    "# using jax.random\n",
    "z1 = jax.random.normal(rngs(), (2, 3))\n",
    "z2 = jax.random.bernoulli(rngs.params(), 0.5, (10,))\n",
    "\n",
    "# shorthand methods\n",
    "z1 = rngs.normal((2, 3))                 # generates key from rngs.default\n",
    "z2 = rngs.params.bernoulli(0.5, (10,)) # generates key from rngs.params"
   ]
  },
  {
   "cell_type": "markdown",
   "metadata": {},
   "source": [
    "## Forking random state"
   ]
  },
  {
   "cell_type": "markdown",
   "metadata": {},
   "source": [
    "Say you want to train a model that uses dropout on a batch of data. You don't want to use the same random state for every dropout mask in your batch.  Instead, you want to fork the random state into separate pieces for each layer. This can be accomplished with the `fork` method, as shown below."
   ]
  },
  {
   "cell_type": "code",
   "execution_count": 10,
   "metadata": {},
   "outputs": [],
   "source": [
    "class Model(nnx.Module):\n",
    "  def __init__(self, rngs: nnx.Rngs):\n",
    "    self.linear = nnx.Linear(20, 10, rngs=rngs)\n",
    "    self.drop = nnx.Dropout(0.1)\n",
    "\n",
    "  def __call__(self, x, rngs):\n",
    "    return nnx.relu(self.drop(self.linear(x), rngs=rngs))"
   ]
  },
  {
   "cell_type": "code",
   "execution_count": 11,
   "metadata": {},
   "outputs": [],
   "source": [
    "model =  Model(rngs=nnx.Rngs(0))"
   ]
  },
  {
   "cell_type": "code",
   "execution_count": 12,
   "metadata": {},
   "outputs": [],
   "source": [
    "@nnx.vmap(in_axes=(None, 0, 0), out_axes=0)\n",
    "def model_forward(model, x, rngs):\n",
    "  return model(x, rngs=rngs)"
   ]
  },
  {
   "cell_type": "code",
   "execution_count": 13,
   "metadata": {},
   "outputs": [
    {
     "data": {
      "text/plain": [
       "(Rngs( # RngState: 2 (12 B)\n",
       "   default=RngStream( # RngState: 2 (12 B)\n",
       "     tag='default',\n",
       "     key=RngKey( # 1 (8 B)\n",
       "       value=Array((), dtype=key<fry>) overlaying:\n",
       "       [0 1],\n",
       "       tag='default'\n",
       "     ),\n",
       "     count=RngCount( # 1 (4 B)\n",
       "       value=Array(1, dtype=uint32),\n",
       "       tag='default'\n",
       "     )\n",
       "   )\n",
       " ),\n",
       " Rngs( # RngState: 10 (60 B)\n",
       "   default=RngStream( # RngState: 10 (60 B)\n",
       "     tag='default',\n",
       "     key=RngKey( # 5 (40 B)\n",
       "       value=Array(shape=(5,), dtype=key<fry>),\n",
       "       tag='default'\n",
       "     ),\n",
       "     count=RngCount( # 5 (20 B)\n",
       "       value=Array(shape=(5,), dtype=dtype('uint32')),\n",
       "       tag='default'\n",
       "     )\n",
       "   )\n",
       " ))"
      ]
     },
     "execution_count": 13,
     "metadata": {},
     "output_type": "execute_result"
    }
   ],
   "source": [
    "dropout_rngs = nnx.Rngs(1)\n",
    "forked_rngs = dropout_rngs.fork(split=5)\n",
    "(dropout_rngs, forked_rngs)"
   ]
  },
  {
   "cell_type": "code",
   "execution_count": 14,
   "metadata": {},
   "outputs": [
    {
     "data": {
      "text/plain": [
       "(5, 10)"
      ]
     },
     "execution_count": 14,
     "metadata": {},
     "output_type": "execute_result"
    }
   ],
   "source": [
    "model_forward(model, jnp.ones((5, 20)), forked_rngs).shape"
   ]
  },
  {
   "cell_type": "markdown",
   "metadata": {},
   "source": [
    "The output of `rng.fork` is another `Rng` with keys and counts that have an expanded shape. In the example above, the `RngKey` and `RngCount` of `dropout_rngs` have shape `()`, but in `forked_rngs` they have shape `(5,)`."
   ]
  },
  {
   "cell_type": "markdown",
   "metadata": {},
   "source": [
    "# Implicit Random State"
   ]
  },
  {
   "cell_type": "markdown",
   "metadata": {},
   "source": [
    "So far, we have looked at passing random state directly to each Module when it gets called. But there's another way to handle call-time randomness in flax: we can bundle the random state into the Module itself. This makes the random state is just another type of Module state. Using implicit random state requires passing the `rngs` keyward argument when initializing the module rather than when calling it. For example, here is how we might construct the simple `Module` we defined earlier using an implicit style."
   ]
  },
  {
   "cell_type": "code",
   "execution_count": 18,
   "metadata": {},
   "outputs": [
    {
     "name": "stdout",
     "output_type": "stream",
     "text": [
      "y.shape = (1, 10)\n"
     ]
    }
   ],
   "source": [
    "class Model(nnx.Module):\n",
    "  def __init__(self, rngs: nnx.Rngs):\n",
    "    self.linear = nnx.Linear(20, 10, rngs=rngs)\n",
    "    self.drop = nnx.Dropout(0.1, rngs=rngs)\n",
    "\n",
    "  def __call__(self, x):\n",
    "    return nnx.relu(self.drop(self.linear(x)))\n",
    "\n",
    "model = Model(nnx.Rngs(params=0, dropout=1))\n",
    "\n",
    "y = model(x=jnp.ones((1, 20)))\n",
    "print(f'{y.shape = }')"
   ]
  },
  {
   "cell_type": "markdown",
   "metadata": {},
   "source": [
    "This implicit state handling style is less verbose than passing RNGs explicitly, and more closely resembles code in other deep learning frameworks like PyTorch. However, as we'll see in the following sections, using implicit state makes it less obvious how to apply jax transformations to your Modules. With explicit state, you can usually use tranforms like `jax.vmap` directly. With implicit state, you'll need to some extra tricks with `nnx.vmap` to make everything work. Because of this additional complexity, we recommend that new flax projects stick to the explicit style."
   ]
  },
  {
   "cell_type": "markdown",
   "metadata": {},
   "source": [
    "## Filtering random state\n",
    "\n",
    "Implicit random state can be manipulated using [Filters](https://flax.readthedocs.io/en/latest/guides/filters_guide.html) just like any other type of state. It can be filtered using types (`nnx.RngState`, `nnx.RngKey`, `nnx.RngCount`) or using strings corresponding to the stream names (refer to [the Flax NNX `Filter` DSL](https://flax.readthedocs.io/en/latest/guides/filters_guide.html#the-filter-dsl)). Here's an example using `nnx.state` with various filters to select different substates of the `Rngs` inside a `Model`:"
   ]
  },
  {
   "cell_type": "code",
   "execution_count": 21,
   "metadata": {},
   "outputs": [
    {
     "data": {
      "text/html": [
       "<script> (()=>{ if (customElements.get('treescope-container') === undefined) { class TreescopeContainer extends HTMLElement { constructor() { super(); this.attachShadow({mode: \"open\"}); this.defns = {}; this.state = {}; } } customElements.define(\"treescope-container\", TreescopeContainer); } if (customElements.get('treescope-run-here') === undefined) { class RunHere extends HTMLElement { constructor() { super() } connectedCallback() { const run = child => { const fn = new Function(child.textContent); child.textContent = \"\"; fn.call(this); this.remove(); }; const child = this.querySelector(\"script\"); if (child) { run(child); } else { new MutationObserver(()=>{ run(this.querySelector(\"script\")); }).observe(this, {childList: true}); } } } customElements.define(\"treescope-run-here\", RunHere); } })(); </script> <treescope-container class=\"treescope_out_c0d7ce35e60448b08f3721b83bd92f1a\" style=\"display:block\"></treescope-container> <treescope-run-here><script type=\"application/octet-stream\"> const root = ( Array.from(document.getElementsByClassName( \"treescope_out_c0d7ce35e60448b08f3721b83bd92f1a\")) .filter((elt) => !elt.dataset.setup) )[0]; root.dataset.setup = 1; const msg = document.createElement(\"span\"); msg.style = \"color: #cccccc; font-family: monospace;\"; msg.textContent = \"(Loading...)\"; root.state.loadingMsg = msg; root.shadowRoot.appendChild(msg); root.state.chain = new Promise((resolve, reject) => { const observer = new IntersectionObserver((entries) => { for (const entry of entries) { if (entry.isIntersecting) { resolve(); observer.disconnect(); return; } } }, {rootMargin: \"1000px\"}); window.setTimeout(() => { observer.observe(root); }, 0); }); root.state.deferring = false; const _insertNode = (node) => { for (let oldScript of node.querySelectorAll(\"script\")) { let newScript = document.createElement(\"script\"); newScript.type = oldScript.type; newScript.textContent = oldScript.textContent; oldScript.parentNode.replaceChild(newScript, oldScript); } if (root.state.loadingMsg) { root.state.loadingMsg.remove(); root.state.loadingMsg = null; } root.shadowRoot.appendChild(node); }; root.defns.insertContent = ((contentNode, compressed) => { if (compressed) { root.state.deferring = true; } if (root.state.deferring) { root.state.chain = (async () => { await root.state.chain; if (compressed) { const encoded = contentNode.textContent; const blob = new Blob([ Uint8Array.from(atob(encoded), (m) => m.codePointAt(0)) ]); const reader = blob.stream().pipeThrough( new DecompressionStream(\"deflate\") ).pipeThrough( new TextDecoderStream(\"utf-8\") ).getReader(); const parts = []; while (true) { const step = await reader.read(); if (step.done) { break; } parts.push(step.value); } const tpl = document.createElement('template'); tpl.innerHTML = parts.join(\"\"); _insertNode(tpl.content); } else { _insertNode(contentNode.content); } })(); } else { _insertNode(contentNode.content); } }); </script></treescope-run-here><div style=\"display:none\"> <script type=\"application/octet-stream\" >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</script> <treescope-run-here><script type=\"application/octet-stream\"> const root = ( Array.from(document.getElementsByClassName( \"treescope_out_c0d7ce35e60448b08f3721b83bd92f1a\")) .filter((elt) => !elt.dataset['step0']) )[0]; root.dataset['step0'] = 1; root.defns.insertContent( this.parentNode.querySelector('script[type=\"application/octet-stream\"]'), true ); this.parentNode.remove(); </script></treescope-run-here> </div>"
      ],
      "text/plain": [
       "<IPython.core.display.HTML object>"
      ]
     },
     "metadata": {},
     "output_type": "display_data"
    },
    {
     "data": {
      "text/html": [
       "<div style=\"display:none\"> <script type=\"application/octet-stream\" >eNqVVEtT2zAQvvdXaMwM2AVMHnZCXp5poZ3h0kN76IFhMoq0jl0UyZUViqfDf+/KdpwaHEpziCztt9++d87TB5KbQsDC4WmeCVpMiVQSHJLyhRMrveQQg9bAl2E/HsOox1lIecDpYBVPLilnEEz4JUAITjTPMyqrf8IEzfOFw5RADrpaaXhwomNhZj/oo/9Ba1q4vTPCTZHBYptKMxx4x2szm19UHLsD/Yvm/+HkpD8IKASjcTzsBzEfToZjFg/okI8GKxoG472Tli/yK/+Y2mxAmuWvBOQSHhHAgU+lMq4fK8HpSsBSKg7ThOZuJOgKRNSWLI1arwWUOlOWALsH7nnkvUd+k9LGlBzR8jcjTxhdab2VqRYdullZmacy2xpSpskpeVfq0enUqV1AYWUes1cqv1aQDlFnLp4hSxnCBc1yK7R13ZXsBW7PcUQ6QCeYstKfk6hpjU5cSdYAd5B7KKz1WBe2fVzvAPU/CA86/3eQHe1ZH3WtXgm9JUvxTRrsVpakgmuQr8qdqBoX19vNSztmj6gH0DgUqVxP392SsDcOwn4QhKR/GQ77o8l4EtwdcLxj2IwGyJnK4Fxv5XkC2vYp02m260KaZSJl1KRKXihmwJznqEM3TsSUzBFF9RrMDc/Jgtw6b18fZ8R5+xjfzSpjXDGtlEFTJklzHw1/xesXHAfXm5HaIYyoBtVw/+cWdPENBDCjtOv4TdBLK3ZeqF4JXDfWSH33mX0ozRi9BcQ3Eg24oBh8T03ittQb0ljTtR2xyp+t/fQZZtDAdX39XCNsDDu0j3kHya9sSzTEVq40cQUYkiJfb4bHfF8CX4BcmwRfT0/tKrK4SojghhmvnwTYz4/FDZLvtG/TOzRgdXK11QyucQ8fzOGR3cMOOSXP1KtrKy0Nmx+nOt/ZLiNDhb1UwwZb2ybhqV2JziR7djrLRsVW7ujiP6tNb5M=</script> <treescope-run-here><script type=\"application/octet-stream\"> const root = ( Array.from(document.getElementsByClassName( \"treescope_out_c0d7ce35e60448b08f3721b83bd92f1a\")) .filter((elt) => !elt.dataset['step1']) )[0]; root.dataset['step1'] = 1; root.defns.insertContent( this.parentNode.querySelector('script[type=\"application/octet-stream\"]'), true ); this.parentNode.remove(); </script></treescope-run-here> </div>"
      ],
      "text/plain": [
       "<IPython.core.display.HTML object>"
      ]
     },
     "metadata": {},
     "output_type": "display_data"
    }
   ],
   "source": [
    "model = Model(nnx.Rngs(params=0, dropout=1))\n",
    "\n",
    "rng_state = nnx.state(model, nnx.RngState) # All random states.\n",
    "key_state = nnx.state(model, nnx.RngKey) # Only PRNG keys.\n",
    "count_state = nnx.state(model, nnx.RngCount) # Only counts.\n",
    "rng_dropout_state = nnx.state(model, 'dropout') # Only `dropout`.\n",
    "\n",
    "nnx.display(rng_dropout_state)"
   ]
  },
  {
   "cell_type": "markdown",
   "metadata": {},
   "source": [
    "## Reseeding\n",
    "\n",
    "In Haiku and Flax Linen, random states are explicitly passed to `Module.apply` each time before you call the model. This makes it easy to control the randomness of the model when needed (for example, for reproducibility).\n",
    "\n",
    "In Flax NNX, there are two ways to approach this:\n",
    "\n",
    "1. By passing an `nnx.Rngs` object through the `__call__` stack manually, as shown previously.\n",
    "2. By using `nnx.reseed` to set the random state of the model to a specific configuration. This option is less intrusive and can be used even if the model is not designed to enable manual control over the random state.\n",
    "\n",
    "`nnx.reseed` is a function that accepts an arbitrary graph node (this includes [pytrees](https://jax.readthedocs.io/en/latest/working-with-pytrees.html#working-with-pytrees) of `nnx.Module`s) and some keyword arguments containing the new seed or key value for the `nnx.RngStream`s specified by the argument names. `nnx.reseed` will then traverse the graph and update the random state of the matching `nnx.RngStream`s, this includes both setting the `key` to a possibly new value and resetting the `count` to zero.\n",
    "\n",
    "Here's an example of how to use `nnx.reseed` to reset the random state of the `nnx.Dropout` layer and verify that the computation is identical to the first time the model was called:"
   ]
  },
  {
   "cell_type": "code",
   "execution_count": 22,
   "metadata": {},
   "outputs": [],
   "source": [
    "model = Model(nnx.Rngs(params=0, dropout=1))\n",
    "x = jnp.ones((1, 20))\n",
    "\n",
    "y1 = model(x)\n",
    "y2 = model(x)\n",
    "\n",
    "nnx.reseed(model, dropout=1) # reset dropout RngState\n",
    "y3 = model(x)\n",
    "\n",
    "assert not jnp.allclose(y1, y2) # different\n",
    "assert jnp.allclose(y1, y3)     # same"
   ]
  },
  {
   "cell_type": "markdown",
   "metadata": {},
   "source": [
    "## Forking implicit random state\n",
    "\n",
    "We saw above how to use `rng.fork` when passing explicit random state through [Flax NNX transforms](https://flax.readthedocs.io/en/latest/guides/transforms.html) like `nnx.vmap` or `nnx.pmap`. The decorator `nnx.fork_rngs` allows this for implicit random state. Consider the example below, which generates a batch of samples from the nondeterministic model we defined above."
   ]
  },
  {
   "cell_type": "code",
   "execution_count": 23,
   "metadata": {},
   "outputs": [
    {
     "name": "stdout",
     "output_type": "stream",
     "text": [
      "(5, 1, 10)\n"
     ]
    }
   ],
   "source": [
    "rng_axes = nnx.StateAxes({'dropout': 0, ...: None})\n",
    "\n",
    "@nnx.fork_rngs(split={'dropout': 5})\n",
    "@nnx.vmap(in_axes=(rng_axes, None), out_axes=0)\n",
    "def sample_from_model(model, x):\n",
    "    return model(x)\n",
    "\n",
    "print(sample_from_model(model, x).shape)"
   ]
  },
  {
   "cell_type": "markdown",
   "metadata": {},
   "source": [
    "Here `sample_from_model` is modified by two decorators:\n",
    "- The function we get from the `nnx.vmap` decorator expects that the random state of the `model` argument has already been split into 5 pieces. It runs the model once for each random key.\n",
    "- The function we get from the `nnx.fork_rngs` decorator splits the random state of its `model` argument into five pieces before passing it on to the inner function."
   ]
  },
  {
   "cell_type": "markdown",
   "metadata": {},
   "source": [
    "## Transforming implicit state"
   ]
  },
  {
   "cell_type": "markdown",
   "metadata": {},
   "source": [
    "In the previous section, we showed how to use `nnx.vmap` with a module that contained implicit random state. But we can use other `nnx` transformations too! Remember: implicit random state isn't different from any other type of Model state, and this applies to Flax NNX transforms too. This means you can use the Flax NNX state handling APIs of each transform to get the results you want. For a more involved example, let’s explore how to implement recurrent dropout on an `RNNCell` using `nnx.scan`.\n",
    "\n",
    "We'll start by constructing the `RNNCell` class:\n",
    "\n",
    "- First, create an `nnx.Dropout` layer that will sample PRNG keys from a custom `recurrent_dropout` stream.\n",
    "- Apply dropout (`drop`) to the hidden state `h` of the `RNNCell`.\n",
    "- Then, define an `initial_state` function to create the initial state of the `RNNCell`.\n",
    "- Finally, instantiate `RNNCell`."
   ]
  },
  {
   "cell_type": "code",
   "execution_count": 24,
   "metadata": {},
   "outputs": [],
   "source": [
    "class Count(nnx.Variable): pass\n",
    "\n",
    "class RNNCell(nnx.Module):\n",
    "  def __init__(self, din, dout, rngs):\n",
    "    self.linear = nnx.Linear(dout + din, dout, rngs=rngs)\n",
    "    self.drop = nnx.Dropout(0.1, rngs=rngs, rng_collection='recurrent_dropout')\n",
    "    self.dout = dout\n",
    "    self.count = Count(jnp.array(0, jnp.uint32))\n",
    "\n",
    "  def __call__(self, h, x) -> tuple[jax.Array, jax.Array]:\n",
    "    h = self.drop(h) # Recurrent dropout.\n",
    "    y = nnx.relu(self.linear(jnp.concatenate([h, x], axis=-1)))\n",
    "    self.count.value += 1\n",
    "    return y, y\n",
    "\n",
    "  def initial_state(self, batch_size: int):\n",
    "    return jnp.zeros((batch_size, self.dout))\n",
    "\n",
    "cell = RNNCell(8, 16, nnx.Rngs(params=0, recurrent_dropout=1))"
   ]
  },
  {
   "cell_type": "markdown",
   "metadata": {},
   "source": [
    "Next, use `nnx.scan` over an `unroll` function to implement the `rnn_forward` operation:\n",
    "- The key ingredient of recurrent dropout is to apply the same dropout mask across all time steps. Therefore, to achieve this you will pass `nnx.StateAxes` to `nnx.scan`'s `in_axes`, specifying that the `cell`'s `recurrent_dropout` PRNG stream will be broadcast, and the rest of the `RNNCell`'s state will be carried over.\n",
    "- Also, the hidden state `h` will be the `nnx.scan`'s `Carry` variable, and the sequence `x` will be `scan`ned over its axis `1`."
   ]
  },
  {
   "cell_type": "code",
   "execution_count": 25,
   "metadata": {},
   "outputs": [
    {
     "name": "stdout",
     "output_type": "stream",
     "text": [
      "y.shape = (4, 20, 16)\n",
      "cell.count.value = Array(20, dtype=uint32)\n"
     ]
    }
   ],
   "source": [
    "@nnx.jit\n",
    "def rnn_forward(cell: RNNCell, x: jax.Array):\n",
    "  h = cell.initial_state(batch_size=x.shape[0])\n",
    "\n",
    "  # Broadcast the 'recurrent_dropout' PRNG state to have the same mask on every step.\n",
    "  state_axes = nnx.StateAxes({'recurrent_dropout': None, ...: nnx.Carry})\n",
    "  @nnx.scan(in_axes=(state_axes, nnx.Carry, 1), out_axes=(nnx.Carry, 1))\n",
    "  def unroll(cell: RNNCell, h, x) -> tuple[jax.Array, jax.Array]:\n",
    "    h, y = cell(h, x)\n",
    "    return h, y\n",
    "\n",
    "  h, y = unroll(cell, h, x)\n",
    "  return y\n",
    "\n",
    "x = jnp.ones((4, 20, 8))\n",
    "y = rnn_forward(cell, x)\n",
    "\n",
    "print(f'{y.shape = }')\n",
    "print(f'{cell.count.value = }')"
   ]
  }
 ],
 "metadata": {
  "jupytext": {
   "formats": "ipynb,md:myst"
  },
  "language_info": {
   "codemirror_mode": {
    "name": "ipython",
    "version": 3
   },
   "file_extension": ".py",
   "mimetype": "text/x-python",
   "name": "python",
   "nbconvert_exporter": "python",
   "pygments_lexer": "ipython3",
   "version": "3.11.6"
  }
 },
 "nbformat": 4,
 "nbformat_minor": 4
}
