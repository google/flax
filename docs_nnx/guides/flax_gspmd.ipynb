{
  "cells": [
    {
      "metadata": {
        "id": "4zT6jMUyMzIA"
      },
      "cell_type": "markdown",
      "source": [
        "# Scale up on multiple devices\n",
        "\n",
        "This guide demonstrates how to scale up [Flax NNX `Module`s](https://flax.readthedocs.io/en/latest/api_reference/flax.nnx/module.html#flax.nnx.Module) on [multiple devices and hosts](Multi-host and multi-process environments) - such as GPUs, Google TPUs, and CPUs - using the [JAX just-in-time compilation machinery (`jax.jit`)](https://jax.readthedocs.io/en/latest/jit-compilation.html) and [`flax.nnx.spmd`](https://flax.readthedocs.io/en/latest/api_reference/flax.nnx/spmd.html)."
      ]
    },
    {
      "attachments": {},
      "metadata": {
        "id": "SE0_eG6FMzIA"
      },
      "cell_type": "markdown",
      "source": [
        "## Overview\n",
        "\n",
        "Flax relies on [JAX](https://jax.readthedocs.io) for numeric computations and scaling the computations up across multiple devices, such as GPU and Google TPUs. At the core of scaling up is the [JAX just-in-time (`jax.jit`) compiler `jax.jit`](https://jax.readthedocs.io/en/latest/_autosummary/jax.jit.html). Throughout this guide, you will be using Flax’s own [`nnx.jit`](https://flax.readthedocs.io/en/latest/api_reference/flax.nnx/transforms.html#flax.nnx.jit) transform, which wraps around [`jax.jit`](https://jax.readthedocs.io/en/latest/_autosummary/jax.jit.html) and works more conveniently with Flax NNX `Module`s.\n",
        "\n",
        "\u003e **Note:** To learn more about Flax’s transformations, such as `nnx.jit` and `nnx.vmap`, go to [Why Flax NNX? - Transforms](https://flax.readthedocs.io/en/latest/why.html#transforms), [Transformations](https://flax.readthedocs.io/en/latest/guides/transforms.html), and [Flax NNX vs JAX Transformations](https://flax.readthedocs.io/en/latest/guides/jax_and_nnx_transforms.html).\n",
        "\n",
        "JAX compilation follows the [Single Program Multi Data (SPMD)](https://jax.readthedocs.io/en/latest/glossary.html#term-SPMD) paradigm. This means you write Python code as if it runs only on one device, and [`jax.jit`](https://jax.readthedocs.io/en/latest/_autosummary/jax.jit.html#jax.jit) will [automatically compile](https://jax.readthedocs.io/en/latest/jit-compilation.html#jit-compilation) and [run it](https://jax.readthedocs.io/en/latest/sharded-computation.html) on [multiple devices](https://jax.readthedocs.io/en/latest/notebooks/Distributed_arrays_and_automatic_parallelization.html).\n",
        "\n",
        "To ensure the compilation performance, you often need to instruct JAX how your model's variables need to be sharded across devices. This is where Flax NNX's Sharding Metadata API - [`flax.nnx.spmd`](https://flax.readthedocs.io/en/latest/api_reference/flax.nnx/spmd.html) - comes in. It helps you annotate your model variables with this information.\n",
        "\n",
        "\u003e **Note to Flax Linen users**: The [`flax.nnx.spmd`](https://flax.readthedocs.io/en/latest/api_reference/flax.nnx/spmd.html) API is similar to what is described in [the Linen Flax on `(p)jit` guide](https://flax.readthedocs.io/en/latest/guides/parallel_training/flax_on_pjit.html) on the model definition level. However, the top-level code in Flax NNX is simpler due to the benefits brought by Flax NNX, and some text explanations will be more updated and clearer.\n",
        "\n",
        "If you are new parallelization in JAX, you can learn more about its APIs for scaling up in the following tutorials:\n",
        "\n",
        "- [Introduction to parallel programming](https://jax.readthedocs.io/en/latest/sharded-computation.html): A 101 level tutorial covering the basics of automatic parallelization with [`jax.jit`](https://jax.readthedocs.io/en/latest/_autosummary/jax.jit.html#jax.jit), semi-automatic parallelization with [`jax.jit`](https://jax.readthedocs.io/en/latest/_autosummary/jax.jit.html) and [`jax.lax.with_sharding_constraint`](https://jax.readthedocs.io/en/latest/_autosummary/jax.lax.with_sharding_constraint.html), and manual sharding with [`shard_map`](https://jax.readthedocs.io/en/latest/_autosummary/jax.experimental.shard_map.shard_map.html#jax.experimental.shard_map.shard_map).\n",
        "- [JAX in multi-process environments](https://jax.readthedocs.io/en/latest/multi_process.html).\n",
        "- [Distributed arrays and automatic parallelization](https://jax.readthedocs.io/en/latest/notebooks/Distributed_arrays_and_automatic_parallelization.html): A more detailed tutorial about parallelization with [`jax.jit`](https://jax.readthedocs.io/en/latest/_autosummary/jax.jit.html#jax.jit) and [`jax.lax.with_sharding_constraint`](https://jax.readthedocs.io/en/latest/_autosummary/jax.lax.with_sharding_constraint.html). Study it after the [101](https://jax.readthedocs.io/en/latest/sharded-computation.html).\n",
        "- [Manual parallelism with `shard_map`](https://jax.readthedocs.io/en/latest/notebooks/shard_map.html): Another more in-depth doc that follows the [101](https://jax.readthedocs.io/en/latest/sharded-computation.html)."
      ]
    },
    {
      "attachments": {},
      "metadata": {
        "id": "PwjcPvLqMzIA"
      },
      "cell_type": "markdown",
      "source": [
        "### Setup\n",
        "\n",
        "Import some necessary dependencies.\n",
        "\n",
        "**Note:** This guide uses the `--xla_force_host_platform_device_count=8` flag to emulate multiple devices in a CPU environment in a Google Colab/Jupyter Notebook. You don't need this if you are already using a multi-device TPU environment."
      ]
    },
    {
      "metadata": {
        "id": "3Py6Tym7MzIA"
      },
      "cell_type": "code",
      "source": [
        "import os\n",
        "os.environ[\"XLA_FLAGS\"] = '--xla_force_host_platform_device_count=8'"
      ],
      "outputs": [],
      "execution_count": 1
    },
    {
      "metadata": {
        "id": "EWhfTFPEMzIA"
      },
      "cell_type": "code",
      "source": [
        "from typing import *\n",
        "\n",
        "import numpy as np\n",
        "import jax\n",
        "from jax import numpy as jnp\n",
        "from jax.sharding import Mesh, PartitionSpec, NamedSharding\n",
        "\n",
        "import flax\n",
        "from flax import nnx\n",
        "\n",
        "import optax # Optax for common losses and optimizers.\n",
        "\n",
        "# TODO: Update doc according to `4844-var-eager-sharding.md`.\n",
        "flax.config.update('flax_always_shard_variable', False)"
      ],
      "outputs": [],
      "execution_count": 2
    },
    {
      "metadata": {
        "id": "WvZdqvCgMzIA"
      },
      "cell_type": "code",
      "source": [
        "print(f'You have 8 “fake” JAX devices now: {jax.devices()}')"
      ],
      "outputs": [
        {
          "name": "stdout",
          "output_type": "stream",
          "text": [
            "You have 8 “fake” JAX devices now: [CpuDevice(id=0), CpuDevice(id=1), CpuDevice(id=2), CpuDevice(id=3), CpuDevice(id=4), CpuDevice(id=5), CpuDevice(id=6), CpuDevice(id=7)]\n"
          ]
        }
      ],
      "execution_count": 3
    },
    {
      "attachments": {},
      "metadata": {
        "id": "b8wcYgZKMzIA"
      },
      "cell_type": "markdown",
      "source": [
        "The code below shows how to import and set up the JAX-level device API, following JAX's [Distributed arrays and automatic parallelization](https://jax.readthedocs.io/en/latest/notebooks/Distributed_arrays_and_automatic_parallelization.html) guide:\n",
        "\n",
        "1. Start a 2x4 device `mesh` (8 devices) using the JAX [`jax.sharding.Mesh`](https://jax.readthedocs.io/en/latest/jax.sharding.html#jax.sharding.Mesh). This layout is the same as on a [TPU v3-8](https://cloud.google.com/tpu/docs/system-architecture-tpu-vm#single_tpu_board) (also 8 devices).\n",
        "\n",
        "2. Annotate each axis with a name using the `axis_names` parameter. A typical way to annotate axis names is `axis_name=('data', 'model')`, where:\n",
        "\n",
        "  * `'data'`: the mesh dimension used for data-parallel sharding of the batch dimension of inputs and activations.\n",
        "  * `'model'`: the mesh dimension used for sharding parameters of the model across devices."
      ]
    },
    {
      "metadata": {
        "id": "AWk6nqhDMzIB"
      },
      "cell_type": "code",
      "source": [
        "# Create a mesh of two dimensions and annotate each axis with a name.\n",
        "mesh = Mesh(devices=np.array(jax.devices()).reshape(2, 4),\n",
        "            axis_names=('data', 'model'))\n",
        "print(mesh)"
      ],
      "outputs": [
        {
          "name": "stdout",
          "output_type": "stream",
          "text": [
            "Mesh('data': 2, 'model': 4, axis_types=(Auto, Auto))\n"
          ]
        }
      ],
      "execution_count": 4
    },
    {
      "attachments": {},
      "metadata": {
        "id": "Zrb3GTLCMzIB"
      },
      "cell_type": "markdown",
      "source": [
        "## Define a model with specified sharding\n",
        "\n",
        "Next, create an example layer called `DotReluDot` that subclasses Flax [`nnx.Module`](https://flax.readthedocs.io/en/latest/api_reference/flax.nnx/module.html#flax.nnx.Module).\n",
        "- This layer carries out two dot product multiplications upon the input `x`, and uses the `jax.nn.relu` (ReLU) activation function in-between.\n",
        "- To annotate a model variable with their ideal sharding, you can use [`flax.nnx.with_partitioning`](https://flax.readthedocs.io/en/latest/api_reference/flax.nnx/spmd.html#flax.nnx.with_partitioning) to wrap over its initializer function. Essentially, this calls [`flax.nnx.with_metadata`](https://flax.readthedocs.io/en/latest/api_reference/flax.nnx/variables.html#flax.nnx.with_metadata) which adds a `.sharding` attribute field to the corresponding [`nnx.Variable`](https://flax.readthedocs.io/en/latest/api_reference/flax.nnx/variables.html#flax.nnx.Variable).\n",
        "\n",
        "\u003e **Note:** This annotation will be [preserved and adjusted accordingly across lifted transformations in Flax NNX](https://flax.readthedocs.io/en/latest/guides/transforms.html#axes-metadata). This means if you use sharding annotations along with any transform that modifies axes (like [`nnx.vmap`](https://flax.readthedocs.io/en/latest/api_reference/flax.nnx/transforms.html), [`nnx.scan`](https://flax.readthedocs.io/en/latest/api_reference/flax.nnx/transforms.html)), you need to provide sharding of that additional axis via the `transform_metadata` arg. Check out the [Flax NNX transformations (transforms) guide](https://flax.readthedocs.io/en/latest/guides/transforms.html) to learn more."
      ]
    },
    {
      "metadata": {
        "id": "1lL0KBZ5MzIB"
      },
      "cell_type": "code",
      "source": [
        "class DotReluDot(nnx.Module):\n",
        "  def __init__(self, depth: int, rngs: nnx.Rngs):\n",
        "    init_fn = nnx.initializers.lecun_normal()\n",
        "\n",
        "    # Initialize a sublayer `self.dot1` and annotate its kernel with.\n",
        "    # `sharding (None, 'model')`.\n",
        "    self.dot1 = nnx.Linear(\n",
        "      depth, depth,\n",
        "      kernel_init=nnx.with_partitioning(init_fn, (None, 'model')),\n",
        "      use_bias=False,  # or use `bias_init` to give it annotation too\n",
        "      rngs=rngs)\n",
        "\n",
        "    # Initialize a weight param `w2` and annotate with sharding ('model', None).\n",
        "    # Note that this is simply adding `.sharding` to the variable as metadata!\n",
        "    self.w2 = nnx.Param(\n",
        "      init_fn(rngs.params(), (depth, depth)),  # RNG key and shape for W2 creation\n",
        "      sharding=('model', None),\n",
        "    )\n",
        "\n",
        "  def __call__(self, x: jax.Array):\n",
        "    y = self.dot1(x)\n",
        "    y = jax.nn.relu(y)\n",
        "    # In data parallelism, input / intermediate value's first dimension (batch)\n",
        "    # will be sharded on `data` axis\n",
        "    y = jax.lax.with_sharding_constraint(y, PartitionSpec('data', 'model'))\n",
        "    z = jnp.dot(y, self.w2.value)\n",
        "    return z"
      ],
      "outputs": [],
      "execution_count": 5
    },
    {
      "attachments": {},
      "metadata": {
        "id": "4DlMMm50MzIB"
      },
      "cell_type": "markdown",
      "source": [
        "### Understand sharding names\n",
        "\n",
        "The so-called \"sharding annotations\" are essentially tuples of device axis names like `'data'`, `'model'` or `None`. This describes how each dimension of this JAX array should be sharded — either across one of the device mesh dimensions, or not sharded at all.\n",
        "\n",
        "So, when you define `W1` with shape `(depth, depth)` and annotate as `(None, 'model')`:\n",
        "\n",
        "* The first dimension will be replicated across all devices.\n",
        "* The second dimension will be sharded over the `'model'` axis of the device mesh. This means `W1` will be sharded 4-way on devices `(0, 4)`, `(1, 5)`, `(2, 6)` and `(3, 7)`, in this dimension.\n",
        "\n",
        "JAX's [Distributed arrays and automatic parallelization](https://jax.readthedocs.io/en/latest/notebooks/Distributed_arrays_and_automatic_parallelization.html) guide offers more examples and explanations."
      ]
    },
    {
      "attachments": {},
      "metadata": {
        "id": "tYhcQ3XsMzIB"
      },
      "cell_type": "markdown",
      "source": [
        "## Initialize a sharded model\n",
        "\n",
        "Now, you have annotations attached to the Flax [`nnx.Variable`](https://flax.readthedocs.io/en/latest/api_reference/flax.nnx/variables.html#flax.nnx.Variable), but the actual weights have not been sharded yet. If you just go ahead and create this model, all [`jax.Array`s](https://jax.readthedocs.io/en/latest/key-concepts.html#jax-arrays-jax-array) are still stuck in device `0`. In practice, you'd want to avoid this, because a large model will \"OOM\" (will cause the device to run out of memory) in this situation, while all the other devices are not utilized."
      ]
    },
    {
      "metadata": {
        "id": "_S-CYV8KMzIB"
      },
      "cell_type": "code",
      "source": [
        "unsharded_model = DotReluDot(1024, rngs=nnx.Rngs(0))\n",
        "\n",
        "# You have annotations stuck there, yay!\n",
        "print(unsharded_model.dot1.kernel.sharding)     # (None, 'model')\n",
        "print(unsharded_model.w2.sharding)              # ('model', None)\n",
        "\n",
        "# But the actual arrays are not sharded?\n",
        "print(unsharded_model.dot1.kernel.value.sharding)  # SingleDeviceSharding\n",
        "print(unsharded_model.w2.value.sharding)           # SingleDeviceSharding"
      ],
      "outputs": [
        {
          "name": "stdout",
          "output_type": "stream",
          "text": [
            "(None, 'model')\n",
            "('model', None)\n",
            "SingleDeviceSharding(device=CpuDevice(id=0), memory_kind=unpinned_host)\n",
            "SingleDeviceSharding(device=CpuDevice(id=0), memory_kind=unpinned_host)\n"
          ]
        }
      ],
      "execution_count": 6
    },
    {
      "metadata": {
        "id": "T2QOGYqXMzIB"
      },
      "cell_type": "markdown",
      "source": [
        "Here, you should leverage JAX's compilation mechanism via Flax’s [`nnx.jit`](https://flax.readthedocs.io/en/latest/api_reference/flax.nnx/transforms.html#flax.nnx.jit) to create the sharded model. The key is to initialize a model and assign shardings upon the model state within a `jit`ted function:\n",
        "\n",
        "1. Use [`nnx.get_partition_spec`](https://flax.readthedocs.io/en/latest/api_reference/flax.nnx/spmd.html#flax.nnx.get_partition_spec) to strip out the `.sharding` annotations attached upon model variables.\n",
        "\n",
        "1. Call [`jax.lax.with_sharding_constraint`](https://jax.readthedocs.io/en/latest/_autosummary/jax.lax.with_sharding_constraint.html) to bind the model state with the sharding annotations. This API tells the top-level `jit` how to shard a variable!\n",
        "\n",
        "1. Throw away the unsharded state and return the model based upon the sharded state.\n",
        "\n",
        "1. Compile the whole function with `nnx.jit`, which allows the output to be a stateful Flax NNX `Module`.\n",
        "\n",
        "1. Run it under a device mesh context so that JAX knows which devices to shard it to.\n",
        "\n",
        "The entire compiled `create_sharded_model()` function will directly generate a model with sharded JAX arrays, and no single-device \"OOM\" will happen!"
      ]
    },
    {
      "metadata": {
        "id": "R-hiDxlzMzIB"
      },
      "cell_type": "code",
      "source": [
        "@nnx.jit\n",
        "def create_sharded_model():\n",
        "  model = DotReluDot(1024, rngs=nnx.Rngs(0)) # Unsharded at this moment.\n",
        "  state = nnx.state(model)                   # The model's state, a pure pytree.\n",
        "  pspecs = nnx.get_partition_spec(state)     # Strip out the annotations from state.\n",
        "  sharded_state = jax.lax.with_sharding_constraint(state, pspecs)\n",
        "  nnx.update(model, sharded_state)           # The model is sharded now!\n",
        "  return model\n",
        "\n",
        "with mesh:\n",
        "  sharded_model = create_sharded_model()\n",
        "\n",
        "# They are some `GSPMDSharding` now - not a single device!\n",
        "print(sharded_model.dot1.kernel.value.sharding)\n",
        "print(sharded_model.w2.value.sharding)\n",
        "\n",
        "# Check out their equivalency with some easier-to-read sharding descriptions\n",
        "assert sharded_model.dot1.kernel.value.sharding.is_equivalent_to(\n",
        "  NamedSharding(mesh, PartitionSpec(None, 'model')), ndim=2\n",
        ")\n",
        "assert sharded_model.w2.value.sharding.is_equivalent_to(\n",
        "  NamedSharding(mesh, PartitionSpec('model', None)), ndim=2\n",
        ")"
      ],
      "outputs": [
        {
          "name": "stdout",
          "output_type": "stream",
          "text": [
            "NamedSharding(mesh=Mesh('data': 2, 'model': 4, axis_types=(Auto, Auto)), spec=PartitionSpec(None, 'model'), memory_kind=unpinned_host)\n",
            "NamedSharding(mesh=Mesh('data': 2, 'model': 4, axis_types=(Auto, Auto)), spec=PartitionSpec('model',), memory_kind=unpinned_host)\n"
          ]
        }
      ],
      "execution_count": 7
    },
    {
      "metadata": {
        "id": "kcjFGnDWMzIB"
      },
      "cell_type": "markdown",
      "source": [
        "You can view the sharding of any 1-D or 2-D array with [`jax.debug.visualize_array_sharding`](https://jax.readthedocs.io/en/latest/_autosummary/jax.debug.visualize_array_sharding.html):"
      ]
    },
    {
      "metadata": {
        "id": "xgIIYUTBMzIB"
      },
      "cell_type": "code",
      "source": [
        "print(\"sharded_model.dot1.kernel (None, 'model') :\")\n",
        "jax.debug.visualize_array_sharding(sharded_model.dot1.kernel.value)\n",
        "print(\"sharded_model.w2 ('model', None) :\")\n",
        "jax.debug.visualize_array_sharding(sharded_model.w2.value)"
      ],
      "outputs": [
        {
          "name": "stdout",
          "output_type": "stream",
          "text": [
            "sharded_model.dot1.kernel (None, 'model') :\n"
          ]
        },
        {
          "data": {
            "text/html": [
              "\u003cpre style=\"white-space:pre;overflow-x:auto;line-height:normal;font-family:Menlo,'DejaVu Sans Mono',consolas,'Courier New',monospace\"\u003e\u003cspan style=\"color: #ffffff; text-decoration-color: #ffffff; background-color: #393b79\"\u003e         \u003c/span\u003e\u003cspan style=\"color: #ffffff; text-decoration-color: #ffffff; background-color: #de9ed6\"\u003e         \u003c/span\u003e\u003cspan style=\"color: #ffffff; text-decoration-color: #ffffff; background-color: #ad494a\"\u003e         \u003c/span\u003e\u003cspan style=\"color: #000000; text-decoration-color: #000000; background-color: #b5cf6b\"\u003e         \u003c/span\u003e\n",
              "\u003cspan style=\"color: #ffffff; text-decoration-color: #ffffff; background-color: #393b79\"\u003e         \u003c/span\u003e\u003cspan style=\"color: #ffffff; text-decoration-color: #ffffff; background-color: #de9ed6\"\u003e         \u003c/span\u003e\u003cspan style=\"color: #ffffff; text-decoration-color: #ffffff; background-color: #ad494a\"\u003e         \u003c/span\u003e\u003cspan style=\"color: #000000; text-decoration-color: #000000; background-color: #b5cf6b\"\u003e         \u003c/span\u003e\n",
              "\u003cspan style=\"color: #ffffff; text-decoration-color: #ffffff; background-color: #393b79\"\u003e         \u003c/span\u003e\u003cspan style=\"color: #ffffff; text-decoration-color: #ffffff; background-color: #de9ed6\"\u003e         \u003c/span\u003e\u003cspan style=\"color: #ffffff; text-decoration-color: #ffffff; background-color: #ad494a\"\u003e         \u003c/span\u003e\u003cspan style=\"color: #000000; text-decoration-color: #000000; background-color: #b5cf6b\"\u003e         \u003c/span\u003e\n",
              "\u003cspan style=\"color: #ffffff; text-decoration-color: #ffffff; background-color: #393b79\"\u003e         \u003c/span\u003e\u003cspan style=\"color: #ffffff; text-decoration-color: #ffffff; background-color: #de9ed6\"\u003e         \u003c/span\u003e\u003cspan style=\"color: #ffffff; text-decoration-color: #ffffff; background-color: #ad494a\"\u003e         \u003c/span\u003e\u003cspan style=\"color: #000000; text-decoration-color: #000000; background-color: #b5cf6b\"\u003e         \u003c/span\u003e\n",
              "\u003cspan style=\"color: #ffffff; text-decoration-color: #ffffff; background-color: #393b79\"\u003e         \u003c/span\u003e\u003cspan style=\"color: #ffffff; text-decoration-color: #ffffff; background-color: #de9ed6\"\u003e         \u003c/span\u003e\u003cspan style=\"color: #ffffff; text-decoration-color: #ffffff; background-color: #ad494a\"\u003e         \u003c/span\u003e\u003cspan style=\"color: #000000; text-decoration-color: #000000; background-color: #b5cf6b\"\u003e         \u003c/span\u003e\n",
              "\u003cspan style=\"color: #ffffff; text-decoration-color: #ffffff; background-color: #393b79\"\u003e CPU 0,4 \u003c/span\u003e\u003cspan style=\"color: #ffffff; text-decoration-color: #ffffff; background-color: #de9ed6\"\u003e CPU 1,5 \u003c/span\u003e\u003cspan style=\"color: #ffffff; text-decoration-color: #ffffff; background-color: #ad494a\"\u003e CPU 2,6 \u003c/span\u003e\u003cspan style=\"color: #000000; text-decoration-color: #000000; background-color: #b5cf6b\"\u003e CPU 3,7 \u003c/span\u003e\n",
              "\u003cspan style=\"color: #ffffff; text-decoration-color: #ffffff; background-color: #393b79\"\u003e         \u003c/span\u003e\u003cspan style=\"color: #ffffff; text-decoration-color: #ffffff; background-color: #de9ed6\"\u003e         \u003c/span\u003e\u003cspan style=\"color: #ffffff; text-decoration-color: #ffffff; background-color: #ad494a\"\u003e         \u003c/span\u003e\u003cspan style=\"color: #000000; text-decoration-color: #000000; background-color: #b5cf6b\"\u003e         \u003c/span\u003e\n",
              "\u003cspan style=\"color: #ffffff; text-decoration-color: #ffffff; background-color: #393b79\"\u003e         \u003c/span\u003e\u003cspan style=\"color: #ffffff; text-decoration-color: #ffffff; background-color: #de9ed6\"\u003e         \u003c/span\u003e\u003cspan style=\"color: #ffffff; text-decoration-color: #ffffff; background-color: #ad494a\"\u003e         \u003c/span\u003e\u003cspan style=\"color: #000000; text-decoration-color: #000000; background-color: #b5cf6b\"\u003e         \u003c/span\u003e\n",
              "\u003cspan style=\"color: #ffffff; text-decoration-color: #ffffff; background-color: #393b79\"\u003e         \u003c/span\u003e\u003cspan style=\"color: #ffffff; text-decoration-color: #ffffff; background-color: #de9ed6\"\u003e         \u003c/span\u003e\u003cspan style=\"color: #ffffff; text-decoration-color: #ffffff; background-color: #ad494a\"\u003e         \u003c/span\u003e\u003cspan style=\"color: #000000; text-decoration-color: #000000; background-color: #b5cf6b\"\u003e         \u003c/span\u003e\n",
              "\u003cspan style=\"color: #ffffff; text-decoration-color: #ffffff; background-color: #393b79\"\u003e         \u003c/span\u003e\u003cspan style=\"color: #ffffff; text-decoration-color: #ffffff; background-color: #de9ed6\"\u003e         \u003c/span\u003e\u003cspan style=\"color: #ffffff; text-decoration-color: #ffffff; background-color: #ad494a\"\u003e         \u003c/span\u003e\u003cspan style=\"color: #000000; text-decoration-color: #000000; background-color: #b5cf6b\"\u003e         \u003c/span\u003e\n",
              "\u003cspan style=\"color: #ffffff; text-decoration-color: #ffffff; background-color: #393b79\"\u003e         \u003c/span\u003e\u003cspan style=\"color: #ffffff; text-decoration-color: #ffffff; background-color: #de9ed6\"\u003e         \u003c/span\u003e\u003cspan style=\"color: #ffffff; text-decoration-color: #ffffff; background-color: #ad494a\"\u003e         \u003c/span\u003e\u003cspan style=\"color: #000000; text-decoration-color: #000000; background-color: #b5cf6b\"\u003e         \u003c/span\u003e\n",
              "\u003c/pre\u003e\n"
            ],
            "text/plain": [
              "\u001b[38;2;255;255;255;48;2;57;59;121m         \u001b[0m\u001b[38;2;255;255;255;48;2;222;158;214m         \u001b[0m\u001b[38;2;255;255;255;48;2;173;73;74m         \u001b[0m\u001b[38;2;0;0;0;48;2;181;207;107m         \u001b[0m\n",
              "\u001b[38;2;255;255;255;48;2;57;59;121m         \u001b[0m\u001b[38;2;255;255;255;48;2;222;158;214m         \u001b[0m\u001b[38;2;255;255;255;48;2;173;73;74m         \u001b[0m\u001b[38;2;0;0;0;48;2;181;207;107m         \u001b[0m\n",
              "\u001b[38;2;255;255;255;48;2;57;59;121m         \u001b[0m\u001b[38;2;255;255;255;48;2;222;158;214m         \u001b[0m\u001b[38;2;255;255;255;48;2;173;73;74m         \u001b[0m\u001b[38;2;0;0;0;48;2;181;207;107m         \u001b[0m\n",
              "\u001b[38;2;255;255;255;48;2;57;59;121m         \u001b[0m\u001b[38;2;255;255;255;48;2;222;158;214m         \u001b[0m\u001b[38;2;255;255;255;48;2;173;73;74m         \u001b[0m\u001b[38;2;0;0;0;48;2;181;207;107m         \u001b[0m\n",
              "\u001b[38;2;255;255;255;48;2;57;59;121m         \u001b[0m\u001b[38;2;255;255;255;48;2;222;158;214m         \u001b[0m\u001b[38;2;255;255;255;48;2;173;73;74m         \u001b[0m\u001b[38;2;0;0;0;48;2;181;207;107m         \u001b[0m\n",
              "\u001b[38;2;255;255;255;48;2;57;59;121m \u001b[0m\u001b[38;2;255;255;255;48;2;57;59;121mCPU 0,4\u001b[0m\u001b[38;2;255;255;255;48;2;57;59;121m \u001b[0m\u001b[38;2;255;255;255;48;2;222;158;214m \u001b[0m\u001b[38;2;255;255;255;48;2;222;158;214mCPU 1,5\u001b[0m\u001b[38;2;255;255;255;48;2;222;158;214m \u001b[0m\u001b[38;2;255;255;255;48;2;173;73;74m \u001b[0m\u001b[38;2;255;255;255;48;2;173;73;74mCPU 2,6\u001b[0m\u001b[38;2;255;255;255;48;2;173;73;74m \u001b[0m\u001b[38;2;0;0;0;48;2;181;207;107m \u001b[0m\u001b[38;2;0;0;0;48;2;181;207;107mCPU 3,7\u001b[0m\u001b[38;2;0;0;0;48;2;181;207;107m \u001b[0m\n",
              "\u001b[38;2;255;255;255;48;2;57;59;121m         \u001b[0m\u001b[38;2;255;255;255;48;2;222;158;214m         \u001b[0m\u001b[38;2;255;255;255;48;2;173;73;74m         \u001b[0m\u001b[38;2;0;0;0;48;2;181;207;107m         \u001b[0m\n",
              "\u001b[38;2;255;255;255;48;2;57;59;121m         \u001b[0m\u001b[38;2;255;255;255;48;2;222;158;214m         \u001b[0m\u001b[38;2;255;255;255;48;2;173;73;74m         \u001b[0m\u001b[38;2;0;0;0;48;2;181;207;107m         \u001b[0m\n",
              "\u001b[38;2;255;255;255;48;2;57;59;121m         \u001b[0m\u001b[38;2;255;255;255;48;2;222;158;214m         \u001b[0m\u001b[38;2;255;255;255;48;2;173;73;74m         \u001b[0m\u001b[38;2;0;0;0;48;2;181;207;107m         \u001b[0m\n",
              "\u001b[38;2;255;255;255;48;2;57;59;121m         \u001b[0m\u001b[38;2;255;255;255;48;2;222;158;214m         \u001b[0m\u001b[38;2;255;255;255;48;2;173;73;74m         \u001b[0m\u001b[38;2;0;0;0;48;2;181;207;107m         \u001b[0m\n",
              "\u001b[38;2;255;255;255;48;2;57;59;121m         \u001b[0m\u001b[38;2;255;255;255;48;2;222;158;214m         \u001b[0m\u001b[38;2;255;255;255;48;2;173;73;74m         \u001b[0m\u001b[38;2;0;0;0;48;2;181;207;107m         \u001b[0m\n"
            ]
          },
          "metadata": {},
          "output_type": "display_data"
        },
        {
          "name": "stdout",
          "output_type": "stream",
          "text": [
            "sharded_model.w2 ('model', None) :\n"
          ]
        },
        {
          "data": {
            "text/html": [
              "\u003cpre style=\"white-space:pre;overflow-x:auto;line-height:normal;font-family:Menlo,'DejaVu Sans Mono',consolas,'Courier New',monospace\"\u003e\u003cspan style=\"color: #ffffff; text-decoration-color: #ffffff; background-color: #393b79\"\u003e                         \u003c/span\u003e\n",
              "\u003cspan style=\"color: #ffffff; text-decoration-color: #ffffff; background-color: #393b79\"\u003e         CPU 0,4         \u003c/span\u003e\n",
              "\u003cspan style=\"color: #ffffff; text-decoration-color: #ffffff; background-color: #393b79\"\u003e                         \u003c/span\u003e\n",
              "\u003cspan style=\"color: #ffffff; text-decoration-color: #ffffff; background-color: #de9ed6\"\u003e                         \u003c/span\u003e\n",
              "\u003cspan style=\"color: #ffffff; text-decoration-color: #ffffff; background-color: #de9ed6\"\u003e         CPU 1,5         \u003c/span\u003e\n",
              "\u003cspan style=\"color: #ffffff; text-decoration-color: #ffffff; background-color: #de9ed6\"\u003e                         \u003c/span\u003e\n",
              "\u003cspan style=\"color: #ffffff; text-decoration-color: #ffffff; background-color: #ad494a\"\u003e                         \u003c/span\u003e\n",
              "\u003cspan style=\"color: #ffffff; text-decoration-color: #ffffff; background-color: #ad494a\"\u003e         CPU 2,6         \u003c/span\u003e\n",
              "\u003cspan style=\"color: #ffffff; text-decoration-color: #ffffff; background-color: #ad494a\"\u003e                         \u003c/span\u003e\n",
              "\u003cspan style=\"color: #000000; text-decoration-color: #000000; background-color: #b5cf6b\"\u003e                         \u003c/span\u003e\n",
              "\u003cspan style=\"color: #000000; text-decoration-color: #000000; background-color: #b5cf6b\"\u003e         CPU 3,7         \u003c/span\u003e\n",
              "\u003cspan style=\"color: #000000; text-decoration-color: #000000; background-color: #b5cf6b\"\u003e                         \u003c/span\u003e\n",
              "\u003c/pre\u003e\n"
            ],
            "text/plain": [
              "\u001b[38;2;255;255;255;48;2;57;59;121m                         \u001b[0m\n",
              "\u001b[38;2;255;255;255;48;2;57;59;121m         \u001b[0m\u001b[38;2;255;255;255;48;2;57;59;121mCPU 0,4\u001b[0m\u001b[38;2;255;255;255;48;2;57;59;121m         \u001b[0m\n",
              "\u001b[38;2;255;255;255;48;2;57;59;121m                         \u001b[0m\n",
              "\u001b[38;2;255;255;255;48;2;222;158;214m                         \u001b[0m\n",
              "\u001b[38;2;255;255;255;48;2;222;158;214m         \u001b[0m\u001b[38;2;255;255;255;48;2;222;158;214mCPU 1,5\u001b[0m\u001b[38;2;255;255;255;48;2;222;158;214m         \u001b[0m\n",
              "\u001b[38;2;255;255;255;48;2;222;158;214m                         \u001b[0m\n",
              "\u001b[38;2;255;255;255;48;2;173;73;74m                         \u001b[0m\n",
              "\u001b[38;2;255;255;255;48;2;173;73;74m         \u001b[0m\u001b[38;2;255;255;255;48;2;173;73;74mCPU 2,6\u001b[0m\u001b[38;2;255;255;255;48;2;173;73;74m         \u001b[0m\n",
              "\u001b[38;2;255;255;255;48;2;173;73;74m                         \u001b[0m\n",
              "\u001b[38;2;0;0;0;48;2;181;207;107m                         \u001b[0m\n",
              "\u001b[38;2;0;0;0;48;2;181;207;107m         \u001b[0m\u001b[38;2;0;0;0;48;2;181;207;107mCPU 3,7\u001b[0m\u001b[38;2;0;0;0;48;2;181;207;107m         \u001b[0m\n",
              "\u001b[38;2;0;0;0;48;2;181;207;107m                         \u001b[0m\n"
            ]
          },
          "metadata": {},
          "output_type": "display_data"
        }
      ],
      "execution_count": 8
    },
    {
      "metadata": {
        "id": "tHvt8wmxMzIC"
      },
      "cell_type": "markdown",
      "source": [
        "### On `jax.lax.with_sharding_constraint` (semi-automatic parallelization)\n",
        "\n",
        "The key to shard a JAX array is to call [`jax.lax.with_sharding_constraint`](https://jax.readthedocs.io/en/latest/_autosummary/jax.lax.with_sharding_constraint.html) inside a `jax.jit`ted function. Note that it will throw an error if not under a JAX device mesh context.\n",
        "\n",
        "\u003e **Note:** Both [Introduction to parallel programming](https://jax.readthedocs.io/en/latest/sharded-computation.html) and [Distributed arrays and automatic parallelization](https://jax.readthedocs.io/en/latest/notebooks/Distributed_arrays_and_automatic_parallelization.html) in the JAX documentation cover automatic parallelization with [`jax.jit`](https://jax.readthedocs.io/en/latest/_autosummary/jax.jit.html), and semi-automatic parallelization with `jax.jit` and [`jax.lax.with_sharding_constraint](https://jax.readthedocs.io/en/latest/_autosummary/jax.lax.with_sharding_constraint.html) in greater detail.\n",
        "\n",
        "You may have noticed you also used [`jax.lax.with_sharding_constraint`](https://jax.readthedocs.io/en/latest/_autosummary/jax.lax.with_sharding_constraint.html) once in the model definition to constraint the sharding of an intermediate value. This is just to show that you can always use it orthogonally with the Flax NNX API if you want to explicitly shard values that are not model variables.\n",
        "\n",
        "This brings a question: Why use the Flax NNX Annotation API then? Why not just add JAX sharding constraints inside the model definition? The most important reason is that you still need the explicit annotations to load a sharded model from an on-disk checkpoint. This is described in the next section."
      ]
    },
    {
      "metadata": {
        "id": "ka6jeB9lMzIC"
      },
      "cell_type": "markdown",
      "source": [
        "## Load a sharded model from a checkpoint\n",
        "\n",
        "Now you learned how to initialize a sharded model without OOM, but what about loading it from a checkpoint on disk? JAX checkpointing libraries, such as [Orbax](https://orbax.readthedocs.io/en/latest/), usually support loading a model sharded if a sharding pytree is provided.\n",
        "\n",
        "You can generate such a sharding pytree with Flax’s [`nnx.get_named_sharding`](https://flax.readthedocs.io/en/latest/api_reference/flax.nnx/spmd.html#flax.nnx.get_named_sharding). To avoid any real memory allocation, use the [`nnx.eval_shape`](https://flax.readthedocs.io/en/latest/api_reference/flax.nnx/transforms.html#flax.nnx.eval_shape) transform to generate a model of abstract JAX arrays, and only use its `.sharding` annotations to obtain the sharding tree.\n",
        "\n",
        "Below is an example that demonstrates using Orbax's `StandardCheckpointer` API. (Go to the [Orbax documentation site](https://orbax.readthedocs.io/en/latest/) to learn about their latest and most recommended APIs.)"
      ]
    },
    {
      "metadata": {
        "id": "vTyeAanCMzIC"
      },
      "cell_type": "code",
      "source": [
        "import orbax.checkpoint as ocp\n",
        "\n",
        "# Save the sharded state.\n",
        "sharded_state = nnx.state(sharded_model)\n",
        "path = ocp.test_utils.erase_and_create_empty('/tmp/my-checkpoints/')\n",
        "checkpointer = ocp.StandardCheckpointer()\n",
        "checkpointer.save(path / 'checkpoint_name', sharded_state)\n",
        "\n",
        "# Load a sharded state from checkpoint, without `sharded_model` or `sharded_state`.\n",
        "abs_model = nnx.eval_shape(lambda: DotReluDot(1024, rngs=nnx.Rngs(0)))\n",
        "abs_state = nnx.state(abs_model)\n",
        "# Orbax API expects a tree of abstract `jax.ShapeDtypeStruct`\n",
        "# that contains both sharding and the shape/dtype of the arrays.\n",
        "abs_state = jax.tree.map(\n",
        "  lambda a, s: jax.ShapeDtypeStruct(a.shape, a.dtype, sharding=s),\n",
        "  abs_state, nnx.get_named_sharding(abs_state, mesh)\n",
        ")\n",
        "loaded_sharded = checkpointer.restore(path / 'checkpoint_name',\n",
        "                                      target=abs_state)\n",
        "jax.debug.visualize_array_sharding(loaded_sharded['dot1']['kernel'].value)\n",
        "jax.debug.visualize_array_sharding(loaded_sharded['w2'].value)"
      ],
      "outputs": [
        {
          "data": {
            "text/html": [
              "\u003cpre style=\"white-space:pre;overflow-x:auto;line-height:normal;font-family:Menlo,'DejaVu Sans Mono',consolas,'Courier New',monospace\"\u003e\u003cspan style=\"color: #ffffff; text-decoration-color: #ffffff; background-color: #393b79\"\u003e         \u003c/span\u003e\u003cspan style=\"color: #ffffff; text-decoration-color: #ffffff; background-color: #de9ed6\"\u003e         \u003c/span\u003e\u003cspan style=\"color: #ffffff; text-decoration-color: #ffffff; background-color: #ad494a\"\u003e         \u003c/span\u003e\u003cspan style=\"color: #000000; text-decoration-color: #000000; background-color: #b5cf6b\"\u003e         \u003c/span\u003e\n",
              "\u003cspan style=\"color: #ffffff; text-decoration-color: #ffffff; background-color: #393b79\"\u003e         \u003c/span\u003e\u003cspan style=\"color: #ffffff; text-decoration-color: #ffffff; background-color: #de9ed6\"\u003e         \u003c/span\u003e\u003cspan style=\"color: #ffffff; text-decoration-color: #ffffff; background-color: #ad494a\"\u003e         \u003c/span\u003e\u003cspan style=\"color: #000000; text-decoration-color: #000000; background-color: #b5cf6b\"\u003e         \u003c/span\u003e\n",
              "\u003cspan style=\"color: #ffffff; text-decoration-color: #ffffff; background-color: #393b79\"\u003e         \u003c/span\u003e\u003cspan style=\"color: #ffffff; text-decoration-color: #ffffff; background-color: #de9ed6\"\u003e         \u003c/span\u003e\u003cspan style=\"color: #ffffff; text-decoration-color: #ffffff; background-color: #ad494a\"\u003e         \u003c/span\u003e\u003cspan style=\"color: #000000; text-decoration-color: #000000; background-color: #b5cf6b\"\u003e         \u003c/span\u003e\n",
              "\u003cspan style=\"color: #ffffff; text-decoration-color: #ffffff; background-color: #393b79\"\u003e         \u003c/span\u003e\u003cspan style=\"color: #ffffff; text-decoration-color: #ffffff; background-color: #de9ed6\"\u003e         \u003c/span\u003e\u003cspan style=\"color: #ffffff; text-decoration-color: #ffffff; background-color: #ad494a\"\u003e         \u003c/span\u003e\u003cspan style=\"color: #000000; text-decoration-color: #000000; background-color: #b5cf6b\"\u003e         \u003c/span\u003e\n",
              "\u003cspan style=\"color: #ffffff; text-decoration-color: #ffffff; background-color: #393b79\"\u003e         \u003c/span\u003e\u003cspan style=\"color: #ffffff; text-decoration-color: #ffffff; background-color: #de9ed6\"\u003e         \u003c/span\u003e\u003cspan style=\"color: #ffffff; text-decoration-color: #ffffff; background-color: #ad494a\"\u003e         \u003c/span\u003e\u003cspan style=\"color: #000000; text-decoration-color: #000000; background-color: #b5cf6b\"\u003e         \u003c/span\u003e\n",
              "\u003cspan style=\"color: #ffffff; text-decoration-color: #ffffff; background-color: #393b79\"\u003e CPU 0,4 \u003c/span\u003e\u003cspan style=\"color: #ffffff; text-decoration-color: #ffffff; background-color: #de9ed6\"\u003e CPU 1,5 \u003c/span\u003e\u003cspan style=\"color: #ffffff; text-decoration-color: #ffffff; background-color: #ad494a\"\u003e CPU 2,6 \u003c/span\u003e\u003cspan style=\"color: #000000; text-decoration-color: #000000; background-color: #b5cf6b\"\u003e CPU 3,7 \u003c/span\u003e\n",
              "\u003cspan style=\"color: #ffffff; text-decoration-color: #ffffff; background-color: #393b79\"\u003e         \u003c/span\u003e\u003cspan style=\"color: #ffffff; text-decoration-color: #ffffff; background-color: #de9ed6\"\u003e         \u003c/span\u003e\u003cspan style=\"color: #ffffff; text-decoration-color: #ffffff; background-color: #ad494a\"\u003e         \u003c/span\u003e\u003cspan style=\"color: #000000; text-decoration-color: #000000; background-color: #b5cf6b\"\u003e         \u003c/span\u003e\n",
              "\u003cspan style=\"color: #ffffff; text-decoration-color: #ffffff; background-color: #393b79\"\u003e         \u003c/span\u003e\u003cspan style=\"color: #ffffff; text-decoration-color: #ffffff; background-color: #de9ed6\"\u003e         \u003c/span\u003e\u003cspan style=\"color: #ffffff; text-decoration-color: #ffffff; background-color: #ad494a\"\u003e         \u003c/span\u003e\u003cspan style=\"color: #000000; text-decoration-color: #000000; background-color: #b5cf6b\"\u003e         \u003c/span\u003e\n",
              "\u003cspan style=\"color: #ffffff; text-decoration-color: #ffffff; background-color: #393b79\"\u003e         \u003c/span\u003e\u003cspan style=\"color: #ffffff; text-decoration-color: #ffffff; background-color: #de9ed6\"\u003e         \u003c/span\u003e\u003cspan style=\"color: #ffffff; text-decoration-color: #ffffff; background-color: #ad494a\"\u003e         \u003c/span\u003e\u003cspan style=\"color: #000000; text-decoration-color: #000000; background-color: #b5cf6b\"\u003e         \u003c/span\u003e\n",
              "\u003cspan style=\"color: #ffffff; text-decoration-color: #ffffff; background-color: #393b79\"\u003e         \u003c/span\u003e\u003cspan style=\"color: #ffffff; text-decoration-color: #ffffff; background-color: #de9ed6\"\u003e         \u003c/span\u003e\u003cspan style=\"color: #ffffff; text-decoration-color: #ffffff; background-color: #ad494a\"\u003e         \u003c/span\u003e\u003cspan style=\"color: #000000; text-decoration-color: #000000; background-color: #b5cf6b\"\u003e         \u003c/span\u003e\n",
              "\u003cspan style=\"color: #ffffff; text-decoration-color: #ffffff; background-color: #393b79\"\u003e         \u003c/span\u003e\u003cspan style=\"color: #ffffff; text-decoration-color: #ffffff; background-color: #de9ed6\"\u003e         \u003c/span\u003e\u003cspan style=\"color: #ffffff; text-decoration-color: #ffffff; background-color: #ad494a\"\u003e         \u003c/span\u003e\u003cspan style=\"color: #000000; text-decoration-color: #000000; background-color: #b5cf6b\"\u003e         \u003c/span\u003e\n",
              "\u003c/pre\u003e\n"
            ],
            "text/plain": [
              "\u001b[38;2;255;255;255;48;2;57;59;121m         \u001b[0m\u001b[38;2;255;255;255;48;2;222;158;214m         \u001b[0m\u001b[38;2;255;255;255;48;2;173;73;74m         \u001b[0m\u001b[38;2;0;0;0;48;2;181;207;107m         \u001b[0m\n",
              "\u001b[38;2;255;255;255;48;2;57;59;121m         \u001b[0m\u001b[38;2;255;255;255;48;2;222;158;214m         \u001b[0m\u001b[38;2;255;255;255;48;2;173;73;74m         \u001b[0m\u001b[38;2;0;0;0;48;2;181;207;107m         \u001b[0m\n",
              "\u001b[38;2;255;255;255;48;2;57;59;121m         \u001b[0m\u001b[38;2;255;255;255;48;2;222;158;214m         \u001b[0m\u001b[38;2;255;255;255;48;2;173;73;74m         \u001b[0m\u001b[38;2;0;0;0;48;2;181;207;107m         \u001b[0m\n",
              "\u001b[38;2;255;255;255;48;2;57;59;121m         \u001b[0m\u001b[38;2;255;255;255;48;2;222;158;214m         \u001b[0m\u001b[38;2;255;255;255;48;2;173;73;74m         \u001b[0m\u001b[38;2;0;0;0;48;2;181;207;107m         \u001b[0m\n",
              "\u001b[38;2;255;255;255;48;2;57;59;121m         \u001b[0m\u001b[38;2;255;255;255;48;2;222;158;214m         \u001b[0m\u001b[38;2;255;255;255;48;2;173;73;74m         \u001b[0m\u001b[38;2;0;0;0;48;2;181;207;107m         \u001b[0m\n",
              "\u001b[38;2;255;255;255;48;2;57;59;121m \u001b[0m\u001b[38;2;255;255;255;48;2;57;59;121mCPU 0,4\u001b[0m\u001b[38;2;255;255;255;48;2;57;59;121m \u001b[0m\u001b[38;2;255;255;255;48;2;222;158;214m \u001b[0m\u001b[38;2;255;255;255;48;2;222;158;214mCPU 1,5\u001b[0m\u001b[38;2;255;255;255;48;2;222;158;214m \u001b[0m\u001b[38;2;255;255;255;48;2;173;73;74m \u001b[0m\u001b[38;2;255;255;255;48;2;173;73;74mCPU 2,6\u001b[0m\u001b[38;2;255;255;255;48;2;173;73;74m \u001b[0m\u001b[38;2;0;0;0;48;2;181;207;107m \u001b[0m\u001b[38;2;0;0;0;48;2;181;207;107mCPU 3,7\u001b[0m\u001b[38;2;0;0;0;48;2;181;207;107m \u001b[0m\n",
              "\u001b[38;2;255;255;255;48;2;57;59;121m         \u001b[0m\u001b[38;2;255;255;255;48;2;222;158;214m         \u001b[0m\u001b[38;2;255;255;255;48;2;173;73;74m         \u001b[0m\u001b[38;2;0;0;0;48;2;181;207;107m         \u001b[0m\n",
              "\u001b[38;2;255;255;255;48;2;57;59;121m         \u001b[0m\u001b[38;2;255;255;255;48;2;222;158;214m         \u001b[0m\u001b[38;2;255;255;255;48;2;173;73;74m         \u001b[0m\u001b[38;2;0;0;0;48;2;181;207;107m         \u001b[0m\n",
              "\u001b[38;2;255;255;255;48;2;57;59;121m         \u001b[0m\u001b[38;2;255;255;255;48;2;222;158;214m         \u001b[0m\u001b[38;2;255;255;255;48;2;173;73;74m         \u001b[0m\u001b[38;2;0;0;0;48;2;181;207;107m         \u001b[0m\n",
              "\u001b[38;2;255;255;255;48;2;57;59;121m         \u001b[0m\u001b[38;2;255;255;255;48;2;222;158;214m         \u001b[0m\u001b[38;2;255;255;255;48;2;173;73;74m         \u001b[0m\u001b[38;2;0;0;0;48;2;181;207;107m         \u001b[0m\n",
              "\u001b[38;2;255;255;255;48;2;57;59;121m         \u001b[0m\u001b[38;2;255;255;255;48;2;222;158;214m         \u001b[0m\u001b[38;2;255;255;255;48;2;173;73;74m         \u001b[0m\u001b[38;2;0;0;0;48;2;181;207;107m         \u001b[0m\n"
            ]
          },
          "metadata": {},
          "output_type": "display_data"
        },
        {
          "data": {
            "text/html": [
              "\u003cpre style=\"white-space:pre;overflow-x:auto;line-height:normal;font-family:Menlo,'DejaVu Sans Mono',consolas,'Courier New',monospace\"\u003e\u003cspan style=\"color: #ffffff; text-decoration-color: #ffffff; background-color: #393b79\"\u003e                         \u003c/span\u003e\n",
              "\u003cspan style=\"color: #ffffff; text-decoration-color: #ffffff; background-color: #393b79\"\u003e         CPU 0,4         \u003c/span\u003e\n",
              "\u003cspan style=\"color: #ffffff; text-decoration-color: #ffffff; background-color: #393b79\"\u003e                         \u003c/span\u003e\n",
              "\u003cspan style=\"color: #ffffff; text-decoration-color: #ffffff; background-color: #de9ed6\"\u003e                         \u003c/span\u003e\n",
              "\u003cspan style=\"color: #ffffff; text-decoration-color: #ffffff; background-color: #de9ed6\"\u003e         CPU 1,5         \u003c/span\u003e\n",
              "\u003cspan style=\"color: #ffffff; text-decoration-color: #ffffff; background-color: #de9ed6\"\u003e                         \u003c/span\u003e\n",
              "\u003cspan style=\"color: #ffffff; text-decoration-color: #ffffff; background-color: #ad494a\"\u003e                         \u003c/span\u003e\n",
              "\u003cspan style=\"color: #ffffff; text-decoration-color: #ffffff; background-color: #ad494a\"\u003e         CPU 2,6         \u003c/span\u003e\n",
              "\u003cspan style=\"color: #ffffff; text-decoration-color: #ffffff; background-color: #ad494a\"\u003e                         \u003c/span\u003e\n",
              "\u003cspan style=\"color: #000000; text-decoration-color: #000000; background-color: #b5cf6b\"\u003e                         \u003c/span\u003e\n",
              "\u003cspan style=\"color: #000000; text-decoration-color: #000000; background-color: #b5cf6b\"\u003e         CPU 3,7         \u003c/span\u003e\n",
              "\u003cspan style=\"color: #000000; text-decoration-color: #000000; background-color: #b5cf6b\"\u003e                         \u003c/span\u003e\n",
              "\u003c/pre\u003e\n"
            ],
            "text/plain": [
              "\u001b[38;2;255;255;255;48;2;57;59;121m                         \u001b[0m\n",
              "\u001b[38;2;255;255;255;48;2;57;59;121m         \u001b[0m\u001b[38;2;255;255;255;48;2;57;59;121mCPU 0,4\u001b[0m\u001b[38;2;255;255;255;48;2;57;59;121m         \u001b[0m\n",
              "\u001b[38;2;255;255;255;48;2;57;59;121m                         \u001b[0m\n",
              "\u001b[38;2;255;255;255;48;2;222;158;214m                         \u001b[0m\n",
              "\u001b[38;2;255;255;255;48;2;222;158;214m         \u001b[0m\u001b[38;2;255;255;255;48;2;222;158;214mCPU 1,5\u001b[0m\u001b[38;2;255;255;255;48;2;222;158;214m         \u001b[0m\n",
              "\u001b[38;2;255;255;255;48;2;222;158;214m                         \u001b[0m\n",
              "\u001b[38;2;255;255;255;48;2;173;73;74m                         \u001b[0m\n",
              "\u001b[38;2;255;255;255;48;2;173;73;74m         \u001b[0m\u001b[38;2;255;255;255;48;2;173;73;74mCPU 2,6\u001b[0m\u001b[38;2;255;255;255;48;2;173;73;74m         \u001b[0m\n",
              "\u001b[38;2;255;255;255;48;2;173;73;74m                         \u001b[0m\n",
              "\u001b[38;2;0;0;0;48;2;181;207;107m                         \u001b[0m\n",
              "\u001b[38;2;0;0;0;48;2;181;207;107m         \u001b[0m\u001b[38;2;0;0;0;48;2;181;207;107mCPU 3,7\u001b[0m\u001b[38;2;0;0;0;48;2;181;207;107m         \u001b[0m\n",
              "\u001b[38;2;0;0;0;48;2;181;207;107m                         \u001b[0m\n"
            ]
          },
          "metadata": {},
          "output_type": "display_data"
        }
      ],
      "execution_count": 9
    },
    {
      "metadata": {
        "id": "3h_wW8UZMzIC"
      },
      "cell_type": "markdown",
      "source": [
        "## Compile the training loop\n",
        "\n",
        "Now, after either initialization or loading the checkpoint, you have a sharded model. To carry out the compiled scaled up training, you need to shard the inputs as well.\n",
        "\n",
        "- In the data parallelism example, the training data has its batch dimension sharded across the `data` device axis, so you should put your data in sharding `('data', None)`. You can use [`jax.device_put`](https://jax.readthedocs.io/en/latest/_autosummary/jax.device_put.html#jax.device_put) for this.\n",
        "- Note that with the correct sharding for all inputs, the output will be sharded in the most natural way even without `jit` compilation. \n",
        "- In the example below, even without [`jax.lax.with_sharding_constraint`](https://jax.readthedocs.io/en/latest/_autosummary/jax.lax.with_sharding_constraint.html) on the output `y`, it was still sharded as `('data', None)`.\n",
        "\n",
        "\u003e If you are interested in why: The second matmul of `DotReluDot.__call__` has two inputs of sharding `('data', 'model')` and `('model', None)`, in which both inputs' contraction axis are `model`. So a reduce-scatter matmul happened and will naturally shard the output as `('data', None)`. Check out the [JAX shard map collective guide](https://jax.readthedocs.io/en/latest/notebooks/shard_map.html#example-2-psum-scatter-the-result) and its examples if you want to learn mathematically how it happens at a low-level."
      ]
    },
    {
      "metadata": {
        "id": "GdqtEUXpMzIC"
      },
      "cell_type": "code",
      "source": [
        "# In data parallelism, the first dimension (batch) will be sharded on the `data` axis.\n",
        "data_sharding = NamedSharding(mesh, PartitionSpec('data', None))\n",
        "input = jax.device_put(jnp.ones((8, 1024)), data_sharding)\n",
        "\n",
        "with mesh:\n",
        "  output = sharded_model(input)\n",
        "print(output.shape)\n",
        "jax.debug.visualize_array_sharding(output)  # Also sharded as `('data', None)`."
      ],
      "outputs": [
        {
          "name": "stdout",
          "output_type": "stream",
          "text": [
            "(8, 1024)\n"
          ]
        },
        {
          "data": {
            "text/html": [
              "\u003cpre style=\"white-space:pre;overflow-x:auto;line-height:normal;font-family:Menlo,'DejaVu Sans Mono',consolas,'Courier New',monospace\"\u003e\u003cspan style=\"color: #ffffff; text-decoration-color: #ffffff; background-color: #393b79\"\u003e                                                                                \u003c/span\u003e\n",
              "\u003cspan style=\"color: #ffffff; text-decoration-color: #ffffff; background-color: #393b79\"\u003e                                                                                \u003c/span\u003e\n",
              "\u003cspan style=\"color: #ffffff; text-decoration-color: #ffffff; background-color: #393b79\"\u003e                                  CPU 0,1,2,3                                   \u003c/span\u003e\n",
              "\u003cspan style=\"color: #ffffff; text-decoration-color: #ffffff; background-color: #393b79\"\u003e                                                                                \u003c/span\u003e\n",
              "\u003cspan style=\"color: #ffffff; text-decoration-color: #ffffff; background-color: #393b79\"\u003e                                                                                \u003c/span\u003e\n",
              "\u003cspan style=\"color: #ffffff; text-decoration-color: #ffffff; background-color: #393b79\"\u003e                                                                                \u003c/span\u003e\n",
              "\u003cspan style=\"color: #ffffff; text-decoration-color: #ffffff; background-color: #393b79\"\u003e                                                                                \u003c/span\u003e\n",
              "\u003cspan style=\"color: #ffffff; text-decoration-color: #ffffff; background-color: #393b79\"\u003e                                                                                \u003c/span\u003e\n",
              "\u003cspan style=\"color: #ffffff; text-decoration-color: #ffffff; background-color: #393b79\"\u003e                                  CPU 4,5,6,7                                   \u003c/span\u003e\n",
              "\u003cspan style=\"color: #ffffff; text-decoration-color: #ffffff; background-color: #393b79\"\u003e                                                                                \u003c/span\u003e\n",
              "\u003cspan style=\"color: #ffffff; text-decoration-color: #ffffff; background-color: #393b79\"\u003e                                                                                \u003c/span\u003e\n",
              "\u003cspan style=\"color: #ffffff; text-decoration-color: #ffffff; background-color: #393b79\"\u003e                                                                                \u003c/span\u003e\n",
              "\u003c/pre\u003e\n"
            ],
            "text/plain": [
              "\u001b[38;2;255;255;255;48;2;57;59;121m                                                                                \u001b[0m\n",
              "\u001b[38;2;255;255;255;48;2;57;59;121m                                                                                \u001b[0m\n",
              "\u001b[38;2;255;255;255;48;2;57;59;121m                                  \u001b[0m\u001b[38;2;255;255;255;48;2;57;59;121mCPU 0,1,2,3\u001b[0m\u001b[38;2;255;255;255;48;2;57;59;121m                                   \u001b[0m\n",
              "\u001b[38;2;255;255;255;48;2;57;59;121m                                                                                \u001b[0m\n",
              "\u001b[38;2;255;255;255;48;2;57;59;121m                                                                                \u001b[0m\n",
              "\u001b[38;2;255;255;255;48;2;57;59;121m                                                                                \u001b[0m\n",
              "\u001b[38;2;255;255;255;48;2;57;59;121m                                                                                \u001b[0m\n",
              "\u001b[38;2;255;255;255;48;2;57;59;121m                                                                                \u001b[0m\n",
              "\u001b[38;2;255;255;255;48;2;57;59;121m                                  \u001b[0m\u001b[38;2;255;255;255;48;2;57;59;121mCPU 4,5,6,7\u001b[0m\u001b[38;2;255;255;255;48;2;57;59;121m                                   \u001b[0m\n",
              "\u001b[38;2;255;255;255;48;2;57;59;121m                                                                                \u001b[0m\n",
              "\u001b[38;2;255;255;255;48;2;57;59;121m                                                                                \u001b[0m\n",
              "\u001b[38;2;255;255;255;48;2;57;59;121m                                                                                \u001b[0m\n"
            ]
          },
          "metadata": {},
          "output_type": "display_data"
        }
      ],
      "execution_count": 10
    },
    {
      "metadata": {
        "id": "f-QmzVizMzID"
      },
      "cell_type": "markdown",
      "source": [
        "Now the rest of the training loop is pretty conventional - it is almost the same as the example in [Flax NNX Basics](https://flax.readthedocs.io/en/latest/nnx_basics.html#transforms):\n",
        "- Except that the inputs and labels are also explicitly sharded.\n",
        "- [`nnx.jit`](https://flax.readthedocs.io/en/latest/api_reference/flax.nnx/transforms.html#flax.nnx.jit) will adjust and automatically choose the best layout based on how its inputs are already sharded, so try out different shardings for your own model and inputs."
      ]
    },
    {
      "metadata": {
        "id": "f6Is05_yMzID"
      },
      "cell_type": "code",
      "source": [
        "optimizer = nnx.Optimizer(sharded_model, optax.adam(1e-3), wrt=nnx.Param)\n",
        "\n",
        "@nnx.jit\n",
        "def train_step(model, optimizer, x, y):\n",
        "  def loss_fn(model: DotReluDot):\n",
        "    y_pred = model(x)\n",
        "    return jnp.mean((y_pred - y) ** 2)\n",
        "\n",
        "  loss, grads = nnx.value_and_grad(loss_fn)(model)\n",
        "  optimizer.update(model, grads)\n",
        "\n",
        "  return loss\n",
        "\n",
        "input = jax.device_put(jax.random.normal(jax.random.key(1), (8, 1024)), data_sharding)\n",
        "label = jax.device_put(jax.random.normal(jax.random.key(2), (8, 1024)), data_sharding)\n",
        "\n",
        "with mesh:\n",
        "  for i in range(5):\n",
        "    loss = train_step(sharded_model, optimizer, input, label)\n",
        "    print(loss)    # Model (over-)fitting to the labels quickly."
      ],
      "outputs": [
        {
          "name": "stdout",
          "output_type": "stream",
          "text": [
            "1.4929407\n",
            "0.820176\n",
            "0.5583741\n",
            "0.41078538\n",
            "0.2984159\n"
          ]
        }
      ],
      "execution_count": null
    },
    {
      "metadata": {
        "id": "4YXyM_0GMzID"
      },
      "cell_type": "markdown",
      "source": [
        "## Profiling\n",
        "\n",
        "If you are using a Google TPU pod or a pod slice, you can create a custom `block_all()` utility function, as defined below, to measure the performance:"
      ]
    },
    {
      "metadata": {
        "id": "zuA0pGvLMzID"
      },
      "cell_type": "code",
      "source": [
        "%%timeit\n",
        "\n",
        "def block_all(xs):\n",
        "  jax.tree_util.tree_map(lambda x: x.block_until_ready(), xs)\n",
        "  return xs\n",
        "\n",
        "with mesh:\n",
        "  new_state = block_all(train_step(sharded_model, optimizer, input, label))"
      ],
      "outputs": [
        {
          "name": "stdout",
          "output_type": "stream",
          "text": [
            "9.52 ms ± 142 μs per loop (mean ± std. dev. of 7 runs, 100 loops each)\n"
          ]
        }
      ],
      "execution_count": 12
    },
    {
      "attachments": {},
      "metadata": {
        "id": "aYC7DipeMzID"
      },
      "cell_type": "markdown",
      "source": [
        "## Logical axis annotation\n",
        "\n",
        "JAX's [automatic](https://jax.readthedocs.io/en/latest/notebooks/Distributed_arrays_and_automatic_parallelization.html) [SPMD]((https://jax.readthedocs.io/en/latest/glossary.html#term-SPMD)) encourages users to explore different sharding layouts to find the optimal one. To this end, in Flax you have the option to annotate with more descriptive axis names (not just device mesh axis names like `'data'` and `'model'`), as long as you provide a mapping from your alias to the device mesh axes.\n",
        "\n",
        "You can provide the mapping along with the annotation as another metadata of the corresponding [`nnx.Variable`](https://flax.readthedocs.io/en/latest/api_reference/flax.nnx/variables.html#flax.nnx.Variable), or overwrite it at top-level. Check out the `LogicalDotReluDot()` example below."
      ]
    },
    {
      "metadata": {
        "id": "DYaPbwK1MzID"
      },
      "cell_type": "code",
      "source": [
        "# The mapping from alias annotation to the device mesh.\n",
        "sharding_rules = (('batch', 'data'), ('hidden', 'model'), ('embed', None))\n",
        "\n",
        "class LogicalDotReluDot(nnx.Module):\n",
        "  def __init__(self, depth: int, rngs: nnx.Rngs):\n",
        "    init_fn = nnx.initializers.lecun_normal()\n",
        "\n",
        "    # Initialize a sublayer `self.dot1`.\n",
        "    self.dot1 = nnx.Linear(\n",
        "      depth, depth,\n",
        "      kernel_init=nnx.with_metadata(\n",
        "        # Provide the sharding rules here.\n",
        "        init_fn, sharding=('embed', 'hidden'), sharding_rules=sharding_rules),\n",
        "      use_bias=False,\n",
        "      rngs=rngs)\n",
        "\n",
        "    # Initialize a weight param `w2`.\n",
        "    self.w2 = nnx.Param(\n",
        "      # Didn't provide the sharding rules here to show you how to overwrite it later.\n",
        "      nnx.with_metadata(init_fn, sharding=('hidden', 'embed'))(\n",
        "        rngs.params(), (depth, depth))\n",
        "    )\n",
        "\n",
        "  def __call__(self, x: jax.Array):\n",
        "    y = self.dot1(x)\n",
        "    y = jax.nn.relu(y)\n",
        "    # Unfortunately the logical aliasing doesn't work on lower-level JAX calls.\n",
        "    y = jax.lax.with_sharding_constraint(y, PartitionSpec('data', None))\n",
        "    z = jnp.dot(y, self.w2.value)\n",
        "    return z"
      ],
      "outputs": [],
      "execution_count": 13
    },
    {
      "metadata": {
        "id": "ZRtudfsKMzID"
      },
      "cell_type": "markdown",
      "source": [
        "If you didn't provide all `sharding_rule` annotations in the model definition, you can write a few lines to add it to Flax’s [`nnx.State`](https://flax.readthedocs.io/en/latest/api_reference/flax.nnx/state.html#flax.nnx.State) of the model, before the call of [`nnx.get_partition_spec`](https://flax.readthedocs.io/en/latest/api_reference/flax.nnx/spmd.html#flax.nnx.get_partition_spec) or [`nnx.get_named_sharding`](https://flax.readthedocs.io/en/latest/api_reference/flax.nnx/spmd.html#flax.nnx.get_named_sharding)."
      ]
    },
    {
      "metadata": {
        "id": "pRawjvLgMzID"
      },
      "cell_type": "code",
      "source": [
        "def add_sharding_rule(vs: nnx.Variable) -\u003e nnx.Variable:\n",
        "  vs.sharding_rules = sharding_rules\n",
        "  return vs\n",
        "\n",
        "@nnx.jit\n",
        "def create_sharded_logical_model():\n",
        "  model = LogicalDotReluDot(1024, rngs=nnx.Rngs(0))\n",
        "  state = nnx.state(model)\n",
        "  state = jax.tree.map(add_sharding_rule, state,\n",
        "                       is_leaf=lambda x: isinstance(x, nnx.Variable))\n",
        "  pspecs = nnx.get_partition_spec(state)\n",
        "  sharded_state = jax.lax.with_sharding_constraint(state, pspecs)\n",
        "  nnx.update(model, sharded_state)\n",
        "  return model\n",
        "\n",
        "with mesh:\n",
        "  sharded_logical_model = create_sharded_logical_model()\n",
        "\n",
        "jax.debug.visualize_array_sharding(sharded_logical_model.dot1.kernel.value)\n",
        "jax.debug.visualize_array_sharding(sharded_logical_model.w2.value)\n",
        "\n",
        "# Check out their equivalency with some easier-to-read sharding descriptions.\n",
        "assert sharded_logical_model.dot1.kernel.value.sharding.is_equivalent_to(\n",
        "  NamedSharding(mesh, PartitionSpec(None, 'model')), ndim=2\n",
        ")\n",
        "assert sharded_logical_model.w2.value.sharding.is_equivalent_to(\n",
        "  NamedSharding(mesh, PartitionSpec('model', None)), ndim=2\n",
        ")\n",
        "\n",
        "with mesh:\n",
        "  logical_output = sharded_logical_model(input)\n",
        "  assert logical_output.sharding.is_equivalent_to(\n",
        "    NamedSharding(mesh, PartitionSpec('data', None)), ndim=2\n",
        "  )"
      ],
      "outputs": [
        {
          "data": {
            "text/html": [
              "\u003cpre style=\"white-space:pre;overflow-x:auto;line-height:normal;font-family:Menlo,'DejaVu Sans Mono',consolas,'Courier New',monospace\"\u003e\u003cspan style=\"color: #ffffff; text-decoration-color: #ffffff; background-color: #393b79\"\u003e         \u003c/span\u003e\u003cspan style=\"color: #ffffff; text-decoration-color: #ffffff; background-color: #de9ed6\"\u003e         \u003c/span\u003e\u003cspan style=\"color: #ffffff; text-decoration-color: #ffffff; background-color: #ad494a\"\u003e         \u003c/span\u003e\u003cspan style=\"color: #000000; text-decoration-color: #000000; background-color: #b5cf6b\"\u003e         \u003c/span\u003e\n",
              "\u003cspan style=\"color: #ffffff; text-decoration-color: #ffffff; background-color: #393b79\"\u003e         \u003c/span\u003e\u003cspan style=\"color: #ffffff; text-decoration-color: #ffffff; background-color: #de9ed6\"\u003e         \u003c/span\u003e\u003cspan style=\"color: #ffffff; text-decoration-color: #ffffff; background-color: #ad494a\"\u003e         \u003c/span\u003e\u003cspan style=\"color: #000000; text-decoration-color: #000000; background-color: #b5cf6b\"\u003e         \u003c/span\u003e\n",
              "\u003cspan style=\"color: #ffffff; text-decoration-color: #ffffff; background-color: #393b79\"\u003e         \u003c/span\u003e\u003cspan style=\"color: #ffffff; text-decoration-color: #ffffff; background-color: #de9ed6\"\u003e         \u003c/span\u003e\u003cspan style=\"color: #ffffff; text-decoration-color: #ffffff; background-color: #ad494a\"\u003e         \u003c/span\u003e\u003cspan style=\"color: #000000; text-decoration-color: #000000; background-color: #b5cf6b\"\u003e         \u003c/span\u003e\n",
              "\u003cspan style=\"color: #ffffff; text-decoration-color: #ffffff; background-color: #393b79\"\u003e         \u003c/span\u003e\u003cspan style=\"color: #ffffff; text-decoration-color: #ffffff; background-color: #de9ed6\"\u003e         \u003c/span\u003e\u003cspan style=\"color: #ffffff; text-decoration-color: #ffffff; background-color: #ad494a\"\u003e         \u003c/span\u003e\u003cspan style=\"color: #000000; text-decoration-color: #000000; background-color: #b5cf6b\"\u003e         \u003c/span\u003e\n",
              "\u003cspan style=\"color: #ffffff; text-decoration-color: #ffffff; background-color: #393b79\"\u003e         \u003c/span\u003e\u003cspan style=\"color: #ffffff; text-decoration-color: #ffffff; background-color: #de9ed6\"\u003e         \u003c/span\u003e\u003cspan style=\"color: #ffffff; text-decoration-color: #ffffff; background-color: #ad494a\"\u003e         \u003c/span\u003e\u003cspan style=\"color: #000000; text-decoration-color: #000000; background-color: #b5cf6b\"\u003e         \u003c/span\u003e\n",
              "\u003cspan style=\"color: #ffffff; text-decoration-color: #ffffff; background-color: #393b79\"\u003e CPU 0,4 \u003c/span\u003e\u003cspan style=\"color: #ffffff; text-decoration-color: #ffffff; background-color: #de9ed6\"\u003e CPU 1,5 \u003c/span\u003e\u003cspan style=\"color: #ffffff; text-decoration-color: #ffffff; background-color: #ad494a\"\u003e CPU 2,6 \u003c/span\u003e\u003cspan style=\"color: #000000; text-decoration-color: #000000; background-color: #b5cf6b\"\u003e CPU 3,7 \u003c/span\u003e\n",
              "\u003cspan style=\"color: #ffffff; text-decoration-color: #ffffff; background-color: #393b79\"\u003e         \u003c/span\u003e\u003cspan style=\"color: #ffffff; text-decoration-color: #ffffff; background-color: #de9ed6\"\u003e         \u003c/span\u003e\u003cspan style=\"color: #ffffff; text-decoration-color: #ffffff; background-color: #ad494a\"\u003e         \u003c/span\u003e\u003cspan style=\"color: #000000; text-decoration-color: #000000; background-color: #b5cf6b\"\u003e         \u003c/span\u003e\n",
              "\u003cspan style=\"color: #ffffff; text-decoration-color: #ffffff; background-color: #393b79\"\u003e         \u003c/span\u003e\u003cspan style=\"color: #ffffff; text-decoration-color: #ffffff; background-color: #de9ed6\"\u003e         \u003c/span\u003e\u003cspan style=\"color: #ffffff; text-decoration-color: #ffffff; background-color: #ad494a\"\u003e         \u003c/span\u003e\u003cspan style=\"color: #000000; text-decoration-color: #000000; background-color: #b5cf6b\"\u003e         \u003c/span\u003e\n",
              "\u003cspan style=\"color: #ffffff; text-decoration-color: #ffffff; background-color: #393b79\"\u003e         \u003c/span\u003e\u003cspan style=\"color: #ffffff; text-decoration-color: #ffffff; background-color: #de9ed6\"\u003e         \u003c/span\u003e\u003cspan style=\"color: #ffffff; text-decoration-color: #ffffff; background-color: #ad494a\"\u003e         \u003c/span\u003e\u003cspan style=\"color: #000000; text-decoration-color: #000000; background-color: #b5cf6b\"\u003e         \u003c/span\u003e\n",
              "\u003cspan style=\"color: #ffffff; text-decoration-color: #ffffff; background-color: #393b79\"\u003e         \u003c/span\u003e\u003cspan style=\"color: #ffffff; text-decoration-color: #ffffff; background-color: #de9ed6\"\u003e         \u003c/span\u003e\u003cspan style=\"color: #ffffff; text-decoration-color: #ffffff; background-color: #ad494a\"\u003e         \u003c/span\u003e\u003cspan style=\"color: #000000; text-decoration-color: #000000; background-color: #b5cf6b\"\u003e         \u003c/span\u003e\n",
              "\u003cspan style=\"color: #ffffff; text-decoration-color: #ffffff; background-color: #393b79\"\u003e         \u003c/span\u003e\u003cspan style=\"color: #ffffff; text-decoration-color: #ffffff; background-color: #de9ed6\"\u003e         \u003c/span\u003e\u003cspan style=\"color: #ffffff; text-decoration-color: #ffffff; background-color: #ad494a\"\u003e         \u003c/span\u003e\u003cspan style=\"color: #000000; text-decoration-color: #000000; background-color: #b5cf6b\"\u003e         \u003c/span\u003e\n",
              "\u003c/pre\u003e\n"
            ],
            "text/plain": [
              "\u001b[38;2;255;255;255;48;2;57;59;121m         \u001b[0m\u001b[38;2;255;255;255;48;2;222;158;214m         \u001b[0m\u001b[38;2;255;255;255;48;2;173;73;74m         \u001b[0m\u001b[38;2;0;0;0;48;2;181;207;107m         \u001b[0m\n",
              "\u001b[38;2;255;255;255;48;2;57;59;121m         \u001b[0m\u001b[38;2;255;255;255;48;2;222;158;214m         \u001b[0m\u001b[38;2;255;255;255;48;2;173;73;74m         \u001b[0m\u001b[38;2;0;0;0;48;2;181;207;107m         \u001b[0m\n",
              "\u001b[38;2;255;255;255;48;2;57;59;121m         \u001b[0m\u001b[38;2;255;255;255;48;2;222;158;214m         \u001b[0m\u001b[38;2;255;255;255;48;2;173;73;74m         \u001b[0m\u001b[38;2;0;0;0;48;2;181;207;107m         \u001b[0m\n",
              "\u001b[38;2;255;255;255;48;2;57;59;121m         \u001b[0m\u001b[38;2;255;255;255;48;2;222;158;214m         \u001b[0m\u001b[38;2;255;255;255;48;2;173;73;74m         \u001b[0m\u001b[38;2;0;0;0;48;2;181;207;107m         \u001b[0m\n",
              "\u001b[38;2;255;255;255;48;2;57;59;121m         \u001b[0m\u001b[38;2;255;255;255;48;2;222;158;214m         \u001b[0m\u001b[38;2;255;255;255;48;2;173;73;74m         \u001b[0m\u001b[38;2;0;0;0;48;2;181;207;107m         \u001b[0m\n",
              "\u001b[38;2;255;255;255;48;2;57;59;121m \u001b[0m\u001b[38;2;255;255;255;48;2;57;59;121mCPU 0,4\u001b[0m\u001b[38;2;255;255;255;48;2;57;59;121m \u001b[0m\u001b[38;2;255;255;255;48;2;222;158;214m \u001b[0m\u001b[38;2;255;255;255;48;2;222;158;214mCPU 1,5\u001b[0m\u001b[38;2;255;255;255;48;2;222;158;214m \u001b[0m\u001b[38;2;255;255;255;48;2;173;73;74m \u001b[0m\u001b[38;2;255;255;255;48;2;173;73;74mCPU 2,6\u001b[0m\u001b[38;2;255;255;255;48;2;173;73;74m \u001b[0m\u001b[38;2;0;0;0;48;2;181;207;107m \u001b[0m\u001b[38;2;0;0;0;48;2;181;207;107mCPU 3,7\u001b[0m\u001b[38;2;0;0;0;48;2;181;207;107m \u001b[0m\n",
              "\u001b[38;2;255;255;255;48;2;57;59;121m         \u001b[0m\u001b[38;2;255;255;255;48;2;222;158;214m         \u001b[0m\u001b[38;2;255;255;255;48;2;173;73;74m         \u001b[0m\u001b[38;2;0;0;0;48;2;181;207;107m         \u001b[0m\n",
              "\u001b[38;2;255;255;255;48;2;57;59;121m         \u001b[0m\u001b[38;2;255;255;255;48;2;222;158;214m         \u001b[0m\u001b[38;2;255;255;255;48;2;173;73;74m         \u001b[0m\u001b[38;2;0;0;0;48;2;181;207;107m         \u001b[0m\n",
              "\u001b[38;2;255;255;255;48;2;57;59;121m         \u001b[0m\u001b[38;2;255;255;255;48;2;222;158;214m         \u001b[0m\u001b[38;2;255;255;255;48;2;173;73;74m         \u001b[0m\u001b[38;2;0;0;0;48;2;181;207;107m         \u001b[0m\n",
              "\u001b[38;2;255;255;255;48;2;57;59;121m         \u001b[0m\u001b[38;2;255;255;255;48;2;222;158;214m         \u001b[0m\u001b[38;2;255;255;255;48;2;173;73;74m         \u001b[0m\u001b[38;2;0;0;0;48;2;181;207;107m         \u001b[0m\n",
              "\u001b[38;2;255;255;255;48;2;57;59;121m         \u001b[0m\u001b[38;2;255;255;255;48;2;222;158;214m         \u001b[0m\u001b[38;2;255;255;255;48;2;173;73;74m         \u001b[0m\u001b[38;2;0;0;0;48;2;181;207;107m         \u001b[0m\n"
            ]
          },
          "metadata": {},
          "output_type": "display_data"
        },
        {
          "data": {
            "text/html": [
              "\u003cpre style=\"white-space:pre;overflow-x:auto;line-height:normal;font-family:Menlo,'DejaVu Sans Mono',consolas,'Courier New',monospace\"\u003e\u003cspan style=\"color: #ffffff; text-decoration-color: #ffffff; background-color: #393b79\"\u003e                         \u003c/span\u003e\n",
              "\u003cspan style=\"color: #ffffff; text-decoration-color: #ffffff; background-color: #393b79\"\u003e         CPU 0,4         \u003c/span\u003e\n",
              "\u003cspan style=\"color: #ffffff; text-decoration-color: #ffffff; background-color: #393b79\"\u003e                         \u003c/span\u003e\n",
              "\u003cspan style=\"color: #ffffff; text-decoration-color: #ffffff; background-color: #de9ed6\"\u003e                         \u003c/span\u003e\n",
              "\u003cspan style=\"color: #ffffff; text-decoration-color: #ffffff; background-color: #de9ed6\"\u003e         CPU 1,5         \u003c/span\u003e\n",
              "\u003cspan style=\"color: #ffffff; text-decoration-color: #ffffff; background-color: #de9ed6\"\u003e                         \u003c/span\u003e\n",
              "\u003cspan style=\"color: #ffffff; text-decoration-color: #ffffff; background-color: #ad494a\"\u003e                         \u003c/span\u003e\n",
              "\u003cspan style=\"color: #ffffff; text-decoration-color: #ffffff; background-color: #ad494a\"\u003e         CPU 2,6         \u003c/span\u003e\n",
              "\u003cspan style=\"color: #ffffff; text-decoration-color: #ffffff; background-color: #ad494a\"\u003e                         \u003c/span\u003e\n",
              "\u003cspan style=\"color: #000000; text-decoration-color: #000000; background-color: #b5cf6b\"\u003e                         \u003c/span\u003e\n",
              "\u003cspan style=\"color: #000000; text-decoration-color: #000000; background-color: #b5cf6b\"\u003e         CPU 3,7         \u003c/span\u003e\n",
              "\u003cspan style=\"color: #000000; text-decoration-color: #000000; background-color: #b5cf6b\"\u003e                         \u003c/span\u003e\n",
              "\u003c/pre\u003e\n"
            ],
            "text/plain": [
              "\u001b[38;2;255;255;255;48;2;57;59;121m                         \u001b[0m\n",
              "\u001b[38;2;255;255;255;48;2;57;59;121m         \u001b[0m\u001b[38;2;255;255;255;48;2;57;59;121mCPU 0,4\u001b[0m\u001b[38;2;255;255;255;48;2;57;59;121m         \u001b[0m\n",
              "\u001b[38;2;255;255;255;48;2;57;59;121m                         \u001b[0m\n",
              "\u001b[38;2;255;255;255;48;2;222;158;214m                         \u001b[0m\n",
              "\u001b[38;2;255;255;255;48;2;222;158;214m         \u001b[0m\u001b[38;2;255;255;255;48;2;222;158;214mCPU 1,5\u001b[0m\u001b[38;2;255;255;255;48;2;222;158;214m         \u001b[0m\n",
              "\u001b[38;2;255;255;255;48;2;222;158;214m                         \u001b[0m\n",
              "\u001b[38;2;255;255;255;48;2;173;73;74m                         \u001b[0m\n",
              "\u001b[38;2;255;255;255;48;2;173;73;74m         \u001b[0m\u001b[38;2;255;255;255;48;2;173;73;74mCPU 2,6\u001b[0m\u001b[38;2;255;255;255;48;2;173;73;74m         \u001b[0m\n",
              "\u001b[38;2;255;255;255;48;2;173;73;74m                         \u001b[0m\n",
              "\u001b[38;2;0;0;0;48;2;181;207;107m                         \u001b[0m\n",
              "\u001b[38;2;0;0;0;48;2;181;207;107m         \u001b[0m\u001b[38;2;0;0;0;48;2;181;207;107mCPU 3,7\u001b[0m\u001b[38;2;0;0;0;48;2;181;207;107m         \u001b[0m\n",
              "\u001b[38;2;0;0;0;48;2;181;207;107m                         \u001b[0m\n"
            ]
          },
          "metadata": {},
          "output_type": "display_data"
        }
      ],
      "execution_count": 14
    },
    {
      "attachments": {},
      "metadata": {
        "id": "BKWd63o7MzIE"
      },
      "cell_type": "markdown",
      "source": [
        "### When to use device axis / logical axis\n",
        "\n",
        "Choosing when to use a device or logical axis depends on how much you want to control the partitioning of your model:\n",
        "\n",
        "* **Device mesh axis**:\n",
        "\n",
        "  * For a simpler model, this can save you a few extra lines of code of converting the logical naming back to the device naming.\n",
        "\n",
        "  * Shardings of intermediate *activation* values can only be done via [`jax.lax.with_sharding_constraint`](https://jax.readthedocs.io/en/latest/_autosummary/jax.lax.with_sharding_constraint.html) and device mesh axis. Therefore, if you want super fine-grained control over your model's sharding, directly using device mesh axis names everywhere might be less confusing.\n",
        "\n",
        "* **Logical naming**: This is helpful if you want to experiment around and find the most optimal partition layout for your *model weights*."
      ]
    }
  ],
  "metadata": {
    "jupytext": {
      "formats": "ipynb,md:myst"
    },
    "language_info": {
      "codemirror_mode": {
        "name": "ipython",
        "version": 3
      },
      "file_extension": ".py",
      "mimetype": "text/x-python",
      "name": "python",
      "nbconvert_exporter": "python",
      "pygments_lexer": "ipython3",
      "version": "3.11.9"
    }
  },
  "nbformat": 4,
  "nbformat_minor": 0
}
