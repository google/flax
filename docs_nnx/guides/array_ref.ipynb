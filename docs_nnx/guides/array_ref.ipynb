{
 "cells": [
  {
   "cell_type": "markdown",
   "id": "15c2d208",
   "metadata": {},
   "source": [
    "# Array Refs (experimental)"
   ]
  },
  {
   "cell_type": "code",
   "execution_count": 1,
   "id": "99809892",
   "metadata": {},
   "outputs": [],
   "source": [
    "from flax import nnx\n",
    "import jax\n",
    "import jax.numpy as jnp\n",
    "import optax"
   ]
  },
  {
   "cell_type": "markdown",
   "id": "787cf22a",
   "metadata": {},
   "source": [
    "## Basics"
   ]
  },
  {
   "cell_type": "markdown",
   "id": "d896c926",
   "metadata": {},
   "source": [
    "### Array Refs 101"
   ]
  },
  {
   "cell_type": "code",
   "execution_count": 2,
   "id": "cae099ce",
   "metadata": {},
   "outputs": [
    {
     "name": "stdout",
     "output_type": "stream",
     "text": [
      "[1] = ArrayRef([1, 2, 3], dtype=int32)\n",
      "[2] = ArrayRef([2, 3, 4], dtype=int32)\n"
     ]
    }
   ],
   "source": [
    "a_ref = jax.new_ref(jnp.array([1, 2, 3]))\n",
    "\n",
    "@jax.jit\n",
    "def increment(a_ref: jax.Ref):  # no return!\n",
    "  array: jax.Array = a_ref[...]  # access\n",
    "  a_ref[...] = array + 1         # update\n",
    "\n",
    "print(\"[1] =\", a_ref); increment(a_ref); print(\"[2] =\", a_ref)"
   ]
  },
  {
   "cell_type": "code",
   "execution_count": 3,
   "id": "fb081f49",
   "metadata": {},
   "outputs": [
    {
     "name": "stdout",
     "output_type": "stream",
     "text": [
      "module @jit_increment attributes {mhlo.num_partitions = 1 : i32, mhlo.num_replicas = 1 : i32} {\n",
      "  func.func public @main(%arg0: tensor<3xi32> {tf.aliasing_output = 0 : i32}) -> (tensor<3xi32> {jax.result_info = \"\"}) {\n",
      "    %c = stablehlo.constant dense<1> : tensor<i32>\n",
      "    %0 = stablehlo.broadcast_in_dim %c, dims = [] : (tensor<i32>) -> tensor<3xi32>\n",
      "    %1 = stablehlo.add %arg0, %0 : tensor<3xi32>\n",
      "    return %1 : tensor<3xi32>\n",
      "  }\n",
      "}\n",
      "\n"
     ]
    }
   ],
   "source": [
    "@jax.jit\n",
    "def inc(x):\n",
    "  x[...] += 1\n",
    "\n",
    "print(increment.lower(a_ref).as_text())"
   ]
  },
  {
   "cell_type": "markdown",
   "id": "26969861",
   "metadata": {},
   "source": [
    "### Variables Refs"
   ]
  },
  {
   "cell_type": "code",
   "execution_count": 4,
   "id": "8c3da93c",
   "metadata": {},
   "outputs": [
    {
     "name": "stdout",
     "output_type": "stream",
     "text": [
      "variable.has_ref = True\n",
      "\n",
      "[1] = \u001b[38;2;79;201;177mVariable\u001b[0m\u001b[38;2;255;213;3m(\u001b[0m\u001b[38;2;105;105;105m # 3 (12 B)\u001b[0m\n",
      "  \u001b[38;2;156;220;254mvalue\u001b[0m\u001b[38;2;212;212;212m=\u001b[0mArrayRef([1, 2, 3], dtype=int32)\n",
      "\u001b[38;2;255;213;3m)\u001b[0m\n",
      "[2] = \u001b[38;2;79;201;177mVariable\u001b[0m\u001b[38;2;255;213;3m(\u001b[0m\u001b[38;2;105;105;105m # 3 (12 B)\u001b[0m\n",
      "  \u001b[38;2;156;220;254mvalue\u001b[0m\u001b[38;2;212;212;212m=\u001b[0mArrayRef([2, 3, 4], dtype=int32)\n",
      "\u001b[38;2;255;213;3m)\u001b[0m\n"
     ]
    }
   ],
   "source": [
    "variable = nnx.Variable(jnp.array([1, 2, 3]), is_hijax=True)\n",
    "print(f\"{variable.is_hijax = }\\n\")\n",
    "\n",
    "print(\"[1] =\", variable); increment(variable); print(\"[2] =\", variable)"
   ]
  },
  {
   "cell_type": "code",
   "execution_count": 5,
   "id": "0a55df94",
   "metadata": {},
   "outputs": [
    {
     "name": "stdout",
     "output_type": "stream",
     "text": [
      "variable.has_ref = True\n"
     ]
    }
   ],
   "source": [
    "with nnx.use_refs(True):\n",
    "  variable = nnx.Variable(jnp.array([1, 2, 3]))\n",
    "\n",
    "print(f\"{variable.is_hijax = }\")"
   ]
  },
  {
   "cell_type": "markdown",
   "id": "839332be",
   "metadata": {},
   "source": [
    "Mention `nnx.use_refs` can be used as global flag"
   ]
  },
  {
   "cell_type": "markdown",
   "id": "1b2632f1",
   "metadata": {},
   "source": [
    "### Changing Status"
   ]
  },
  {
   "cell_type": "code",
   "execution_count": 6,
   "id": "b7b1f421",
   "metadata": {},
   "outputs": [
    {
     "name": "stdout",
     "output_type": "stream",
     "text": [
      "nnx.to_refs(model) = \u001b[38;2;79;201;177mLinear\u001b[0m\u001b[38;2;255;213;3m(\u001b[0m\u001b[38;2;105;105;105m # Param: 6 (24 B)\u001b[0m\n",
      "  \u001b[38;2;156;220;254mbias\u001b[0m\u001b[38;2;212;212;212m=\u001b[0m\u001b[38;2;79;201;177mParam\u001b[0m\u001b[38;2;255;213;3m(\u001b[0m\u001b[38;2;105;105;105m # 3 (12 B)\u001b[0m\n",
      "    \u001b[38;2;156;220;254mvalue\u001b[0m\u001b[38;2;212;212;212m=\u001b[0m\u001b[38;2;79;201;177mArrayRef\u001b[0m\u001b[38;2;255;213;3m(\u001b[0m\u001b[38;2;156;220;254mshape\u001b[0m\u001b[38;2;212;212;212m=\u001b[0m\u001b[38;2;255;213;3m(\u001b[0m\u001b[38;2;182;207;169m3\u001b[0m,\u001b[38;2;255;213;3m)\u001b[0m, \u001b[38;2;156;220;254mdtype\u001b[0m\u001b[38;2;212;212;212m=\u001b[0mdtype('float32')\u001b[38;2;255;213;3m)\u001b[0m\n",
      "  \u001b[38;2;255;213;3m)\u001b[0m,\n",
      "  \u001b[38;2;156;220;254mkernel\u001b[0m\u001b[38;2;212;212;212m=\u001b[0m\u001b[38;2;79;201;177mParam\u001b[0m\u001b[38;2;255;213;3m(\u001b[0m\u001b[38;2;105;105;105m # 3 (12 B)\u001b[0m\n",
      "    \u001b[38;2;156;220;254mvalue\u001b[0m\u001b[38;2;212;212;212m=\u001b[0m\u001b[38;2;79;201;177mArrayRef\u001b[0m\u001b[38;2;255;213;3m(\u001b[0m\u001b[38;2;156;220;254mshape\u001b[0m\u001b[38;2;212;212;212m=\u001b[0m\u001b[38;2;255;213;3m(\u001b[0m\u001b[38;2;182;207;169m1\u001b[0m, \u001b[38;2;182;207;169m3\u001b[0m\u001b[38;2;255;213;3m)\u001b[0m, \u001b[38;2;156;220;254mdtype\u001b[0m\u001b[38;2;212;212;212m=\u001b[0mdtype('float32')\u001b[38;2;255;213;3m)\u001b[0m\n",
      "  \u001b[38;2;255;213;3m)\u001b[0m\n",
      "\u001b[38;2;255;213;3m)\u001b[0m\n",
      "nnx.to_arrays(refs_model) = \u001b[38;2;79;201;177mLinear\u001b[0m\u001b[38;2;255;213;3m(\u001b[0m\u001b[38;2;105;105;105m # Param: 6 (24 B)\u001b[0m\n",
      "  \u001b[38;2;156;220;254mbias\u001b[0m\u001b[38;2;212;212;212m=\u001b[0m\u001b[38;2;79;201;177mParam\u001b[0m\u001b[38;2;255;213;3m(\u001b[0m\u001b[38;2;105;105;105m # 3 (12 B)\u001b[0m\n",
      "    \u001b[38;2;156;220;254mvalue\u001b[0m\u001b[38;2;212;212;212m=\u001b[0m\u001b[38;2;79;201;177mArray\u001b[0m\u001b[38;2;255;213;3m(\u001b[0m\u001b[38;2;156;220;254mshape\u001b[0m\u001b[38;2;212;212;212m=\u001b[0m\u001b[38;2;255;213;3m(\u001b[0m\u001b[38;2;182;207;169m3\u001b[0m,\u001b[38;2;255;213;3m)\u001b[0m, \u001b[38;2;156;220;254mdtype\u001b[0m\u001b[38;2;212;212;212m=\u001b[0mdtype('float32')\u001b[38;2;255;213;3m)\u001b[0m\n",
      "  \u001b[38;2;255;213;3m)\u001b[0m,\n",
      "  \u001b[38;2;156;220;254mkernel\u001b[0m\u001b[38;2;212;212;212m=\u001b[0m\u001b[38;2;79;201;177mParam\u001b[0m\u001b[38;2;255;213;3m(\u001b[0m\u001b[38;2;105;105;105m # 3 (12 B)\u001b[0m\n",
      "    \u001b[38;2;156;220;254mvalue\u001b[0m\u001b[38;2;212;212;212m=\u001b[0m\u001b[38;2;79;201;177mArray\u001b[0m\u001b[38;2;255;213;3m(\u001b[0m\u001b[38;2;156;220;254mshape\u001b[0m\u001b[38;2;212;212;212m=\u001b[0m\u001b[38;2;255;213;3m(\u001b[0m\u001b[38;2;182;207;169m1\u001b[0m, \u001b[38;2;182;207;169m3\u001b[0m\u001b[38;2;255;213;3m)\u001b[0m, \u001b[38;2;156;220;254mdtype\u001b[0m\u001b[38;2;212;212;212m=\u001b[0mdtype('float32')\u001b[38;2;255;213;3m)\u001b[0m\n",
      "  \u001b[38;2;255;213;3m)\u001b[0m\n",
      "\u001b[38;2;255;213;3m)\u001b[0m\n"
     ]
    }
   ],
   "source": [
    "class Linear(nnx.Module):\n",
    "  def __init__(self, in_features, out_features, rngs: nnx.Rngs):\n",
    "    self.kernel = nnx.Param(jax.random.normal(rngs(), (in_features, out_features)))\n",
    "    self.bias = nnx.Param(jnp.zeros(out_features))\n",
    "\n",
    "  def __call__(self, x):\n",
    "    return x @ self.kernel + self.bias[None]\n",
    "\n",
    "model = Linear(1, 3, rngs=nnx.Rngs(0)) # without array refs\n",
    "refs_model = nnx.to_refs(model) # convert to array refs\n",
    "arrays_model = nnx.to_arrays(refs_model) # convert to regular arrays\n",
    "\n",
    "print(\"nnx.to_refs(model) =\", refs_model)\n",
    "print(\"nnx.to_arrays(refs_model) =\", arrays_model)"
   ]
  },
  {
   "cell_type": "markdown",
   "id": "f4e35e75",
   "metadata": {},
   "source": [
    "## Examples"
   ]
  },
  {
   "cell_type": "code",
   "execution_count": 7,
   "id": "5400fe58",
   "metadata": {},
   "outputs": [],
   "source": [
    "class Block(nnx.Module):\n",
    "  def __init__(self, din, dmid, dout, rngs: nnx.Rngs):\n",
    "    self.linear = Linear(din, dmid, rngs=rngs)\n",
    "    self.bn = nnx.BatchNorm(dmid, rngs=rngs)\n",
    "    self.dropout = nnx.Dropout(0.1, rngs=rngs)\n",
    "    self.linear_out = Linear(dmid, dout, rngs=rngs)\n",
    "\n",
    "  def __call__(self, x):\n",
    "    x = nnx.gelu(self.dropout(self.bn(self.linear(x))))\n",
    "    return self.linear_out(x)"
   ]
  },
  {
   "cell_type": "markdown",
   "id": "ba980b6b",
   "metadata": {},
   "source": [
    "### Training Loop"
   ]
  },
  {
   "cell_type": "code",
   "execution_count": 8,
   "id": "566c4249",
   "metadata": {},
   "outputs": [
    {
     "data": {
      "text/plain": [
       "Array(1.000178, dtype=float32)"
      ]
     },
     "execution_count": 8,
     "metadata": {},
     "output_type": "execute_result"
    }
   ],
   "source": [
    "with nnx.use_refs(True):\n",
    "  model = Block(2, 64, 3, rngs=nnx.Rngs(0))\n",
    "  optimizer = nnx.Optimizer(model, optax.adam(1e-3), wrt=nnx.Param)\n",
    "\n",
    "@jax.jit\n",
    "def train_step(model, optimizer, x, y):\n",
    "  graphdef, params, nondiff = nnx.split(model, nnx.Param, ...)\n",
    "  def loss_fn(params):\n",
    "    model =  nnx.merge(graphdef, params, nondiff)\n",
    "    return ((model(x) - y) ** 2).mean()\n",
    "\n",
    "  loss, grads = jax.value_and_grad(loss_fn)(nnx.to_arrays(params))  # freeze ArrayRefs for jax.grad\n",
    "  optimizer.update(model, grads)\n",
    "\n",
    "  return loss\n",
    "\n",
    "train_step(model, optimizer, x=jnp.ones((10, 2)), y=jnp.ones((10, 3)))"
   ]
  },
  {
   "cell_type": "markdown",
   "id": "1dea99c1",
   "metadata": {},
   "source": [
    "### Scan Over Layers"
   ]
  },
  {
   "cell_type": "code",
   "execution_count": 9,
   "id": "d8136be4",
   "metadata": {},
   "outputs": [
    {
     "name": "stdout",
     "output_type": "stream",
     "text": [
      "y =  [[ 0.82840395 -0.25364894]\n",
      " [ 4.9552917   4.93638   ]\n",
      " [-7.6721525  -3.4668717 ]]\n"
     ]
    }
   ],
   "source": [
    "@nnx.vmap\n",
    "def create_stack(rngs):\n",
    "  return Block(2, 64, 2, rngs=rngs)\n",
    "\n",
    "with nnx.use_refs(True):\n",
    "  block_stack = create_stack(nnx.Rngs(0).fork(split=8))\n",
    "\n",
    "def scan_fn(x, block):\n",
    "  x = block(x)\n",
    "  return x, None\n",
    "\n",
    "x = jax.random.uniform(jax.random.key(0), (3, 2))\n",
    "y, _ = jax.lax.scan(scan_fn, x, block_stack)\n",
    "\n",
    "print(\"y = \", y)"
   ]
  },
  {
   "cell_type": "markdown",
   "id": "7ca18a0d",
   "metadata": {},
   "source": [
    "## Limitations"
   ]
  },
  {
   "cell_type": "markdown",
   "id": "1dd39c79",
   "metadata": {},
   "source": [
    "### MutableArray Outputs"
   ]
  },
  {
   "cell_type": "code",
   "execution_count": 10,
   "id": "c6062d19",
   "metadata": {},
   "outputs": [
    {
     "name": "stdout",
     "output_type": "stream",
     "text": [
      "Error: function create_model at /var/folders/qj/tkq3kvtd66z1t36rfyj9vg0w016bdd/T/ipykernel_43144/1421484665.py:1 traced for jit returned a mutable array reference of type Ref{float32[64]} at output tree path result.bn.bias.value, but mutable array references cannot be returned.\n",
      "\n",
      "The returned mutable array was created on line /Users/cgarciae/repos/flax/flax/nnx/variablelib.py:250:17 (Variable.__init__).\n"
     ]
    }
   ],
   "source": [
    "@jax.jit\n",
    "def create_model(rngs):\n",
    "  return Block(2, 64, 3, rngs=rngs)\n",
    "\n",
    "try:\n",
    "  with nnx.use_refs(True):\n",
    "    model = create_model(nnx.Rngs(0))\n",
    "except Exception as e:\n",
    "  print(f\"Error:\", e)"
   ]
  },
  {
   "cell_type": "code",
   "execution_count": 11,
   "id": "8bb1e9e7",
   "metadata": {},
   "outputs": [
    {
     "name": "stdout",
     "output_type": "stream",
     "text": [
      "model.linear = \u001b[38;2;79;201;177mLinear\u001b[0m\u001b[38;2;255;213;3m(\u001b[0m\u001b[38;2;105;105;105m # Param: 192 (768 B)\u001b[0m\n",
      "  \u001b[38;2;156;220;254mbias\u001b[0m\u001b[38;2;212;212;212m=\u001b[0m\u001b[38;2;79;201;177mParam\u001b[0m\u001b[38;2;255;213;3m(\u001b[0m\u001b[38;2;105;105;105m # 64 (256 B)\u001b[0m\n",
      "    \u001b[38;2;156;220;254mvalue\u001b[0m\u001b[38;2;212;212;212m=\u001b[0m\u001b[38;2;79;201;177mArrayRef\u001b[0m\u001b[38;2;255;213;3m(\u001b[0m\u001b[38;2;156;220;254mshape\u001b[0m\u001b[38;2;212;212;212m=\u001b[0m\u001b[38;2;255;213;3m(\u001b[0m\u001b[38;2;182;207;169m64\u001b[0m,\u001b[38;2;255;213;3m)\u001b[0m, \u001b[38;2;156;220;254mdtype\u001b[0m\u001b[38;2;212;212;212m=\u001b[0mdtype('float32')\u001b[38;2;255;213;3m)\u001b[0m\n",
      "  \u001b[38;2;255;213;3m)\u001b[0m,\n",
      "  \u001b[38;2;156;220;254mkernel\u001b[0m\u001b[38;2;212;212;212m=\u001b[0m\u001b[38;2;79;201;177mParam\u001b[0m\u001b[38;2;255;213;3m(\u001b[0m\u001b[38;2;105;105;105m # 128 (512 B)\u001b[0m\n",
      "    \u001b[38;2;156;220;254mvalue\u001b[0m\u001b[38;2;212;212;212m=\u001b[0m\u001b[38;2;79;201;177mArrayRef\u001b[0m\u001b[38;2;255;213;3m(\u001b[0m\u001b[38;2;156;220;254mshape\u001b[0m\u001b[38;2;212;212;212m=\u001b[0m\u001b[38;2;255;213;3m(\u001b[0m\u001b[38;2;182;207;169m2\u001b[0m, \u001b[38;2;182;207;169m64\u001b[0m\u001b[38;2;255;213;3m)\u001b[0m, \u001b[38;2;156;220;254mdtype\u001b[0m\u001b[38;2;212;212;212m=\u001b[0mdtype('float32')\u001b[38;2;255;213;3m)\u001b[0m\n",
      "  \u001b[38;2;255;213;3m)\u001b[0m\n",
      "\u001b[38;2;255;213;3m)\u001b[0m\n"
     ]
    }
   ],
   "source": [
    "with nnx.use_refs(False): # <-- disable array refs\n",
    "  model = create_model(nnx.Rngs(0))\n",
    "\n",
    "model = nnx.to_refs(model) # convert to mutable after creation\n",
    "\n",
    "print(\"model.linear =\", model.linear)"
   ]
  },
  {
   "cell_type": "code",
   "execution_count": 12,
   "id": "3a078025",
   "metadata": {},
   "outputs": [
    {
     "name": "stdout",
     "output_type": "stream",
     "text": [
      "model.linear = \u001b[38;2;79;201;177mLinear\u001b[0m\u001b[38;2;255;213;3m(\u001b[0m\u001b[38;2;105;105;105m # Param: 192 (768 B)\u001b[0m\n",
      "  \u001b[38;2;156;220;254mbias\u001b[0m\u001b[38;2;212;212;212m=\u001b[0m\u001b[38;2;79;201;177mParam\u001b[0m\u001b[38;2;255;213;3m(\u001b[0m\u001b[38;2;105;105;105m # 64 (256 B)\u001b[0m\n",
      "    \u001b[38;2;156;220;254mvalue\u001b[0m\u001b[38;2;212;212;212m=\u001b[0m\u001b[38;2;79;201;177mArrayRef\u001b[0m\u001b[38;2;255;213;3m(\u001b[0m\u001b[38;2;156;220;254mshape\u001b[0m\u001b[38;2;212;212;212m=\u001b[0m\u001b[38;2;255;213;3m(\u001b[0m\u001b[38;2;182;207;169m64\u001b[0m,\u001b[38;2;255;213;3m)\u001b[0m, \u001b[38;2;156;220;254mdtype\u001b[0m\u001b[38;2;212;212;212m=\u001b[0mdtype('float32')\u001b[38;2;255;213;3m)\u001b[0m\n",
      "  \u001b[38;2;255;213;3m)\u001b[0m,\n",
      "  \u001b[38;2;156;220;254mkernel\u001b[0m\u001b[38;2;212;212;212m=\u001b[0m\u001b[38;2;79;201;177mParam\u001b[0m\u001b[38;2;255;213;3m(\u001b[0m\u001b[38;2;105;105;105m # 128 (512 B)\u001b[0m\n",
      "    \u001b[38;2;156;220;254mvalue\u001b[0m\u001b[38;2;212;212;212m=\u001b[0m\u001b[38;2;79;201;177mArrayRef\u001b[0m\u001b[38;2;255;213;3m(\u001b[0m\u001b[38;2;156;220;254mshape\u001b[0m\u001b[38;2;212;212;212m=\u001b[0m\u001b[38;2;255;213;3m(\u001b[0m\u001b[38;2;182;207;169m2\u001b[0m, \u001b[38;2;182;207;169m64\u001b[0m\u001b[38;2;255;213;3m)\u001b[0m, \u001b[38;2;156;220;254mdtype\u001b[0m\u001b[38;2;212;212;212m=\u001b[0mdtype('float32')\u001b[38;2;255;213;3m)\u001b[0m\n",
      "  \u001b[38;2;255;213;3m)\u001b[0m\n",
      "\u001b[38;2;255;213;3m)\u001b[0m\n"
     ]
    }
   ],
   "source": [
    "@nnx.jit\n",
    "def create_model(rngs):\n",
    "  return Block(2, 64, 3, rngs=rngs)\n",
    "\n",
    "with nnx.use_refs(True):\n",
    "  model = create_model(nnx.Rngs(0))\n",
    "\n",
    "print(\"model.linear =\", model.linear)"
   ]
  },
  {
   "cell_type": "markdown",
   "id": "609bed7c",
   "metadata": {},
   "source": [
    "### Reference Sharing (aliasing)"
   ]
  },
  {
   "cell_type": "code",
   "execution_count": 13,
   "id": "045d03c1",
   "metadata": {},
   "outputs": [
    {
     "name": "stdout",
     "output_type": "stream",
     "text": [
      "ValueError: only one reference to a mutable array may be passed as an argument to a function, but when tracing f at /var/folders/qj/tkq3kvtd66z1t36rfyj9vg0w016bdd/T/ipykernel_43144/1563421490.py:9 for jit the mutable array reference of type Ref{int32[]} appeared at both a and b.\n"
     ]
    }
   ],
   "source": [
    "def get_error(f, *args):\n",
    "  try:\n",
    "    return f(*args)\n",
    "  except Exception as e:\n",
    "    return f\"{type(e).__name__}: {e}\"\n",
    "  \n",
    "x = jax.new_ref(jnp.array(0))\n",
    "\n",
    "@jax.jit\n",
    "def f(a, b):\n",
    "  ...\n",
    "\n",
    "print(get_error(f, x, x))"
   ]
  },
  {
   "cell_type": "code",
   "execution_count": 14,
   "id": "bc2e87e5",
   "metadata": {},
   "outputs": [
    {
     "name": "stdout",
     "output_type": "stream",
     "text": [
      "SharedVariables ValueError: only one reference to a mutable array may be passed as an argument to a function, but when tracing g at /var/folders/qj/tkq3kvtd66z1t36rfyj9vg0w016bdd/T/ipykernel_43144/1828746469.py:13 for jit the mutable array reference of type Ref{int32[]} appeared at both pytree.a.value and pytree.c.value.\n",
      "SharedModules ValueError: only one reference to a mutable array may be passed as an argument to a function, but when tracing g at /var/folders/qj/tkq3kvtd66z1t36rfyj9vg0w016bdd/T/ipykernel_43144/1828746469.py:13 for jit the mutable array reference of type Ref{float32[1]} appeared at both pytree.d.bias.value and pytree.f.bias.value.\n"
     ]
    }
   ],
   "source": [
    "class SharedVariables(nnx.Pytree):\n",
    "  def __init__(self):\n",
    "    self.a = nnx.Variable(jnp.array(0))\n",
    "    self.b = nnx.Variable(jnp.array(1))\n",
    "    self.c = self.a\n",
    "\n",
    "class SharedModules(nnx.Pytree):\n",
    "  def __init__(self):\n",
    "    self.d = Linear(1, 1, rngs=nnx.Rngs(0))\n",
    "    self.e = Linear(1, 1, rngs=nnx.Rngs(0))\n",
    "    self.f = self.d\n",
    "\n",
    "@jax.jit\n",
    "def g(pytree):\n",
    "  ...\n",
    "\n",
    "with nnx.use_refs(True):\n",
    "  shared_variables = SharedVariables()\n",
    "  shared_modules = SharedModules()\n",
    "\n",
    "print(\"SharedVariables\", get_error(g, shared_variables))\n",
    "print(\"SharedModules\", get_error(g, shared_modules))"
   ]
  },
  {
   "cell_type": "code",
   "execution_count": 15,
   "id": "6298f3d9",
   "metadata": {},
   "outputs": [
    {
     "name": "stdout",
     "output_type": "stream",
     "text": [
      "shared variables duplicates: [[('a',), ('c',)]]\n",
      "shared modules duplicates:   [[('d',), ('f',)]]\n"
     ]
    }
   ],
   "source": [
    "if (duplicates := nnx.find_duplicates(shared_variables)):\n",
    "  print(\"shared variables duplicates:\", duplicates)\n",
    "\n",
    "if (duplicates := nnx.find_duplicates(shared_modules)):\n",
    "  print(\"shared modules duplicates:  \", duplicates)"
   ]
  },
  {
   "cell_type": "code",
   "execution_count": 16,
   "id": "00854d38",
   "metadata": {},
   "outputs": [
    {
     "name": "stdout",
     "output_type": "stream",
     "text": [
      "\u001b[38;2;79;201;177mState\u001b[0m\u001b[38;2;255;213;3m({\u001b[0m\u001b[38;2;105;105;105m\u001b[0m\n",
      "  \u001b[38;2;156;220;254m'a'\u001b[0m\u001b[38;2;212;212;212m: \u001b[0m\u001b[38;2;79;201;177mVariable\u001b[0m\u001b[38;2;255;213;3m(\u001b[0m\u001b[38;2;105;105;105m # 1 (4 B)\u001b[0m\n",
      "    \u001b[38;2;156;220;254mvalue\u001b[0m\u001b[38;2;212;212;212m=\u001b[0mArrayRef(0, dtype=int32, weak_type=True)\n",
      "  \u001b[38;2;255;213;3m)\u001b[0m,\n",
      "  \u001b[38;2;156;220;254m'b'\u001b[0m\u001b[38;2;212;212;212m: \u001b[0m\u001b[38;2;79;201;177mVariable\u001b[0m\u001b[38;2;255;213;3m(\u001b[0m\u001b[38;2;105;105;105m # 1 (4 B)\u001b[0m\n",
      "    \u001b[38;2;156;220;254mvalue\u001b[0m\u001b[38;2;212;212;212m=\u001b[0mArrayRef(1, dtype=int32, weak_type=True)\n",
      "  \u001b[38;2;255;213;3m)\u001b[0m\n",
      "\u001b[38;2;255;213;3m})\u001b[0m\n",
      "updated \u001b[38;2;79;201;177mSharedVariables\u001b[0m\u001b[38;2;255;213;3m(\u001b[0m\u001b[38;2;105;105;105m # Variable: 2 (8 B)\u001b[0m\n",
      "  \u001b[38;2;156;220;254ma\u001b[0m\u001b[38;2;212;212;212m=\u001b[0m\u001b[38;2;79;201;177mVariable\u001b[0m\u001b[38;2;255;213;3m(\u001b[0m\u001b[38;2;105;105;105m # 1 (4 B)\u001b[0m\n",
      "    \u001b[38;2;156;220;254mvalue\u001b[0m\u001b[38;2;212;212;212m=\u001b[0mArrayRef(10, dtype=int32)\n",
      "  \u001b[38;2;255;213;3m)\u001b[0m,\n",
      "  \u001b[38;2;156;220;254mb\u001b[0m\u001b[38;2;212;212;212m=\u001b[0m\u001b[38;2;79;201;177mVariable\u001b[0m\u001b[38;2;255;213;3m(\u001b[0m\u001b[38;2;105;105;105m # 1 (4 B)\u001b[0m\n",
      "    \u001b[38;2;156;220;254mvalue\u001b[0m\u001b[38;2;212;212;212m=\u001b[0mArrayRef(1, dtype=int32, weak_type=True)\n",
      "  \u001b[38;2;255;213;3m)\u001b[0m,\n",
      "  \u001b[38;2;156;220;254mc\u001b[0m\u001b[38;2;212;212;212m=\u001b[0m\u001b[38;2;79;201;177mVariable\u001b[0m\u001b[38;2;255;213;3m(\u001b[0m\u001b[38;2;105;105;105m # 1 (4 B)\u001b[0m\n",
      "    \u001b[38;2;156;220;254mvalue\u001b[0m\u001b[38;2;212;212;212m=\u001b[0mArrayRef(10, dtype=int32)\n",
      "  \u001b[38;2;255;213;3m)\u001b[0m\n",
      "\u001b[38;2;255;213;3m)\u001b[0m\n"
     ]
    }
   ],
   "source": [
    "@jax.jit\n",
    "def h(graphdef, state):\n",
    "  obj = nnx.merge(graphdef, state)\n",
    "  obj.a[...] += 10\n",
    "\n",
    "graphdef, state = nnx.split(shared_variables)\n",
    "print(state) # split deduplicates the state\n",
    "\n",
    "h(graphdef, state)\n",
    "\n",
    "print(\"updated\", shared_variables)"
   ]
  }
 ],
 "metadata": {
  "jupytext": {
   "formats": "ipynb,md:myst"
  },
  "language_info": {
   "codemirror_mode": {
    "name": "ipython",
    "version": 3
   },
   "file_extension": ".py",
   "mimetype": "text/x-python",
   "name": "python",
   "nbconvert_exporter": "python",
   "pygments_lexer": "ipython3",
   "version": "3.11.9"
  }
 },
 "nbformat": 4,
 "nbformat_minor": 5
}
