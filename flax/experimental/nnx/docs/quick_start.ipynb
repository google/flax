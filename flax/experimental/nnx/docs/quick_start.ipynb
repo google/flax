{
 "cells": [
  {
   "attachments": {},
   "cell_type": "markdown",
   "metadata": {},
   "source": [
    "# NNX\n",
    "\n",
    "Welcome to NNX!\n",
    "\n",
    "NNX is an open source Python library for **N**eural **N**etwork in JA**X**. Its main feature is, much like Pytorch, allowing Python object semantics and reference sharing, which brings simplicty and familiarity, and easily crossing over into the functional world with through a set of simple APIs.\n",
    "\n",
    "This tutorial demonstrates how to construct a simple convolutional neural network (CNN) using NNX and train the network for image classification on the MNIST dataset."
   ]
  },
  {
   "attachments": {},
   "cell_type": "markdown",
   "metadata": {},
   "source": [
    "### Installation"
   ]
  },
  {
   "cell_type": "code",
   "execution_count": null,
   "metadata": {},
   "outputs": [],
   "source": [
    "! pip install -q nnx"
   ]
  },
  {
   "attachments": {},
   "cell_type": "markdown",
   "metadata": {},
   "source": [
    "### Load the MNIST dataset\n",
    "We will use the `datasets` library to load MNIST and convert it to NumPy arrays."
   ]
  },
  {
   "cell_type": "code",
   "execution_count": 2,
   "metadata": {},
   "outputs": [
    {
     "name": "stderr",
     "output_type": "stream",
     "text": [
      "/home/cris/nnx/.venv/lib/python3.8/site-packages/tqdm/auto.py:21: TqdmWarning: IProgress not found. Please update jupyter and ipywidgets. See https://ipywidgets.readthedocs.io/en/stable/user_install.html\n",
      "  from .autonotebook import tqdm as notebook_tqdm\n",
      "Found cached dataset mnist (/home/cris/.cache/huggingface/datasets/mnist/mnist/1.0.0/9d494b7f466d6931c64fb39d58bb1249a4d85c9eb9865d9bc20960b999e2a332)\n",
      "100%|██████████| 2/2 [00:00<00:00, 499.95it/s]\n"
     ]
    }
   ],
   "source": [
    "import datasets\n",
    "import numpy as np\n",
    "\n",
    "dataset = datasets.load_dataset(\"mnist\")\n",
    "X_train = np.array(np.stack(dataset[\"train\"][\"image\"]), dtype=np.uint8)[\n",
    "    ..., None\n",
    "]\n",
    "y_train = np.array(dataset[\"train\"][\"label\"], dtype=np.uint8)\n",
    "X_test = np.array(np.stack(dataset[\"test\"][\"image\"]), dtype=np.uint8)[..., None]\n",
    "y_test = np.array(dataset[\"test\"][\"label\"], dtype=np.uint8)"
   ]
  },
  {
   "attachments": {},
   "cell_type": "markdown",
   "metadata": {},
   "source": [
    "Lets visualize a few examples from the dataset using matplotlib:"
   ]
  },
  {
   "cell_type": "code",
   "execution_count": 3,
   "metadata": {},
   "outputs": [
    {
     "data": {
      "image/png": "[encoded data removed]",
      "text/plain": [
       "<Figure size 600x600 with 9 Axes>"
      ]
     },
     "metadata": {},
     "output_type": "display_data"
    }
   ],
   "source": [
    "import matplotlib.pyplot as plt\n",
    "\n",
    "# plot a 3x3 grid of MNIST digits\n",
    "idxs = np.random.randint(0, len(X_train), size=(3, 3))\n",
    "fig, axes = plt.subplots(3, 3, figsize=(3 * 2, 3 * 2))\n",
    "\n",
    "for i in range(3):\n",
    "  for j in range(3):\n",
    "    axes[i, j].imshow(X_train[idxs[i, j]], cmap=\"gray\")\n",
    "    axes[i, j].axis(\"off\")\n",
    "    axes[i, j].set_title(f\"Label: {y_train[idxs[i, j]]}\")\n",
    "\n",
    "plt.show()"
   ]
  },
  {
   "attachments": {},
   "cell_type": "markdown",
   "metadata": {},
   "source": [
    "### Defining the Model\n",
    "\n",
    "To create a convolutional neural network using NNX define a `nnx.Module` subclass. We define the model by subclassing `nnx.Module` and defining a `forward` method that returns the model output. Like in PyTorch, the `__init__` method instantiates all the modules that will be used in the model. The `__call__` in this case\n",
    "will define the forward computation. "
   ]
  },
  {
   "cell_type": "code",
   "execution_count": 4,
   "metadata": {},
   "outputs": [
    {
     "name": "stderr",
     "output_type": "stream",
     "text": [
      "No GPU/TPU found, falling back to CPU. (Set TF_CPP_MIN_LOG_LEVEL=0 and rerun for more info.)\n"
     ]
    },
    {
     "data": {
      "text/plain": [
       "(1, 10)"
      ]
     },
     "execution_count": 4,
     "metadata": {},
     "output_type": "execute_result"
    }
   ],
   "source": [
    "import jax\n",
    "import jax.numpy as jnp\n",
    "from flax.experimental import nnx\n",
    "\n",
    "\n",
    "class CNN(nnx.Module):\n",
    "\n",
    "  def __init__(self, *, rngs: nnx.Rngs):\n",
    "    self.conv1 = nnx.Conv(1, 32, kernel_size=(3, 3), rngs=rngs)\n",
    "    self.conv2 = nnx.Conv(32, 64, kernel_size=(3, 3), rngs=rngs)\n",
    "    self.linear1 = nnx.Linear(7 * 7 * 64, 256, rngs=rngs)\n",
    "    self.linear2 = nnx.Linear(256, 10, rngs=rngs)\n",
    "    self.num_calls = nnx.var(\"counts\", 0)\n",
    "\n",
    "  def __call__(self, x: jax.Array) -> jax.Array:\n",
    "    self.num_calls += 1\n",
    "    x = self.conv1(x)\n",
    "    x = nnx.relu(x)\n",
    "    x = nnx.avg_pool(x, window_shape=(2, 2), strides=(2, 2))\n",
    "    x = self.conv2(x)\n",
    "    x = nnx.relu(x)\n",
    "    x = nnx.avg_pool(x, window_shape=(2, 2), strides=(2, 2))\n",
    "    x = x.reshape((x.shape[0], -1))  # flatten\n",
    "    x = self.linear1(x)\n",
    "    x = nnx.relu(x)\n",
    "    x = self.linear2(x)\n",
    "    return x\n",
    "\n",
    "\n",
    "model = CNN(rngs=nnx.Rngs(0))\n",
    "\n",
    "y = model(X_train[:1])\n",
    "y.shape"
   ]
  },
  {
   "attachments": {},
   "cell_type": "markdown",
   "metadata": {},
   "source": [
    "One notable difference with other frameworks is that `__init__`, by convention, accepts a `rngs: nnx.Rngs` keyword-only argument. This object is passed around to generate PRNG keys as random state is explicit in JAX.\n",
    "\n",
    "One of the nice things about NNX is that Module contain their own state, are fully inspectable, and you can run them eargerly. For example, we can easily check out the kernel shape of the first `Conv` layer:"
   ]
  },
  {
   "cell_type": "code",
   "execution_count": 5,
   "metadata": {},
   "outputs": [
    {
     "data": {
      "text/plain": [
       "(3, 3, 1, 32)"
      ]
     },
     "execution_count": 5,
     "metadata": {},
     "output_type": "execute_result"
    }
   ],
   "source": [
    "model.conv1.kernel.shape"
   ]
  },
  {
   "attachments": {},
   "cell_type": "markdown",
   "metadata": {},
   "source": [
    "We can also view the entire `State` of the model using the `.filter()` method. TODO: talk about collections."
   ]
  },
  {
   "cell_type": "code",
   "execution_count": 8,
   "metadata": {},
   "outputs": [
    {
     "data": {
      "text/plain": [
       "State({\n",
       "  'conv1/bias': Variable(\n",
       "    collection='params',\n",
       "    value=(32,)\n",
       "  ),\n",
       "  'conv1/kernel': Variable(\n",
       "    collection='params',\n",
       "    value=(3, 3, 1, 32)\n",
       "  ),\n",
       "  'conv2/bias': Variable(\n",
       "    collection='params',\n",
       "    value=(64,)\n",
       "  ),\n",
       "  'conv2/kernel': Variable(\n",
       "    collection='params',\n",
       "    value=(3, 3, 32, 64)\n",
       "  ),\n",
       "  'linear1/bias': Variable(\n",
       "    collection='params',\n",
       "    value=(256,)\n",
       "  ),\n",
       "  'linear1/kernel': Variable(\n",
       "    collection='params',\n",
       "    value=(3136, 256)\n",
       "  ),\n",
       "  'linear2/bias': Variable(\n",
       "    collection='params',\n",
       "    value=(10,)\n",
       "  ),\n",
       "  'linear2/kernel': Variable(\n",
       "    collection='params',\n",
       "    value=(256, 10)\n",
       "  )\n",
       "})"
      ]
     },
     "execution_count": 8,
     "metadata": {},
     "output_type": "execute_result"
    }
   ],
   "source": [
    "jax.tree_util.tree_map(jnp.shape, model.extract(nnx.Param))"
   ]
  },
  {
   "attachments": {},
   "cell_type": "markdown",
   "metadata": {},
   "source": [
    "### Training in eager mode\n",
    "\n",
    "For pedagogical purposes, we first train the model in eager mode. This will be uselful to take a look at some of NNX's features, its be more approachable for new users, and great for debugging, but it is not the recommended way to train models in JAX.\n",
    "\n",
    "Here we will run a simple `for` loop for just 10 iterations, at each step we will sample a batch of data, define a `loss_fn` to compute the loss, and use `nnx.value_and_grad` to compute the gradients of the loss with respect to the model parameters. Using the gradients we will update the parameters using stochastic gradient descent (SGD) via a simple `tree_map` operation. Finally, we will update the model's parameters using the `.update_state` method."
   ]
  },
  {
   "cell_type": "code",
   "execution_count": 7,
   "metadata": {},
   "outputs": [
    {
     "name": "stdout",
     "output_type": "stream",
     "text": [
      "Step 0: loss=58.7676\n",
      "Step 1: loss=80.0420\n",
      "Step 2: loss=108.3005\n",
      "Step 3: loss=26.6188\n",
      "Step 4: loss=10.7236\n",
      "Step 5: loss=4.7499\n",
      "Step 6: loss=3.9177\n",
      "Step 7: loss=2.9419\n",
      "Step 8: loss=2.4733\n",
      "Step 9: loss=1.8060\n"
     ]
    }
   ],
   "source": [
    "import optax\n",
    "\n",
    "for step in range(10):\n",
    "  idxs = np.random.randint(0, len(X_train), size=32)\n",
    "  x = jnp.array(X_train[idxs])\n",
    "  y = jnp.array(y_train[idxs])\n",
    "\n",
    "  def loss_fn(model: CNN):\n",
    "    logits = model(x)\n",
    "    return optax.softmax_cross_entropy_with_integer_labels(logits, y).mean()\n",
    "\n",
    "  loss, grads = nnx.value_and_grad(loss_fn, wrt=\"params\")(model)\n",
    "  params = model.extract(\"params\")\n",
    "  params = jax.tree_util.tree_map(lambda w, g: w - 0.001 * g, params, grads)\n",
    "\n",
    "  model.update(params)\n",
    "  print(f\"Step {step}: loss={loss:.4f}\")"
   ]
  },
  {
   "attachments": {},
   "cell_type": "markdown",
   "metadata": {},
   "source": [
    "The loss is going down 🎉.\n",
    "\n",
    "### Training with the Functional API\n",
    "\n",
    "Now that we have a working model, lets see how to train it with `jax.jit` using NNX's Functional API. The `Module.split` method allows you to convert a Module into pytrees with functional semantics, this allows you to integrate with JAX's functional APIs like `jax.jit` and `jax.grad`.\n",
    "\n",
    "In this next example we will use the `.split` method to split the model into a `params: State` and `graphdef: GraphDef` objects. We pass the `\"params\"` filter to check that the Module's state only contain `Variables` with the `params` collection. Having `params` and `graphdef` its pretty easy to implement a jitted `train_step` much like you would in Flax or Haiku. `GraphDef` exposes an `apply` method which accepts some `State` and creates a function that runs the Module's `__call__` method. This function then returns the output of the Module along with the updated state."
   ]
  },
  {
   "cell_type": "code",
   "execution_count": 8,
   "metadata": {},
   "outputs": [],
   "source": [
    "graphdef, params = model.split(\"params\")\n",
    "\n",
    "\n",
    "@jax.jit\n",
    "def train_step(params: nnx.State, x, y):\n",
    "  def loss_fn(params):\n",
    "    logits, _updates = graphdef.apply(params)(x)\n",
    "    return optax.softmax_cross_entropy_with_integer_labels(logits, y).mean()\n",
    "\n",
    "  loss, grads = jax.value_and_grad(loss_fn)(params)\n",
    "  params = jax.tree_util.tree_map(lambda w, g: w - 0.001 * g, params, grads)\n",
    "\n",
    "  return loss, params"
   ]
  },
  {
   "attachments": {},
   "cell_type": "markdown",
   "metadata": {},
   "source": [
    "Using `train_step` we can run a few more iterations and see that the loss is still going down, however, this time execution should be much faster."
   ]
  },
  {
   "cell_type": "code",
   "execution_count": 9,
   "metadata": {},
   "outputs": [
    {
     "name": "stdout",
     "output_type": "stream",
     "text": [
      "Step 0: loss=1.4396\n",
      "Step 1: loss=1.4127\n",
      "Step 2: loss=1.8718\n",
      "Step 3: loss=1.7080\n",
      "Step 4: loss=1.7984\n",
      "Step 5: loss=1.0350\n",
      "Step 6: loss=1.2076\n",
      "Step 7: loss=0.9081\n",
      "Step 8: loss=0.8217\n",
      "Step 9: loss=0.6687\n"
     ]
    }
   ],
   "source": [
    "for step in range(10):\n",
    "  idxs = np.random.randint(0, len(X_train), size=32)\n",
    "  x = jnp.array(X_train[idxs])\n",
    "  y = jnp.array(y_train[idxs])\n",
    "\n",
    "  loss, params = train_step(params, x, y)\n",
    "  print(f\"Step {step}: loss={loss:.4f}\")\n",
    "\n",
    "model.update(params)"
   ]
  },
  {
   "attachments": {},
   "cell_type": "markdown",
   "metadata": {},
   "source": [
    "### Realistic Training using TrainState\n",
    "\n",
    "For real training scenarios, we recommend using `TrainState` to manage the state of your training loop. `TrainState` manages the `params` of your network along with other types of state, and uses `optax` to update the parameters according to the gradients.\n",
    "\n",
    "Next, we will define a `train_step` function that accepts a `TrainState` and a batch of data, and returns a new `TrainState` with updated parameters. The `apply_gradients` method will return a new `state` with the updated parameters. Flax users should be familiar with this API. In this case will will also define a `eval_step` function that will be used to evaluate the model on the test set and return some metrics."
   ]
  },
  {
   "cell_type": "code",
   "execution_count": 9,
   "metadata": {},
   "outputs": [],
   "source": [
    "state = nnx.TrainState(\n",
    "    graphdef,\n",
    "    params=params,\n",
    "    tx=optax.adam(0.001),\n",
    ")\n",
    "\n",
    "\n",
    "@jax.jit\n",
    "def train_step(state: nnx.TrainState, x, y):\n",
    "  def loss_fn(params):\n",
    "    logits, _updates = state.apply_fn(params)(x)\n",
    "    return optax.softmax_cross_entropy_with_integer_labels(logits, y).mean()\n",
    "\n",
    "  grads = jax.grad(loss_fn)(state.params)\n",
    "\n",
    "  state = state.apply_gradients(grads=grads)\n",
    "\n",
    "  return state\n",
    "\n",
    "\n",
    "@jax.jit\n",
    "def eval_step(state: nnx.TrainState, x, y):\n",
    "  logits, _updates = state.apply_fn(state.params)(x)\n",
    "  metrics = {\n",
    "      'accuracy': jnp.mean(jnp.argmax(logits, axis=-1) == y),\n",
    "      'loss': optax.softmax_cross_entropy_with_integer_labels(logits, y).mean(),\n",
    "  }\n",
    "  return metrics"
   ]
  },
  {
   "attachments": {},
   "cell_type": "markdown",
   "metadata": {},
   "source": [
    "Now lets create a simple training loop that runs for 1000 iterations and prints the metrics every 100 steps. At the end of training we will compute the final metrics."
   ]
  },
  {
   "cell_type": "code",
   "execution_count": 10,
   "metadata": {},
   "outputs": [
    {
     "name": "stdout",
     "output_type": "stream",
     "text": [
      "Step 0: {'accuracy': Array(0.63119996, dtype=float32), 'loss': Array(1.1837534, dtype=float32)}\n",
      "Step 100: {'accuracy': Array(0.9492, dtype=float32), 'loss': Array(0.16359854, dtype=float32)}\n",
      "Step 200: {'accuracy': Array(0.9564, dtype=float32), 'loss': Array(0.14198248, dtype=float32)}\n",
      "Step 300: {'accuracy': Array(0.96279997, dtype=float32), 'loss': Array(0.12757339, dtype=float32)}\n",
      "Step 400: {'accuracy': Array(0.97169995, dtype=float32), 'loss': Array(0.09900841, dtype=float32)}\n",
      "Step 500: {'accuracy': Array(0.96889997, dtype=float32), 'loss': Array(0.10143881, dtype=float32)}\n",
      "Step 600: {'accuracy': Array(0.9745, dtype=float32), 'loss': Array(0.08513925, dtype=float32)}\n",
      "Step 700: {'accuracy': Array(0.96379995, dtype=float32), 'loss': Array(0.11632324, dtype=float32)}\n",
      "Step 800: {'accuracy': Array(0.97679996, dtype=float32), 'loss': Array(0.07204168, dtype=float32)}\n",
      "Step 900: {'accuracy': Array(0.9765, dtype=float32), 'loss': Array(0.08413408, dtype=float32)}\n",
      "Final metrics: {'accuracy': Array(0.9819, dtype=float32), 'loss': Array(0.05711861, dtype=float32)}\n"
     ]
    }
   ],
   "source": [
    "total_steps = 1000\n",
    "eval_every = 100\n",
    "\n",
    "for step in range(total_steps):\n",
    "  if step % eval_every == 0:\n",
    "    metrics = eval_step(state, jnp.array(X_test), jnp.array(y_test))\n",
    "    print(f\"Step {step}: {metrics}\")\n",
    "\n",
    "  idxs = np.random.randint(0, len(X_train), size=32)\n",
    "  x = jnp.array(X_train[idxs])\n",
    "  y = jnp.array(y_train[idxs])\n",
    "\n",
    "  state = train_step(state, x, y)\n",
    "\n",
    "metrics = eval_step(state, jnp.array(X_test), jnp.array(y_test))\n",
    "print(f\"Final metrics: {metrics}\")"
   ]
  },
  {
   "attachments": {},
   "cell_type": "markdown",
   "metadata": {},
   "source": [
    "### Inference\n",
    "\n",
    "Finally, now that we have a trained model, lets use it to make some predictions. We will update the `model` object with the trained parameters and use it to make predictions on the test set."
   ]
  },
  {
   "cell_type": "code",
   "execution_count": 11,
   "metadata": {},
   "outputs": [
    {
     "data": {
      "image/png": "[encoded data removed]",
      "text/plain": [
       "<Figure size 600x600 with 9 Axes>"
      ]
     },
     "metadata": {},
     "output_type": "display_data"
    }
   ],
   "source": [
    "model.update(state.params)\n",
    "\n",
    "# plot a 3x3 grid of MNIST digits\n",
    "idxs = np.random.randint(0, len(X_test), size=(3, 3))\n",
    "fig, axes = plt.subplots(3, 3, figsize=(3 * 2, 3 * 2))\n",
    "\n",
    "for i in range(3):\n",
    "  for j in range(3):\n",
    "    logits = model(jnp.array([X_test[idxs[i, j]]]))\n",
    "    axes[i, j].imshow(X_test[idxs[i, j]], cmap=\"gray\")\n",
    "    axes[i, j].axis(\"off\")\n",
    "    axes[i, j].set_title(f\"Prediction: {jnp.argmax(logits)}\")"
   ]
  },
  {
   "attachments": {},
   "cell_type": "markdown",
   "metadata": {},
   "source": [
    "Awesome! We hope you've enjoyed this tutorial and learned the basics of NNX."
   ]
  }
 ],
 "metadata": {
  "language_info": {
   "codemirror_mode": {
    "name": "ipython",
    "version": 3
   },
   "file_extension": ".py",
   "mimetype": "text/x-python",
   "name": "python",
   "nbconvert_exporter": "python",
   "pygments_lexer": "ipython3",
   "version": "3.9.16"
  }
 },
 "nbformat": 4,
 "nbformat_minor": 2
}
