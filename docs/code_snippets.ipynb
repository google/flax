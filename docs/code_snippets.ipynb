{
 "cells": [
  {
   "cell_type": "markdown",
   "metadata": {
    "id": "JUM4j43iqagk"
   },
   "source": [
    "# Instructions\n",
    "* Open a Colab project that you want to import code snippets to\n",
    "* Go to ```Tools``` --> ```Settings```\n",
    "* Go to ```Site``` --> ```Custom snippet notebook URL```\n",
    "  * paste https://colab.research.google.com/github/google/flax/blob/flax_docs/docs/code_snippets.ipynb\n",
    "  * click ```Save```\n",
    "* Go to ```Help``` --> ```Search code snippets```\n",
    "* Enter a header title from this Colab project (e.g. 'Imports', 'CNN', etc.) in the ```Filter code snippets``` field and import the code snippet into your Colab project"
   ]
  },
  {
   "cell_type": "markdown",
   "metadata": {
    "id": "OV71CcWhjFc6"
   },
   "source": [
    "# Imports"
   ]
  },
  {
   "cell_type": "code",
   "execution_count": null,
   "metadata": {
    "id": "nDItEhLPi9hW"
   },
   "outputs": [],
   "source": [
    "!pip install -q flax"
   ]
  },
  {
   "cell_type": "code",
   "execution_count": null,
   "metadata": {
    "id": "UZcqhiQLjGXa"
   },
   "outputs": [],
   "source": [
    "import jax\n",
    "import jax.numpy as jnp\n",
    "from jax import random\n",
    "\n",
    "from flax import linen as nn\n",
    "from flax.training import train_state, checkpoints\n",
    "\n",
    "import numpy as np\n",
    "\n",
    "import optax\n",
    "\n",
    "import tensorflow_datasets as tfds\n",
    "\n",
    "import os\n",
    "import shutil"
   ]
  },
  {
   "cell_type": "markdown",
   "metadata": {
    "id": "pB8nIPudp29d"
   },
   "source": [
    "# TensorFlow Datasets (TFDS)"
   ]
  },
  {
   "cell_type": "code",
   "execution_count": null,
   "metadata": {
    "id": "RzPnPpzQ2f_Z"
   },
   "outputs": [],
   "source": [
    "# get a list of TensorFlow datasets that contain keyword\n",
    "keyword = 'image'\n",
    "[dataset for dataset in tfds.list_builders() if keyword in dataset]"
   ]
  },
  {
   "cell_type": "code",
   "execution_count": null,
   "metadata": {
    "id": "A8BytP1jqGB_"
   },
   "outputs": [],
   "source": [
    "# load MNIST data\n",
    "def get_datasets():\n",
    "  \"\"\"Load MNIST train and test datasets into memory.\"\"\"\n",
    "  ds_builder = tfds.builder('mnist')\n",
    "  ds_builder.download_and_prepare()\n",
    "  train_ds = tfds.as_numpy(ds_builder.as_dataset(split='train', batch_size=-1))\n",
    "  test_ds = tfds.as_numpy(ds_builder.as_dataset(split='test', batch_size=-1))\n",
    "  train_ds['image'] = jnp.float32(train_ds['image']) / 255.\n",
    "  test_ds['image'] = jnp.float32(test_ds['image']) / 255.\n",
    "  return train_ds, test_ds"
   ]
  },
  {
   "cell_type": "markdown",
   "metadata": {
    "id": "tgc4drZskjvr"
   },
   "source": [
    "# Module Template"
   ]
  },
  {
   "cell_type": "code",
   "execution_count": null,
   "metadata": {
    "id": "qcqUiO09kktp"
   },
   "outputs": [],
   "source": [
    "from jax import random\n",
    "import jax.numpy as jnp\n",
    "from flax import linen as nn\n",
    "\n",
    "class Foo(nn.Module):\n",
    "  @nn.compact\n",
    "  def __call__(self, x):\n",
    "    pass\n",
    "\n",
    "x = jnp.zeros((3, 4))\n",
    "m = Foo()\n",
    "variables = m.init(random.PRNGKey(0), x)\n",
    "output = m.apply(variables, x)"
   ]
  },
  {
   "cell_type": "markdown",
   "metadata": {
    "id": "ScrmK70F8wrk"
   },
   "source": [
    "# MLP"
   ]
  },
  {
   "cell_type": "code",
   "execution_count": null,
   "metadata": {
    "id": "oiaNt_Twgu9Z"
   },
   "outputs": [],
   "source": [
    "class SimpleMLP(nn.Module):\n",
    "  features: Sequence[int]\n",
    "\n",
    "  @nn.compact\n",
    "  def __call__(self, inputs):\n",
    "    x = inputs\n",
    "    for i, feat in enumerate(self.features):\n",
    "      x = nn.Dense(feat, name=f'layers_{i}')(x)\n",
    "      if i != len(self.features) - 1:\n",
    "        x = nn.relu(x)\n",
    "      # providing a name is optional though!\n",
    "      # the default autonames would be \"Dense_0\", \"Dense_1\", ...\n",
    "    return x"
   ]
  },
  {
   "cell_type": "markdown",
   "metadata": {
    "id": "sVRaJzHhqVKr"
   },
   "source": [
    "# CNN"
   ]
  },
  {
   "cell_type": "code",
   "execution_count": null,
   "metadata": {
    "id": "X6EKVZhv8yuU"
   },
   "outputs": [],
   "source": [
    "class CNN(nn.Module):\n",
    "  \"\"\"A simple CNN model.\"\"\"\n",
    "\n",
    "  @nn.compact\n",
    "  def __call__(self, x):\n",
    "    x = nn.Conv(features=32, kernel_size=(3, 3))(x)\n",
    "    x = nn.relu(x)\n",
    "    x = nn.avg_pool(x, window_shape=(2, 2), strides=(2, 2))\n",
    "    x = nn.Conv(features=64, kernel_size=(3, 3))(x)\n",
    "    x = nn.relu(x)\n",
    "    x = nn.avg_pool(x, window_shape=(2, 2), strides=(2, 2))\n",
    "    x = x.reshape((x.shape[0], -1))  # flatten\n",
    "    x = nn.Dense(features=256)(x)\n",
    "    x = nn.relu(x)\n",
    "    x = nn.Dense(features=10)(x)\n",
    "    return x"
   ]
  },
  {
   "cell_type": "markdown",
   "metadata": {
    "id": "vsQH8K1qqXr3"
   },
   "source": [
    "# ResNet"
   ]
  },
  {
   "cell_type": "code",
   "execution_count": null,
   "metadata": {
    "id": "fUKMfiU2DbJH"
   },
   "outputs": [],
   "source": [
    "# https://github.com/google/flax/tree/main/examples/imagenet/models.py\n",
    "import os\n",
    "from google.colab import files\n",
    "if 'flax' not in os.listdir():\n",
    "  !git clone https://github.com/google/flax.git\n",
    "files.view('flax/examples/imagenet/models.py')"
   ]
  },
  {
   "cell_type": "markdown",
   "metadata": {
    "id": "JgS8EtvMqc6q"
   },
   "source": [
    "# LSTM"
   ]
  },
  {
   "cell_type": "code",
   "execution_count": null,
   "metadata": {
    "colab": {
     "background_save": true
    },
    "id": "JjlmRAwsp0hf"
   },
   "outputs": [],
   "source": [
    "# https://github.com/google/flax/tree/main/examples/seq2seq/models.py\n",
    "import os\n",
    "from google.colab import files\n",
    "if 'flax' not in os.listdir():\n",
    "  !git clone https://github.com/google/flax.git\n",
    "files.view('flax/examples/seq2seq/models.py')"
   ]
  },
  {
   "cell_type": "markdown",
   "metadata": {
    "id": "D8szTfNzqxZi"
   },
   "source": [
    "# Transformer"
   ]
  },
  {
   "cell_type": "code",
   "execution_count": null,
   "metadata": {
    "id": "kb8iG_edqynn"
   },
   "outputs": [],
   "source": [
    "# https://github.com/google/flax/tree/main/examples/nlp_seq/models.py\n",
    "import os\n",
    "from google.colab import files\n",
    "if 'flax' not in os.listdir():\n",
    "  !git clone https://github.com/google/flax.git\n",
    "files.view('flax/examples/nlp_seq/models.py')"
   ]
  },
  {
   "cell_type": "markdown",
   "metadata": {
    "id": "L5RoBf_0HEFf"
   },
   "source": [
    "# Loss functions"
   ]
  },
  {
   "cell_type": "code",
   "execution_count": null,
   "metadata": {
    "id": "-xaQR5b5HDkg"
   },
   "outputs": [],
   "source": [
    "def cross_entropy_loss(*, logits, labels):\n",
    "  labels_onehot = jax.nn.one_hot(labels, num_classes=10)\n",
    "  return optax.softmax_cross_entropy(logits=logits, labels=labels_onehot).mean()"
   ]
  },
  {
   "cell_type": "markdown",
   "metadata": {
    "id": "EXGFyIYCXJqZ"
   },
   "source": [
    "# Training loop"
   ]
  },
  {
   "cell_type": "code",
   "execution_count": null,
   "metadata": {
    "id": "CVpbzELFXN7S"
   },
   "outputs": [],
   "source": [
    "def create_train_state(rng, learning_rate, momentum):\n",
    "  \"\"\"Creates initial `TrainState`.\"\"\"\n",
    "  cnn = CNN()\n",
    "  params = cnn.init(rng, jnp.ones([1, 28, 28, 1]))['params']\n",
    "  tx = optax.sgd(learning_rate, momentum)\n",
    "  return train_state.TrainState.create(\n",
    "      apply_fn=cnn.apply, params=params, tx=tx)"
   ]
  },
  {
   "cell_type": "code",
   "execution_count": null,
   "metadata": {
    "id": "KKykybJgXPEo"
   },
   "outputs": [],
   "source": [
    "@jax.jit\n",
    "def train_step(state, batch):\n",
    "  \"\"\"Train for a single step.\"\"\"\n",
    "  def loss_fn(params):\n",
    "    logits = CNN().apply({'params': params}, batch['image'])\n",
    "    loss = cross_entropy_loss(logits=logits, labels=batch['label'])\n",
    "    return loss, logits\n",
    "  grad_fn = jax.grad(loss_fn, has_aux=True)\n",
    "  grads, logits = grad_fn(state.params)\n",
    "  state = state.apply_gradients(grads=grads)\n",
    "  metrics = compute_metrics(logits=logits, labels=batch['label'])\n",
    "  return state, metrics"
   ]
  },
  {
   "cell_type": "code",
   "execution_count": null,
   "metadata": {
    "id": "mfXsJswGXQWv"
   },
   "outputs": [],
   "source": [
    "@jax.jit\n",
    "def eval_step(params, batch):\n",
    "  logits = CNN().apply({'params': params}, batch['image'])\n",
    "  return compute_metrics(logits=logits, labels=batch['label'])"
   ]
  },
  {
   "cell_type": "code",
   "execution_count": null,
   "metadata": {
    "id": "tfH2ykrK4ycS"
   },
   "outputs": [],
   "source": [
    "# training loop\n",
    "for epoch in range(1, n_epochs+1):\n",
    "  state, metrics = train_step(state, train_ds)\n",
    "  test_loss, test_accuracy = eval_model(state.params, test_ds)\n",
    "  print(f\"epoch: {epoch}, train loss: {metrics['loss']}, \" + \n",
    "        f\"train accuracy: {metrics['accuracy']*100}%, \" + \n",
    "        f\"test loss: {test_loss}, test accuracy: {test_accuracy*100}%\")"
   ]
  },
  {
   "cell_type": "markdown",
   "metadata": {
    "id": "LMqXB1EWXgcd"
   },
   "source": [
    "# Metrics"
   ]
  },
  {
   "cell_type": "code",
   "execution_count": null,
   "metadata": {
    "id": "c4L1uXtXXf7k"
   },
   "outputs": [],
   "source": [
    "def compute_metrics(*, logits, labels):\n",
    "  loss = cross_entropy_loss(logits=logits, labels=labels)\n",
    "  accuracy = jnp.mean(jnp.argmax(logits, -1) == labels)\n",
    "  metrics = {\n",
    "      'loss': loss,\n",
    "      'accuracy': accuracy,\n",
    "  }\n",
    "  return metrics"
   ]
  },
  {
   "cell_type": "code",
   "execution_count": null,
   "metadata": {
    "id": "0YE7lEPIXYa8"
   },
   "outputs": [],
   "source": [
    "def eval_model(params, test_ds):\n",
    "  metrics = eval_step(params, test_ds)\n",
    "  metrics = jax.device_get(metrics)\n",
    "  summary = jax.tree_util.tree_map(lambda x: x.item(), metrics)\n",
    "  return summary['loss'], summary['accuracy']"
   ]
  },
  {
   "cell_type": "markdown",
   "metadata": {
    "id": "qVSkMgSRh1oJ"
   },
   "source": [
    "# Checkpoints"
   ]
  },
  {
   "cell_type": "code",
   "execution_count": null,
   "metadata": {
    "id": "KZeNFetnipWp"
   },
   "outputs": [],
   "source": [
    "# https://flax.readthedocs.io/en/latest/guides/use_checkpointing.html#"
   ]
  },
  {
   "cell_type": "code",
   "execution_count": null,
   "metadata": {
    "id": "8JPIL02eiBDP"
   },
   "outputs": [],
   "source": [
    "# A simple model with one linear layer.\n",
    "key1, key2 = random.split(random.PRNGKey(0))\n",
    "x1 = random.normal(key1, (5,))      # A simple JAX array.\n",
    "model = nn.Dense(features=3)\n",
    "variables = model.init(key2, x1)\n",
    "\n",
    "# Flax's TrainState is a pytree dataclass and is supported in checkpointing.\n",
    "# Define your class with `@flax.struct.dataclass` decorator to make it compatible.\n",
    "tx = optax.sgd(learning_rate=0.1)      # An Optax SGD optimizer.\n",
    "state = train_state.TrainState.create(\n",
    "    apply_fn=model.apply,\n",
    "    params=variables['params'],\n",
    "    tx=tx)\n",
    "\n",
    "# Some arbitrary nested pytree with a dictionary, a string, and a NumPy array.\n",
    "config = {'dimensions': np.array([5, 3]), 'name': 'dense'}\n",
    "\n",
    "# Bundle everything together.\n",
    "ckpt = {'model': state, 'config': config, 'data': [x1]}"
   ]
  },
  {
   "cell_type": "code",
   "execution_count": null,
   "metadata": {
    "colab": {
     "height": 35
    },
    "executionInfo": {
     "elapsed": 59,
     "status": "ok",
     "timestamp": 1668641917298,
     "user": {
      "displayName": "Marcus Chiam",
      "userId": "17531616275590396120"
     },
     "user_tz": 480
    },
    "id": "lF0hLLtwiX1l",
    "outputId": "e3d3819a-a1ac-40fa-cbfb-f4d95614baa9"
   },
   "outputs": [
    {
     "data": {
      "application/vnd.google.colaboratory.intrinsic+json": {
       "type": "string"
      },
      "text/plain": [
       "'tmp/flax-checkpointing/checkpoint_0'"
      ]
     },
     "execution_count": 76,
     "metadata": {},
     "output_type": "execute_result"
    }
   ],
   "source": [
    "# Import Flax Checkpoints.\n",
    "ckpt_dir = 'tmp/flax-checkpointing'\n",
    "\n",
    "if os.path.exists(ckpt_dir):\n",
    "    shutil.rmtree(ckpt_dir)  # Remove any existing checkpoints from the last notebook run.\n",
    "\n",
    "checkpoints.save_checkpoint(ckpt_dir=ckpt_dir,\n",
    "                            target=ckpt,\n",
    "                            step=0,\n",
    "                            overwrite=False,\n",
    "                            keep=2)"
   ]
  },
  {
   "cell_type": "code",
   "execution_count": null,
   "metadata": {
    "id": "HCnpcW4pzOdD"
   },
   "outputs": [],
   "source": [
    "empty_state = train_state.TrainState.create(\n",
    "    apply_fn=model.apply,\n",
    "    params=np.zeros_like(variables['params']),  # values of the tree leaf doesn't matter\n",
    "    tx=tx,\n",
    ")\n",
    "target = {'model': empty_state, 'config': None, 'data': [jnp.zeros_like(x1)]}\n",
    "state_restored = checkpoints.restore_checkpoint(ckpt_dir, target=target, step=0)"
   ]
  },
  {
   "cell_type": "markdown",
   "metadata": {
    "id": "S56_oDtpTTDB"
   },
   "source": [
    "# Batch Norm"
   ]
  },
  {
   "cell_type": "code",
   "execution_count": null,
   "metadata": {
    "id": "5LrS-QGtiw9E"
   },
   "outputs": [],
   "source": [
    "# https://flax.readthedocs.io/en/latest/guides/batch_norm.html"
   ]
  },
  {
   "cell_type": "code",
   "execution_count": null,
   "metadata": {
    "id": "WDJMysBhTUK9"
   },
   "outputs": [],
   "source": [
    "# Defining the model\n",
    "class MLP(nn.Module):\n",
    "  @nn.compact\n",
    "  def __call__(self, x, train: bool):\n",
    "    x = nn.Dense(features=4)(x)\n",
    "    x = nn.BatchNorm(use_running_average=not train)(x)\n",
    "    x = nn.relu(x)\n",
    "    x = nn.Dense(features=1)(x)\n",
    "    return x"
   ]
  },
  {
   "cell_type": "code",
   "execution_count": null,
   "metadata": {
    "id": "yMm3pT5FUFzK"
   },
   "outputs": [],
   "source": [
    "# batch_stats collection\n",
    "mlp = MLP()\n",
    "x = jnp.ones((1, 3))\n",
    "variables = mlp.init(jax.random.PRNGKey(0), x, train=False)\n",
    "params = variables['params']\n",
    "batch_stats = variables['batch_stats']\n",
    "\n",
    "jax.tree_util.tree_map(jnp.shape, variables)"
   ]
  },
  {
   "cell_type": "code",
   "execution_count": null,
   "metadata": {
    "id": "CFqGBk5lUDBg"
   },
   "outputs": [],
   "source": [
    "# apply\n",
    "y, updates = mlp.apply(\n",
    "  {'params': params, 'batch_stats': batch_stats},\n",
    "  x,\n",
    "  train=True, mutable=['batch_stats']\n",
    ")\n",
    "batch_stats = updates['batch_stats']"
   ]
  },
  {
   "cell_type": "code",
   "execution_count": null,
   "metadata": {
    "id": "4unQ1MJVURKm"
   },
   "outputs": [],
   "source": [
    "# training and evaluation\n",
    "class TrainState(train_state.TrainState):\n",
    "  batch_stats: Any\n",
    "\n",
    "state = TrainState.create(\n",
    "  apply_fn=mlp.apply,\n",
    "  params=params,\n",
    "  batch_stats=batch_stats,\n",
    "  tx=optax.adam(1e-3),\n",
    ")"
   ]
  },
  {
   "cell_type": "code",
   "execution_count": null,
   "metadata": {
    "id": "LNlwMBZ0UWRW"
   },
   "outputs": [],
   "source": [
    "@jax.jit\n",
    "def train_step(state: TrainState, batch):\n",
    "  \"\"\"Train for a single step.\"\"\"\n",
    "  def loss_fn(params):\n",
    "    logits, updates = state.apply_fn(\n",
    "      {'params': params, 'batch_stats': state.batch_stats},\n",
    "      x=batch['image'], train=True, mutable=['batch_stats'])\n",
    "    loss = optax.softmax_cross_entropy_with_integer_labels(\n",
    "      logits=logits, labels=batch['label'])\n",
    "    return loss, (logits, updates)\n",
    "  grad_fn = jax.value_and_grad(loss_fn, has_aux=True)\n",
    "  (loss, (logits, updates)), grads = grad_fn(state.params)\n",
    "  state = state.apply_gradients(grads=grads)\n",
    "  state = state.replace(batch_stats=updates['batch_stats'])\n",
    "  metrics = {\n",
    "    'loss': loss,\n",
    "      'accuracy': jnp.mean(jnp.argmax(logits, -1) == batch['label']),\n",
    "  }\n",
    "  return state, metrics"
   ]
  },
  {
   "cell_type": "code",
   "execution_count": null,
   "metadata": {
    "id": "WIPvVAI3UYjJ"
   },
   "outputs": [],
   "source": [
    "@jax.jit\n",
    "def eval_step(state: TrainState, batch):\n",
    "  \"\"\"Train for a single step.\"\"\"\n",
    "  logits = state.apply_fn(\n",
    "    {'params': params, 'batch_stats': state.batch_stats},\n",
    "    x=batch['image'], train=False)\n",
    "  loss = optax.softmax_cross_entropy_with_integer_labels(\n",
    "    logits=logits, labels=batch['label'])\n",
    "  metrics = {\n",
    "    'loss': loss,\n",
    "      'accuracy': jnp.mean(jnp.argmax(logits, -1) == batch['label']),\n",
    "  }\n",
    "  return state, metrics"
   ]
  },
  {
   "cell_type": "markdown",
   "metadata": {
    "id": "L0ibKRrokXBy"
   },
   "source": [
    "# MNIST"
   ]
  },
  {
   "cell_type": "code",
   "execution_count": null,
   "metadata": {
    "id": "T-1MCdKxoO1e"
   },
   "outputs": [],
   "source": [
    "# https://colab.sandbox.google.com/github/google/flax/blob/main/docs/getting_started.ipynb\n",
    "import os\n",
    "from google.colab import files\n",
    "if 'flax' not in os.listdir():\n",
    "  !git clone https://github.com/google/flax.git\n",
    "files.view('flax/docs/getting_started.md')"
   ]
  }
 ],
 "metadata": {
  "colab": {
   "last_runtime": {
    "build_target": "//learning/deepmind/public/tools/ml_python:ml_notebook",
    "kind": "private"
   },
   "provenance": [],
   "toc_visible": true
  },
  "jupytext": {
   "formats": "ipynb,md:myst"
  },
  "kernelspec": {
   "display_name": "Python 3",
   "name": "python3"
  },
  "language_info": {
   "name": "python",
   "version": "3.9.6"
  },
  "vscode": {
   "interpreter": {
    "hash": "31f2aee4e71d21fbe5cf8b01ff0e069b9275f58929596ceb00d14d90e3e16cd6"
   }
  }
 },
 "nbformat": 4,
 "nbformat_minor": 0
}
