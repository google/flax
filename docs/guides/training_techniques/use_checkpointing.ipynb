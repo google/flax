{
 "cells": [
  {
   "attachments": {},
   "cell_type": "markdown",
   "id": "6e9134fa",
   "metadata": {},
   "source": [
    "# Save and load checkpoints\n",
    "\n",
    "This guide demonstrates how to save and load Flax checkpoints with [Orbax](https://github.com/google/orbax).\n",
    "\n",
    "Orbax provides a variety of features for saving and loading model data, which you will learn about in this doc:\n",
    "\n",
    "*  Support for various array types and storage formats\n",
    "*  Asynchronous saving to reduce training wait time\n",
    "*  Versioning and automatic bookkeeping of past checkpoints\n",
    "*  Flexible [`transformations`](https://orbax.readthedocs.io/en/latest/transformations.html) to tweak and load old checkpoints\n",
    "*  [`jax.sharding`](https://jax.readthedocs.io/en/latest/notebooks/Distributed_arrays_and_automatic_parallelization.html)-based API to save and load in multi-host scenarios\n",
    "\n",
    "---\n",
    "**_Ongoing migration to Orbax:_**\n",
    "\n",
    "After July 30 2023, Flax's legacy `flax.training.checkpoints` API will be deprecated in favor of [Orbax](https://github.com/google/orbax).\n",
    "\n",
    "*  **If you are a new Flax user**: Use the new `orbax.checkpoint` API, as demonstrated in this guide.\n",
    "\n",
    "*  **If you have legacy `flax.training.checkpoints` code in your project**: Consider the following options:\n",
    "\n",
    "   * **Migrating your code to Orbax (Recommended)**: Migrate your API calls to `orbax.checkpoint` API by following this [migration guide](https://flax.readthedocs.io/en/latest/guides/converting_and_upgrading/orbax_upgrade_guide.html).\n",
    "\n",
    "   * **Automatically use the Orbax backend**: Add `flax.config.update('flax_use_orbax_checkpointing', True)` to your project, which will let your `flax.training.checkpoints` calls automatically use the Orbax backend to save your checkpoints.\n",
    "\n",
    "     * **Scheduled flip**: This will become the default mode after **May 2023** (tentative date).\n",
    "\n",
    "     * Visit [Orbax-as-backend troubleshooting section](https://flax.readthedocs.io/en/latest/guides/training_techniques/use_checkpointing.html#orbax-as-backend-troubleshooting) if you meet any issue in the automatic migration.\n",
    "---\n",
    "\n",
    "For backward-compatibility, this guide shows the Orbax-equivalent calls in the Flax legacy `flax.training.checkpoints` API.\n",
    "\n",
    "If you need to learn more about `orbax.checkpoint`, refer to the [Orbax docs](https://github.com/google/orbax/blob/main/docs/checkpoint.md).\n"
   ]
  },
  {
   "cell_type": "markdown",
   "id": "5a2f6aae",
   "metadata": {},
   "source": [
    "## Setup\n",
    "\n",
    "Install/upgrade Flax and [Orbax](https://github.com/google/orbax). For JAX installation with GPU/TPU support, visit [this section on GitHub](https://github.com/jax-ml/jax#installation)."
   ]
  },
  {
   "attachments": {},
   "cell_type": "markdown",
   "id": "-icO30rwmKYj",
   "metadata": {},
   "source": [
    "Note: Before running `import jax`, create eight fake devices to mimic a [multi-host environment](https://jax.readthedocs.io/en/latest/jax-101/06-parallelism.html?#aside-hosts-and-devices-in-jax) in this notebook. Note that the order of imports is important here. The `os.environ[\"XLA_FLAGS\"] = '--xla_force_host_platform_device_count=8'` command works only with the CPU backend, which means it won't work with GPU/TPU acceleration on if you're running this notebook in Google Colab. If you are already running the code on multiple devices (for example, in a 4x2 TPU environment), you can skip running the next cell."
   ]
  },
  {
   "cell_type": "code",
   "execution_count": 1,
   "id": "ArKLnsyGRxGv",
   "metadata": {},
   "outputs": [],
   "source": [
    "import os\n",
    "os.environ[\"XLA_FLAGS\"] = '--xla_force_host_platform_device_count=8'"
   ]
  },
  {
   "cell_type": "code",
   "execution_count": 2,
   "id": "SJT9DTxTytjn",
   "metadata": {},
   "outputs": [
    {
     "name": "stderr",
     "output_type": "stream",
     "text": [
      "WARNING:absl:Tensorflow library not found, tensorflow.io.gfile operations will use native shim calls. GCS paths (i.e. 'gs://...') cannot be accessed.\n"
     ]
    }
   ],
   "source": [
    "from typing import Optional, Any\n",
    "import shutil\n",
    "\n",
    "import numpy as np\n",
    "import jax\n",
    "from jax import random, numpy as jnp\n",
    "\n",
    "import flax\n",
    "from flax import linen as nn\n",
    "from flax.training import checkpoints, train_state\n",
    "from flax import struct, serialization\n",
    "import orbax.checkpoint\n",
    "\n",
    "import optax"
   ]
  },
  {
   "cell_type": "code",
   "execution_count": 3,
   "id": "afd6db30",
   "metadata": {},
   "outputs": [],
   "source": [
    "ckpt_dir = '/tmp/flax_ckpt'\n",
    "\n",
    "if os.path.exists(ckpt_dir):\n",
    "    shutil.rmtree(ckpt_dir)  # Remove any existing checkpoints from the last notebook run."
   ]
  },
  {
   "cell_type": "markdown",
   "id": "40d434cd",
   "metadata": {},
   "source": [
    "## Save checkpoints\n",
    "\n",
    "In Orbax and Flax, you can save and load any given JAX [pytree](https://jax.readthedocs.io/en/latest/pytrees.html). This includes not only typical Python and NumPy containers, but also customized classes extended from [`flax.struct.dataclass`](https://flax.readthedocs.io/en/latest/api_reference/flax.struct.html#flax.struct.dataclass). That means you can store almost any data generated — not only your model parameters, but any arrays/dictionaries, metadata/configs, and so on.\n",
    "\n",
    "First, create a pytree with many data structures and containers, and play with it:"
   ]
  },
  {
   "cell_type": "code",
   "execution_count": 4,
   "id": "56dec3f6",
   "metadata": {
    "outputId": "f1856d96-1961-48ed-bb7c-cb63fbaa7567"
   },
   "outputs": [
    {
     "name": "stderr",
     "output_type": "stream",
     "text": [
      "WARNING: All log messages before absl::InitializeLog() is called are written to STDERR\n",
      "I0000 00:00:1695322343.254588       1 tfrt_cpu_pjrt_client.cc:349] TfrtCpuClient created.\n"
     ]
    },
    {
     "data": {
      "text/plain": [
       "{'model': TrainState(step=1, apply_fn=<bound method Module.apply of Dense(\n",
       "     # attributes\n",
       "     features = 3\n",
       "     use_bias = True\n",
       "     dtype = None\n",
       "     param_dtype = float32\n",
       "     precision = None\n",
       "     kernel_init = init\n",
       "     bias_init = zeros\n",
       "     dot_general = dot_general\n",
       "     dot_general_cls = None\n",
       " )>, params={'bias': Array([-0.001, -0.001, -0.001], dtype=float32), 'kernel': Array([[ 0.26048955, -0.61399287, -0.23458514],\n",
       "        [ 0.11050402, -0.8765793 ,  0.9800635 ],\n",
       "        [ 0.36260957,  0.18276349, -0.6856061 ],\n",
       "        [-0.8519373 , -0.6416717 , -0.4818122 ],\n",
       "        [-0.6886102 , -0.33987316, -0.05898903]], dtype=float32)}, tx=GradientTransformationExtraArgs(init=<function chain.<locals>.init_fn at 0x13d5d83a0>, update=<function chain.<locals>.update_fn at 0x13d5d8dc0>), opt_state=(EmptyState(), EmptyState())),\n",
       " 'config': {'dimensions': array([5, 3])},\n",
       " 'data': [Array([0.59902626, 0.2172144 , 2.4202902 , 0.03266738, 1.2164948 ],      dtype=float32)]}"
      ]
     },
     "execution_count": 4,
     "metadata": {},
     "output_type": "execute_result"
    }
   ],
   "source": [
    "# A simple model with one linear layer.\n",
    "key1, key2 = random.split(random.key(0))\n",
    "x1 = random.normal(key1, (5,))      # A simple JAX array.\n",
    "model = nn.Dense(features=3)\n",
    "variables = model.init(key2, x1)\n",
    "\n",
    "# Flax's TrainState is a pytree dataclass and is supported in checkpointing.\n",
    "# Define your class with `@flax.struct.dataclass` decorator to make it compatible.\n",
    "tx = optax.sgd(learning_rate=0.001)      # An Optax SGD optimizer.\n",
    "state = train_state.TrainState.create(\n",
    "    apply_fn=model.apply,\n",
    "    params=variables['params'],\n",
    "    tx=tx)\n",
    "# Perform a simple gradient update similar to the one during a normal training workflow.\n",
    "state = state.apply_gradients(grads=jax.tree_util.tree_map(jnp.ones_like, state.params))\n",
    "\n",
    "# Some arbitrary nested pytree with a dictionary and a NumPy array.\n",
    "config = {'dimensions': np.array([5, 3])}\n",
    "\n",
    "# Bundle everything together.\n",
    "ckpt = {'model': state, 'config': config, 'data': [x1]}\n",
    "ckpt"
   ]
  },
  {
   "cell_type": "markdown",
   "id": "8c715b95",
   "metadata": {},
   "source": [
    "### With Orbax"
   ]
  },
  {
   "cell_type": "markdown",
   "id": "6fc59dfa",
   "metadata": {},
   "source": [
    "Save the checkpoint with `orbax.checkpoint.PyTreeCheckpointer`, directly to the `tmp/orbax/single_save` directory.\n",
    "\n",
    "Note: An optional `save_args` is provided. This is recommended for performance speedups, as it bundles smaller arrays in your pytree to a single large file instead of multiple smaller files."
   ]
  },
  {
   "cell_type": "code",
   "execution_count": 5,
   "id": "61b12da2",
   "metadata": {},
   "outputs": [],
   "source": [
    "from flax.training import orbax_utils\n",
    "\n",
    "orbax_checkpointer = orbax.checkpoint.PyTreeCheckpointer()\n",
    "save_args = orbax_utils.save_args_from_target(ckpt)\n",
    "orbax_checkpointer.save('/tmp/flax_ckpt/orbax/single_save', ckpt, save_args=save_args)"
   ]
  },
  {
   "cell_type": "markdown",
   "id": "07d4de1a",
   "metadata": {},
   "source": [
    "Next, to use versioning and automatic bookkeeping features, you need to wrap `orbax.checkpoint.CheckpointManager` over `orbax.checkpoint.PyTreeCheckpointer`.\n",
    "\n",
    "In addition, provide `orbax.checkpoint.CheckpointManagerOptions` that customizes your needs, such as how often and on what criteria you prefer old checkpoints be deleted. See [documentation](https://github.com/google/orbax/blob/main/docs/checkpoint.md#checkpointmanager) for a full list of options offered.\n",
    "\n",
    "`orbax.checkpoint.CheckpointManager` should be placed at the top-level outside your training steps to manage your saves."
   ]
  },
  {
   "cell_type": "code",
   "execution_count": 6,
   "id": "d3686ea5",
   "metadata": {
    "outputId": "b7132933-566d-440d-c34e-c5468d87cbdc"
   },
   "outputs": [
    {
     "data": {
      "text/plain": [
       "['4', '3']"
      ]
     },
     "execution_count": 6,
     "metadata": {},
     "output_type": "execute_result"
    }
   ],
   "source": [
    "options = orbax.checkpoint.CheckpointManagerOptions(max_to_keep=2, create=True)\n",
    "checkpoint_manager = orbax.checkpoint.CheckpointManager(\n",
    "    '/tmp/flax_ckpt/orbax/managed', orbax_checkpointer, options)\n",
    "\n",
    "# Inside a training loop\n",
    "for step in range(5):\n",
    "    # ... do your training\n",
    "    checkpoint_manager.save(step, ckpt, save_kwargs={'save_args': save_args})\n",
    "\n",
    "os.listdir('/tmp/flax_ckpt/orbax/managed')  # Because max_to_keep=2, only step 3 and 4 are retained"
   ]
  },
  {
   "cell_type": "markdown",
   "id": "8ecbc4cc",
   "metadata": {},
   "source": [
    "### With the legacy API\n",
    "\n",
    "And here's how to save with the legacy Flax checkpointing utilities (note that this provides less management features compared with `orbax.checkpoint.CheckpointManagerOptions`):"
   ]
  },
  {
   "cell_type": "code",
   "execution_count": 7,
   "id": "4cdb35ef",
   "metadata": {
    "outputId": "6d849273-15ce-4480-8864-726d1838ac1f"
   },
   "outputs": [
    {
     "data": {
      "text/plain": [
       "'/tmp/flax_ckpt/flax-checkpointing/checkpoint_0'"
      ]
     },
     "execution_count": 7,
     "metadata": {},
     "output_type": "execute_result"
    }
   ],
   "source": [
    "# Import Flax Checkpoints.\n",
    "from flax.training import checkpoints\n",
    "\n",
    "checkpoints.save_checkpoint(ckpt_dir='/tmp/flax_ckpt/flax-checkpointing',\n",
    "                            target=ckpt,\n",
    "                            step=0,\n",
    "                            overwrite=True,\n",
    "                            keep=2)"
   ]
  },
  {
   "cell_type": "markdown",
   "id": "6b658bd1",
   "metadata": {},
   "source": [
    "## Restore checkpoints\n",
    "\n",
    "### With Orbax\n",
    "\n",
    "In Orbax, call `.restore()` for either `orbax.checkpoint.PyTreeCheckpointer` or `orbax.checkpoint.CheckpointManager` to restore your checkpoint in the raw pytree format."
   ]
  },
  {
   "cell_type": "code",
   "execution_count": 8,
   "id": "a807a9c1",
   "metadata": {
    "outputId": "b4af1ef4-f22f-459b-bdca-2e6bfa16c08b"
   },
   "outputs": [
    {
     "data": {
      "text/plain": [
       "{'config': {'dimensions': array([5, 3])},\n",
       " 'data': [array([0.59902626, 0.2172144 , 2.4202902 , 0.03266738, 1.2164948 ],\n",
       "        dtype=float32)],\n",
       " 'model': {'opt_state': [None, None],\n",
       "  'params': {'bias': array([-0.001, -0.001, -0.001], dtype=float32),\n",
       "   'kernel': array([[ 0.26048955, -0.61399287, -0.23458514],\n",
       "          [ 0.11050402, -0.8765793 ,  0.9800635 ],\n",
       "          [ 0.36260957,  0.18276349, -0.6856061 ],\n",
       "          [-0.8519373 , -0.6416717 , -0.4818122 ],\n",
       "          [-0.6886102 , -0.33987316, -0.05898903]], dtype=float32)},\n",
       "  'step': 1}}"
      ]
     },
     "execution_count": 8,
     "metadata": {},
     "output_type": "execute_result"
    }
   ],
   "source": [
    "raw_restored = orbax_checkpointer.restore('/tmp/flax_ckpt/orbax/single_save')\n",
    "raw_restored"
   ]
  },
  {
   "cell_type": "markdown",
   "id": "8c015a22",
   "metadata": {},
   "source": [
    "Note that the `step` number is required for `CheckpointManger`. You can also use `.latest_step()` to find the latest step available."
   ]
  },
  {
   "cell_type": "code",
   "execution_count": 9,
   "id": "251d7085",
   "metadata": {},
   "outputs": [
    {
     "data": {
      "text/plain": [
       "{'config': {'dimensions': array([5, 3])},\n",
       " 'data': [array([0.59902626, 0.2172144 , 2.4202902 , 0.03266738, 1.2164948 ],\n",
       "        dtype=float32)],\n",
       " 'model': {'opt_state': [None, None],\n",
       "  'params': {'bias': array([-0.001, -0.001, -0.001], dtype=float32),\n",
       "   'kernel': array([[ 0.26048955, -0.61399287, -0.23458514],\n",
       "          [ 0.11050402, -0.8765793 ,  0.9800635 ],\n",
       "          [ 0.36260957,  0.18276349, -0.6856061 ],\n",
       "          [-0.8519373 , -0.6416717 , -0.4818122 ],\n",
       "          [-0.6886102 , -0.33987316, -0.05898903]], dtype=float32)},\n",
       "  'step': 1}}"
      ]
     },
     "execution_count": 9,
     "metadata": {},
     "output_type": "execute_result"
    }
   ],
   "source": [
    "step = checkpoint_manager.latest_step()  # step = 4\n",
    "checkpoint_manager.restore(step)"
   ]
  },
  {
   "cell_type": "markdown",
   "id": "c7fe3bc8",
   "metadata": {},
   "source": [
    "### With the legacy API\n",
    "\n",
    "Note that with the migration to Orbax in progress, `flax.training.checkpointing.restore_checkpoint` can automatically identify whether a checkpoint is saved in the legacy Flax format or with an Orbax backend, and restore the pytree correctly. Therefore, adding `flax.config.update('flax_use_orbax_checkpointing', True)` won't hurt your ability to restore old checkpoints.\n",
    "\n",
    "Here's how to restore checkpoints using the legacy API:"
   ]
  },
  {
   "cell_type": "code",
   "execution_count": 10,
   "id": "150b20a0",
   "metadata": {
    "outputId": "85ffceca-f38d-46b8-e567-d9d38b7885f9"
   },
   "outputs": [
    {
     "data": {
      "text/plain": [
       "{'config': {'dimensions': array([5, 3])},\n",
       " 'data': {'0': array([0.59902626, 0.2172144 , 2.4202902 , 0.03266738, 1.2164948 ],\n",
       "        dtype=float32)},\n",
       " 'model': {'opt_state': {'0': None, '1': None},\n",
       "  'params': {'bias': array([-0.001, -0.001, -0.001], dtype=float32),\n",
       "   'kernel': array([[ 0.26048955, -0.61399287, -0.23458514],\n",
       "          [ 0.11050402, -0.8765793 ,  0.9800635 ],\n",
       "          [ 0.36260957,  0.18276349, -0.6856061 ],\n",
       "          [-0.8519373 , -0.6416717 , -0.4818122 ],\n",
       "          [-0.6886102 , -0.33987316, -0.05898903]], dtype=float32)},\n",
       "  'step': 1}}"
      ]
     },
     "execution_count": 10,
     "metadata": {},
     "output_type": "execute_result"
    }
   ],
   "source": [
    "raw_restored = checkpoints.restore_checkpoint(ckpt_dir='/tmp/flax_ckpt/flax-checkpointing', target=None)\n",
    "raw_restored"
   ]
  },
  {
   "cell_type": "markdown",
   "id": "987b981f",
   "metadata": {},
   "source": [
    "## Restore with custom dataclasses\n",
    "\n",
    "### With Orbax\n",
    "\n",
    "*  The pytrees restored in the previous examples are in the form of raw dictionaries. Original pytrees contain custom dataclasses like [`TrainState`](https://flax.readthedocs.io/en/latest/flip/1009-optimizer-api.html?#train-state) and `optax` states.\n",
    "*  This is because when restoring a pytree, the program does not yet know which structure it once belonged to.\n",
    "*  To resolve this, you should first provide an example pytree to let Orbax or Flax know exactly which structure to restore to.\n",
    "\n",
    "This section demonstrates how to set up any custom Flax dataclass explicitly, and have the same structure as a saved checkpoint.\n",
    "\n",
    "Note: Data that was a JAX NumPy array (`jnp.array`) format will be restored as a NumPy array (`numpy.array`). This would not affect your work because JAX will [automatically convert](https://jax.readthedocs.io/en/latest/jax-101/01-jax-basics.html) NumPy arrays to JAX arrays once the computation starts."
   ]
  },
  {
   "cell_type": "code",
   "execution_count": 11,
   "id": "58f42513",
   "metadata": {
    "outputId": "110c6b6e-fe42-4179-e5d8-6b92d355e11b"
   },
   "outputs": [
    {
     "data": {
      "text/plain": [
       "{'config': {'dimensions': array([5, 3])},\n",
       " 'data': [array([0.59902626, 0.2172144 , 2.4202902 , 0.03266738, 1.2164948 ],\n",
       "        dtype=float32)],\n",
       " 'model': TrainState(step=1, apply_fn=<bound method Module.apply of Dense(\n",
       "     # attributes\n",
       "     features = 3\n",
       "     use_bias = True\n",
       "     dtype = None\n",
       "     param_dtype = float32\n",
       "     precision = None\n",
       "     kernel_init = init\n",
       "     bias_init = zeros\n",
       "     dot_general = dot_general\n",
       "     dot_general_cls = None\n",
       " )>, params={'bias': array([-0.001, -0.001, -0.001], dtype=float32), 'kernel': array([[ 0.26048955, -0.61399287, -0.23458514],\n",
       "        [ 0.11050402, -0.8765793 ,  0.9800635 ],\n",
       "        [ 0.36260957,  0.18276349, -0.6856061 ],\n",
       "        [-0.8519373 , -0.6416717 , -0.4818122 ],\n",
       "        [-0.6886102 , -0.33987316, -0.05898903]], dtype=float32)}, tx=GradientTransformationExtraArgs(init=<function chain.<locals>.init_fn at 0x13d5d83a0>, update=<function chain.<locals>.update_fn at 0x13d5d8dc0>), opt_state=(EmptyState(), EmptyState()))}"
      ]
     },
     "execution_count": 11,
     "metadata": {},
     "output_type": "execute_result"
    }
   ],
   "source": [
    "empty_state = train_state.TrainState.create(\n",
    "    apply_fn=model.apply,\n",
    "    params=jax.tree_util.tree_map(np.zeros_like, variables['params']),  # values of the tree leaf doesn't matter\n",
    "    tx=tx,\n",
    ")\n",
    "empty_config = {'dimensions': np.array([0, 0])}\n",
    "target = {'model': empty_state, 'config': empty_config, 'data': [jnp.zeros_like(x1)]}\n",
    "state_restored = orbax_checkpointer.restore('/tmp/flax_ckpt/orbax/single_save', item=target)\n",
    "state_restored"
   ]
  },
  {
   "cell_type": "markdown",
   "id": "f1c18bc6",
   "metadata": {},
   "source": [
    "### With the legacy API\n",
    "\n",
    "Alternatively, you can restore from Orbax `CheckpointManager` and from the legacy Flax code as follows:"
   ]
  },
  {
   "cell_type": "code",
   "execution_count": 12,
   "id": "a61e9a66",
   "metadata": {},
   "outputs": [
    {
     "data": {
      "text/plain": [
       "{'config': {'dimensions': array([5, 3])},\n",
       " 'data': [array([0.59902626, 0.2172144 , 2.4202902 , 0.03266738, 1.2164948 ],\n",
       "        dtype=float32)],\n",
       " 'model': TrainState(step=1, apply_fn=<bound method Module.apply of Dense(\n",
       "     # attributes\n",
       "     features = 3\n",
       "     use_bias = True\n",
       "     dtype = None\n",
       "     param_dtype = float32\n",
       "     precision = None\n",
       "     kernel_init = init\n",
       "     bias_init = zeros\n",
       "     dot_general = dot_general\n",
       "     dot_general_cls = None\n",
       " )>, params={'bias': array([-0.001, -0.001, -0.001], dtype=float32), 'kernel': array([[ 0.26048955, -0.61399287, -0.23458514],\n",
       "        [ 0.11050402, -0.8765793 ,  0.9800635 ],\n",
       "        [ 0.36260957,  0.18276349, -0.6856061 ],\n",
       "        [-0.8519373 , -0.6416717 , -0.4818122 ],\n",
       "        [-0.6886102 , -0.33987316, -0.05898903]], dtype=float32)}, tx=GradientTransformationExtraArgs(init=<function chain.<locals>.init_fn at 0x13d5d83a0>, update=<function chain.<locals>.update_fn at 0x13d5d8dc0>), opt_state=(EmptyState(), EmptyState()))}"
      ]
     },
     "execution_count": 12,
     "metadata": {},
     "output_type": "execute_result"
    }
   ],
   "source": [
    "checkpoint_manager.restore(4, items=target)"
   ]
  },
  {
   "cell_type": "code",
   "execution_count": 13,
   "id": "412af50e",
   "metadata": {},
   "outputs": [
    {
     "name": "stderr",
     "output_type": "stream",
     "text": [
      "WARNING:absl:The transformations API will eventually be replaced by an upgraded design. The current API will not be removed until this point, but it will no longer be actively worked on.\n"
     ]
    },
    {
     "data": {
      "text/plain": [
       "{'model': TrainState(step=1, apply_fn=<bound method Module.apply of Dense(\n",
       "     # attributes\n",
       "     features = 3\n",
       "     use_bias = True\n",
       "     dtype = None\n",
       "     param_dtype = float32\n",
       "     precision = None\n",
       "     kernel_init = init\n",
       "     bias_init = zeros\n",
       "     dot_general = dot_general\n",
       "     dot_general_cls = None\n",
       " )>, params={'bias': array([-0.001, -0.001, -0.001], dtype=float32), 'kernel': array([[ 0.26048955, -0.61399287, -0.23458514],\n",
       "        [ 0.11050402, -0.8765793 ,  0.9800635 ],\n",
       "        [ 0.36260957,  0.18276349, -0.6856061 ],\n",
       "        [-0.8519373 , -0.6416717 , -0.4818122 ],\n",
       "        [-0.6886102 , -0.33987316, -0.05898903]], dtype=float32)}, tx=GradientTransformationExtraArgs(init=<function chain.<locals>.init_fn at 0x13d5d83a0>, update=<function chain.<locals>.update_fn at 0x13d5d8dc0>), opt_state=(EmptyState(), EmptyState())),\n",
       " 'config': {'dimensions': array([5, 3])},\n",
       " 'data': [Array([0.59902626, 0.2172144 , 2.4202902 , 0.03266738, 1.2164948 ],      dtype=float32)]}"
      ]
     },
     "execution_count": 13,
     "metadata": {},
     "output_type": "execute_result"
    }
   ],
   "source": [
    "checkpoints.restore_checkpoint(ckpt_dir='/tmp/flax_ckpt/flax-checkpointing', target=target)"
   ]
  },
  {
   "cell_type": "markdown",
   "id": "27461ac8",
   "metadata": {},
   "source": [
    "It's often recommended to refactor out the process of initializing a checkpoint's structure (for example, a [`TrainState`](https://flax.readthedocs.io/en/latest/flip/1009-optimizer-api.html?#train-state)), so that saving/loading is easier and less error-prone. This is because functions and complex objects like `apply_fn` and `tx` (optimizer) cannot be serialized into the checkpoint file and must be initialized by code."
   ]
  },
  {
   "attachments": {},
   "cell_type": "markdown",
   "id": "136a300a",
   "metadata": {},
   "source": [
    "## Restore when checkpoint structures differ\n",
    "\n",
    "During your development, your checkpoint structure will change when changing the model, adding/removing fields during tweaking, and so on.\n",
    "\n",
    "This section explains how to load old data to your new code.\n",
    "\n",
    "Below is  a simple example — a `CustomTrainState` extended from `flax.training.train_state.TrainState` that contains an extra field called `batch_stats`. When working on a real-world model, you may need this when applying [batch normalization](https://flax.readthedocs.io/en/latest/guides/training_techniques/batch_norm.html).\n",
    "\n",
    "Here, you store the new `CustomTrainState` as step 5, while step 4 contains the old/previous `TrainState`."
   ]
  },
  {
   "cell_type": "code",
   "execution_count": 14,
   "id": "be65d4af",
   "metadata": {
    "outputId": "4fe776f0-65f8-4fc4-d64a-990520b36dce"
   },
   "outputs": [
    {
     "data": {
      "text/plain": [
       "True"
      ]
     },
     "execution_count": 14,
     "metadata": {},
     "output_type": "execute_result"
    }
   ],
   "source": [
    "class CustomTrainState(train_state.TrainState):\n",
    "    batch_stats: Any = None\n",
    "\n",
    "custom_state = CustomTrainState.create(\n",
    "    apply_fn=state.apply_fn,\n",
    "    params=state.params,\n",
    "    tx=state.tx,\n",
    "    batch_stats=np.arange(10),\n",
    ")\n",
    "\n",
    "custom_ckpt = {'model': custom_state, 'config': config, 'data': [x1]}\n",
    "# Use a custom state to read the old `TrainState` checkpoint.\n",
    "custom_target = {'model': custom_state, 'config': None, 'data': [jnp.zeros_like(x1)]}\n",
    "\n",
    "# Save it in Orbax.\n",
    "custom_save_args = orbax_utils.save_args_from_target(custom_ckpt)\n",
    "checkpoint_manager.save(5, custom_ckpt, save_kwargs={'save_args': custom_save_args})"
   ]
  },
  {
   "cell_type": "markdown",
   "id": "379c2255",
   "metadata": {},
   "source": [
    "It is recommended to keep your checkpoints up-to-date with your pytree dataclass definitions. However, you might be forced to restore the checkpoints with incompatible reference objects at runtime. When this happens, the checkpoint restoration will try to respect the structure of the reference when given.\n",
    "\n",
    "Below are examples of a few common scenarios."
   ]
  },
  {
   "attachments": {},
   "cell_type": "markdown",
   "id": "d5fa9652",
   "metadata": {},
   "source": [
    "### Scenario 1: When a reference object is partial\n",
    "\n",
    "If your reference object is a subtree of your checkpoint, the restoration will ignore the additional field(s) and restore a checkpoint with the same structure as the reference.\n",
    "\n",
    "Like in the example below, the `batch_stats` field in `CustomTrainState` was ignored, and the checkpoint was restored as a `TrainState`.\n",
    "\n",
    "This can also be useful for reading only part of your checkpoint."
   ]
  },
  {
   "cell_type": "code",
   "execution_count": 15,
   "id": "68828029",
   "metadata": {},
   "outputs": [
    {
     "data": {
      "text/plain": [
       "{'config': {'dimensions': array([5, 3])},\n",
       " 'data': [array([0.59902626, 0.2172144 , 2.4202902 , 0.03266738, 1.2164948 ],\n",
       "        dtype=float32)],\n",
       " 'model': TrainState(step=0, apply_fn=<bound method Module.apply of Dense(\n",
       "     # attributes\n",
       "     features = 3\n",
       "     use_bias = True\n",
       "     dtype = None\n",
       "     param_dtype = float32\n",
       "     precision = None\n",
       "     kernel_init = init\n",
       "     bias_init = zeros\n",
       "     dot_general = dot_general\n",
       "     dot_general_cls = None\n",
       " )>, params={'bias': array([-0.001, -0.001, -0.001], dtype=float32), 'kernel': array([[ 0.26048955, -0.61399287, -0.23458514],\n",
       "        [ 0.11050402, -0.8765793 ,  0.9800635 ],\n",
       "        [ 0.36260957,  0.18276349, -0.6856061 ],\n",
       "        [-0.8519373 , -0.6416717 , -0.4818122 ],\n",
       "        [-0.6886102 , -0.33987316, -0.05898903]], dtype=float32)}, tx=GradientTransformationExtraArgs(init=<function chain.<locals>.init_fn at 0x13d5d83a0>, update=<function chain.<locals>.update_fn at 0x13d5d8dc0>), opt_state=(EmptyState(), EmptyState()))}"
      ]
     },
     "execution_count": 15,
     "metadata": {},
     "output_type": "execute_result"
    }
   ],
   "source": [
    "restored = checkpoint_manager.restore(5, items=target)\n",
    "assert not hasattr(restored, 'batch_stats')\n",
    "assert type(restored['model']) == train_state.TrainState\n",
    "restored"
   ]
  },
  {
   "attachments": {},
   "cell_type": "markdown",
   "id": "5c6822c6",
   "metadata": {},
   "source": [
    "### Scenario 2: When a checkpoint is partial\n",
    "\n",
    "On the other hand, if the reference object contains a value that is not available in the checkpoint, the checkpointing code will by default warn that some data is not compatible.\n",
    "\n",
    "To bypass the error, you need to pass an Orbax [`transform`](https://github.com/google/orbax/blob/main/docs/checkpoint.md#transformations) that teaches Orbax how to conform this checkpoint into the structure of the `custom_target`.\n",
    "\n",
    "In this case, pass a default `{}` that lets Orbax use values in the `custom_target` to fill in the blank. This allows you to restore an old checkpoint into a new data structure, the `CustomTrainState`."
   ]
  },
  {
   "cell_type": "code",
   "execution_count": 16,
   "id": "a5d14c9f",
   "metadata": {},
   "outputs": [
    {
     "name": "stderr",
     "output_type": "stream",
     "text": [
      "WARNING:absl:The transformations API will eventually be replaced by an upgraded design. The current API will not be removed until this point, but it will no longer be actively worked on.\n"
     ]
    },
    {
     "name": "stdout",
     "output_type": "stream",
     "text": [
      "KeyError when target state has an unmentioned field: 'batch_stats'\n",
      "\n"
     ]
    },
    {
     "data": {
      "text/plain": [
       "{'config': None,\n",
       " 'data': [Array([0.59902626, 0.2172144 , 2.4202902 , 0.03266738, 1.2164948 ],      dtype=float32)],\n",
       " 'model': CustomTrainState(step=1, apply_fn=<bound method Module.apply of Dense(\n",
       "     # attributes\n",
       "     features = 3\n",
       "     use_bias = True\n",
       "     dtype = None\n",
       "     param_dtype = float32\n",
       "     precision = None\n",
       "     kernel_init = init\n",
       "     bias_init = zeros\n",
       "     dot_general = dot_general\n",
       "     dot_general_cls = None\n",
       " )>, params={'bias': Array([-0.001, -0.001, -0.001], dtype=float32), 'kernel': Array([[ 0.26048955, -0.61399287, -0.23458514],\n",
       "        [ 0.11050402, -0.8765793 ,  0.9800635 ],\n",
       "        [ 0.36260957,  0.18276349, -0.6856061 ],\n",
       "        [-0.8519373 , -0.6416717 , -0.4818122 ],\n",
       "        [-0.6886102 , -0.33987316, -0.05898903]], dtype=float32)}, tx=GradientTransformationExtraArgs(init=<function chain.<locals>.init_fn at 0x13d5d83a0>, update=<function chain.<locals>.update_fn at 0x13d5d8dc0>), opt_state=(EmptyState(), EmptyState()), batch_stats=array([0, 1, 2, 3, 4, 5, 6, 7, 8, 9]))}"
      ]
     },
     "execution_count": 16,
     "metadata": {},
     "output_type": "execute_result"
    }
   ],
   "source": [
    "try:\n",
    "    checkpoint_manager.restore(4, items=custom_target)\n",
    "except KeyError as e:\n",
    "    print(f'KeyError when target state has an unmentioned field: {e}')\n",
    "    print('')\n",
    "\n",
    "# Step 4 is an original `TrainState`, without the `batch_stats`\n",
    "custom_restore_args = orbax_utils.restore_args_from_target(custom_target)\n",
    "restored = checkpoint_manager.restore(4, items=custom_target,\n",
    "                                      restore_kwargs={'transforms': {}, 'restore_args': custom_restore_args})\n",
    "assert type(restored['model']) == CustomTrainState\n",
    "np.testing.assert_equal(restored['model'].batch_stats,\n",
    "                        custom_target['model'].batch_stats)\n",
    "restored"
   ]
  },
  {
   "cell_type": "markdown",
   "id": "74a4b0fd",
   "metadata": {},
   "source": [
    "##### With Orbax\n",
    "\n",
    "If you have already saved your checkpoints with the Orbax backend, you can use `orbax_transforms` to access this `transforms` argument in the Flax API."
   ]
  },
  {
   "cell_type": "code",
   "execution_count": 17,
   "id": "29fd1e33",
   "metadata": {
    "outputId": "cdbb9247-d1eb-4458-aa83-8db0332af7cb"
   },
   "outputs": [
    {
     "name": "stderr",
     "output_type": "stream",
     "text": [
      "WARNING:absl:The transformations API will eventually be replaced by an upgraded design. The current API will not be removed until this point, but it will no longer be actively worked on.\n"
     ]
    },
    {
     "data": {
      "text/plain": [
       "{'model': CustomTrainState(step=1, apply_fn=<bound method Module.apply of Dense(\n",
       "     # attributes\n",
       "     features = 3\n",
       "     use_bias = True\n",
       "     dtype = None\n",
       "     param_dtype = float32\n",
       "     precision = None\n",
       "     kernel_init = init\n",
       "     bias_init = zeros\n",
       "     dot_general = dot_general\n",
       "     dot_general_cls = None\n",
       " )>, params={'bias': Array([-0.001, -0.001, -0.001], dtype=float32), 'kernel': Array([[ 0.26048955, -0.61399287, -0.23458514],\n",
       "        [ 0.11050402, -0.8765793 ,  0.9800635 ],\n",
       "        [ 0.36260957,  0.18276349, -0.6856061 ],\n",
       "        [-0.8519373 , -0.6416717 , -0.4818122 ],\n",
       "        [-0.6886102 , -0.33987316, -0.05898903]], dtype=float32)}, tx=GradientTransformationExtraArgs(init=<function chain.<locals>.init_fn at 0x13d5d83a0>, update=<function chain.<locals>.update_fn at 0x13d5d8dc0>), opt_state=(EmptyState(), EmptyState()), batch_stats=array([0, 1, 2, 3, 4, 5, 6, 7, 8, 9])),\n",
       " 'config': None,\n",
       " 'data': [Array([0.59902626, 0.2172144 , 2.4202902 , 0.03266738, 1.2164948 ],      dtype=float32)]}"
      ]
     },
     "execution_count": 17,
     "metadata": {},
     "output_type": "execute_result"
    }
   ],
   "source": [
    "# Save in the \"Flax-with-Orbax\" backend.\n",
    "flax.config.update('flax_use_orbax_checkpointing', True)\n",
    "checkpoints.save_checkpoint(ckpt_dir='/tmp/flax_ckpt/flax-checkpointing',\n",
    "                            target=ckpt,\n",
    "                            step=4,\n",
    "                            overwrite=True,\n",
    "                            keep=2)\n",
    "\n",
    "checkpoints.restore_checkpoint('/tmp/flax_ckpt/flax-checkpointing', target=custom_target, step=4,\n",
    "                               orbax_transforms={})"
   ]
  },
  {
   "cell_type": "markdown",
   "id": "830ef07c",
   "metadata": {},
   "source": [
    "##### With the legacy API\n",
    "\n",
    "Using the legacy `flax.training.checkpoints` API, similar things are doable too, but they are not as flexible as the [Orbax Transformations](https://github.com/google/orbax/blob/main/docs/checkpoint.md#transformations).\n",
    "\n",
    "You need to restore the checkpoint to a raw dict with `target=None`, modify the structure accordingly, and then deserialize it back to the original target."
   ]
  },
  {
   "cell_type": "code",
   "execution_count": 18,
   "id": "051e7a16",
   "metadata": {},
   "outputs": [
    {
     "data": {
      "text/plain": [
       "{'model': CustomTrainState(step=1, apply_fn=<bound method Module.apply of Dense(\n",
       "     # attributes\n",
       "     features = 3\n",
       "     use_bias = True\n",
       "     dtype = None\n",
       "     param_dtype = float32\n",
       "     precision = None\n",
       "     kernel_init = init\n",
       "     bias_init = zeros\n",
       "     dot_general = dot_general\n",
       "     dot_general_cls = None\n",
       " )>, params={'bias': array([-0.001, -0.001, -0.001], dtype=float32), 'kernel': array([[ 0.26048955, -0.61399287, -0.23458514],\n",
       "        [ 0.11050402, -0.8765793 ,  0.9800635 ],\n",
       "        [ 0.36260957,  0.18276349, -0.6856061 ],\n",
       "        [-0.8519373 , -0.6416717 , -0.4818122 ],\n",
       "        [-0.6886102 , -0.33987316, -0.05898903]], dtype=float32)}, tx=GradientTransformationExtraArgs(init=<function chain.<locals>.init_fn at 0x13d5d83a0>, update=<function chain.<locals>.update_fn at 0x13d5d8dc0>), opt_state=(EmptyState(), EmptyState()), batch_stats=array([9, 8, 7, 6, 5, 4, 3, 2, 1, 0])),\n",
       " 'config': {'dimensions': array([5, 3])},\n",
       " 'data': [array([0.59902626, 0.2172144 , 2.4202902 , 0.03266738, 1.2164948 ],\n",
       "        dtype=float32)]}"
      ]
     },
     "execution_count": 18,
     "metadata": {},
     "output_type": "execute_result"
    }
   ],
   "source": [
    "# Save using the legacy Flax `checkpoints` API.\n",
    "flax.config.update('flax_use_orbax_checkpointing', False)\n",
    "checkpoints.save_checkpoint(ckpt_dir='/tmp/flax_ckpt/flax-checkpointing',\n",
    "                            target=ckpt,\n",
    "                            step=5,\n",
    "                            overwrite=True,\n",
    "                            keep=2)\n",
    "\n",
    "# Pass no target to get a raw state dictionary first.\n",
    "raw_state_dict = checkpoints.restore_checkpoint('/tmp/flax_ckpt/flax-checkpointing', target=None, step=5)\n",
    "# Add/remove fields as needed.\n",
    "raw_state_dict['model']['batch_stats'] = np.flip(np.arange(10))\n",
    "# Restore the classes with correct target now\n",
    "flax.serialization.from_state_dict(custom_target, raw_state_dict)"
   ]
  },
  {
   "cell_type": "markdown",
   "id": "a6b39501",
   "metadata": {},
   "source": [
    "## Asynchronized checkpointing\n",
    "\n",
    "Checkpointing is I/O heavy, and if you have a large amount of data to save, it may be worthwhile to put it into a background thread, while continuing with your training.\n",
    "\n",
    "You can do this by creating an [`orbax.checkpoint.AsyncCheckpointer`](https://github.com/google/orbax/blob/main/checkpoint/orbax/checkpoint/async_checkpointer.py) in place of the `orbax.checkpoint.PyTreeCheckpointer`.\n",
    "\n",
    "Note: You should use the same `async_checkpointer` to handle all your async saves across your training steps, so that it can make sure that a previous async save is done before the next one begins. This enables bookkeeping, such as `keep` (the number of checkpoints) and `overwrite` to be consistent across steps.\n",
    "\n",
    "Whenever you want to explicitly wait until an async save is done, you can call `async_checkpointer.wait_until_finished()`."
   ]
  },
  {
   "cell_type": "code",
   "execution_count": 19,
   "id": "85be68a6",
   "metadata": {
    "outputId": "aefce94c-8bae-4355-c142-05f2b61c39e2"
   },
   "outputs": [
    {
     "data": {
      "text/plain": [
       "{'config': {'dimensions': array([5, 3])},\n",
       " 'data': [array([0.59902626, 0.2172144 , 2.4202902 , 0.03266738, 1.2164948 ],\n",
       "        dtype=float32)],\n",
       " 'model': TrainState(step=1, apply_fn=<bound method Module.apply of Dense(\n",
       "     # attributes\n",
       "     features = 3\n",
       "     use_bias = True\n",
       "     dtype = None\n",
       "     param_dtype = float32\n",
       "     precision = None\n",
       "     kernel_init = init\n",
       "     bias_init = zeros\n",
       "     dot_general = dot_general\n",
       "     dot_general_cls = None\n",
       " )>, params={'bias': array([-0.001, -0.001, -0.001], dtype=float32), 'kernel': array([[ 0.26048955, -0.61399287, -0.23458514],\n",
       "        [ 0.11050402, -0.8765793 ,  0.9800635 ],\n",
       "        [ 0.36260957,  0.18276349, -0.6856061 ],\n",
       "        [-0.8519373 , -0.6416717 , -0.4818122 ],\n",
       "        [-0.6886102 , -0.33987316, -0.05898903]], dtype=float32)}, tx=GradientTransformationExtraArgs(init=<function chain.<locals>.init_fn at 0x13d5d83a0>, update=<function chain.<locals>.update_fn at 0x13d5d8dc0>), opt_state=(EmptyState(), EmptyState()))}"
      ]
     },
     "execution_count": 19,
     "metadata": {},
     "output_type": "execute_result"
    }
   ],
   "source": [
    "# `orbax.checkpoint.AsyncCheckpointer` needs some multi-process initialization, because it was\n",
    "# originally designed for multi-process large model checkpointing.\n",
    "# For Python notebooks or other single-process settings, just set up with `num_processes=1`.\n",
    "# Refer to https://jax.readthedocs.io/en/latest/multi_process.html#initializing-the-cluster\n",
    "# for how to set it up in multi-process scenarios.\n",
    "jax.distributed.initialize(\"localhost:8889\", num_processes=1, process_id=0)\n",
    "\n",
    "async_checkpointer = orbax.checkpoint.AsyncCheckpointer(\n",
    "    orbax.checkpoint.PyTreeCheckpointHandler(), timeout_secs=50)\n",
    "\n",
    "# Save your job:\n",
    "async_checkpointer.save('/tmp/flax_ckpt/orbax/single_save_async', ckpt, save_args=save_args)\n",
    "# ... Continue with your work...\n",
    "\n",
    "# ... Until a time when you want to wait until the save completes:\n",
    "async_checkpointer.wait_until_finished()  # Blocks until the checkpoint saving is completed.\n",
    "async_checkpointer.restore('/tmp/flax_ckpt/orbax/single_save_async', item=target)"
   ]
  },
  {
   "cell_type": "markdown",
   "id": "13e93db6",
   "metadata": {},
   "source": [
    "If you are using Orbax `CheckpointManager`, just pass in the async_checkpointer when initializing it. Then, in practice, call `async_checkpoint_manager.wait_until_finished()` instead."
   ]
  },
  {
   "cell_type": "code",
   "execution_count": 20,
   "id": "af33b138",
   "metadata": {},
   "outputs": [],
   "source": [
    "async_checkpoint_manager = orbax.checkpoint.CheckpointManager(\n",
    "    '/tmp/flax_ckpt/orbax/managed_async', async_checkpointer, options)\n",
    "async_checkpoint_manager.wait_until_finished()"
   ]
  },
  {
   "cell_type": "markdown",
   "id": "bb0e03cd",
   "metadata": {},
   "source": [
    "## Multi-host/multi-process checkpointing\n",
    "\n",
    "JAX provides a few ways to scale up your code on multiple hosts at the same time. This usually happens when the number of devices (CPU/GPU/TPU) is so large that different devices are managed by different hosts (CPU). To get started on JAX in multi-process settings, check out [Using JAX in multi-host and multi-process environments](https://jax.readthedocs.io/en/latest/multi_process.html) and the [distributed array guide](https://jax.readthedocs.io/en/latest/notebooks/Distributed_arrays_and_automatic_parallelization.html).\n",
    "\n",
    "In the [Single Program Multi Data (SPMD)](https://jax.readthedocs.io/en/latest/glossary.html#term-SPMD) paradigm with JAX `jit`, a large multi-process array can have its data sharded across different devices. (Note that JAX `pjit` and `jit` have been merged into a single unified interface. To learn about compiling and executing JAX functions in multi-host or multi-core environments, refer to [this guide](https://jax.readthedocs.io/en/latest/notebooks/Distributed_arrays_and_automatic_parallelization.html) and the [jax.Array migration guide](https://jax.readthedocs.io/en/latest/jax_array_migration.html).) When a multi-process array is serialized, each host dumps its data shards to a single shared storage, such as a Google Cloud bucket.\n",
    "\n",
    "Orbax supports saving and loading pytrees with multi-process arrays in the same fashion as single-process pytrees. However, it's recommended to use the asynchronized [`orbax.AsyncCheckpointer`](https://github.com/google/orbax/blob/main/checkpoint/orbax/checkpoint/async_checkpointer.py) to save large multi-process arrays on another thread, so that you can perform computation alongside the saves. With pure Orbax, saving checkpoints in a multi-process context uses the same API as in a single-process context."
   ]
  },
  {
   "cell_type": "code",
   "execution_count": 21,
   "id": "ubdUvyMrhD-1",
   "metadata": {},
   "outputs": [],
   "source": [
    "from jax.sharding import PartitionSpec, NamedSharding\n",
    "\n",
    "# Create an array sharded across multiple devices.\n",
    "mesh_shape = (4, 2)\n",
    "devices = np.asarray(jax.devices()).reshape(*mesh_shape)\n",
    "mesh = jax.sharding.Mesh(devices, ('x', 'y'))\n",
    "\n",
    "mp_array = jax.device_put(np.arange(8 * 2).reshape(8, 2),\n",
    "                          NamedSharding(mesh, PartitionSpec('x', 'y')))\n",
    "\n",
    "# Make it a pytree.\n",
    "mp_ckpt = {'model': mp_array}"
   ]
  },
  {
   "cell_type": "code",
   "execution_count": 22,
   "id": "a669bc05",
   "metadata": {},
   "outputs": [],
   "source": [
    "async_checkpoint_manager.save(0, mp_ckpt)\n",
    "async_checkpoint_manager.wait_until_finished()"
   ]
  },
  {
   "cell_type": "markdown",
   "id": "4deee32e",
   "metadata": {},
   "source": [
    "When restoring a checkpoint with multi-process arrays, you need to specify what `sharding` each array should be restored back to. Otherwise, they will be restored as large `np.array`s on process 0, costing time and memory.\n",
    "\n",
    "(In this notebook, since we are on single-process, it will be restored as `np.array` even if we provide shardings.)\n",
    "\n",
    "### With Orbax\n",
    "\n",
    "Orbax allows you to specify this by passing a pytree of `sharding`s in `restore_args`. If you already have a reference pytree that has all the arrays with the right sharding, you can use `orbax_utils.restore_args_from_target` to transform it into the `restore_args` that Orbax needs."
   ]
  },
  {
   "cell_type": "code",
   "execution_count": 23,
   "id": "b8e7daaa",
   "metadata": {},
   "outputs": [
    {
     "data": {
      "text/plain": [
       "{'model': Array([[ 0,  1],\n",
       "        [ 2,  3],\n",
       "        [ 4,  5],\n",
       "        [ 6,  7],\n",
       "        [ 8,  9],\n",
       "        [10, 11],\n",
       "        [12, 13],\n",
       "        [14, 15]], dtype=int32)}"
      ]
     },
     "execution_count": 23,
     "metadata": {},
     "output_type": "execute_result"
    }
   ],
   "source": [
    "# The reference doesn't need to be as large as your checkpoint!\n",
    "# Just make sure it has the `.sharding` you want.\n",
    "mp_smaller = jax.device_put(np.arange(8).reshape(4, 2),\n",
    "                            NamedSharding(mesh, PartitionSpec('x', 'y')))\n",
    "ref_ckpt = {'model': mp_smaller}\n",
    "\n",
    "restore_args = orbax_utils.restore_args_from_target(ref_ckpt)\n",
    "async_checkpoint_manager.restore(\n",
    "    0, items=ref_ckpt, restore_kwargs={'restore_args': restore_args})"
   ]
  },
  {
   "cell_type": "markdown",
   "id": "edc355ce",
   "metadata": {},
   "source": [
    "### With the legacy Flax: use `save_checkpoint_multiprocess`\n",
    "\n",
    "In legacy Flax, to save multi-process arrays, use [`flax.training.checkpoints.save_checkpoint_multiprocess()`](https://flax.readthedocs.io/en/latest/api_reference/flax.training.html#flax.training.checkpoints.save_checkpoint_multiprocess) in place of `save_checkpoint()` and with the same arguments.\n",
    "\n",
    "If your checkpoint is too large, you can specify `timeout_secs` in the manager and give it more time to finish writing."
   ]
  },
  {
   "cell_type": "code",
   "execution_count": 24,
   "id": "5d10039b",
   "metadata": {
    "outputId": "901bb097-0899-479d-b9ae-61dae79e7057"
   },
   "outputs": [
    {
     "data": {
      "text/plain": [
       "'/tmp/flax_ckpt/checkpoint_3'"
      ]
     },
     "execution_count": 24,
     "metadata": {},
     "output_type": "execute_result"
    }
   ],
   "source": [
    "async_checkpointer = orbax.checkpoint.AsyncCheckpointer(orbax.checkpoint.PyTreeCheckpointHandler(), timeout_secs=50)\n",
    "checkpoints.save_checkpoint_multiprocess(ckpt_dir,\n",
    "                                         mp_ckpt,\n",
    "                                         step=3,\n",
    "                                         overwrite=True,\n",
    "                                         keep=4,\n",
    "                                         orbax_checkpointer=async_checkpointer)"
   ]
  },
  {
   "cell_type": "code",
   "execution_count": 25,
   "id": "a9f9724c",
   "metadata": {
    "outputId": "393c4a0e-8a8c-4ca6-c609-93c8bab38e75"
   },
   "outputs": [
    {
     "name": "stderr",
     "output_type": "stream",
     "text": [
      "WARNING:absl:The transformations API will eventually be replaced by an upgraded design. The current API will not be removed until this point, but it will no longer be actively worked on.\n"
     ]
    },
    {
     "data": {
      "text/plain": [
       "{'model': Array([[ 0,  1],\n",
       "        [ 2,  3],\n",
       "        [ 4,  5],\n",
       "        [ 6,  7],\n",
       "        [ 8,  9],\n",
       "        [10, 11],\n",
       "        [12, 13],\n",
       "        [14, 15]], dtype=int32)}"
      ]
     },
     "execution_count": 25,
     "metadata": {},
     "output_type": "execute_result"
    }
   ],
   "source": [
    "mp_restored = checkpoints.restore_checkpoint(ckpt_dir,\n",
    "                                             target=ref_ckpt,\n",
    "                                             step=3,\n",
    "                                             orbax_checkpointer=async_checkpointer)\n",
    "mp_restored"
   ]
  },
  {
   "cell_type": "markdown",
   "id": "65cfdd59",
   "metadata": {},
   "source": [
    "## Orbax-as-backend troubleshooting\n",
    "\n",
    "As an intermediate stage of the migration (to Orbax from the legacy Flax `checkpoints` API), `flax.training.checkpoints` APIs will start to use Orbax as their backend when saving checkpoints starting from May 15, 2023.\n",
    "\n",
    "Checkpoints saved with the Orbax backend can be readable by either `flax.training.checkpoints.restore_checkpoint` or `orbax.checkpoint.PyTreeCheckpointer`.\n",
    "\n",
    "Code-wise, this is equivalent to setting the config flag [`flax.config.flax_use_orbax_checkpointing`](https://github.com/google/flax/blob/main/flax/configurations.py#L103) default to `True`. You can overwrite this value in your project with `flax.config.update('flax_use_orbax_checkpointing', <BoolValue>)` at any time.\n",
    "\n",
    "In general, this automatic migration will not affect most users. However, you may encounter issues if your API usage follows some specific pattern. Check out the sections below for troubleshooting."
   ]
  },
  {
   "cell_type": "markdown",
   "id": "415bceb1",
   "metadata": {},
   "source": [
    "### If your devices hang when writing checkpoints\n",
    "\n",
    "If you are running in a multi-host environment (usually anything larger than 8 TPU devices) and your devices hang when writing checkpoints, check if your code is in the following pattern (that is, the `save_checkpoint` only ran on host `0`):\n",
    "\n",
    "```\n",
    "if jax.process_index() == 0:\n",
    "  flax.training.checkpoints.save_checkpoint(...)\n",
    "```\n",
    "\n",
    "Unfortunately this is a legacy pattern that will be deprecated and won't be supported, because in a multi-process environment, the checkpointing code should coordinate among hosts instead of being triggered only on the host `0`. Replacing the code above with the following should resolve the hang issue:\n",
    "\n",
    "```\n",
    "flax.training.checkpoints.save_checkpoint_multiprocess(...)\n",
    "```"
   ]
  },
  {
   "cell_type": "markdown",
   "id": "70e0ebb3",
   "metadata": {},
   "source": [
    "### If you don't save pytrees\n",
    "\n",
    "Orbax uses `orbax.checkpoint.PyTreeCheckpointHandler` to save checkpoints, which means they only save pytrees.\n",
    "\n",
    "If you want to save singular arrays or numbers, you have two options:\n",
    "\n",
    "1. Use `orbax.ArrayCheckpointHandler` to save them following [this migration section](https://flax.readthedocs.io/en/latest/guides/converting_and_upgrading/orbax_upgrade_guide.html#saving-loading-a-single-jax-or-numpy-array).\n",
    "\n",
    "1. Wrap it inside a pytree and save as usual."
   ]
  }
 ],
 "metadata": {
  "gpuClass": "standard",
  "jupytext": {
   "formats": "ipynb,md",
   "main_language": "python"
  },
  "language_info": {
   "codemirror_mode": {
    "name": "ipython",
    "version": 3
   },
   "file_extension": ".py",
   "mimetype": "text/x-python",
   "name": "python",
   "nbconvert_exporter": "python",
   "pygments_lexer": "ipython3",
   "version": "3.10.11"
  }
 },
 "nbformat": 4,
 "nbformat_minor": 5
}
