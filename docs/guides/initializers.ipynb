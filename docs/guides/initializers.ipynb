{
 "cells": [
  {
   "cell_type": "markdown",
   "metadata": {
    "id": "5D-VCn-KtpXk"
   },
   "source": [
    "# Initializers\n",
    "\n",
    "In this guide, we will demonstrate how to use initializers and some of the common pitfalls when using initializers in Flax."
   ]
  },
  {
   "cell_type": "markdown",
   "metadata": {
    "id": "6nsUREar3k1H"
   },
   "source": [
    "`Initializers` are initialization functions for the parameters of your neural network. The kernel initializer (`kernel_init`) and the bias initializer (`bias_init`) are examples of optional arguments that you can pass `Initializers` to. A full list of Flax initializers can be found [here](https://flax.readthedocs.io/en/latest/api_reference/flax.linen.html#module-flax.linen.initializers), and most of them are inherited from the [JAX initializers](https://jax.readthedocs.io/en/latest/jax.nn.initializers.html).\n",
    "\n",
    "The default kernel initializer is [`flax.linen.initializers.lecun_normal`](https://flax.readthedocs.io/en/latest/api_reference/_autosummary/flax.linen.initializers.lecun_normal.html) and the default bias initializer is [`flax.linen.initializers.zeros_init`](https://flax.readthedocs.io/en/latest/api_reference/_autosummary/flax.linen.initializers.zeros_init.html)."
   ]
  },
  {
   "cell_type": "code",
   "execution_count": null,
   "metadata": {
    "id": "NPv5hHES8rA9"
   },
   "outputs": [],
   "source": [
    "import numpy as np\n",
    "\n",
    "import jax\n",
    "import jax.numpy as jnp\n",
    "\n",
    "import flax.linen as nn\n",
    "from flax.core import scope\n",
    "from flax.linen.initializers import lecun_normal, zeros_init, uniform"
   ]
  },
  {
   "cell_type": "code",
   "execution_count": null,
   "metadata": {
    "id": "TZEdgD40-bDo"
   },
   "outputs": [],
   "source": [
    "x = jnp.empty((1,4))\n",
    "rng = jax.random.PRNGKey(0)\n",
    "params = nn.Dense(features=5).init(rng, x)['params']\n",
    "\n",
    "# Internally, Flax generates a new RNG key for each param by folding in the\n",
    "# original key with an integer; the integer is derived from a counter which \n",
    "# starts at 1.\n",
    "kernel_rng = scope.LazyRng.create(rng, 1).as_jax_rng()\n",
    "bias_rng = scope.LazyRng.create(rng, 2).as_jax_rng()\n",
    "\n",
    "# confirm the params initialized by the default initializers in nn.Dense are \n",
    "# the same as manually initializing the params using lecun_normal and zeros_init\n",
    "np.testing.assert_allclose(params['kernel'], lecun_normal()(kernel_rng, (4, 5)))\n",
    "np.testing.assert_allclose(params['bias'], zeros_init()(bias_rng, (5,)))"
   ]
  },
  {
   "cell_type": "code",
   "execution_count": null,
   "metadata": {
    "id": "0L-DwRnAQmqi"
   },
   "outputs": [],
   "source": [
    "# Since the zeros initializer is deterministic and doesn't actually depend on \n",
    "# RNG, we can use the uniform initializer to also confirm how the RNG key for \n",
    "# the bias initializer is derived internally by Flax\n",
    "params = nn.Dense(features=5,bias_init=uniform()).init(rng, x)['params']\n",
    "\n",
    "np.testing.assert_allclose(params['kernel'], lecun_normal()(kernel_rng, (4, 5)))\n",
    "np.testing.assert_allclose(params['bias'], uniform()(bias_rng, (5,)))"
   ]
  },
  {
   "cell_type": "markdown",
   "metadata": {
    "id": "jPW_E1ZqHdrQ"
   },
   "source": [
    "## `Initializer` function signature"
   ]
  },
  {
   "cell_type": "markdown",
   "metadata": {
    "id": "3Kglqd9vuxTG"
   },
   "source": [
    "To maintain consistency, all `Initializer` functions that are passed to the `kernel_init` and `bias_init` arguments **must follow the function signature: `[PRNGKey, Shape, Dtype] -> Array`**. Most functions in the [Flax initializer list](https://flax.readthedocs.io/en/latest/api_reference/flax.linen.html#module-flax.linen.initializers) are **builder functions** and build an `Initializer` function that follows this function signature. Therefore, you would normally call these builder functions and pass them to arguments like `kernel_init=lecun_normal()` and `bias_init=zeros_init()`. \n",
    "\n",
    "The two exceptions are [`flax.linen.initializers.zeros`](https://flax.readthedocs.io/en/latest/api_reference/_autosummary/flax.linen.initializers.zeros.html) and [`flax.linen.initializers.ones`](https://flax.readthedocs.io/en/latest/api_reference/_autosummary/flax.linen.initializers.ones.html), which **are already `Initializer` functions that follow the function signature**. These two functions are inherited from [JAX](https://jax.readthedocs.io/en/latest/jax.nn.initializers.html), but Flax also implements thinly-wrapped builder functions [`zeros_init`](https://flax.readthedocs.io/en/latest/api_reference/_autosummary/flax.linen.initializers.zeros_init.html) and [`ones_init`](https://flax.readthedocs.io/en/latest/api_reference/_autosummary/flax.linen.initializers.ones_init.html) that return those respective `Initializers` when called. For consistency and to minimize confusion, it is recommended to use `zeros_init()` and `ones_init()` instead of `zeros` and `ones`."
   ]
  },
  {
   "cell_type": "markdown",
   "metadata": {
    "id": "sG5oygwB7UrW"
   },
   "source": [
    "Note that even if the `Initializer` is deterministic, **a PRNGKey must be passed**. Therefore functions like [`jax.numpy.zeros`](https://jax.readthedocs.io/en/latest/_autosummary/jax.numpy.zeros.html) and [`jax.numpy.ones`](https://jax.readthedocs.io/en/latest/_autosummary/jax.numpy.ones.html) can't be used as initializers since they have an invalid function signature."
   ]
  },
  {
   "cell_type": "code",
   "execution_count": null,
   "metadata": {
    "id": "IjLW1abzw2pM",
    "outputId": "de2f26d9-df65-4ee0-cf7f-acac4bc290f7"
   },
   "outputs": [
    {
     "name": "stdout",
     "output_type": "stream",
     "text": [
      "Caught error: zeros() takes from 1 to 2 positional arguments but 3 were given\n"
     ]
    }
   ],
   "source": [
    "# jnp.zeros has an invalid function signature\n",
    "layer = nn.Dense(features=5, kernel_init=jnp.zeros)\n",
    "try:\n",
    "  # this will throw an error\n",
    "  layer.init(jax.random.PRNGKey(42), jnp.empty((1,4)))['params']\n",
    "except Exception as e:\n",
    "  print(f'Caught error: {e}')"
   ]
  },
  {
   "cell_type": "code",
   "execution_count": null,
   "metadata": {
    "id": "RlOIOCj68p86",
    "outputId": "4ef30f68-078a-4c57-e8de-2c49ef266cae"
   },
   "outputs": [
    {
     "data": {
      "text/plain": [
       "FrozenDict({\n",
       "    kernel: Array([[0., 0., 0., 0., 0.],\n",
       "           [0., 0., 0., 0., 0.],\n",
       "           [0., 0., 0., 0., 0.],\n",
       "           [0., 0., 0., 0., 0.]], dtype=float32),\n",
       "    bias: Array([0., 0., 0., 0., 0.], dtype=float32),\n",
       "})"
      ]
     },
     "execution_count": 4,
     "metadata": {},
     "output_type": "execute_result"
    }
   ],
   "source": [
    "# use flax.linen.initializers.zeros_init instead\n",
    "layer = nn.Dense(features=5, kernel_init=zeros_init())\n",
    "# successfully generate params\n",
    "layer.init(jax.random.PRNGKey(42), jnp.empty((1,4)))['params']"
   ]
  },
  {
   "cell_type": "markdown",
   "metadata": {
    "id": "S4X_xHHk-b4V"
   },
   "source": [
    "## `Initializer` restrictions for `bias_init`"
   ]
  },
  {
   "cell_type": "markdown",
   "metadata": {
    "id": "jLUFaliMy_DT"
   },
   "source": [
    "The `Initializer` functions built by [`constant`](https://flax.readthedocs.io/en/latest/api_reference/_autosummary/flax.linen.initializers.constant.html), [`normal`](https://flax.readthedocs.io/en/latest/api_reference/_autosummary/flax.linen.initializers.normal.html), [`uniform`](https://flax.readthedocs.io/en/latest/api_reference/_autosummary/flax.linen.initializers.uniform.html), [`zeros_init`](https://flax.readthedocs.io/en/latest/api_reference/_autosummary/flax.linen.initializers.zeros_init.html) and [`ones_init`](https://flax.readthedocs.io/en/latest/api_reference/_autosummary/flax.linen.initializers.ones_init.html) and the `Initializer` functions [`zeros`](https://flax.readthedocs.io/en/latest/api_reference/_autosummary/flax.linen.initializers.zeros.html) and [`ones`](https://flax.readthedocs.io/en/latest/api_reference/_autosummary/flax.linen.initializers.ones.html) can be used as valid arguments for `bias_init`.\n",
    "\n",
    "We can't use the variance scaling `Initializer` functions built by [`glorot_normal`](https://flax.readthedocs.io/en/latest/api_reference/_autosummary/flax.linen.initializers.glorot_normal.html), [`glorot_uniform`](https://flax.readthedocs.io/en/latest/api_reference/_autosummary/flax.linen.initializers.glorot_uniform.html), [`he_normal`](https://flax.readthedocs.io/en/latest/api_reference/_autosummary/flax.linen.initializers.he_normal.html), [`he_uniform`](https://flax.readthedocs.io/en/latest/api_reference/_autosummary/flax.linen.initializers.he_uniform.html), [`kaiming_normal`](https://flax.readthedocs.io/en/latest/api_reference/_autosummary/flax.linen.initializers.kaiming_normal.html), [`kaiming_uniform`](https://flax.readthedocs.io/en/latest/api_reference/_autosummary/flax.linen.initializers.kaiming_uniform.html), [`lecun_normal`](https://flax.readthedocs.io/en/latest/api_reference/_autosummary/flax.linen.initializers.lecun_normal.html), [`lecun_uniform`](https://flax.readthedocs.io/en/latest/api_reference/_autosummary/flax.linen.initializers.lecun_uniform.html), [`variance_scaling`](https://flax.readthedocs.io/en/latest/api_reference/_autosummary/flax.linen.initializers.variance_scaling.html), [`xavier_normal`](https://flax.readthedocs.io/en/latest/api_reference/_autosummary/flax.linen.initializers.xavier_normal.html), [`xavier_uniform`](https://flax.readthedocs.io/en/latest/api_reference/_autosummary/flax.linen.initializers.xavier_uniform.html) as arguments for `bias_init`, since they fail for 1D arrays."
   ]
  },
  {
   "cell_type": "code",
   "execution_count": 4,
   "metadata": {
    "colab": {
     "base_uri": "https://localhost:8080/"
    },
    "id": "UW2I1Bda8mXu",
    "outputId": "459bfff8-8a14-4440-ba09-d01dfa72b5a3"
   },
   "outputs": [
    {
     "name": "stdout",
     "output_type": "stream",
     "text": [
      "Caught error: Can't compute input and output sizes of a 1-dimensional weights tensor. Must be at least 2D.\n"
     ]
    }
   ],
   "source": [
    "layer = nn.Dense(features=5, bias_init=lecun_normal())\n",
    "try:\n",
    "  # this will throw an error\n",
    "  layer.init(jax.random.PRNGKey(42), jnp.empty((1,4)))['params']\n",
    "except Exception as e:\n",
    "  print(f'Caught error: {e}')"
   ]
  },
  {
   "cell_type": "markdown",
   "metadata": {
    "id": "6kKUpPmR4xS8"
   },
   "source": [
    "For more information, refer to this [issue](https://github.com/google/jax/issues/2075#issuecomment-578465814)."
   ]
  }
 ],
 "metadata": {
  "colab": {
   "provenance": []
  },
  "jupytext": {
   "formats": "ipynb,md:myst"
  },
  "kernelspec": {
   "display_name": "Python 3",
   "name": "python3"
  },
  "language_info": {
   "name": "python"
  }
 },
 "nbformat": 4,
 "nbformat_minor": 0
}
