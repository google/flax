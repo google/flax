{
 "cells": [
  {
   "cell_type": "markdown",
   "id": "6eea21b3",
   "metadata": {},
   "source": [
    "[![Open in Colab](https://colab.research.google.com/assets/colab-badge.svg)](https://colab.research.google.com/github/google/flax/blob/main/docs/quick_start.ipynb)\n",
    "[![Open On GitHub](https://img.shields.io/badge/Open-on%20GitHub-blue?logo=GitHub)](https://github.com/google/flax/blob/main/docs/quick_start.ipynb)\n",
    "\n",
    "# Quick start\n",
    "\n",
    "Welcome to Flax!\n",
    "\n",
    "Flax is an open source Python neural network library built on top of [JAX](https://github.com/jax-ml/jax). This tutorial demonstrates how to construct a simple convolutional neural\n",
    "network (CNN) using the [Flax](https://flax.readthedocs.io) Linen API and train\n",
    "the network for image classification on the MNIST dataset."
   ]
  },
  {
   "cell_type": "markdown",
   "id": "nwJWKIhdwxDo",
   "metadata": {},
   "source": [
    "## 1. Install Flax"
   ]
  },
  {
   "cell_type": "code",
   "execution_count": null,
   "id": "bb81587e",
   "metadata": {
    "tags": [
     "skip-execution"
    ]
   },
   "outputs": [],
   "source": [
    "!pip install -q flax>=0.7.5"
   ]
  },
  {
   "cell_type": "markdown",
   "id": "b529fbef",
   "metadata": {},
   "source": [
    "## 2. Loading data\n",
    "\n",
    "Flax can use any\n",
    "data-loading pipeline and this example demonstrates how to utilize TFDS. Define a function that loads and prepares the MNIST dataset and converts the\n",
    "samples to floating-point numbers."
   ]
  },
  {
   "cell_type": "code",
   "execution_count": 48,
   "id": "bRlrHqZVXZvk",
   "metadata": {},
   "outputs": [],
   "source": [
    "import tensorflow_datasets as tfds  # TFDS for MNIST\n",
    "import tensorflow as tf             # TensorFlow operations\n",
    "\n",
    "def get_datasets(num_epochs, batch_size):\n",
    "  \"\"\"Load MNIST train and test datasets into memory.\"\"\"\n",
    "  train_ds = tfds.load('mnist', split='train')\n",
    "  test_ds = tfds.load('mnist', split='test')\n",
    "\n",
    "  train_ds = train_ds.map(lambda sample: {'image': tf.cast(sample['image'],\n",
    "                                                           tf.float32) / 255.,\n",
    "                                          'label': sample['label']}) # normalize train set\n",
    "  test_ds = test_ds.map(lambda sample: {'image': tf.cast(sample['image'],\n",
    "                                                         tf.float32) / 255.,\n",
    "                                        'label': sample['label']}) # normalize test set\n",
    "\n",
    "  train_ds = train_ds.repeat(num_epochs).shuffle(1024) # create shuffled dataset by allocating a buffer size of 1024 to randomly draw elements from\n",
    "  train_ds = train_ds.batch(batch_size, drop_remainder=True).prefetch(1) # group into batches of batch_size and skip incomplete batch, prefetch the next sample to improve latency\n",
    "  test_ds = test_ds.shuffle(1024) # create shuffled dataset by allocating a buffer size of 1024 to randomly draw elements from\n",
    "  test_ds = test_ds.batch(batch_size, drop_remainder=True).prefetch(1) # group into batches of batch_size and skip incomplete batch, prefetch the next sample to improve latency\n",
    "\n",
    "  return train_ds, test_ds"
   ]
  },
  {
   "cell_type": "markdown",
   "id": "7057395a",
   "metadata": {},
   "source": [
    "## 3. Define network\n",
    "\n",
    "Create a convolutional neural network with the Linen API by subclassing\n",
    "[Flax Module](https://flax.readthedocs.io/en/latest/api_reference/flax.linen/module.html).\n",
    "Because the architecture in this example is relatively simple—you're just\n",
    "stacking layers—you can define the inlined submodules directly within the\n",
    "`__call__` method and wrap it with the\n",
    "[`@compact`](https://flax.readthedocs.io/en/latest/api_reference/flax.linen/decorators.html#flax.linen.compact)\n",
    "decorator. To learn more about the Flax Linen `@compact` decorator, refer to the [`setup` vs `compact`](https://flax.readthedocs.io/en/latest/guides/setup_or_nncompact.html) guide."
   ]
  },
  {
   "cell_type": "code",
   "execution_count": 49,
   "id": "cbc079cd",
   "metadata": {},
   "outputs": [],
   "source": [
    "from flax import linen as nn  # Linen API\n",
    "\n",
    "class CNN(nn.Module):\n",
    "  \"\"\"A simple CNN model.\"\"\"\n",
    "\n",
    "  @nn.compact\n",
    "  def __call__(self, x):\n",
    "    x = nn.Conv(features=32, kernel_size=(3, 3))(x)\n",
    "    x = nn.relu(x)\n",
    "    x = nn.avg_pool(x, window_shape=(2, 2), strides=(2, 2))\n",
    "    x = nn.Conv(features=64, kernel_size=(3, 3))(x)\n",
    "    x = nn.relu(x)\n",
    "    x = nn.avg_pool(x, window_shape=(2, 2), strides=(2, 2))\n",
    "    x = x.reshape((x.shape[0], -1))  # flatten\n",
    "    x = nn.Dense(features=256)(x)\n",
    "    x = nn.relu(x)\n",
    "    x = nn.Dense(features=10)(x)\n",
    "    return x"
   ]
  },
  {
   "cell_type": "markdown",
   "id": "hy7iRu7_zlx-",
   "metadata": {},
   "source": [
    "### View model layers\n",
    "\n",
    "Create an instance of the Flax Module and use the [`Module.tabulate`](https://flax.readthedocs.io/en/latest/api_reference/flax.linen/module.html#flax.linen.Module.tabulate) method to visualize a table of the model layers by passing an RNG key and template image input."
   ]
  },
  {
   "cell_type": "code",
   "execution_count": 50,
   "id": "lDHfog81zLQa",
   "metadata": {
    "outputId": "2c580f41-bf5d-40ec-f1cf-ab7f319a84da"
   },
   "outputs": [
    {
     "name": "stdout",
     "output_type": "stream",
     "text": [
      "\n",
      "\u001b[3m                                  CNN Summary                                   \u001b[0m\n",
      "┏━━━━━━━━━┳━━━━━━━━┳━━━━━━━━━━━━┳━━━━━━━━━━━┳━━━━━━━━━┳━━━━━━━━━━━┳━━━━━━━━━━━━┓\n",
      "┃\u001b[1m \u001b[0m\u001b[1mpath   \u001b[0m\u001b[1m \u001b[0m┃\u001b[1m \u001b[0m\u001b[1mmodule\u001b[0m\u001b[1m \u001b[0m┃\u001b[1m \u001b[0m\u001b[1minputs    \u001b[0m\u001b[1m \u001b[0m┃\u001b[1m \u001b[0m\u001b[1moutputs  \u001b[0m\u001b[1m \u001b[0m┃\u001b[1m \u001b[0m\u001b[1mflops  \u001b[0m\u001b[1m \u001b[0m┃\u001b[1m \u001b[0m\u001b[1mvjp_flops\u001b[0m\u001b[1m \u001b[0m┃\u001b[1m \u001b[0m\u001b[1mparams    \u001b[0m\u001b[1m \u001b[0m┃\n",
      "┡━━━━━━━━━╇━━━━━━━━╇━━━━━━━━━━━━╇━━━━━━━━━━━╇━━━━━━━━━╇━━━━━━━━━━━╇━━━━━━━━━━━━┩\n",
      "│         │ CNN    │ \u001b[2mfloat32\u001b[0m[1… │ \u001b[2mfloat32\u001b[0m[… │ 8708106 │ 26957556  │            │\n",
      "├─────────┼────────┼────────────┼───────────┼─────────┼───────────┼────────────┤\n",
      "│ Conv_0  │ Conv   │ \u001b[2mfloat32\u001b[0m[1… │ \u001b[2mfloat32\u001b[0m[… │ 455424  │ 1341472   │ bias:      │\n",
      "│         │        │            │           │         │           │ \u001b[2mfloat32\u001b[0m[3… │\n",
      "│         │        │            │           │         │           │ kernel:    │\n",
      "│         │        │            │           │         │           │ \u001b[2mfloat32\u001b[0m[3… │\n",
      "│         │        │            │           │         │           │            │\n",
      "│         │        │            │           │         │           │ \u001b[1m320 \u001b[0m\u001b[1;2m(1.3 \u001b[0m  │\n",
      "│         │        │            │           │         │           │ \u001b[1;2mKB)\u001b[0m        │\n",
      "├─────────┼────────┼────────────┼───────────┼─────────┼───────────┼────────────┤\n",
      "│ Conv_1  │ Conv   │ \u001b[2mfloat32\u001b[0m[1… │ \u001b[2mfloat32\u001b[0m[… │ 6566144 │ 19704320  │ bias:      │\n",
      "│         │        │            │           │         │           │ \u001b[2mfloat32\u001b[0m[6… │\n",
      "│         │        │            │           │         │           │ kernel:    │\n",
      "│         │        │            │           │         │           │ \u001b[2mfloat32\u001b[0m[3… │\n",
      "│         │        │            │           │         │           │            │\n",
      "│         │        │            │           │         │           │ \u001b[1m18,496 \u001b[0m    │\n",
      "│         │        │            │           │         │           │ \u001b[1;2m(74.0 KB)\u001b[0m  │\n",
      "├─────────┼────────┼────────────┼───────────┼─────────┼───────────┼────────────┤\n",
      "│ Dense_0 │ Dense  │ \u001b[2mfloat32\u001b[0m[1… │ \u001b[2mfloat32\u001b[0m[… │ 1605888 │ 5620224   │ bias:      │\n",
      "│         │        │            │           │         │           │ \u001b[2mfloat32\u001b[0m[2… │\n",
      "│         │        │            │           │         │           │ kernel:    │\n",
      "│         │        │            │           │         │           │ \u001b[2mfloat32\u001b[0m[3… │\n",
      "│         │        │            │           │         │           │            │\n",
      "│         │        │            │           │         │           │ \u001b[1m803,072 \u001b[0m   │\n",
      "│         │        │            │           │         │           │ \u001b[1;2m(3.2 MB)\u001b[0m   │\n",
      "├─────────┼────────┼────────────┼───────────┼─────────┼───────────┼────────────┤\n",
      "│ Dense_1 │ Dense  │ \u001b[2mfloat32\u001b[0m[1… │ \u001b[2mfloat32\u001b[0m[… │ 5130    │ 17940     │ bias:      │\n",
      "│         │        │            │           │         │           │ \u001b[2mfloat32\u001b[0m[1… │\n",
      "│         │        │            │           │         │           │ kernel:    │\n",
      "│         │        │            │           │         │           │ \u001b[2mfloat32\u001b[0m[2… │\n",
      "│         │        │            │           │         │           │            │\n",
      "│         │        │            │           │         │           │ \u001b[1m2,570 \u001b[0m     │\n",
      "│         │        │            │           │         │           │ \u001b[1;2m(10.3 KB)\u001b[0m  │\n",
      "├─────────┼────────┼────────────┼───────────┼─────────┼───────────┼────────────┤\n",
      "│\u001b[1m \u001b[0m\u001b[1m       \u001b[0m\u001b[1m \u001b[0m│\u001b[1m \u001b[0m\u001b[1m      \u001b[0m\u001b[1m \u001b[0m│\u001b[1m \u001b[0m\u001b[1m          \u001b[0m\u001b[1m \u001b[0m│\u001b[1m \u001b[0m\u001b[1m         \u001b[0m\u001b[1m \u001b[0m│\u001b[1m \u001b[0m\u001b[1m       \u001b[0m\u001b[1m \u001b[0m│\u001b[1m \u001b[0m\u001b[1m    Total\u001b[0m\u001b[1m \u001b[0m│\u001b[1m \u001b[0m\u001b[1m824,458   \u001b[0m\u001b[1m \u001b[0m│\n",
      "│\u001b[1m         \u001b[0m│\u001b[1m        \u001b[0m│\u001b[1m            \u001b[0m│\u001b[1m           \u001b[0m│\u001b[1m         \u001b[0m│\u001b[1m           \u001b[0m│\u001b[1m \u001b[0m\u001b[1;2m(3.3 MB)\u001b[0m\u001b[1m  \u001b[0m\u001b[1m \u001b[0m│\n",
      "└─────────┴────────┴────────────┴───────────┴─────────┴───────────┴────────────┘\n",
      "\u001b[1m                                                                                \u001b[0m\n",
      "\u001b[1m                       Total Parameters: 824,458 \u001b[0m\u001b[1;2m(3.3 MB)\u001b[0m\u001b[1m                       \u001b[0m\n",
      "\n",
      "\n"
     ]
    }
   ],
   "source": [
    "import jax\n",
    "import jax.numpy as jnp  # JAX NumPy\n",
    "\n",
    "cnn = CNN()\n",
    "print(cnn.tabulate(jax.random.key(0), jnp.ones((1, 28, 28, 1)),\n",
    "                   compute_flops=True, compute_vjp_flops=True))"
   ]
  },
  {
   "cell_type": "markdown",
   "id": "4b5ac16e",
   "metadata": {},
   "source": [
    "## 4. Create a `TrainState`\n",
    "\n",
    "A common pattern in Flax is to create a single dataclass that represents the\n",
    "entire training state, including step number, parameters, and optimizer state.\n",
    "\n",
    "Because this is such a common pattern, Flax provides the class\n",
    "[`flax.training.train_state.TrainState`](https://flax.readthedocs.io/en/latest/flax.training.html#train-state)\n",
    "that serves most basic usecases."
   ]
  },
  {
   "cell_type": "code",
   "execution_count": null,
   "id": "qXr7JDpIxGNZ",
   "metadata": {
    "outputId": "1249b7fb-6787-41eb-b34c-61d736300844"
   },
   "outputs": [],
   "source": [
    "!pip install -q clu"
   ]
  },
  {
   "cell_type": "code",
   "execution_count": 52,
   "id": "CJDaJNijyOji",
   "metadata": {},
   "outputs": [],
   "source": [
    "from clu import metrics\n",
    "from flax.training import train_state  # Useful dataclass to keep train state\n",
    "from flax import struct                # Flax dataclasses\n",
    "import optax                           # Common loss functions and optimizers"
   ]
  },
  {
   "cell_type": "markdown",
   "id": "8b86b5f1",
   "metadata": {},
   "source": [
    "We will be using the `clu` library for computing metrics. For more information on `clu`, refer to the [repo](https://github.com/google/CommonLoopUtils) and [notebook](https://colab.research.google.com/github/google/CommonLoopUtils/blob/master/clu_synopsis.ipynb#scrollTo=ueom-uBWLbeQ)."
   ]
  },
  {
   "cell_type": "code",
   "execution_count": 53,
   "id": "7W0qf7FC9uG5",
   "metadata": {},
   "outputs": [],
   "source": [
    "@struct.dataclass\n",
    "class Metrics(metrics.Collection):\n",
    "  accuracy: metrics.Accuracy\n",
    "  loss: metrics.Average.from_output('loss')"
   ]
  },
  {
   "cell_type": "markdown",
   "id": "f3ce5e4c",
   "metadata": {},
   "source": [
    "You can then subclass `train_state.TrainState` so that it also contains metrics. This has the advantage that we only need\n",
    "to pass around a single argument to functions like `train_step()` (see below) to calculate the loss, update the parameters and compute the metrics all at once."
   ]
  },
  {
   "cell_type": "code",
   "execution_count": 54,
   "id": "e0102447",
   "metadata": {},
   "outputs": [],
   "source": [
    "class TrainState(train_state.TrainState):\n",
    "  metrics: Metrics\n",
    "\n",
    "def create_train_state(module, rng, learning_rate, momentum):\n",
    "  \"\"\"Creates an initial `TrainState`.\"\"\"\n",
    "  params = module.init(rng, jnp.ones([1, 28, 28, 1]))['params'] # initialize parameters by passing a template image\n",
    "  tx = optax.sgd(learning_rate, momentum)\n",
    "  return TrainState.create(\n",
    "      apply_fn=module.apply, params=params, tx=tx,\n",
    "      metrics=Metrics.empty())"
   ]
  },
  {
   "cell_type": "markdown",
   "id": "a15de484",
   "metadata": {},
   "source": [
    "## 5. Training step\n",
    "\n",
    "A function that:\n",
    "\n",
    "- Evaluates the neural network given the parameters and a batch of input images\n",
    "  with [`TrainState.apply_fn`](https://flax.readthedocs.io/en/latest/api_reference/flax.training.html#flax.training.train_state.TrainState) (which contains the [`Module.apply`](https://flax.readthedocs.io/en/latest/api_reference/flax.linen/module.html#flax.linen.Module.apply)\n",
    "  method (forward pass)).\n",
    "- Computes the cross entropy loss, using the predefined [`optax.softmax_cross_entropy_with_integer_labels()`](https://optax.readthedocs.io/en/latest/api.html#optax.softmax_cross_entropy_with_integer_labels). Note that this function expects integer labels, so there is no need to convert labels to onehot encoding.\n",
    "- Evaluates the gradient of the loss function using\n",
    "  [`jax.grad`](https://jax.readthedocs.io/en/latest/jax.html#jax.grad).\n",
    "- Applies a\n",
    "  [pytree](https://jax.readthedocs.io/en/latest/pytrees.html#pytrees-and-jax-functions)\n",
    "  of gradients to the optimizer to update the model's parameters.\n",
    "\n",
    "Use JAX's [@jit](https://jax.readthedocs.io/en/latest/jax.html#jax.jit)\n",
    "decorator to trace the entire `train_step` function and just-in-time compile\n",
    "it with [XLA](https://www.tensorflow.org/xla) into fused device operations\n",
    "that run faster and more efficiently on hardware accelerators."
   ]
  },
  {
   "cell_type": "code",
   "execution_count": 55,
   "id": "9b0af486",
   "metadata": {},
   "outputs": [],
   "source": [
    "@jax.jit\n",
    "def train_step(state, batch):\n",
    "  \"\"\"Train for a single step.\"\"\"\n",
    "  def loss_fn(params):\n",
    "    logits = state.apply_fn({'params': params}, batch['image'])\n",
    "    loss = optax.softmax_cross_entropy_with_integer_labels(\n",
    "        logits=logits, labels=batch['label']).mean()\n",
    "    return loss\n",
    "  grad_fn = jax.grad(loss_fn)\n",
    "  grads = grad_fn(state.params)\n",
    "  state = state.apply_gradients(grads=grads)\n",
    "  return state"
   ]
  },
  {
   "cell_type": "markdown",
   "id": "0ff5145f",
   "metadata": {},
   "source": [
    "## 6. Metric computation\n",
    "\n",
    "Create a separate function for loss and accuracy metrics. Loss is calculated using the `optax.softmax_cross_entropy_with_integer_labels` function, while accuracy is calculated using `clu.metrics`."
   ]
  },
  {
   "cell_type": "code",
   "execution_count": 56,
   "id": "961bf70b",
   "metadata": {},
   "outputs": [],
   "source": [
    "@jax.jit\n",
    "def compute_metrics(*, state, batch):\n",
    "  logits = state.apply_fn({'params': state.params}, batch['image'])\n",
    "  loss = optax.softmax_cross_entropy_with_integer_labels(\n",
    "        logits=logits, labels=batch['label']).mean()\n",
    "  metric_updates = state.metrics.single_from_model_output(\n",
    "    logits=logits, labels=batch['label'], loss=loss)\n",
    "  metrics = state.metrics.merge(metric_updates)\n",
    "  state = state.replace(metrics=metrics)\n",
    "  return state"
   ]
  },
  {
   "cell_type": "markdown",
   "id": "497241c3",
   "metadata": {},
   "source": [
    "## 7. Download data"
   ]
  },
  {
   "cell_type": "code",
   "execution_count": 57,
   "id": "bff5393e",
   "metadata": {},
   "outputs": [],
   "source": [
    "num_epochs = 10\n",
    "batch_size = 32\n",
    "\n",
    "train_ds, test_ds = get_datasets(num_epochs, batch_size)"
   ]
  },
  {
   "attachments": {},
   "cell_type": "markdown",
   "id": "809ae1a0",
   "metadata": {},
   "source": [
    "## 8. Seed randomness\n",
    "\n",
    "- Set the TF random seed to ensure dataset shuffling (with `tf.data.Dataset.shuffle`) is reproducible.\n",
    "- Get one\n",
    "  [PRNGKey](https://jax.readthedocs.io/en/latest/_autosummary/jax.random.PRNGKey.html#jax.random.PRNGKey)\n",
    "  and use it for parameter initialization. (Learn\n",
    "  more about\n",
    "  [JAX PRNG design](https://jax.readthedocs.io/en/latest/jax-101/05-random-numbers.html)\n",
    "  and [PRNG chains](https://flax.readthedocs.io/en/latest/philosophy.html#how-are-parameters-represented-and-how-do-we-handle-general-differentiable-algorithms-that-update-stateful-variables).)"
   ]
  },
  {
   "cell_type": "code",
   "execution_count": 58,
   "id": "xC4MFyBsfT-U",
   "metadata": {},
   "outputs": [],
   "source": [
    "tf.random.set_seed(0)"
   ]
  },
  {
   "cell_type": "code",
   "execution_count": 59,
   "id": "e4f6f4d3",
   "metadata": {},
   "outputs": [],
   "source": [
    "init_rng = jax.random.key(0)"
   ]
  },
  {
   "cell_type": "markdown",
   "id": "80fbb60b",
   "metadata": {},
   "source": [
    "## 9. Initialize the `TrainState`\n",
    "\n",
    "Remember that the function `create_train_state` initializes the model parameters, optimizer and metrics\n",
    "and puts them into the training state dataclass that is returned."
   ]
  },
  {
   "cell_type": "code",
   "execution_count": 60,
   "id": "445fcab0",
   "metadata": {},
   "outputs": [],
   "source": [
    "learning_rate = 0.01\n",
    "momentum = 0.9"
   ]
  },
  {
   "cell_type": "code",
   "execution_count": 61,
   "id": "5221eafd",
   "metadata": {},
   "outputs": [],
   "source": [
    "state = create_train_state(cnn, init_rng, learning_rate, momentum)\n",
    "del init_rng  # Must not be used anymore."
   ]
  },
  {
   "cell_type": "markdown",
   "id": "b1c00230",
   "metadata": {},
   "source": [
    "## 10. Train and evaluate\n",
    "\n",
    "Create a \"shuffled\" dataset by:\n",
    "- Repeating the dataset equal to the number of training epochs\n",
    "- Allocating a buffer of size 1024 (containing the first 1024 samples in the dataset) of which to randomly sample batches from\n",
    "  - Everytime a sample is randomly drawn from the buffer, the next sample in the dataset is loaded into the buffer\n",
    "\n",
    "Define a training loop that:\n",
    "- Randomly samples batches from the dataset.\n",
    "- Runs an optimization step for each training batch.\n",
    "- Computes the mean training metrics across each batch in an epoch.\n",
    "- Computes the metrics for the test set using the updated parameters.\n",
    "- Records the train and test metrics for visualization.\n",
    "\n",
    "Once the training and testing is done after 10 epochs, the output should show that your model was able to achieve approximately 99% accuracy."
   ]
  },
  {
   "cell_type": "code",
   "execution_count": 62,
   "id": "74295360",
   "metadata": {},
   "outputs": [],
   "source": [
    "# since train_ds is replicated num_epochs times in get_datasets(), we divide by num_epochs\n",
    "num_steps_per_epoch = train_ds.cardinality().numpy() // num_epochs"
   ]
  },
  {
   "cell_type": "code",
   "execution_count": 63,
   "id": "cRtnMZuQFlKl",
   "metadata": {},
   "outputs": [],
   "source": [
    "metrics_history = {'train_loss': [],\n",
    "                   'train_accuracy': [],\n",
    "                   'test_loss': [],\n",
    "                   'test_accuracy': []}"
   ]
  },
  {
   "cell_type": "code",
   "execution_count": 64,
   "id": "2c40ce90",
   "metadata": {
    "outputId": "258a2c76-2c8f-4a9e-d48b-dde57c342a87"
   },
   "outputs": [
    {
     "name": "stdout",
     "output_type": "stream",
     "text": [
      "train epoch: 1, loss: 0.20290373265743256, accuracy: 93.87000274658203\n",
      "test epoch: 1, loss: 0.07591685652732849, accuracy: 97.60617065429688\n",
      "train epoch: 2, loss: 0.05760224163532257, accuracy: 98.28500366210938\n",
      "test epoch: 2, loss: 0.050395529717206955, accuracy: 98.3974380493164\n",
      "train epoch: 3, loss: 0.03897436335682869, accuracy: 98.83000183105469\n",
      "test epoch: 3, loss: 0.04574578255414963, accuracy: 98.54767608642578\n",
      "train epoch: 4, loss: 0.028721099719405174, accuracy: 99.15166473388672\n",
      "test epoch: 4, loss: 0.035722777247428894, accuracy: 98.91827392578125\n",
      "train epoch: 5, loss: 0.021948494017124176, accuracy: 99.37999725341797\n",
      "test epoch: 5, loss: 0.035723842680454254, accuracy: 98.87820434570312\n",
      "train epoch: 6, loss: 0.01705147698521614, accuracy: 99.54833221435547\n",
      "test epoch: 6, loss: 0.03456473350524902, accuracy: 98.96835327148438\n",
      "train epoch: 7, loss: 0.014007646590471268, accuracy: 99.6116714477539\n",
      "test epoch: 7, loss: 0.04089202359318733, accuracy: 98.7880630493164\n",
      "train epoch: 8, loss: 0.011265480890870094, accuracy: 99.73333740234375\n",
      "test epoch: 8, loss: 0.03337760642170906, accuracy: 98.93830108642578\n",
      "train epoch: 9, loss: 0.00918484665453434, accuracy: 99.78334045410156\n",
      "test epoch: 9, loss: 0.034478139132261276, accuracy: 98.96835327148438\n",
      "train epoch: 10, loss: 0.007260234095156193, accuracy: 99.84166717529297\n",
      "test epoch: 10, loss: 0.032822880893945694, accuracy: 99.07852172851562\n"
     ]
    }
   ],
   "source": [
    "for step,batch in enumerate(train_ds.as_numpy_iterator()):\n",
    "\n",
    "  # Run optimization steps over training batches and compute batch metrics\n",
    "  state = train_step(state, batch) # get updated train state (which contains the updated parameters)\n",
    "  state = compute_metrics(state=state, batch=batch) # aggregate batch metrics\n",
    "\n",
    "  if (step+1) % num_steps_per_epoch == 0: # one training epoch has passed\n",
    "    for metric,value in state.metrics.compute().items(): # compute metrics\n",
    "      metrics_history[f'train_{metric}'].append(value) # record metrics\n",
    "    state = state.replace(metrics=state.metrics.empty()) # reset train_metrics for next training epoch\n",
    "\n",
    "    # Compute metrics on the test set after each training epoch\n",
    "    test_state = state\n",
    "    for test_batch in test_ds.as_numpy_iterator():\n",
    "      test_state = compute_metrics(state=test_state, batch=test_batch)\n",
    "\n",
    "    for metric,value in test_state.metrics.compute().items():\n",
    "      metrics_history[f'test_{metric}'].append(value)\n",
    "\n",
    "    print(f\"train epoch: {(step+1) // num_steps_per_epoch}, \"\n",
    "          f\"loss: {metrics_history['train_loss'][-1]}, \"\n",
    "          f\"accuracy: {metrics_history['train_accuracy'][-1] * 100}\")\n",
    "    print(f\"test epoch: {(step+1) // num_steps_per_epoch}, \"\n",
    "          f\"loss: {metrics_history['test_loss'][-1]}, \"\n",
    "          f\"accuracy: {metrics_history['test_accuracy'][-1] * 100}\")"
   ]
  },
  {
   "cell_type": "markdown",
   "id": "gfsecJzvzgCT",
   "metadata": {},
   "source": [
    "## 11. Visualize metrics"
   ]
  },
  {
   "cell_type": "code",
   "execution_count": 65,
   "id": "Zs5atiqIG9Kz",
   "metadata": {
    "outputId": "431a2fcd-44fa-4202-f55a-906555f060ac"
   },
   "outputs": [
    {
     "data": {
      "image/png": "[encoded data removed]",
      "text/plain": [
       "<Figure size 1500x500 with 2 Axes>"
      ]
     },
     "metadata": {},
     "output_type": "display_data"
    },
    {
     "data": {
      "text/plain": [
       "<Figure size 600x400 with 0 Axes>"
      ]
     },
     "metadata": {},
     "output_type": "display_data"
    }
   ],
   "source": [
    "import matplotlib.pyplot as plt  # Visualization\n",
    "\n",
    "# Plot loss and accuracy in subplots\n",
    "fig, (ax1, ax2) = plt.subplots(1, 2, figsize=(15, 5))\n",
    "ax1.set_title('Loss')\n",
    "ax2.set_title('Accuracy')\n",
    "for dataset in ('train','test'):\n",
    "  ax1.plot(metrics_history[f'{dataset}_loss'], label=f'{dataset}_loss')\n",
    "  ax2.plot(metrics_history[f'{dataset}_accuracy'], label=f'{dataset}_accuracy')\n",
    "ax1.legend()\n",
    "ax2.legend()\n",
    "plt.show()\n",
    "plt.clf()"
   ]
  },
  {
   "cell_type": "markdown",
   "id": "qQbKS0tV3sZ1",
   "metadata": {},
   "source": [
    "## 12. Perform inference on test set\n",
    "\n",
    "Define a jitted inference function `pred_step`. Use the learned parameters to do model inference on the test set and visualize the images and their corresponding predicted labels."
   ]
  },
  {
   "cell_type": "code",
   "execution_count": 66,
   "id": "DFwxgBQf44ks",
   "metadata": {},
   "outputs": [],
   "source": [
    "@jax.jit\n",
    "def pred_step(state, batch):\n",
    "  logits = state.apply_fn({'params': state.params}, test_batch['image'])\n",
    "  return logits.argmax(axis=1)\n",
    "\n",
    "test_batch = test_ds.as_numpy_iterator().next()\n",
    "pred = pred_step(state, test_batch)"
   ]
  },
  {
   "cell_type": "code",
   "execution_count": 67,
   "id": "5d5nF3u44JFI",
   "metadata": {
    "outputId": "1db5a01c-9d70-4f7d-8c0d-0a3ad8252d3e"
   },
   "outputs": [
    {
     "data": {
      "image/png": "[encoded data removed]",
      "text/plain": [
       "<Figure size 1200x1200 with 25 Axes>"
      ]
     },
     "metadata": {},
     "output_type": "display_data"
    }
   ],
   "source": [
    "fig, axs = plt.subplots(5, 5, figsize=(12, 12))\n",
    "for i, ax in enumerate(axs.flatten()):\n",
    "    ax.imshow(test_batch['image'][i, ..., 0], cmap='gray')\n",
    "    ax.set_title(f\"label={pred[i]}\")\n",
    "    ax.axis('off')"
   ]
  },
  {
   "cell_type": "markdown",
   "id": "edb528b6",
   "metadata": {},
   "source": [
    "Congratulations! You made it to the end of the annotated MNIST example. You can revisit\n",
    "the same example, but structured differently as a couple of Python modules, test\n",
    "modules, config files, another Colab, and documentation in Flax's Git repo:\n",
    "\n",
    "[https://github.com/google/flax/tree/main/examples/mnist](https://github.com/google/flax/tree/main/examples/mnist)"
   ]
  }
 ],
 "metadata": {
  "jupytext": {
   "formats": "ipynb,md:myst",
   "main_language": "python"
  },
  "language_info": {
   "name": "python",
   "version": "3.9.6"
  }
 },
 "nbformat": 4,
 "nbformat_minor": 5
}
